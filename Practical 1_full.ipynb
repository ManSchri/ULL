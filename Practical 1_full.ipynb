{
 "cells": [
  {
   "cell_type": "markdown",
   "metadata": {},
   "source": [
    "# 1. Word Similarity Task"
   ]
  },
  {
   "cell_type": "code",
   "execution_count": 1,
   "metadata": {},
   "outputs": [],
   "source": [
    "from sklearn.metrics.pairwise import cosine_similarity\n",
    "from scipy.stats import pearsonr, spearmanr"
   ]
  },
  {
   "cell_type": "code",
   "execution_count": 2,
   "metadata": {},
   "outputs": [],
   "source": [
    "# build dictionary from words-->embedding\n",
    "def build_dict(filename):\n",
    "    words_dict = {}\n",
    "    with open(filename, \"r\") as f:\n",
    "        for line in f:\n",
    "            word = line.split()\n",
    "            words_dict[word[0]] = word[1:] \n",
    "    return words_dict"
   ]
  },
  {
   "cell_type": "code",
   "execution_count": 3,
   "metadata": {},
   "outputs": [],
   "source": [
    "def get_pearson_spearman(filename):\n",
    "    # get dictionary of word:vector\n",
    "    words_dict = build_dict(filename)\n",
    "    # get similarities of every word pair in simlex\n",
    "    simlex = []\n",
    "    model_simlex = []\n",
    "    with open(\"SimLex-999.txt\", \"r\") as f:\n",
    "        next(f)\n",
    "        for line in f:\n",
    "            line_list = line.split()\n",
    "            word1 = line_list[0]\n",
    "            word2 = line_list[1]\n",
    "            if word1 in words_dict and  word2 in words_dict:\n",
    "                simlex.append(float(line_list[3]))\n",
    "                sim = cosine_similarity([words_dict[word1]], [words_dict[word2]])\n",
    "                model_simlex.append(float(sim))\n",
    "    # calculate pearson and spearman with simlex\n",
    "    pearson_simlex = pearsonr(model_simlex, simlex)\n",
    "    spearman_simlex = spearmanr(model_simlex, simlex)\n",
    "    \n",
    "    # get similarities of wordpairs in MEN\n",
    "    MEN = []\n",
    "    model_MEN = []\n",
    "    with open(\"MEN_dataset_natural_form_full\", \"r\") as f:\n",
    "        for line in f:\n",
    "            line_list = line.split()\n",
    "            word1 = line_list[0]\n",
    "            word2 = line_list[1]\n",
    "            if word1 in words_dict and  word2 in words_dict:\n",
    "                MEN.append(float(line_list[2]))\n",
    "                sim = cosine_similarity([words_dict[word1]], [words_dict[word2]])\n",
    "                model_MEN.append(float(sim))\n",
    "    # calculate pearson and spearman with MEN\n",
    "    pearson_MEN = pearsonr(model_MEN, MEN)\n",
    "    spearman_MEN = spearmanr(model_MEN, MEN)\n",
    "    return[pearson_simlex, spearman_simlex, pearson_MEN, spearman_MEN]"
   ]
  },
  {
   "cell_type": "code",
   "execution_count": 4,
   "metadata": {},
   "outputs": [
    {
     "name": "stdout",
     "output_type": "stream",
     "text": [
      "simlex correlations\n",
      "(0.4284586618164498, 7.992996652236848e-46)\n",
      "SpearmanrResult(correlation=0.41414576777339385, pvalue=1.226812869252797e-42)\n",
      "MEN correlations\n",
      "(0.6776982244699229, 0.0)\n",
      "SpearmanrResult(correlation=0.699904755830819, pvalue=0.0)\n"
     ]
    }
   ],
   "source": [
    "[p_lex, s_lex, p_men, s_men] = get_pearson_spearman(\"bow2.words\")\n",
    "print('simlex correlations')\n",
    "print(p_lex)\n",
    "print(s_lex)\n",
    "print('MEN correlations')\n",
    "print(p_men)\n",
    "print(s_men)"
   ]
  },
  {
   "cell_type": "code",
   "execution_count": 5,
   "metadata": {},
   "outputs": [
    {
     "name": "stdout",
     "output_type": "stream",
     "text": [
      "simlex correlations\n",
      "(0.3756005970668715, 8.607410572298394e-35)\n",
      "SpearmanrResult(correlation=0.36739613669787896, pvalue=2.9775781067162087e-33)\n",
      "MEN correlations\n",
      "(0.708236248047157, 0.0)\n",
      "SpearmanrResult(correlation=0.7231686561368845, pvalue=0.0)\n"
     ]
    }
   ],
   "source": [
    "[p_lex, s_lex, p_men, s_men] = get_pearson_spearman(\"bow5.words\")\n",
    "print('simlex correlations')\n",
    "print(p_lex)\n",
    "print(s_lex)\n",
    "print('MEN correlations')\n",
    "print(p_men)\n",
    "print(s_men)"
   ]
  },
  {
   "cell_type": "code",
   "execution_count": 6,
   "metadata": {},
   "outputs": [
    {
     "name": "stdout",
     "output_type": "stream",
     "text": [
      "simlex correlations\n",
      "(0.46190134429723567, 6.838935662413988e-54)\n",
      "SpearmanrResult(correlation=0.44564093493303847, pvalue=7.414295711467646e-50)\n",
      "MEN correlations\n",
      "(0.5974016044666725, 1.0183783114142845e-289)\n",
      "SpearmanrResult(correlation=0.6178227900207052, pvalue=2.37026036e-315)\n"
     ]
    }
   ],
   "source": [
    "[p_lex, s_lex, p_men, s_men] = get_pearson_spearman(\"deps.words\")\n",
    "print('simlex correlations')\n",
    "print(p_lex)\n",
    "print(s_lex)\n",
    "print('MEN correlations')\n",
    "print(p_men)\n",
    "print(s_men)"
   ]
  },
  {
   "cell_type": "code",
   "execution_count": 7,
   "metadata": {},
   "outputs": [],
   "source": [
    "# get top k words that are most similar to a given word\n",
    "def get_topk(filename, word, k):\n",
    "    words_dict = build_dict(filename)\n",
    "    topk = []\n",
    "    for word2 in list(words_dict.keys()):\n",
    "        if word2 == word:\n",
    "            continue\n",
    "        sim = cosine_similarity([words_dict[word]], [words_dict[word2]])\n",
    "        if len(topk) < k:\n",
    "            topk.append([word2, sim])\n",
    "        else:\n",
    "            if sim > min(topk, key=lambda x: x[1])[1]:\n",
    "                topk.remove(min(topk, key=lambda x: x[1]))\n",
    "                topk.append([word2, sim])\n",
    "    return topk"
   ]
  },
  {
   "cell_type": "code",
   "execution_count": 8,
   "metadata": {},
   "outputs": [
    {
     "name": "stdout",
     "output_type": "stream",
     "text": [
      "deps:\n",
      "[['uk', array([[0.6397932]])], ['benelux', array([[0.63708867]])], ['fla', array([[0.64141285]])], ['kans', array([[0.64768083]])], ['latin-america', array([[0.63574303]])]]\n",
      "----------\n",
      "bow5:\n",
      "[['u', array([[0.44502237]])], ['miss', array([[0.44443164]])], ['macoupin', array([[0.44431016]])], ['bergenfield', array([[0.44689122]])], ['all-usa', array([[0.4667488]])]]\n",
      "----------\n",
      "bow2:\n",
      "[['sportschannel', array([[0.53966282]])], ['mudcats', array([[0.52097562]])], ['salukis', array([[0.53503383]])], ['suffr', array([[0.52235623]])], ['starzz', array([[0.53638139]])]]\n"
     ]
    }
   ],
   "source": [
    "top_words_deps = get_topk(\"deps.words\", 'usa', 5)\n",
    "top_words_bow5 = get_topk(\"bow5.words\", 'usa', 5)\n",
    "top_words_bow2 = get_topk(\"bow2.words\", 'usa', 5)\n",
    "print('deps:')\n",
    "print(top_words_deps)\n",
    "print('----------')\n",
    "print('bow5:')\n",
    "print(top_words_bow5)\n",
    "print('----------')\n",
    "print('bow2:')\n",
    "print(top_words_bow2)"
   ]
  },
  {
   "cell_type": "markdown",
   "metadata": {},
   "source": [
    "# 2. Word Analogy Task"
   ]
  },
  {
   "cell_type": "code",
   "execution_count": 190,
   "metadata": {},
   "outputs": [],
   "source": [
    "MODEL = 'deps'"
   ]
  },
  {
   "cell_type": "code",
   "execution_count": 191,
   "metadata": {},
   "outputs": [],
   "source": [
    "from sklearn.preprocessing import normalize\n",
    "import numpy as np\n",
    "import time\n",
    "\n",
    "#Load trained embeddings\n",
    "\n",
    "words_dict = {}\n",
    "inverse_words_dict = {}\n",
    "with open('%s.words' % MODEL, \"r\") as f:\n",
    "    for line in f:\n",
    "        word = line.split()\n",
    "        normalized = normalize([word[1:]]).flatten()\n",
    "        words_dict[word[0]] = normalized"
   ]
  },
  {
   "cell_type": "code",
   "execution_count": 145,
   "metadata": {},
   "outputs": [],
   "source": [
    "a = []\n",
    "a_ = []\n",
    "b = []\n",
    "b_ = []\n",
    "set_words = set(words_dict.keys())\n",
    "\n",
    "with open('questions-words.txt', \"r\") as f:\n",
    "        for line in f:\n",
    "            curr = line.split()\n",
    "            if(len(curr)==4):\n",
    "                #if set(curr) <= set_words\n",
    "                curr = [w.lower() for w in curr]\n",
    "                if all(word in set_words for word in curr):\n",
    "                    a.append(curr[0])\n",
    "                    a_.append(curr[1])\n",
    "                    b.append(curr[2])\n",
    "                    b_.append(curr[3])\n",
    "N = len(a)\n",
    "a_vec = np.zeros(shape=[N, 300], dtype=np.float32)\n",
    "a__vec = np.zeros(shape=[N, 300], dtype=np.float32)\n",
    "b_vec = np.zeros(shape=[N, 300], dtype=np.float32)\n",
    "b__vec_true = np.zeros(shape=[N, 300], dtype=np.float32)\n",
    "\n",
    "for i in range(N):\n",
    "    a_vec[i,:]=words_dict[a[i]]\n",
    "    a__vec[i,:]=words_dict[a_[i]]\n",
    "    b_vec[i,:]=words_dict[b[i]]\n",
    "    b__vec_true[i,:]=words_dict[b_[i]]\n",
    "    \n",
    "    \n",
    "#normalize\n",
    "v_vec = np.subtract(a__vec, a_vec)\n",
    "b__vec = b_vec + v_vec\n",
    "b__vec = normalize(b__vec)"
   ]
  },
  {
   "cell_type": "code",
   "execution_count": 146,
   "metadata": {},
   "outputs": [],
   "source": [
    "#Create query search matrix and index-to-word dictionaries for fast search in the ranking\n",
    "\n",
    "indices = []\n",
    "keys = []\n",
    "values = []\n",
    "\n",
    "i = 0\n",
    "for k, v in words_dict.iteritems():\n",
    "    keys.append(k) \n",
    "    values.append(v)\n",
    "    indices.append(i)\n",
    "    i+=1\n",
    "    \n",
    "search_space = np.asarray(values, dtype=np.float32)\n",
    "search_words_to_idx = dict(zip(keys, indices))\n",
    "search_idx_to_words = dict(zip(indices, keys))"
   ]
  },
  {
   "cell_type": "code",
   "execution_count": 148,
   "metadata": {},
   "outputs": [
    {
     "name": "stdout",
     "output_type": "stream",
     "text": [
      "294.786999941\n"
     ]
    }
   ],
   "source": [
    "#Split distcane computation in 2 parts due to memory contstraints (~10k queries each part)\n",
    "\n",
    "start = time.time()\n",
    "y = 1- np.dot(b__vec[:10000,:], np.transpose(search_space))\n",
    "end = time.time()\n",
    "print(end - start)"
   ]
  },
  {
   "cell_type": "code",
   "execution_count": 149,
   "metadata": {},
   "outputs": [
    {
     "data": {
      "text/plain": [
       "(10000L, 174015L)"
      ]
     },
     "execution_count": 149,
     "metadata": {},
     "output_type": "execute_result"
    }
   ],
   "source": [
    "y.shape"
   ]
  },
  {
   "cell_type": "code",
   "execution_count": 150,
   "metadata": {},
   "outputs": [
    {
     "name": "stdout",
     "output_type": "stream",
     "text": [
      "0\n",
      "1000\n",
      "2000\n",
      "3000\n",
      "4000\n",
      "5000\n",
      "6000\n",
      "7000\n",
      "8000\n",
      "9000\n",
      "378.212000132\n"
     ]
    }
   ],
   "source": [
    "d1 = y.shape[0]\n",
    "d2 = y.shape[1]\n",
    "\n",
    "argmin_indices = np.zeros(shape=[d1, 2])\n",
    "rank = np.zeros(shape=[d1], dtype=np.int32)\n",
    "\n",
    "start = time.time()\n",
    "\n",
    "for i in range(d1):\n",
    "    if i%1000==0:\n",
    "        print(i)\n",
    "    sorted_args = list(np.argsort(y[i,:]))\n",
    "    sorted_args.remove(search_words_to_idx[b[i]])\n",
    "\n",
    "    for j in range(d2-1):\n",
    "        if sorted_args[j] == search_words_to_idx[b_[i]]:\n",
    "            rank[i] = j\n",
    "            break\n",
    "    argmin_indices[i,:] = sorted_args[0:2]\n",
    "end = time.time()\n",
    "np.save('%s_indices_first10k' % MODEL, argmin_indices)\n",
    "np.save('%s_rank_first10k' % MODEL, rank)\n",
    "print(end - start)"
   ]
  },
  {
   "cell_type": "code",
   "execution_count": 151,
   "metadata": {},
   "outputs": [
    {
     "name": "stdout",
     "output_type": "stream",
     "text": [
      "172.269999981\n"
     ]
    }
   ],
   "source": [
    "start = time.time()\n",
    "y = 1- np.dot(b__vec[10000:,:], np.transpose(search_space.astype(np.float32)))\n",
    "end = time.time()\n",
    "print(end - start)"
   ]
  },
  {
   "cell_type": "code",
   "execution_count": 152,
   "metadata": {},
   "outputs": [
    {
     "data": {
      "text/plain": [
       "(9208L, 174015L)"
      ]
     },
     "execution_count": 152,
     "metadata": {},
     "output_type": "execute_result"
    }
   ],
   "source": [
    "y.shape"
   ]
  },
  {
   "cell_type": "code",
   "execution_count": 153,
   "metadata": {},
   "outputs": [
    {
     "name": "stdout",
     "output_type": "stream",
     "text": [
      "0\n",
      "1000\n",
      "2000\n",
      "3000\n",
      "4000\n",
      "5000\n",
      "6000\n",
      "7000\n",
      "8000\n",
      "9000\n",
      "488.600000143\n"
     ]
    }
   ],
   "source": [
    "d1 = y.shape[0]\n",
    "d2 = y.shape[1]\n",
    "\n",
    "argmin_indices = np.zeros(shape=[d1, 2])\n",
    "rank = np.zeros(shape=[d1], dtype=np.int32)\n",
    "\n",
    "start = time.time()\n",
    "\n",
    "for i in range(d1):\n",
    "    if i%1000==0:\n",
    "        print(i)\n",
    "    sorted_args = list(np.argsort(y[i,:]))\n",
    "    sorted_args.remove(search_words_to_idx[b[i]])\n",
    "    for j in range(d2-1):\n",
    "        if sorted_args[j] == search_words_to_idx[b_[i+10000]]:\n",
    "            rank[i] = j\n",
    "            #print(j)\n",
    "            break\n",
    "    argmin_indices[i,:] = sorted_args[0:2]\n",
    "end = time.time()\n",
    "np.save('%s_indices_last10k' % MODEL, argmin_indices)\n",
    "np.save('%s_rank_last10k' % MODEL, rank)\n",
    "print(end - start)"
   ]
  },
  {
   "cell_type": "code",
   "execution_count": 154,
   "metadata": {},
   "outputs": [],
   "source": [
    "#Make results file \n",
    "\n",
    "first_idx = np.load('%s_indices_first10k.npy' % MODEL)\n",
    "last_idx = np.load('%s_indices_last10k.npy' % MODEL)\n",
    "indices = np.vstack([first_idx, last_idx])\n",
    "\n",
    "output = []\n",
    "\n",
    "f = open('%s_analogies_predictions' % MODEL, 'w')\n",
    "\n",
    "for i in range(indices.shape[0]):\n",
    "    #print(int(indices[i,0]), search_idx_to_words[indices[i,0]])\n",
    "    #print(search_space[])\n",
    "    found = search_idx_to_words[int(indices[i,0])]\n",
    "    #####UNCOMMENT/COMMENT THIS DEPENDING ON TASK (include or exclude b word)\n",
    "    if(found == b[i]):\n",
    "        found = search_idx_to_words[indices[i,1]]\n",
    "    f.write(\"%s %s %s %s %s\\n\" % (a[i], a_[i], b[i], b_[i], found))"
   ]
  },
  {
   "cell_type": "code",
   "execution_count": 194,
   "metadata": {},
   "outputs": [],
   "source": [
    "#Save ranking indices in one file\n",
    "rank_first10k = np.load('%s_rank_first10k.npy' % MODEL)\n",
    "rank_last10k = np.load('%s_rank_last10k.npy' % MODEL)\n",
    "rank = np.concatenate([rank_first10k, rank_last10k])\n",
    "np.save('%s_rank.npy' % MODEL, rank)"
   ]
  },
  {
   "cell_type": "markdown",
   "metadata": {},
   "source": [
    "#### Accuracy"
   ]
  },
  {
   "cell_type": "code",
   "execution_count": 186,
   "metadata": {},
   "outputs": [
    {
     "name": "stdout",
     "output_type": "stream",
     "text": [
      "Accuracy - bow2 (incl. word origin): 0.08869041437324748\n",
      "Accuracy - bow2 (excl. word origin): 0.4403884100114238\n",
      "Accuracy - bow5 (incl. word origin): 0.10338560598192958\n",
      "Accuracy - bow5 (excl. word origin): 0.5510956485616367\n",
      "Accuracy - deps (incl. word origin): 0.026863806747188673\n",
      "Accuracy - deps (excl. word origin): 0.27925864223240315\n"
     ]
    }
   ],
   "source": [
    "def compute_accuracy(filename):\n",
    "    gt, pred = [],[]\n",
    "    with open(filename, \"r\") as f:\n",
    "        for line in f:\n",
    "            gt.append(line.split()[-2])\n",
    "            pred.append(line.split()[-1])\n",
    "    pred = np.asarray(pred)\n",
    "    gt = np.asarray(gt)\n",
    "    return sum(pred==gt)/float(gt.shape[0])\n",
    "\n",
    "print('Accuracy - bow2 (incl. word origin): %s' % compute_accuracy('bow2_analogies_predictions_'))\n",
    "print('Accuracy - bow2 (excl. word origin): %s' % compute_accuracy('bow2_analogies_predictions')) \n",
    "print('Accuracy - bow5 (incl. word origin): %s' % compute_accuracy('bow5_analogies_predictions_'))\n",
    "print('Accuracy - bow5 (excl. word origin): %s' % compute_accuracy('bow5_analogies_predictions'))\n",
    "print('Accuracy - deps (incl. word origin): %s' % compute_accuracy('deps_analogies_predictions_'))\n",
    "print('Accuracy - deps (excl. word origin): %s' % compute_accuracy('deps_analogies_predictions'))"
   ]
  },
  {
   "cell_type": "markdown",
   "metadata": {},
   "source": [
    "#### MRR"
   ]
  },
  {
   "cell_type": "code",
   "execution_count": 195,
   "metadata": {},
   "outputs": [
    {
     "name": "stdout",
     "output_type": "stream",
     "text": [
      "MRR - bow2 (incl. word origin): 0.3729270407292133\n",
      "MRR - bow2 (excl. word origin): 0.46102701566772697\n",
      "MRR - bow5 (incl. word origin): 0.41304149587365585\n",
      "MRR - bow5 (excl. word origin): 0.5443513025785637\n",
      "MRR - deps (incl. word origin): 0.24132450803395314\n",
      "MRR - deps (excl. word origin): 0.2667586110632994\n"
     ]
    }
   ],
   "source": [
    "def compute_MRR(filename):\n",
    "    rank = np.load(filename)\n",
    "    return np.sum(1/(rank+1.0))/len(rank)\n",
    "print('MRR - bow2 (incl. word origin): %s' % compute_MRR('bow2_rank_.npy'))\n",
    "print('MRR - bow2 (excl. word origin): %s' % compute_MRR('bow2_rank.npy'))\n",
    "print('MRR - bow5 (incl. word origin): %s' % compute_MRR('bow5_rank_.npy'))\n",
    "print('MRR - bow5 (excl. word origin): %s' % compute_MRR('bow5_rank.npy'))\n",
    "print('MRR - deps (incl. word origin): %s' % compute_MRR('deps_rank_.npy'))\n",
    "print('MRR - deps (excl. word origin): %s' % compute_MRR('deps_rank.npy'))"
   ]
  },
  {
   "cell_type": "markdown",
   "metadata": {},
   "source": [
    "#### Qualitative analysis"
   ]
  },
  {
   "cell_type": "code",
   "execution_count": 65,
   "metadata": {},
   "outputs": [],
   "source": [
    "# get correct predictions per category\n",
    "def get_correct(filename):\n",
    "    with open(filename, \"r\") as f, open('questions-words.txt', \"r\") as q:\n",
    "        category = 'NA'\n",
    "        count = 0\n",
    "        correct = 0\n",
    "        flines = f.readlines()\n",
    "        last = flines[-1]\n",
    "        for qline in q:\n",
    "            if qline.startswith(':'):\n",
    "                if category != \"NA\":\n",
    "                    print(category, \" has \", correct, \" out of \", count, \" right\", \"(\",(correct/count), \")\")\n",
    "                category = qline\n",
    "                count = 0 \n",
    "                correct = 0\n",
    "            else:\n",
    "                for fline in flines:\n",
    "                    if qline.lower().strip() in fline.strip():\n",
    "                        count += 1\n",
    "                        if fline.split()[-2] == fline.split()[-1]:\n",
    "                            correct += 1\n",
    "                        break\n",
    "                    # line not found (or done searching)\n",
    "                    if fline == last:\n",
    "                        f.seek(0)\n",
    "        "
   ]
  },
  {
   "cell_type": "code",
   "execution_count": 66,
   "metadata": {},
   "outputs": [
    {
     "name": "stdout",
     "output_type": "stream",
     "text": [
      ": capital-common-countries\n",
      "  has  355  out of  506  right ( 0.7015810276679841 )\n",
      ": capital-world\n",
      "  has  2022  out of  4524  right ( 0.4469496021220159 )\n",
      ": currency\n",
      "  has  8  out of  646  right ( 0.01238390092879257 )\n",
      ": city-in-state\n",
      "  has  37  out of  2467  right ( 0.014997973246858533 )\n",
      ": family\n",
      "  has  358  out of  506  right ( 0.7075098814229249 )\n",
      ": gram1-adjective-to-adverb\n",
      "  has  41  out of  992  right ( 0.04133064516129032 )\n",
      ": gram2-opposite\n",
      "  has  210  out of  812  right ( 0.25862068965517243 )\n",
      ": gram3-comparative\n",
      "  has  1155  out of  1332  right ( 0.8671171171171171 )\n",
      ": gram4-superlative\n",
      "  has  491  out of  1056  right ( 0.4649621212121212 )\n",
      ": gram5-present-participle\n",
      "  has  570  out of  1056  right ( 0.5397727272727273 )\n",
      ": gram6-nationality-adjective\n",
      "  has  920  out of  1599  right ( 0.5753595997498436 )\n",
      ": gram7-past-tense\n",
      "  has  762  out of  1560  right ( 0.48846153846153845 )\n",
      ": gram8-plural\n",
      "  has  883  out of  1332  right ( 0.6629129129129129 )\n"
     ]
    }
   ],
   "source": [
    "get_correct('bow2_analogies_predictions')"
   ]
  },
  {
   "cell_type": "code",
   "execution_count": 67,
   "metadata": {},
   "outputs": [
    {
     "name": "stdout",
     "output_type": "stream",
     "text": [
      ": capital-common-countries\n",
      "  has  469  out of  506  right ( 0.9268774703557312 )\n",
      ": capital-world\n",
      "  has  2973  out of  4524  right ( 0.6571618037135278 )\n",
      ": currency\n",
      "  has  25  out of  646  right ( 0.03869969040247678 )\n",
      ": city-in-state\n",
      "  has  911  out of  2467  right ( 0.3692744223753547 )\n",
      ": family\n",
      "  has  383  out of  506  right ( 0.7569169960474308 )\n",
      ": gram1-adjective-to-adverb\n",
      "  has  71  out of  992  right ( 0.0715725806451613 )\n",
      ": gram2-opposite\n",
      "  has  206  out of  812  right ( 0.2536945812807882 )\n",
      ": gram3-comparative\n",
      "  has  1042  out of  1332  right ( 0.7822822822822822 )\n",
      ": gram4-superlative\n",
      "  has  390  out of  1056  right ( 0.3693181818181818 )\n",
      ": gram5-present-participle\n",
      "  has  664  out of  1056  right ( 0.6287878787878788 )\n",
      ": gram6-nationality-adjective\n",
      "  has  1252  out of  1599  right ( 0.782989368355222 )\n",
      ": gram7-past-tense\n",
      "  has  795  out of  1560  right ( 0.5096153846153846 )\n",
      ": gram8-plural\n",
      "  has  820  out of  1332  right ( 0.6156156156156156 )\n"
     ]
    }
   ],
   "source": [
    "get_correct('bow5_analogies_predictions')"
   ]
  },
  {
   "cell_type": "code",
   "execution_count": 68,
   "metadata": {},
   "outputs": [
    {
     "name": "stdout",
     "output_type": "stream",
     "text": [
      ": capital-common-countries\n",
      "  has  3  out of  506  right ( 0.005928853754940711 )\n",
      ": capital-world\n",
      "  has  23  out of  4524  right ( 0.005083996463306808 )\n",
      ": currency\n",
      "  has  6  out of  596  right ( 0.010067114093959731 )\n",
      ": city-in-state\n",
      "  has  0  out of  2467  right ( 0.0 )\n",
      ": family\n",
      "  has  398  out of  506  right ( 0.7865612648221344 )\n",
      ": gram1-adjective-to-adverb\n",
      "  has  11  out of  992  right ( 0.011088709677419355 )\n",
      ": gram2-opposite\n",
      "  has  289  out of  812  right ( 0.35591133004926107 )\n",
      ": gram3-comparative\n",
      "  has  942  out of  1332  right ( 0.7072072072072072 )\n",
      ": gram4-superlative\n",
      "  has  415  out of  1056  right ( 0.39299242424242425 )\n",
      ": gram5-present-participle\n",
      "  has  654  out of  1056  right ( 0.6193181818181818 )\n",
      ": gram6-nationality-adjective\n",
      "  has  9  out of  1599  right ( 0.005628517823639775 )\n",
      ": gram7-past-tense\n",
      "  has  983  out of  1560  right ( 0.6301282051282051 )\n",
      ": gram8-plural\n",
      "  has  844  out of  1332  right ( 0.6336336336336337 )\n"
     ]
    }
   ],
   "source": [
    "get_correct('deps_analogies_predictions')"
   ]
  },
  {
   "cell_type": "markdown",
   "metadata": {},
   "source": [
    "# 3. Clustering Word Vectors"
   ]
  },
  {
   "cell_type": "code",
   "execution_count": 3,
   "metadata": {},
   "outputs": [],
   "source": [
    "import string\n",
    "from itertools import compress\n",
    "\n",
    "def filter_cluster_embeddings(model_file):\n",
    "\n",
    "    #Load 2000 nouns\n",
    "    with open(\"2000_nouns_sorted.txt\", \"r\") as f:\n",
    "        nouns = f.read().splitlines()\n",
    "\n",
    "    nouns = [noun.strip() for noun in nouns]\n",
    "    \n",
    "    #Filter punctuation from noun words   \n",
    "    new_nouns = []\n",
    "    for noun in nouns:\n",
    "        for c in string.punctuation:\n",
    "            noun=noun.replace(c,\"\")\n",
    "        new_nouns.append(noun)\n",
    "    nouns = new_nouns\n",
    "\n",
    "    #Load trained embeddings\n",
    "    words_dict = {}\n",
    "    with open(model_file, \"r\") as f:\n",
    "        for line in f:\n",
    "            word = line.split()\n",
    "            words_dict[word[0]] = word[1:] \n",
    "            \n",
    "    #Filter 2000 words\n",
    "    words_dict_2000 = { noun: words_dict[noun] for noun in nouns}\n",
    "    \n",
    "    #Get values by sorted keys    \n",
    "    words = sorted(words_dict_2000.keys())\n",
    "    embeddings = [words_dict_2000[key] for key in sorted(words_dict_2000.keys())]\n",
    "    \n",
    "    return words, embeddings"
   ]
  },
  {
   "cell_type": "code",
   "execution_count": 4,
   "metadata": {},
   "outputs": [],
   "source": [
    "words_bow2, embeddings_bow2 = filter_cluster_embeddings(\"bow2.words\")"
   ]
  },
  {
   "cell_type": "code",
   "execution_count": 5,
   "metadata": {},
   "outputs": [],
   "source": [
    "words_bow5, embeddings_bow5 = filter_cluster_embeddings(\"bow5.words\")"
   ]
  },
  {
   "cell_type": "code",
   "execution_count": 6,
   "metadata": {},
   "outputs": [],
   "source": [
    "words_deps, embeddings_deps = filter_cluster_embeddings(\"deps.words\")"
   ]
  },
  {
   "cell_type": "markdown",
   "metadata": {},
   "source": [
    "### Visualization"
   ]
  },
  {
   "cell_type": "code",
   "execution_count": 158,
   "metadata": {},
   "outputs": [
    {
     "data": {
      "text/html": [
       "\n",
       "    <div class=\"bk-root\">\n",
       "        <a href=\"https://bokeh.pydata.org\" target=\"_blank\" class=\"bk-logo bk-logo-small bk-logo-notebook\"></a>\n",
       "        <span id=\"93311c69-8da5-48db-9d93-6624a9b52896\">Loading BokehJS ...</span>\n",
       "    </div>"
      ]
     },
     "metadata": {},
     "output_type": "display_data"
    },
    {
     "data": {
      "application/javascript": [
       "\n",
       "(function(root) {\n",
       "  function now() {\n",
       "    return new Date();\n",
       "  }\n",
       "\n",
       "  var force = true;\n",
       "\n",
       "  if (typeof (root._bokeh_onload_callbacks) === \"undefined\" || force === true) {\n",
       "    root._bokeh_onload_callbacks = [];\n",
       "    root._bokeh_is_loading = undefined;\n",
       "  }\n",
       "\n",
       "  var JS_MIME_TYPE = 'application/javascript';\n",
       "  var HTML_MIME_TYPE = 'text/html';\n",
       "  var EXEC_MIME_TYPE = 'application/vnd.bokehjs_exec.v0+json';\n",
       "  var CLASS_NAME = 'output_bokeh rendered_html';\n",
       "\n",
       "  /**\n",
       "   * Render data to the DOM node\n",
       "   */\n",
       "  function render(props, node) {\n",
       "    var script = document.createElement(\"script\");\n",
       "    node.appendChild(script);\n",
       "  }\n",
       "\n",
       "  /**\n",
       "   * Handle when an output is cleared or removed\n",
       "   */\n",
       "  function handleClearOutput(event, handle) {\n",
       "    var cell = handle.cell;\n",
       "\n",
       "    var id = cell.output_area._bokeh_element_id;\n",
       "    var server_id = cell.output_area._bokeh_server_id;\n",
       "    // Clean up Bokeh references\n",
       "    if (id !== undefined) {\n",
       "      Bokeh.index[id].model.document.clear();\n",
       "      delete Bokeh.index[id];\n",
       "    }\n",
       "\n",
       "    if (server_id !== undefined) {\n",
       "      // Clean up Bokeh references\n",
       "      var cmd = \"from bokeh.io.state import curstate; print(curstate().uuid_to_server['\" + server_id + \"'].get_sessions()[0].document.roots[0]._id)\";\n",
       "      cell.notebook.kernel.execute(cmd, {\n",
       "        iopub: {\n",
       "          output: function(msg) {\n",
       "            var element_id = msg.content.text.trim();\n",
       "            Bokeh.index[element_id].model.document.clear();\n",
       "            delete Bokeh.index[element_id];\n",
       "          }\n",
       "        }\n",
       "      });\n",
       "      // Destroy server and session\n",
       "      var cmd = \"import bokeh.io.notebook as ion; ion.destroy_server('\" + server_id + \"')\";\n",
       "      cell.notebook.kernel.execute(cmd);\n",
       "    }\n",
       "  }\n",
       "\n",
       "  /**\n",
       "   * Handle when a new output is added\n",
       "   */\n",
       "  function handleAddOutput(event, handle) {\n",
       "    var output_area = handle.output_area;\n",
       "    var output = handle.output;\n",
       "\n",
       "    // limit handleAddOutput to display_data with EXEC_MIME_TYPE content only\n",
       "    if ((output.output_type != \"display_data\") || (!output.data.hasOwnProperty(EXEC_MIME_TYPE))) {\n",
       "      return\n",
       "    }\n",
       "\n",
       "    var toinsert = output_area.element.find(\".\" + CLASS_NAME.split(' ')[0]);\n",
       "\n",
       "    if (output.metadata[EXEC_MIME_TYPE][\"id\"] !== undefined) {\n",
       "      toinsert[0].firstChild.textContent = output.data[JS_MIME_TYPE];\n",
       "      // store reference to embed id on output_area\n",
       "      output_area._bokeh_element_id = output.metadata[EXEC_MIME_TYPE][\"id\"];\n",
       "    }\n",
       "    if (output.metadata[EXEC_MIME_TYPE][\"server_id\"] !== undefined) {\n",
       "      var bk_div = document.createElement(\"div\");\n",
       "      bk_div.innerHTML = output.data[HTML_MIME_TYPE];\n",
       "      var script_attrs = bk_div.children[0].attributes;\n",
       "      for (var i = 0; i < script_attrs.length; i++) {\n",
       "        toinsert[0].firstChild.setAttribute(script_attrs[i].name, script_attrs[i].value);\n",
       "      }\n",
       "      // store reference to server id on output_area\n",
       "      output_area._bokeh_server_id = output.metadata[EXEC_MIME_TYPE][\"server_id\"];\n",
       "    }\n",
       "  }\n",
       "\n",
       "  function register_renderer(events, OutputArea) {\n",
       "\n",
       "    function append_mime(data, metadata, element) {\n",
       "      // create a DOM node to render to\n",
       "      var toinsert = this.create_output_subarea(\n",
       "        metadata,\n",
       "        CLASS_NAME,\n",
       "        EXEC_MIME_TYPE\n",
       "      );\n",
       "      this.keyboard_manager.register_events(toinsert);\n",
       "      // Render to node\n",
       "      var props = {data: data, metadata: metadata[EXEC_MIME_TYPE]};\n",
       "      render(props, toinsert[0]);\n",
       "      element.append(toinsert);\n",
       "      return toinsert\n",
       "    }\n",
       "\n",
       "    /* Handle when an output is cleared or removed */\n",
       "    events.on('clear_output.CodeCell', handleClearOutput);\n",
       "    events.on('delete.Cell', handleClearOutput);\n",
       "\n",
       "    /* Handle when a new output is added */\n",
       "    events.on('output_added.OutputArea', handleAddOutput);\n",
       "\n",
       "    /**\n",
       "     * Register the mime type and append_mime function with output_area\n",
       "     */\n",
       "    OutputArea.prototype.register_mime_type(EXEC_MIME_TYPE, append_mime, {\n",
       "      /* Is output safe? */\n",
       "      safe: true,\n",
       "      /* Index of renderer in `output_area.display_order` */\n",
       "      index: 0\n",
       "    });\n",
       "  }\n",
       "\n",
       "  // register the mime type if in Jupyter Notebook environment and previously unregistered\n",
       "  if (root.Jupyter !== undefined) {\n",
       "    var events = require('base/js/events');\n",
       "    var OutputArea = require('notebook/js/outputarea').OutputArea;\n",
       "\n",
       "    if (OutputArea.prototype.mime_types().indexOf(EXEC_MIME_TYPE) == -1) {\n",
       "      register_renderer(events, OutputArea);\n",
       "    }\n",
       "  }\n",
       "\n",
       "  \n",
       "  if (typeof (root._bokeh_timeout) === \"undefined\" || force === true) {\n",
       "    root._bokeh_timeout = Date.now() + 5000;\n",
       "    root._bokeh_failed_load = false;\n",
       "  }\n",
       "\n",
       "  var NB_LOAD_WARNING = {'data': {'text/html':\n",
       "     \"<div style='background-color: #fdd'>\\n\"+\n",
       "     \"<p>\\n\"+\n",
       "     \"BokehJS does not appear to have successfully loaded. If loading BokehJS from CDN, this \\n\"+\n",
       "     \"may be due to a slow or bad network connection. Possible fixes:\\n\"+\n",
       "     \"</p>\\n\"+\n",
       "     \"<ul>\\n\"+\n",
       "     \"<li>re-rerun `output_notebook()` to attempt to load from CDN again, or</li>\\n\"+\n",
       "     \"<li>use INLINE resources instead, as so:</li>\\n\"+\n",
       "     \"</ul>\\n\"+\n",
       "     \"<code>\\n\"+\n",
       "     \"from bokeh.resources import INLINE\\n\"+\n",
       "     \"output_notebook(resources=INLINE)\\n\"+\n",
       "     \"</code>\\n\"+\n",
       "     \"</div>\"}};\n",
       "\n",
       "  function display_loaded() {\n",
       "    var el = document.getElementById(\"93311c69-8da5-48db-9d93-6624a9b52896\");\n",
       "    if (el != null) {\n",
       "      el.textContent = \"BokehJS is loading...\";\n",
       "    }\n",
       "    if (root.Bokeh !== undefined) {\n",
       "      if (el != null) {\n",
       "        el.textContent = \"BokehJS \" + root.Bokeh.version + \" successfully loaded.\";\n",
       "      }\n",
       "    } else if (Date.now() < root._bokeh_timeout) {\n",
       "      setTimeout(display_loaded, 100)\n",
       "    }\n",
       "  }\n",
       "\n",
       "\n",
       "  function run_callbacks() {\n",
       "    try {\n",
       "      root._bokeh_onload_callbacks.forEach(function(callback) { callback() });\n",
       "    }\n",
       "    finally {\n",
       "      delete root._bokeh_onload_callbacks\n",
       "    }\n",
       "    console.info(\"Bokeh: all callbacks have finished\");\n",
       "  }\n",
       "\n",
       "  function load_libs(js_urls, callback) {\n",
       "    root._bokeh_onload_callbacks.push(callback);\n",
       "    if (root._bokeh_is_loading > 0) {\n",
       "      console.log(\"Bokeh: BokehJS is being loaded, scheduling callback at\", now());\n",
       "      return null;\n",
       "    }\n",
       "    if (js_urls == null || js_urls.length === 0) {\n",
       "      run_callbacks();\n",
       "      return null;\n",
       "    }\n",
       "    console.log(\"Bokeh: BokehJS not loaded, scheduling load and callback at\", now());\n",
       "    root._bokeh_is_loading = js_urls.length;\n",
       "    for (var i = 0; i < js_urls.length; i++) {\n",
       "      var url = js_urls[i];\n",
       "      var s = document.createElement('script');\n",
       "      s.src = url;\n",
       "      s.async = false;\n",
       "      s.onreadystatechange = s.onload = function() {\n",
       "        root._bokeh_is_loading--;\n",
       "        if (root._bokeh_is_loading === 0) {\n",
       "          console.log(\"Bokeh: all BokehJS libraries loaded\");\n",
       "          run_callbacks()\n",
       "        }\n",
       "      };\n",
       "      s.onerror = function() {\n",
       "        console.warn(\"failed to load library \" + url);\n",
       "      };\n",
       "      console.log(\"Bokeh: injecting script tag for BokehJS library: \", url);\n",
       "      document.getElementsByTagName(\"head\")[0].appendChild(s);\n",
       "    }\n",
       "  };var element = document.getElementById(\"93311c69-8da5-48db-9d93-6624a9b52896\");\n",
       "  if (element == null) {\n",
       "    console.log(\"Bokeh: ERROR: autoload.js configured with elementid '93311c69-8da5-48db-9d93-6624a9b52896' but no matching script tag was found. \")\n",
       "    return false;\n",
       "  }\n",
       "\n",
       "  var js_urls = [\"https://cdn.pydata.org/bokeh/release/bokeh-0.12.13.min.js\", \"https://cdn.pydata.org/bokeh/release/bokeh-widgets-0.12.13.min.js\", \"https://cdn.pydata.org/bokeh/release/bokeh-tables-0.12.13.min.js\", \"https://cdn.pydata.org/bokeh/release/bokeh-gl-0.12.13.min.js\"];\n",
       "\n",
       "  var inline_js = [\n",
       "    function(Bokeh) {\n",
       "      Bokeh.set_log_level(\"info\");\n",
       "    },\n",
       "    \n",
       "    function(Bokeh) {\n",
       "      \n",
       "    },\n",
       "    function(Bokeh) {\n",
       "      console.log(\"Bokeh: injecting CSS: https://cdn.pydata.org/bokeh/release/bokeh-0.12.13.min.css\");\n",
       "      Bokeh.embed.inject_css(\"https://cdn.pydata.org/bokeh/release/bokeh-0.12.13.min.css\");\n",
       "      console.log(\"Bokeh: injecting CSS: https://cdn.pydata.org/bokeh/release/bokeh-widgets-0.12.13.min.css\");\n",
       "      Bokeh.embed.inject_css(\"https://cdn.pydata.org/bokeh/release/bokeh-widgets-0.12.13.min.css\");\n",
       "      console.log(\"Bokeh: injecting CSS: https://cdn.pydata.org/bokeh/release/bokeh-tables-0.12.13.min.css\");\n",
       "      Bokeh.embed.inject_css(\"https://cdn.pydata.org/bokeh/release/bokeh-tables-0.12.13.min.css\");\n",
       "    }\n",
       "  ];\n",
       "\n",
       "  function run_inline_js() {\n",
       "    \n",
       "    if ((root.Bokeh !== undefined) || (force === true)) {\n",
       "      for (var i = 0; i < inline_js.length; i++) {\n",
       "        inline_js[i].call(root, root.Bokeh);\n",
       "      }if (force === true) {\n",
       "        display_loaded();\n",
       "      }} else if (Date.now() < root._bokeh_timeout) {\n",
       "      setTimeout(run_inline_js, 100);\n",
       "    } else if (!root._bokeh_failed_load) {\n",
       "      console.log(\"Bokeh: BokehJS failed to load within specified timeout.\");\n",
       "      root._bokeh_failed_load = true;\n",
       "    } else if (force !== true) {\n",
       "      var cell = $(document.getElementById(\"93311c69-8da5-48db-9d93-6624a9b52896\")).parents('.cell').data().cell;\n",
       "      cell.output_area.append_execute_result(NB_LOAD_WARNING)\n",
       "    }\n",
       "\n",
       "  }\n",
       "\n",
       "  if (root._bokeh_is_loading === 0) {\n",
       "    console.log(\"Bokeh: BokehJS loaded, going straight to plotting\");\n",
       "    run_inline_js();\n",
       "  } else {\n",
       "    load_libs(js_urls, function() {\n",
       "      console.log(\"Bokeh: BokehJS plotting callback run at\", now());\n",
       "      run_inline_js();\n",
       "    });\n",
       "  }\n",
       "}(window));"
      ],
      "application/vnd.bokehjs_load.v0+json": "\n(function(root) {\n  function now() {\n    return new Date();\n  }\n\n  var force = true;\n\n  if (typeof (root._bokeh_onload_callbacks) === \"undefined\" || force === true) {\n    root._bokeh_onload_callbacks = [];\n    root._bokeh_is_loading = undefined;\n  }\n\n  \n\n  \n  if (typeof (root._bokeh_timeout) === \"undefined\" || force === true) {\n    root._bokeh_timeout = Date.now() + 5000;\n    root._bokeh_failed_load = false;\n  }\n\n  var NB_LOAD_WARNING = {'data': {'text/html':\n     \"<div style='background-color: #fdd'>\\n\"+\n     \"<p>\\n\"+\n     \"BokehJS does not appear to have successfully loaded. If loading BokehJS from CDN, this \\n\"+\n     \"may be due to a slow or bad network connection. Possible fixes:\\n\"+\n     \"</p>\\n\"+\n     \"<ul>\\n\"+\n     \"<li>re-rerun `output_notebook()` to attempt to load from CDN again, or</li>\\n\"+\n     \"<li>use INLINE resources instead, as so:</li>\\n\"+\n     \"</ul>\\n\"+\n     \"<code>\\n\"+\n     \"from bokeh.resources import INLINE\\n\"+\n     \"output_notebook(resources=INLINE)\\n\"+\n     \"</code>\\n\"+\n     \"</div>\"}};\n\n  function display_loaded() {\n    var el = document.getElementById(\"93311c69-8da5-48db-9d93-6624a9b52896\");\n    if (el != null) {\n      el.textContent = \"BokehJS is loading...\";\n    }\n    if (root.Bokeh !== undefined) {\n      if (el != null) {\n        el.textContent = \"BokehJS \" + root.Bokeh.version + \" successfully loaded.\";\n      }\n    } else if (Date.now() < root._bokeh_timeout) {\n      setTimeout(display_loaded, 100)\n    }\n  }\n\n\n  function run_callbacks() {\n    try {\n      root._bokeh_onload_callbacks.forEach(function(callback) { callback() });\n    }\n    finally {\n      delete root._bokeh_onload_callbacks\n    }\n    console.info(\"Bokeh: all callbacks have finished\");\n  }\n\n  function load_libs(js_urls, callback) {\n    root._bokeh_onload_callbacks.push(callback);\n    if (root._bokeh_is_loading > 0) {\n      console.log(\"Bokeh: BokehJS is being loaded, scheduling callback at\", now());\n      return null;\n    }\n    if (js_urls == null || js_urls.length === 0) {\n      run_callbacks();\n      return null;\n    }\n    console.log(\"Bokeh: BokehJS not loaded, scheduling load and callback at\", now());\n    root._bokeh_is_loading = js_urls.length;\n    for (var i = 0; i < js_urls.length; i++) {\n      var url = js_urls[i];\n      var s = document.createElement('script');\n      s.src = url;\n      s.async = false;\n      s.onreadystatechange = s.onload = function() {\n        root._bokeh_is_loading--;\n        if (root._bokeh_is_loading === 0) {\n          console.log(\"Bokeh: all BokehJS libraries loaded\");\n          run_callbacks()\n        }\n      };\n      s.onerror = function() {\n        console.warn(\"failed to load library \" + url);\n      };\n      console.log(\"Bokeh: injecting script tag for BokehJS library: \", url);\n      document.getElementsByTagName(\"head\")[0].appendChild(s);\n    }\n  };var element = document.getElementById(\"93311c69-8da5-48db-9d93-6624a9b52896\");\n  if (element == null) {\n    console.log(\"Bokeh: ERROR: autoload.js configured with elementid '93311c69-8da5-48db-9d93-6624a9b52896' but no matching script tag was found. \")\n    return false;\n  }\n\n  var js_urls = [\"https://cdn.pydata.org/bokeh/release/bokeh-0.12.13.min.js\", \"https://cdn.pydata.org/bokeh/release/bokeh-widgets-0.12.13.min.js\", \"https://cdn.pydata.org/bokeh/release/bokeh-tables-0.12.13.min.js\", \"https://cdn.pydata.org/bokeh/release/bokeh-gl-0.12.13.min.js\"];\n\n  var inline_js = [\n    function(Bokeh) {\n      Bokeh.set_log_level(\"info\");\n    },\n    \n    function(Bokeh) {\n      \n    },\n    function(Bokeh) {\n      console.log(\"Bokeh: injecting CSS: https://cdn.pydata.org/bokeh/release/bokeh-0.12.13.min.css\");\n      Bokeh.embed.inject_css(\"https://cdn.pydata.org/bokeh/release/bokeh-0.12.13.min.css\");\n      console.log(\"Bokeh: injecting CSS: https://cdn.pydata.org/bokeh/release/bokeh-widgets-0.12.13.min.css\");\n      Bokeh.embed.inject_css(\"https://cdn.pydata.org/bokeh/release/bokeh-widgets-0.12.13.min.css\");\n      console.log(\"Bokeh: injecting CSS: https://cdn.pydata.org/bokeh/release/bokeh-tables-0.12.13.min.css\");\n      Bokeh.embed.inject_css(\"https://cdn.pydata.org/bokeh/release/bokeh-tables-0.12.13.min.css\");\n    }\n  ];\n\n  function run_inline_js() {\n    \n    if ((root.Bokeh !== undefined) || (force === true)) {\n      for (var i = 0; i < inline_js.length; i++) {\n        inline_js[i].call(root, root.Bokeh);\n      }if (force === true) {\n        display_loaded();\n      }} else if (Date.now() < root._bokeh_timeout) {\n      setTimeout(run_inline_js, 100);\n    } else if (!root._bokeh_failed_load) {\n      console.log(\"Bokeh: BokehJS failed to load within specified timeout.\");\n      root._bokeh_failed_load = true;\n    } else if (force !== true) {\n      var cell = $(document.getElementById(\"93311c69-8da5-48db-9d93-6624a9b52896\")).parents('.cell').data().cell;\n      cell.output_area.append_execute_result(NB_LOAD_WARNING)\n    }\n\n  }\n\n  if (root._bokeh_is_loading === 0) {\n    console.log(\"Bokeh: BokehJS loaded, going straight to plotting\");\n    run_inline_js();\n  } else {\n    load_libs(js_urls, function() {\n      console.log(\"Bokeh: BokehJS plotting callback run at\", now());\n      run_inline_js();\n    });\n  }\n}(window));"
     },
     "metadata": {},
     "output_type": "display_data"
    },
    {
     "name": "stdout",
     "output_type": "stream",
     "text": [
      "[['Spectral', 'OrRd', 'Set1', 'Set2', 'Set3', 'Inferno', 'BuPu', 'Dark2', 'Oranges', 'PiYG', 'YlGn', 'RdPu', 'Colorblind', 'YlGnBu', 'RdYlBu', 'BrBG', 'Reds', 'GnBu', 'RdGy', 'Magma', 'PuRd', 'Blues', 'Category10', 'Category20c', 'Category20b', 'RdYlGn', 'Accent', 'PuBu', 'Plasma', 'RdBu', 'BuGn', 'YlOrBr', 'Category20', 'Greens', 'PRGn', 'Paired', 'Purples', 'Pastel2', 'Pastel1', 'Viridis', 'Greys', 'YlOrRd', 'PuOr', 'PuBuGn']]\n"
     ]
    }
   ],
   "source": [
    "# PCA\n",
    "from sklearn.decomposition import PCA\n",
    "\n",
    "from bokeh.models import ColumnDataSource, LabelSet\n",
    "from bokeh.plotting import figure, show, output_file\n",
    "from bokeh.palettes import d3\n",
    "from bokeh.palettes import all_palettes\n",
    "from bokeh.palettes import Inferno256\n",
    "from bokeh.palettes import viridis\n",
    "#from bokeh.palettes import large_palettes\n",
    "from bokeh.io import output_notebook\n",
    "output_notebook()\n",
    "print[all_palettes.keys()]\n",
    "\n",
    "def pca_visualization(num_components, embeddings, words, title):\n",
    "    pca = PCA(n_components=num_components)\n",
    "    pca_result = pca.fit_transform(embeddings)\n",
    "    print('Variation per principal component: {}'.format(pca.explained_variance_ratio_))\n",
    "    p = figure(tools=\"pan,wheel_zoom,reset,save\",\n",
    "               toolbar_location=\"above\",\n",
    "               title=title)\n",
    "    #colormap = viridis(100)\n",
    "    #colors = [colormap[i] for i in cluster_labels]\n",
    "    source = ColumnDataSource(data=dict(x1=pca_result[:,0],\n",
    "                                       x2=pca_result[:,1],\n",
    "                                      names=words))\n",
    "    p.scatter(x=\"x1\", y=\"x2\", size=8, source=source)\n",
    "    labels = LabelSet(x=\"x1\", y=\"x2\", \n",
    "                      text=\"names\", y_offset=6,\n",
    "                      text_font_size=\"8pt\", text_color=\"#555555\" ,\n",
    "                      source=source, \n",
    "                      text_align='center')\n",
    "    p.add_layout(labels)\n",
    "    show(p)"
   ]
  },
  {
   "cell_type": "code",
   "execution_count": 159,
   "metadata": {},
   "outputs": [
    {
     "data": {
      "text/plain": [
       "(0, 99)"
      ]
     },
     "execution_count": 159,
     "metadata": {},
     "output_type": "execute_result"
    }
   ],
   "source": [
    "min(cluster_labels), max(cluster_labels)"
   ]
  },
  {
   "cell_type": "code",
   "execution_count": 160,
   "metadata": {
    "scrolled": true
   },
   "outputs": [
    {
     "name": "stdout",
     "output_type": "stream",
     "text": [
      "Variation per principal component: [0.04026231 0.03309656]\n"
     ]
    },
    {
     "data": {
      "text/html": [
       "\n",
       "<div class=\"bk-root\">\n",
       "    <div class=\"bk-plotdiv\" id=\"7f11f02e-1c6c-40f0-a684-b271302f3cf1\"></div>\n",
       "</div>"
      ]
     },
     "metadata": {},
     "output_type": "display_data"
    },
    {
     "data": {
      "application/javascript": [
       "(function(root) {\n",
       "  function embed_document(root) {\n",
       "    \n",
       "  var docs_json = {\"fd69e5c2-16d1-43bf-a23d-97be055034c1\":{\"roots\":{\"references\":[{\"attributes\":{\"callback\":null},\"id\":\"cd7d729f-61d8-4451-893c-f898580744b7\",\"type\":\"DataRange1d\"},{\"attributes\":{},\"id\":\"742bb0d8-a79c-433b-bd8f-b3f218dfe4fe\",\"type\":\"LinearScale\"},{\"attributes\":{\"below\":[{\"id\":\"f59f5476-b464-44ab-893c-5339054a0305\",\"type\":\"LinearAxis\"}],\"left\":[{\"id\":\"d2cb71a8-1de4-4d40-a349-f8d1a54bc67d\",\"type\":\"LinearAxis\"}],\"renderers\":[{\"id\":\"f59f5476-b464-44ab-893c-5339054a0305\",\"type\":\"LinearAxis\"},{\"id\":\"10caf412-7d50-4971-a0d9-8b58e2df07df\",\"type\":\"Grid\"},{\"id\":\"d2cb71a8-1de4-4d40-a349-f8d1a54bc67d\",\"type\":\"LinearAxis\"},{\"id\":\"8a580aa4-d883-4b9f-b75d-8203bfaceda1\",\"type\":\"Grid\"},{\"id\":\"e508a982-9926-4e1d-b75f-d6f1e61ca92a\",\"type\":\"GlyphRenderer\"},{\"id\":\"9a8d66ea-1bd9-4868-bebd-43fc626eb585\",\"type\":\"LabelSet\"}],\"title\":{\"id\":\"9b830c98-2aff-45d7-9b77-e7d59ed2496c\",\"type\":\"Title\"},\"toolbar\":{\"id\":\"4374b0c9-3297-426b-8b6f-8efa9360f31f\",\"type\":\"Toolbar\"},\"toolbar_location\":\"above\",\"x_range\":{\"id\":\"cd7d729f-61d8-4451-893c-f898580744b7\",\"type\":\"DataRange1d\"},\"x_scale\":{\"id\":\"fcb5f6c3-a3f4-47fd-8353-1ff0c9a55349\",\"type\":\"LinearScale\"},\"y_range\":{\"id\":\"c463664e-7d0f-4080-8b81-e1c639aa6ac2\",\"type\":\"DataRange1d\"},\"y_scale\":{\"id\":\"742bb0d8-a79c-433b-bd8f-b3f218dfe4fe\",\"type\":\"LinearScale\"}},\"id\":\"b5f7fe56-7b77-4ae4-8e41-67e992d440cb\",\"subtype\":\"Figure\",\"type\":\"Plot\"},{\"attributes\":{},\"id\":\"3e0b3ff0-2f97-4e1e-a0fc-9e6b042a2f5b\",\"type\":\"BasicTicker\"},{\"attributes\":{\"fill_color\":{\"value\":\"#1f77b4\"},\"line_color\":{\"value\":\"#1f77b4\"},\"size\":{\"units\":\"screen\",\"value\":8},\"x\":{\"field\":\"x1\"},\"y\":{\"field\":\"x2\"}},\"id\":\"af607dfe-3f62-4b96-b0a4-93b139220917\",\"type\":\"Circle\"},{\"attributes\":{},\"id\":\"fcb5f6c3-a3f4-47fd-8353-1ff0c9a55349\",\"type\":\"LinearScale\"},{\"attributes\":{\"callback\":null},\"id\":\"c463664e-7d0f-4080-8b81-e1c639aa6ac2\",\"type\":\"DataRange1d\"},{\"attributes\":{},\"id\":\"560ace46-2887-4bc4-bb0c-f0ea8ebd04c9\",\"type\":\"BasicTickFormatter\"},{\"attributes\":{\"plot\":{\"id\":\"b5f7fe56-7b77-4ae4-8e41-67e992d440cb\",\"subtype\":\"Figure\",\"type\":\"Plot\"},\"ticker\":{\"id\":\"34c9dc3d-c6c9-460d-83d5-aa44d96602d0\",\"type\":\"BasicTicker\"}},\"id\":\"10caf412-7d50-4971-a0d9-8b58e2df07df\",\"type\":\"Grid\"},{\"attributes\":{\"dimension\":1,\"plot\":{\"id\":\"b5f7fe56-7b77-4ae4-8e41-67e992d440cb\",\"subtype\":\"Figure\",\"type\":\"Plot\"},\"ticker\":{\"id\":\"3e0b3ff0-2f97-4e1e-a0fc-9e6b042a2f5b\",\"type\":\"BasicTicker\"}},\"id\":\"8a580aa4-d883-4b9f-b75d-8203bfaceda1\",\"type\":\"Grid\"},{\"attributes\":{\"plot\":null,\"text\":\"PCA-bow5\"},\"id\":\"9b830c98-2aff-45d7-9b77-e7d59ed2496c\",\"type\":\"Title\"},{\"attributes\":{\"callback\":null,\"column_names\":[\"x2\",\"x1\",\"names\"],\"data\":{\"names\":[\"ability\",\"absence\",\"abuse\",\"acceptance\",\"access\",\"accident\",\"accommodation\",\"account\",\"accountant\",\"accuracy\",\"achievement\",\"acid\",\"acquisition\",\"acre\",\"action\",\"activity\",\"actor\",\"adam\",\"addition\",\"address\",\"administration\",\"admission\",\"adoption\",\"adult\",\"advance\",\"advantage\",\"advertisement\",\"advertising\",\"advice\",\"adviser\",\"affair\",\"africa\",\"afternoon\",\"agency\",\"agenda\",\"agent\",\"agreement\",\"aircraft\",\"airline\",\"airport\",\"alarm\",\"album\",\"alcohol\",\"alice\",\"allegation\",\"alliance\",\"allocation\",\"allowance\",\"ally\",\"alternative\",\"ambassador\",\"ambition\",\"amendment\",\"america\",\"american\",\"amount\",\"analysis\",\"analyst\",\"angel\",\"anger\",\"angle\",\"animal\",\"ankle\",\"anna\",\"anne\",\"anniversary\",\"announcement\",\"answer\",\"anxiety\",\"apartment\",\"appeal\",\"appearance\",\"apple\",\"applicant\",\"application\",\"appointment\",\"approach\",\"approval\",\"april\",\"architect\",\"architecture\",\"area\",\"argument\",\"army\",\"arrangement\",\"array\",\"arrest\",\"arrival\",\"arrow\",\"article\",\"artist\",\"aspect\",\"assault\",\"assembly\",\"assessment\",\"asset\",\"assistance\",\"assistant\",\"association\",\"assumption\",\"athelstan\",\"atmosphere\",\"attack\",\"attempt\",\"attention\",\"attitude\",\"attraction\",\"audience\",\"auditor\",\"australia\",\"author\",\"authority\",\"autumn\",\"availability\",\"average\",\"award\",\"awareness\",\"baby\",\"back\",\"background\",\"bacterium\",\"baker\",\"balance\",\"ball\",\"band\",\"bank\",\"barrel\",\"barrier\",\"base\",\"basis\",\"basket\",\"bath\",\"bathroom\",\"battery\",\"battle\",\"beach\",\"beam\",\"beauty\",\"bedroom\",\"beer\",\"beginning\",\"behaviour\",\"being\",\"belief\",\"bell\",\"belt\",\"bench\",\"benefit\",\"benjamin\",\"best\",\"bias\",\"bible\",\"bike\",\"bill\",\"bird\",\"birth\",\"birthday\",\"bishop\",\"black\",\"blade\",\"blanche\",\"blanket\",\"block\",\"blood\",\"blow\",\"board\",\"boat\",\"body\",\"bomb\",\"bond\",\"bone\",\"book\",\"boom\",\"boot\",\"border\",\"boss\",\"bottle\",\"bottom\",\"boundary\",\"bowl\",\"brain\",\"branch\",\"brand\",\"breach\",\"bread\",\"break\",\"breakfast\",\"breast\",\"breath\",\"breeze\",\"brick\",\"bridge\",\"britain\",\"brother\",\"brow\",\"brown\",\"brush\",\"bucket\",\"budget\",\"building\",\"bulk\",\"bull\",\"bullet\",\"burden\",\"bush\",\"business\",\"button\",\"buyer\",\"cabinet\",\"cable\",\"cake\",\"calculation\",\"call\",\"camera\",\"camp\",\"campaign\",\"canal\",\"cancer\",\"candidate\",\"candle\",\"capability\",\"capacity\",\"capital\",\"captain\",\"card\",\"care\",\"career\",\"caroline\",\"carpet\",\"carriage\",\"carrier\",\"case\",\"cash\",\"cast\",\"castle\",\"catalogue\",\"category\",\"cathedral\",\"cattle\",\"cause\",\"caution\",\"ceiling\",\"cell\",\"centre\",\"century\",\"ceremony\",\"certificate\",\"chain\",\"chair\",\"chairman\",\"challenge\",\"chamber\",\"champagne\",\"champion\",\"championship\",\"chance\",\"chancellor\",\"change\",\"channel\",\"chaos\",\"chapel\",\"chapter\",\"character\",\"characteristic\",\"charge\",\"charity\",\"charles\",\"charlie\",\"chart\",\"charter\",\"check\",\"cheek\",\"chemical\",\"cheque\",\"chest\",\"chief\",\"child\",\"chin\",\"china\",\"chip\",\"choice\",\"christ\",\"christian\",\"church\",\"cigarette\",\"circle\",\"circuit\",\"circumstance\",\"citizen\",\"city\",\"claim\",\"clarke\",\"clash\",\"class\",\"clause\",\"clerk\",\"client\",\"cliff\",\"climate\",\"clinic\",\"clinton\",\"clock\",\"closure\",\"cloth\",\"clothes\",\"cloud\",\"club\",\"cluster\",\"coach\",\"coal\",\"coalition\",\"coast\",\"coat\",\"code\",\"coffee\",\"coffin\",\"coin\",\"collapse\",\"collar\",\"colleague\",\"collection\",\"collector\",\"college\",\"colony\",\"colour\",\"column\",\"combination\",\"comfort\",\"command\",\"commander\",\"comment\",\"commentator\",\"commission\",\"commissioner\",\"commitment\",\"committee\",\"communication\",\"community\",\"companion\",\"company\",\"comparison\",\"compensation\",\"competition\",\"competitor\",\"complaint\",\"completion\",\"complex\",\"complexity\",\"compliance\",\"component\",\"composition\",\"compound\",\"compromise\",\"computer\",\"concentration\",\"concept\",\"conception\",\"concern\",\"concert\",\"concession\",\"conclusion\",\"condition\",\"conduct\",\"conference\",\"confidence\",\"conflict\",\"confusion\",\"congress\",\"connection\",\"consciousness\",\"consensus\",\"consent\",\"consequence\",\"conservative\",\"consideration\",\"constable\",\"constituency\",\"constitution\",\"constraint\",\"construction\",\"consultant\",\"consultation\",\"consumer\",\"consumption\",\"contact\",\"container\",\"contempt\",\"content\",\"contents\",\"contest\",\"context\",\"continent\",\"contract\",\"contradiction\",\"contrast\",\"contribution\",\"control\",\"controversy\",\"convention\",\"conversation\",\"conversion\",\"conviction\",\"cook\",\"cooperation\",\"copy\",\"corbett\",\"core\",\"corner\",\"corp\",\"corporation\",\"corpse\",\"corridor\",\"cost\",\"cottage\",\"council\",\"councillor\",\"count\",\"counter\",\"country\",\"countryside\",\"county\",\"couple\",\"courage\",\"course\",\"court\",\"cousin\",\"cover\",\"coverage\",\"crack\",\"craft\",\"crash\",\"cream\",\"creation\",\"creature\",\"credit\",\"creditor\",\"crew\",\"crime\",\"crisis\",\"criterion\",\"critic\",\"criticism\",\"crop\",\"cross\",\"crowd\",\"crown\",\"culture\",\"cupboard\",\"curiosity\",\"currency\",\"current\",\"curriculum\",\"curtain\",\"curve\",\"custom\",\"customer\",\"cycle\",\"damage\",\"damages\",\"dance\",\"dancer\",\"danger\",\"darkness\",\"database\",\"date\",\"datum\",\"daughter\",\"david\",\"dawn\",\"deal\",\"dealer\",\"death\",\"debate\",\"debt\",\"decade\",\"decision\",\"deck\",\"declaration\",\"decline\",\"decree\",\"defeat\",\"defect\",\"defence\",\"defendant\",\"defender\",\"deficit\",\"definition\",\"degree\",\"delay\",\"delegate\",\"delegation\",\"delight\",\"delivery\",\"demand\",\"democracy\",\"democrat\",\"demonstration\",\"department\",\"departure\",\"deposit\",\"depression\",\"depth\",\"depths\",\"deputy\",\"description\",\"design\",\"designer\",\"desire\",\"desk\",\"destruction\",\"detail\",\"detective\",\"determination\",\"developer\",\"development\",\"device\",\"dialogue\",\"diana\",\"diary\",\"diet\",\"difference\",\"difficulty\",\"dilemma\",\"dimension\",\"dinner\",\"direction\",\"directive\",\"director\",\"disappointment\",\"disaster\",\"disc\",\"discipline\",\"discourse\",\"discovery\",\"discretion\",\"discrimination\",\"discussion\",\"disease\",\"dish\",\"disk\",\"disorder\",\"display\",\"dispute\",\"distance\",\"distinction\",\"distribution\",\"district\",\"dividend\",\"division\",\"doctor\",\"doctrine\",\"document\",\"dollar\",\"domain\",\"door\",\"doorway\",\"dose\",\"doubt\",\"downstairs\",\"draft\",\"drama\",\"draw\",\"drawing\",\"dream\",\"dress\",\"drink\",\"drive\",\"driver\",\"drop\",\"drug\",\"duke\",\"dust\",\"duty\",\"earl\",\"earnings\",\"earth\",\"ease\",\"east\",\"economy\",\"edge\",\"edition\",\"editor\",\"education\",\"edward\",\"effect\",\"effectiveness\",\"efficiency\",\"effort\",\"elbow\",\"election\",\"electricity\",\"element\",\"eliot\",\"elizabeth\",\"embarrassment\",\"embassy\",\"emily\",\"emission\",\"emotion\",\"emperor\",\"emphasis\",\"empire\",\"employee\",\"employer\",\"employment\",\"enemy\",\"energy\",\"engine\",\"engineer\",\"england\",\"english\",\"enquiry\",\"enterprise\",\"enthusiasm\",\"entity\",\"entrance\",\"entry\",\"envelope\",\"environment\",\"episode\",\"equation\",\"equipment\",\"equivalent\",\"error\",\"essay\",\"establishment\",\"estate\",\"estimate\",\"europe\",\"evaluation\",\"evening\",\"event\",\"evidence\",\"evolution\",\"examination\",\"example\",\"excess\",\"exchange\",\"excitement\",\"executive\",\"exercise\",\"exhibition\",\"existence\",\"expansion\",\"expectation\",\"expedition\",\"expenditure\",\"expense\",\"experience\",\"experiment\",\"expert\",\"expertise\",\"explanation\",\"explosion\",\"export\",\"exposure\",\"expression\",\"extension\",\"extent\",\"eyebrow\",\"fabric\",\"face\",\"facility\",\"fact\",\"faction\",\"factor\",\"factory\",\"failure\",\"faith\",\"fall\",\"family\",\"farm\",\"farmer\",\"fashion\",\"fate\",\"father\",\"fault\",\"favour\",\"fear\",\"feature\",\"february\",\"feeling\",\"fellow\",\"female\",\"fence\",\"festival\",\"fibre\",\"field\",\"fig\",\"fight\",\"fighting\",\"figure\",\"file\",\"film\",\"filter\",\"final\",\"finance\",\"finding\",\"finger\",\"fire\",\"firm\",\"fish\",\"fist\",\"flag\",\"flame\",\"flat\",\"flavour\",\"fleet\",\"flesh\",\"flight\",\"flood\",\"floor\",\"flow\",\"flower\",\"focus\",\"food\",\"foot\",\"football\",\"force\",\"ford\",\"forehead\",\"forest\",\"form\",\"format\",\"formation\",\"formula\",\"fortune\",\"forward\",\"foundation\",\"fraction\",\"fragment\",\"frame\",\"framework\",\"france\",\"francis\",\"freedom\",\"french\",\"frequency\",\"friend\",\"friendship\",\"front\",\"fruit\",\"frustration\",\"fuel\",\"function\",\"fund\",\"furniture\",\"future\",\"gain\",\"gallery\",\"game\",\"gang\",\"garage\",\"garden\",\"garment\",\"gate\",\"gaze\",\"gear\",\"gene\",\"generation\",\"gentleman\",\"george\",\"german\",\"germany\",\"gesture\",\"ghost\",\"gift\",\"girl\",\"glance\",\"glass\",\"glimpse\",\"glory\",\"glove\",\"goal\",\"gold\",\"goods\",\"gorbachev\",\"government\",\"governor\",\"grade\",\"graham\",\"grain\",\"grant\",\"grass\",\"grave\",\"green\",\"grin\",\"grip\",\"ground\",\"grounds\",\"group\",\"growth\",\"guard\",\"guest\",\"guidance\",\"guide\",\"guideline\",\"guilt\",\"guitar\",\"gulf\",\"habit\",\"hair\",\"half\",\"hall\",\"hand\",\"handful\",\"handle\",\"happiness\",\"harm\",\"harry\",\"head\",\"headline\",\"headquarters\",\"health\",\"heap\",\"hearing\",\"heart\",\"heat\",\"heaven\",\"heel\",\"height\",\"helen\",\"helicopter\",\"hell\",\"help\",\"henry\",\"hero\",\"hierarchy\",\"hill\",\"hint\",\"historian\",\"history\",\"hitler\",\"hold\",\"holder\",\"holding\",\"hole\",\"holiday\",\"home\",\"honour\",\"hook\",\"hope\",\"horizon\",\"horn\",\"horror\",\"horse\",\"hospital\",\"host\",\"hostility\",\"hotel\",\"hour\",\"house\",\"household\",\"housing\",\"howard\",\"human\",\"hundred\",\"hunt\",\"husband\",\"hypothesis\",\"idea\",\"ideal\",\"identification\",\"identity\",\"ideology\",\"illness\",\"image\",\"imagination\",\"impact\",\"implementation\",\"implication\",\"import\",\"importance\",\"impression\",\"improvement\",\"impulse\",\"incentive\",\"inch\",\"incidence\",\"incident\",\"income\",\"increase\",\"independence\",\"index\",\"india\",\"individual\",\"industry\",\"inequality\",\"infection\",\"inflation\",\"influence\",\"information\",\"ingredient\",\"inhabitant\",\"initiative\",\"injunction\",\"injury\",\"innovation\",\"input\",\"inquiry\",\"insect\",\"insider\",\"insight\",\"inspection\",\"inspector\",\"instance\",\"instinct\",\"institute\",\"institution\",\"instruction\",\"instrument\",\"insurance\",\"integration\",\"intelligence\",\"intensity\",\"intention\",\"interaction\",\"interest\",\"interface\",\"interior\",\"interpretation\",\"interval\",\"intervention\",\"interview\",\"introduction\",\"invasion\",\"investigation\",\"investment\",\"investor\",\"invitation\",\"involvement\",\"iraq\",\"ireland\",\"isabel\",\"island\",\"isolation\",\"israel\",\"issue\",\"italy\",\"item\",\"jack\",\"jacket\",\"jackson\",\"james\",\"jane\",\"japan\",\"jesus\",\"john\",\"johnson\",\"joint\",\"joke\",\"jones\",\"joseph\",\"journal\",\"journalist\",\"journey\",\"judge\",\"judgement\",\"judgment\",\"juice\",\"june\",\"jurisdiction\",\"jury\",\"justice\",\"kate\",\"kelly\",\"kick\",\"killer\",\"killing\",\"kind\",\"king\",\"kingdom\",\"kinnock\",\"kiss\",\"kitchen\",\"knee\",\"knife\",\"knight\",\"knot\",\"knowledge\",\"kong\",\"label\",\"laboratory\",\"labour\",\"lack\",\"ladder\",\"lady\",\"lake\",\"lamb\",\"lamp\",\"land\",\"landing\",\"landlord\",\"landscape\",\"lane\",\"language\",\"laugh\",\"laughter\",\"launch\",\"laura\",\"lawyer\",\"layer\",\"lead\",\"leader\",\"leadership\",\"leaf\",\"leaflet\",\"league\",\"lease\",\"lecture\",\"leeds\",\"left\",\"legislation\",\"length\",\"lesson\",\"let\",\"letter\",\"level\",\"lewis\",\"liability\",\"library\",\"licence\",\"life\",\"lifespan\",\"lifetime\",\"lift\",\"light\",\"lily\",\"limb\",\"limit\",\"limitation\",\"line\",\"link\",\"links\",\"list\",\"literature\",\"liverpool\",\"living\",\"load\",\"loan\",\"location\",\"lock\",\"logic\",\"london\",\"look\",\"lord\",\"lorry\",\"loss\",\"love\",\"lover\",\"loyalty\",\"lucy\",\"luke\",\"lunch\",\"machine\",\"machinery\",\"magazine\",\"maggie\",\"magistrate\",\"mail\",\"maintenance\",\"major\",\"majority\",\"maker\",\"male\",\"management\",\"manager\",\"manner\",\"manufacturer\",\"march\",\"margin\",\"marie\",\"mark\",\"market\",\"marriage\",\"martin\",\"marx\",\"mary\",\"mask\",\"mass\",\"master\",\"match\",\"material\",\"matter\",\"maximum\",\"meal\",\"meaning\",\"means\",\"measure\",\"measurement\",\"meat\",\"mechanism\",\"medal\",\"media\",\"medicine\",\"medium\",\"meeting\",\"member\",\"membership\",\"memory\",\"menu\",\"merger\",\"merit\",\"mess\",\"message\",\"metal\",\"method\",\"metre\",\"michael\",\"middle\",\"mile\",\"milk\",\"mill\",\"miller\",\"million\",\"mind\",\"mine\",\"miner\",\"minimum\",\"minister\",\"ministry\",\"minority\",\"minute\",\"mirror\",\"missile\",\"mission\",\"mist\",\"mistake\",\"mixture\",\"mode\",\"model\",\"module\",\"molecule\",\"moment\",\"momentum\",\"money\",\"monopoly\",\"monster\",\"month\",\"mood\",\"moon\",\"morgan\",\"morning\",\"mortgage\",\"moscow\",\"mother\",\"motion\",\"motive\",\"motor\",\"mountain\",\"mouse\",\"mouth\",\"move\",\"movement\",\"movie\",\"mungo\",\"murder\",\"muscle\",\"museum\",\"music\",\"mystery\",\"myth\",\"nail\",\"name\",\"nation\",\"nature\",\"necessity\",\"neck\",\"need\",\"needle\",\"negotiation\",\"neighbour\",\"nerve\",\"nest\",\"network\",\"news\",\"newspaper\",\"nigel\",\"night\",\"noise\",\"norm\",\"north\",\"nose\",\"note\",\"notice\",\"notion\",\"novel\",\"number\",\"nurse\",\"object\",\"objection\",\"objective\",\"obligation\",\"observation\",\"observer\",\"obstacle\",\"occasion\",\"occupation\",\"ocean\",\"offence\",\"offender\",\"offer\",\"office\",\"officer\",\"official\",\"open\",\"opening\",\"operation\",\"operator\",\"opinion\",\"opponent\",\"opportunity\",\"opposition\",\"option\",\"order\",\"organ\",\"organisation\",\"organiser\",\"organism\",\"organization\",\"origin\",\"other\",\"outcome\",\"outline\",\"output\",\"owner\",\"ownership\",\"oxford\",\"pace\",\"pack\",\"package\",\"packet\",\"page\",\"pain\",\"paint\",\"painting\",\"pair\",\"palace\",\"palm\",\"panel\",\"panic\",\"paper\",\"papers\",\"paragraph\",\"parameter\",\"parent\",\"paris\",\"park\",\"parliament\",\"part\",\"participant\",\"participation\",\"particle\",\"partner\",\"partnership\",\"party\",\"pass\",\"passage\",\"passenger\",\"passion\",\"past\",\"patch\",\"path\",\"patient\",\"patrick\",\"pattern\",\"paul\",\"pavement\",\"payment\",\"peace\",\"peak\",\"peasant\",\"penalty\",\"penny\",\"pension\",\"people\",\"percentage\",\"perception\",\"performance\",\"period\",\"permission\",\"person\",\"personality\",\"personnel\",\"perspective\",\"peter\",\"petition\",\"phase\",\"phenomenon\",\"philip\",\"philosophy\",\"phone\",\"photograph\",\"photographer\",\"phrase\",\"picture\",\"piece\",\"pile\",\"pillow\",\"pilot\",\"pint\",\"pipe\",\"pitch\",\"place\",\"plaintiff\",\"plan\",\"plane\",\"planet\",\"planning\",\"plant\",\"plate\",\"platform\",\"play\",\"player\",\"pleasure\",\"plenty\",\"plot\",\"pocket\",\"poem\",\"poet\",\"poetry\",\"point\",\"pole\",\"police\",\"policeman\",\"policy\",\"politician\",\"politics\",\"poll\",\"pollution\",\"pond\",\"pool\",\"pope\",\"popularity\",\"population\",\"port\",\"portfolio\",\"portion\",\"portrait\",\"position\",\"possession\",\"possibility\",\"post\",\"poster\",\"potato\",\"potential\",\"pound\",\"poverty\",\"power\",\"practice\",\"practitioner\",\"prayer\",\"preference\",\"premise\",\"premium\",\"preparation\",\"presence\",\"present\",\"presentation\",\"president\",\"press\",\"pressure\",\"prey\",\"price\",\"pride\",\"priest\",\"prime\",\"prince\",\"princess\",\"principle\",\"print\",\"priority\",\"prison\",\"prisoner\",\"privilege\",\"prize\",\"problem\",\"procedure\",\"proceedings\",\"process\",\"processor\",\"producer\",\"product\",\"production\",\"profession\",\"professional\",\"profile\",\"profit\",\"program\",\"programme\",\"progress\",\"project\",\"promise\",\"promotion\",\"proof\",\"property\",\"proportion\",\"proposal\",\"proposition\",\"prosecution\",\"prospect\",\"prospects\",\"protection\",\"protein\",\"protest\",\"protocol\",\"province\",\"provision\",\"public\",\"publication\",\"publicity\",\"publisher\",\"pulse\",\"punch\",\"punishment\",\"pupil\",\"purchase\",\"purchaser\",\"purpose\",\"pursuit\",\"qualification\",\"quality\",\"quantity\",\"quarter\",\"queen\",\"question\",\"questionnaire\",\"quote\",\"rabbit\",\"race\",\"rachel\",\"radio\",\"rage\",\"raid\",\"rail\",\"railway\",\"rain\",\"rally\",\"range\",\"rank\",\"rate\",\"rating\",\"ratio\",\"reaction\",\"reader\",\"reading\",\"reality\",\"reason\",\"rebel\",\"receipt\",\"receiver\",\"reception\",\"recession\",\"recipe\",\"recognition\",\"recommendation\",\"record\",\"recording\",\"recovery\",\"reduction\",\"reference\",\"referendum\",\"reflection\",\"reform\",\"refugee\",\"refusal\",\"regime\",\"region\",\"register\",\"regulation\",\"rejection\",\"relation\",\"relationship\",\"relative\",\"release\",\"relief\",\"religion\",\"remainder\",\"remains\",\"remark\",\"remedy\",\"removal\",\"rent\",\"replacement\",\"reply\",\"report\",\"reporter\",\"representation\",\"representative\",\"republic\",\"reputation\",\"request\",\"requirement\",\"research\",\"researcher\",\"reserve\",\"resident\",\"resignation\",\"resistance\",\"resolution\",\"resource\",\"respect\",\"response\",\"responsibility\",\"rest\",\"restaurant\",\"restriction\",\"result\",\"retirement\",\"return\",\"revenue\",\"review\",\"revolution\",\"reward\",\"rhythm\",\"richard\",\"ride\",\"rider\",\"ridge\",\"right\",\"rights\",\"ring\",\"rise\",\"risk\",\"ritual\",\"rival\",\"river\",\"road\",\"robert\",\"robyn\",\"rock\",\"role\",\"roll\",\"rome\",\"roof\",\"room\",\"root\",\"rope\",\"rose\",\"round\",\"route\",\"routine\",\"rule\",\"rumour\",\"russia\",\"russian\",\"ruth\",\"safety\",\"salary\",\"sale\",\"salt\",\"sample\",\"sanction\",\"sand\",\"sarah\",\"satisfaction\",\"savings\",\"scale\",\"scandal\",\"scene\",\"scent\",\"schedule\",\"scheme\",\"scholar\",\"school\",\"science\",\"scientist\",\"scope\",\"score\",\"scot\",\"scotland\",\"scott\",\"screen\",\"script\",\"seal\",\"search\",\"season\",\"seat\",\"second\",\"seconds\",\"secret\",\"secretary\",\"section\",\"sector\",\"security\",\"seed\",\"selection\",\"self\",\"seller\",\"sensation\",\"sense\",\"senses\",\"sensitivity\",\"sentence\",\"separation\",\"sequence\",\"sergeant\",\"series\",\"servant\",\"service\",\"session\",\"setting\",\"settlement\",\"shadow\",\"shaft\",\"shape\",\"share\",\"shareholder\",\"sheep\",\"sheet\",\"shelf\",\"shell\",\"shelter\",\"shift\",\"ship\",\"shirt\",\"shock\",\"shoe\",\"shop\",\"shore\",\"shortage\",\"shot\",\"shoulder\",\"show\",\"side\",\"sigh\",\"sight\",\"sign\",\"signal\",\"signature\",\"significance\",\"silence\",\"simon\",\"sister\",\"site\",\"situation\",\"size\",\"skill\",\"skin\",\"skirt\",\"sleep\",\"sleeve\",\"slice\",\"slide\",\"slope\",\"smell\",\"smile\",\"smith\",\"smoke\",\"snow\",\"society\",\"sofa\",\"software\",\"soil\",\"soldier\",\"solicitor\",\"solution\",\"song\",\"sort\",\"soul\",\"sound\",\"source\",\"south\",\"space\",\"spain\",\"speaker\",\"specialist\",\"species\",\"specification\",\"specimen\",\"spectrum\",\"speculation\",\"speech\",\"speed\",\"spell\",\"spending\",\"sphere\",\"spine\",\"spirit\",\"spokesman\",\"sport\",\"spot\",\"spread\",\"spring\",\"squad\",\"square\",\"stability\",\"staff\",\"stage\",\"stair\",\"stake\",\"stance\",\"stand\",\"standard\",\"star\",\"start\",\"state\",\"statement\",\"station\",\"statistics\",\"statue\",\"status\",\"statute\",\"stem\",\"step\",\"stephen\",\"stick\",\"stimulus\",\"stitch\",\"stock\",\"stomach\",\"stone\",\"stop\",\"store\",\"storm\",\"story\",\"strain\",\"strand\",\"stranger\",\"strategy\",\"stream\",\"street\",\"strength\",\"stress\",\"stretch\",\"strike\",\"string\",\"strip\",\"stroke\",\"structure\",\"struggle\",\"student\",\"studio\",\"study\",\"stuff\",\"style\",\"subject\",\"subsidiary\",\"subsidy\",\"substance\",\"success\",\"succession\",\"successor\",\"sugar\",\"suggestion\",\"suicide\",\"suit\",\"summer\",\"summit\",\"sunlight\",\"supplier\",\"supplies\",\"supply\",\"support\",\"supporter\",\"surface\",\"surgery\",\"surplus\",\"surprise\",\"survey\",\"survival\",\"susan\",\"suspicion\",\"sweat\",\"switch\",\"sword\",\"symbol\",\"sympathy\",\"symptom\",\"system\",\"table\",\"tactic\",\"tail\",\"tale\",\"talent\",\"talk\",\"tank\",\"tape\",\"target\",\"task\",\"taste\",\"taxi\",\"taylor\",\"teacher\",\"teaching\",\"team\",\"tear\",\"technique\",\"technology\",\"teenager\",\"telephone\",\"television\",\"temperature\",\"temple\",\"tenant\",\"tendency\",\"tension\",\"tent\",\"term\",\"terrace\",\"territory\",\"terror\",\"test\",\"text\",\"thanks\",\"thatcher\",\"theatre\",\"theme\",\"theory\",\"thesis\",\"thief\",\"thigh\",\"thing\",\"thinking\",\"thomas\",\"thought\",\"thousand\",\"thread\",\"threat\",\"throat\",\"thumb\",\"ticket\",\"tide\",\"tile\",\"time\",\"times\",\"tissue\",\"title\",\"tone\",\"tongue\",\"tonne\",\"tony\",\"tool\",\"tooth\",\"topic\",\"torch\",\"tory\",\"total\",\"touch\",\"tour\",\"tourist\",\"tournament\",\"towel\",\"tower\",\"town\",\"trace\",\"track\",\"trade\",\"trading\",\"tradition\",\"traffic\",\"tragedy\",\"trail\",\"train\",\"training\",\"transaction\",\"transfer\",\"transformation\",\"transition\",\"transport\",\"trap\",\"traveller\",\"tray\",\"treasury\",\"treatment\",\"treaty\",\"tree\",\"trend\",\"trial\",\"tribunal\",\"trick\",\"trip\",\"triumph\",\"troops\",\"trophy\",\"trouble\",\"trousers\",\"truck\",\"trust\",\"trustee\",\"truth\",\"tube\",\"tune\",\"tunnel\",\"turn\",\"turnover\",\"type\",\"uncertainty\",\"understanding\",\"unemployment\",\"uniform\",\"union\",\"unit\",\"unity\",\"universe\",\"university\",\"user\",\"validity\",\"valley\",\"value\",\"variable\",\"variation\",\"variety\",\"vehicle\",\"vein\",\"vendor\",\"venture\",\"verdict\",\"verse\",\"version\",\"vessel\",\"victim\",\"victory\",\"video\",\"view\",\"viewer\",\"villa\",\"village\",\"violence\",\"virtue\",\"virus\",\"vision\",\"visit\",\"visitor\",\"voice\",\"volume\",\"volunteer\",\"vote\",\"voter\",\"wages\",\"waist\",\"wales\",\"walk\",\"walker\",\"wall\",\"ward\",\"warmth\",\"warning\",\"warrant\",\"washington\",\"waste\",\"watch\",\"water\",\"waters\",\"wave\",\"weakness\",\"wealth\",\"weapon\",\"weather\",\"week\",\"weekend\",\"weight\",\"welfare\",\"west\",\"wheel\",\"while\",\"whilst\",\"white\",\"whole\",\"wicket\",\"wife\",\"will\",\"william\",\"williams\",\"willie\",\"willingness\",\"wilson\",\"wind\",\"window\",\"wine\",\"wing\",\"winner\",\"winter\",\"wire\",\"wish\",\"withdrawal\",\"witness\",\"woman\",\"wood\",\"word\",\"work\",\"worker\",\"workshop\",\"world\",\"worth\",\"wound\",\"wright\",\"wrist\",\"writer\",\"writing\",\"yard\",\"year\",\"york\",\"youngster\",\"youth\",\"zone\"],\"x1\":{\"__ndarray__\":\"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\",\"dtype\":\"float64\",\"shape\":[1996]},\"x2\":{\"__ndarray__\":\"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\",\"dtype\":\"float64\",\"shape\":[1996]}}},\"id\":\"191bb704-88e2-4adb-88a3-b11fe71ac6f9\",\"type\":\"ColumnDataSource\"},{\"attributes\":{\"source\":{\"id\":\"191bb704-88e2-4adb-88a3-b11fe71ac6f9\",\"type\":\"ColumnDataSource\"}},\"id\":\"a6961ef0-84c8-4213-9de3-4b23a29b5a8e\",\"type\":\"CDSView\"},{\"attributes\":{\"plot\":{\"id\":\"b5f7fe56-7b77-4ae4-8e41-67e992d440cb\",\"subtype\":\"Figure\",\"type\":\"Plot\"},\"source\":{\"id\":\"191bb704-88e2-4adb-88a3-b11fe71ac6f9\",\"type\":\"ColumnDataSource\"},\"text\":{\"field\":\"names\"},\"text_align\":\"center\",\"text_color\":{\"value\":\"#555555\"},\"text_font_size\":{\"value\":\"8pt\"},\"x\":{\"field\":\"x1\"},\"y\":{\"field\":\"x2\"},\"y_offset\":{\"value\":6}},\"id\":\"9a8d66ea-1bd9-4868-bebd-43fc626eb585\",\"type\":\"LabelSet\"},{\"attributes\":{\"formatter\":{\"id\":\"e2658890-a0ab-40a2-b973-c9e2cecaf4ca\",\"type\":\"BasicTickFormatter\"},\"plot\":{\"id\":\"b5f7fe56-7b77-4ae4-8e41-67e992d440cb\",\"subtype\":\"Figure\",\"type\":\"Plot\"},\"ticker\":{\"id\":\"34c9dc3d-c6c9-460d-83d5-aa44d96602d0\",\"type\":\"BasicTicker\"}},\"id\":\"f59f5476-b464-44ab-893c-5339054a0305\",\"type\":\"LinearAxis\"},{\"attributes\":{},\"id\":\"e26b0d40-9463-4225-a5cd-93cc83df5c2c\",\"type\":\"WheelZoomTool\"},{\"attributes\":{\"active_drag\":\"auto\",\"active_inspect\":\"auto\",\"active_scroll\":\"auto\",\"active_tap\":\"auto\",\"tools\":[{\"id\":\"43c224a8-01dc-4cac-95b7-64e7aee797d7\",\"type\":\"PanTool\"},{\"id\":\"e26b0d40-9463-4225-a5cd-93cc83df5c2c\",\"type\":\"WheelZoomTool\"},{\"id\":\"14acb357-09e8-47fc-8fe5-12a07807661d\",\"type\":\"ResetTool\"},{\"id\":\"e43b8974-c3f2-4c6f-8a27-d4de545ae3a6\",\"type\":\"SaveTool\"}]},\"id\":\"4374b0c9-3297-426b-8b6f-8efa9360f31f\",\"type\":\"Toolbar\"},{\"attributes\":{},\"id\":\"43c224a8-01dc-4cac-95b7-64e7aee797d7\",\"type\":\"PanTool\"},{\"attributes\":{},\"id\":\"34c9dc3d-c6c9-460d-83d5-aa44d96602d0\",\"type\":\"BasicTicker\"},{\"attributes\":{\"data_source\":{\"id\":\"191bb704-88e2-4adb-88a3-b11fe71ac6f9\",\"type\":\"ColumnDataSource\"},\"glyph\":{\"id\":\"af607dfe-3f62-4b96-b0a4-93b139220917\",\"type\":\"Circle\"},\"hover_glyph\":null,\"muted_glyph\":null,\"nonselection_glyph\":{\"id\":\"0de97e03-3786-4085-8c74-ce10a78703fe\",\"type\":\"Circle\"},\"selection_glyph\":null,\"view\":{\"id\":\"a6961ef0-84c8-4213-9de3-4b23a29b5a8e\",\"type\":\"CDSView\"}},\"id\":\"e508a982-9926-4e1d-b75f-d6f1e61ca92a\",\"type\":\"GlyphRenderer\"},{\"attributes\":{},\"id\":\"e43b8974-c3f2-4c6f-8a27-d4de545ae3a6\",\"type\":\"SaveTool\"},{\"attributes\":{\"formatter\":{\"id\":\"560ace46-2887-4bc4-bb0c-f0ea8ebd04c9\",\"type\":\"BasicTickFormatter\"},\"plot\":{\"id\":\"b5f7fe56-7b77-4ae4-8e41-67e992d440cb\",\"subtype\":\"Figure\",\"type\":\"Plot\"},\"ticker\":{\"id\":\"3e0b3ff0-2f97-4e1e-a0fc-9e6b042a2f5b\",\"type\":\"BasicTicker\"}},\"id\":\"d2cb71a8-1de4-4d40-a349-f8d1a54bc67d\",\"type\":\"LinearAxis\"},{\"attributes\":{},\"id\":\"14acb357-09e8-47fc-8fe5-12a07807661d\",\"type\":\"ResetTool\"},{\"attributes\":{},\"id\":\"e2658890-a0ab-40a2-b973-c9e2cecaf4ca\",\"type\":\"BasicTickFormatter\"},{\"attributes\":{\"fill_alpha\":{\"value\":0.1},\"fill_color\":{\"value\":\"#1f77b4\"},\"line_alpha\":{\"value\":0.1},\"line_color\":{\"value\":\"#1f77b4\"},\"size\":{\"units\":\"screen\",\"value\":8},\"x\":{\"field\":\"x1\"},\"y\":{\"field\":\"x2\"}},\"id\":\"0de97e03-3786-4085-8c74-ce10a78703fe\",\"type\":\"Circle\"}],\"root_ids\":[\"b5f7fe56-7b77-4ae4-8e41-67e992d440cb\"]},\"title\":\"Bokeh Application\",\"version\":\"0.12.13\"}};\n",
       "  var render_items = [{\"docid\":\"fd69e5c2-16d1-43bf-a23d-97be055034c1\",\"elementid\":\"7f11f02e-1c6c-40f0-a684-b271302f3cf1\",\"modelid\":\"b5f7fe56-7b77-4ae4-8e41-67e992d440cb\"}];\n",
       "  root.Bokeh.embed.embed_items_notebook(docs_json, render_items);\n",
       "\n",
       "  }\n",
       "  if (root.Bokeh !== undefined) {\n",
       "    embed_document(root);\n",
       "  } else {\n",
       "    var attempts = 0;\n",
       "    var timer = setInterval(function(root) {\n",
       "      if (root.Bokeh !== undefined) {\n",
       "        embed_document(root);\n",
       "        clearInterval(timer);\n",
       "      }\n",
       "      attempts++;\n",
       "      if (attempts > 100) {\n",
       "        console.log(\"Bokeh: ERROR: Unable to run BokehJS code because BokehJS library is missing\")\n",
       "        clearInterval(timer);\n",
       "      }\n",
       "    }, 10, root)\n",
       "  }\n",
       "})(window);"
      ],
      "application/vnd.bokehjs_exec.v0+json": ""
     },
     "metadata": {
      "application/vnd.bokehjs_exec.v0+json": {
       "id": "b5f7fe56-7b77-4ae4-8e41-67e992d440cb"
      }
     },
     "output_type": "display_data"
    }
   ],
   "source": [
    "#pca_visualization(2, embeddings_bow2, words_bow2, \"PCA-bow2\")\n",
    "pca_visualization(2, embeddings_bow5, words_bow5, \"PCA-bow5\")\n",
    "#pca_visualization(2, embeddings_deps, words_deps, \"PCA-deps\")"
   ]
  },
  {
   "cell_type": "code",
   "execution_count": 188,
   "metadata": {},
   "outputs": [],
   "source": [
    "#t-SNE\n",
    "from sklearn.manifold import TSNE\n",
    "\n",
    "def tsne_visualization(words, embeddings, p, num_iter, title, cluster_labels=cluster_labels):\n",
    "    tsne = TSNE(n_components=2, verbose=1, perplexity=p, n_iter=num_iter)\n",
    "    tsne_results = tsne.fit_transform(embeddings)\n",
    "    p = figure(tools=\"pan,wheel_zoom,reset,save\",\n",
    "               toolbar_location=\"above\",\n",
    "               title=title)\n",
    "    colormap = viridis(100)\n",
    "    colors = [colormap[i] for i in cluster_labels]\n",
    "    source = ColumnDataSource(data=dict(x1=tsne_results[:,0],\n",
    "                                        x2=tsne_results[:,1],\n",
    "                                        names=words, \n",
    "                                        colors=colors))\n",
    "    \n",
    "    p.scatter(x=\"x1\", y=\"x2\", size=8, source=source, color = 'colors')\n",
    "#     labels = LabelSet(x=\"x1\", y=\"x2\", text=\"names\", y_offset=6,\n",
    "#                       text_font_size=\"8pt\", text_color=\"#555555\", \n",
    "#                       source=source, text_align='center')\n",
    "    #p.add_layout(labels)\n",
    "    show(p)"
   ]
  },
  {
   "cell_type": "markdown",
   "metadata": {},
   "source": [
    "### Agglomerative Clustering"
   ]
  },
  {
   "cell_type": "code",
   "execution_count": 16,
   "metadata": {},
   "outputs": [],
   "source": [
    "from sklearn.cluster import AgglomerativeClustering\n",
    "\n",
    "\n",
    "def agglomerative_clustering(words, embeddings, num_clusters):\n",
    "    agglomerative_model = AgglomerativeClustering(n_clusters=num_clusters, linkage='ward')\n",
    "    agglomerative_fit = agglomerative_model.fit(embeddings)\n",
    "    agglomerative_labels = agglomerative_fit.labels_\n",
    "    for i in range(num_clusters):\n",
    "        print('Cluster %s: %s' % (i, list(compress(words, agglomerative_labels==i))))\n",
    "    return agglomerative_labels"
   ]
  },
  {
   "cell_type": "code",
   "execution_count": 17,
   "metadata": {},
   "outputs": [
    {
     "name": "stdout",
     "output_type": "stream",
     "text": [
      "Cluster 0: ['april', 'autumn', 'february', 'june', 'march', 'spring', 'summer', 'winter']\n",
      "Cluster 1: ['advertisement', 'advertising', 'cable', 'channel', 'insider', 'interview', 'journal', 'magazine', 'media', 'network', 'news', 'newspaper', 'paper', 'papers', 'press', 'print', 'publication', 'publicity', 'radio', 'television']\n",
      "Cluster 2: ['arrow', 'ball', 'barrel', 'basket', 'blade', 'blanket', 'bottle', 'brush', 'bucket', 'bullet', 'candle', 'chain', 'cigarette', 'fist', 'flame', 'gear', 'glove', 'grass', 'grip', 'heel', 'hole', 'hook', 'kick', 'knife', 'knot', 'lamp', 'lock', 'mask', 'needle', 'pillow', 'pint', 'pipe', 'pitch', 'punch', 'ring', 'rope', 'shaft', 'shot', 'stair', 'stick', 'stitch', 'strand', 'sword', 'torch', 'towel', 'trap', 'tray', 'trick', 'tube', 'wheel', 'wire']\n",
      "Cluster 3: ['angle', 'branch', 'bridge', 'canal', 'corridor', 'curve', 'direction', 'distance', 'flow', 'line', 'pass', 'passage', 'path', 'rail', 'railway', 'river', 'road', 'route', 'slope', 'stream', 'stretch', 'track', 'trail', 'tunnel', 'valley']\n",
      "Cluster 4: ['beach', 'border', 'boundary', 'cliff', 'coast', 'east', 'gulf', 'hill', 'island', 'lake', 'mountain', 'north', 'peak', 'pond', 'pool', 'port', 'ridge', 'shore', 'south', 'summit', 'water', 'waters', 'west']\n",
      "Cluster 5: ['amendment', 'campaign', 'charter', 'clause', 'constitution', 'criterion', 'decree', 'directive', 'guideline', 'injunction', 'legislation', 'limit', 'limitation', 'petition', 'plan', 'proposal', 'proposition', 'provision', 'referendum', 'remedy', 'requirement', 'restriction', 'sanction', 'solution', 'statute', 'strategy', 'tactic', 'vote', 'voter']\n",
      "Cluster 6: ['ally', 'candidate', 'colleague', 'competitor', 'conservative', 'democrat', 'fellow', 'friend', 'labour', 'leader', 'leadership', 'neighbour', 'organiser', 'participant', 'partner', 'politician', 'pupil', 'rival', 'spokesman', 'student', 'successor', 'supporter', 'teacher', 'tory']\n",
      "Cluster 7: ['alarm', 'being', 'call', 'caution', 'check', 'container', 'counter', 'deal', 'envelope', 'filter', 'finding', 'handle', 'leaflet', 'letter', 'mail', 'message', 'note', 'notice', 'packet', 'phone', 'search', 'spell', 'spread', 'stop', 'talk', 'telephone', 'warning', 'watch']\n",
      "Cluster 8: ['aspect', 'calculation', 'chapter', 'circle', 'component', 'constraint', 'copy', 'cycle', 'datum', 'delay', 'domain', 'element', 'entity', 'equation', 'estimate', 'factor', 'fragment', 'interval', 'item', 'matter', 'measure', 'measurement', 'object', 'paragraph', 'parameter', 'particle', 'period', 'phase', 'piece', 'sample', 'scale', 'section', 'sentence', 'sphere', 'stage', 'stimulus', 'thread', 'variable', 'variation', 'volume']\n",
      "Cluster 9: ['aircraft', 'airline', 'airport', 'bike', 'boat', 'carriage', 'carrier', 'craft', 'driver', 'flight', 'helicopter', 'horse', 'landing', 'lorry', 'motor', 'operator', 'passenger', 'pilot', 'plane', 'rider', 'ship', 'taxi', 'train', 'transport', 'truck', 'vehicle', 'vessel']\n",
      "Cluster 10: ['acid', 'alcohol', 'chemical', 'defect', 'disease', 'disorder', 'drug', 'gene', 'illness', 'infection', 'injury', 'molecule', 'protein', 'substance', 'symptom', 'virus', 'weakness']\n",
      "Cluster 11: ['acceptance', 'achievement', 'adoption', 'attention', 'concern', 'consideration', 'context', 'contribution', 'coverage', 'criticism', 'detail', 'effect', 'emphasis', 'focus', 'impact', 'importance', 'influence', 'involvement', 'participation', 'popularity', 'presence', 'pressure', 'priority', 'recognition', 'reputation', 'scope', 'significance', 'strain', 'stress', 'success', 'tension']\n",
      "Cluster 12: ['allowance', 'bank', 'cash', 'cheque', 'coin', 'compensation', 'credit', 'currency', 'debt', 'demand', 'dividend', 'dollar', 'earnings', 'employment', 'estate', 'fortune', 'gift', 'income', 'insurance', 'land', 'loan', 'money', 'mortgage', 'payment', 'penny', 'pension', 'post', 'pound', 'price', 'profit', 'property', 'purchase', 'receipt', 'rent', 'revenue', 'reward', 'salary', 'sale', 'savings', 'subsidy', 'ticket', 'transaction', 'wages', 'wealth']\n",
      "Cluster 13: ['addition', 'agreement', 'communication', 'comparison', 'compliance', 'compromise', 'connection', 'consensus', 'consultation', 'contrast', 'cooperation', 'interaction', 'negotiation', 'partnership', 'relation', 'treaty']\n",
      "Cluster 14: ['alliance', 'coalition', 'democracy', 'faction', 'freedom', 'group', 'independence', 'justice', 'movement', 'organisation', 'organization', 'party', 'peace', 'union', 'unity']\n",
      "Cluster 15: ['apartment', 'bathroom', 'bedroom', 'cupboard', 'downstairs', 'factory', 'farm', 'garage', 'hotel', 'kitchen', 'mill', 'restaurant', 'room', 'shop', 'station', 'store', 'studio', 'workshop', 'yard']\n",
      "Cluster 16: ['appearance', 'attraction', 'cast', 'catalogue', 'choice', 'collection', 'companion', 'display', 'feature', 'guest', 'guide', 'holiday', 'home', 'host', 'invitation', 'lead', 'offer', 'preference', 'presentation', 'selection', 'thanks', 'tourist', 'visitor']\n",
      "Cluster 17: ['acre', 'century', 'decade', 'foot', 'hour', 'hundred', 'inch', 'metre', 'mile', 'million', 'minute', 'month', 'seconds', 'thousand', 'tonne', 'week', 'year']\n",
      "Cluster 18: ['accommodation', 'benefit', 'care', 'charity', 'comfort', 'foundation', 'fund', 'gain', 'grant', 'health', 'help', 'housing', 'protection', 'recovery', 'relief', 'safety', 'security', 'shelter', 'space', 'support', 'trust', 'welfare']\n",
      "Cluster 19: ['atmosphere', 'breeze', 'climate', 'cloud', 'countryside', 'dawn', 'depression', 'dust', 'earth', 'environment', 'fire', 'flood', 'forest', 'horizon', 'landscape', 'mist', 'moon', 'ocean', 'pavement', 'planet', 'pollution', 'rain', 'shadow', 'smoke', 'snow', 'soil', 'storm', 'tide', 'traffic', 'weather', 'wind']\n",
      "Cluster 20: ['abuse', 'arrest', 'breach', 'crime', 'damage', 'damages', 'danger', 'death', 'discrimination', 'gang', 'harm', 'inequality', 'inflation', 'killing', 'liability', 'murder', 'offence', 'penalty', 'poverty', 'punishment', 'risk', 'suicide', 'threat', 'unemployment', 'violence']\n",
      "Cluster 21: ['carpet', 'cloth', 'clothes', 'collar', 'dress', 'fabric', 'fibre', 'furniture', 'garment', 'glass', 'jacket', 'shirt', 'shoe', 'skirt', 'suit', 'tile', 'trousers', 'uniform']\n",
      "Cluster 22: ['example', 'ground', 'grounds', 'instance', 'location', 'moment', 'occasion', 'place', 'point', 'site', 'spot', 'time']\n",
      "Cluster 23: ['assumption', 'basis', 'belief', 'cause', 'concept', 'conception', 'conclusion', 'consequence', 'contradiction', 'date', 'definition', 'description', 'difference', 'distinction', 'evidence', 'expectation', 'explanation', 'fact', 'fate', 'hypothesis', 'idea', 'implication', 'necessity', 'notion', 'outcome', 'outline', 'possibility', 'premise', 'principle', 'proof', 'representation', 'result', 'theory', 'trace']\n",
      "Cluster 24: ['amount', 'array', 'bulk', 'combination', 'couple', 'excess', 'extent', 'fraction', 'half', 'handful', 'heap', 'kind', 'mass', 'mixture', 'number', 'pair', 'part', 'percentage', 'pile', 'portion', 'proportion', 'quantity', 'quarter', 'range', 'sort', 'type', 'variety']\n",
      "Cluster 25: ['beer', 'brand', 'bread', 'cake', 'champagne', 'coffee', 'cream', 'diet', 'dish', 'drink', 'flavour', 'food', 'grain', 'ingredient', 'juice', 'meat', 'milk', 'potato', 'premium', 'product', 'recipe', 'scent', 'slice', 'smell', 'sugar', 'taste', 'wine']\n",
      "Cluster 26: ['case', 'certificate', 'charge', 'class', 'degree', 'favour', 'generation', 'grade', 'honour', 'interest', 'level', 'merit', 'plenty', 'position', 'rank', 'role', 'status', 'warrant', 'while', 'whilst', 'worth']\n",
      "Cluster 27: ['black', 'brick', 'brown', 'coal', 'deposit', 'gold', 'green', 'metal', 'mine', 'nest', 'rock', 'salt', 'sand', 'shell', 'stone', 'white', 'wood']\n",
      "Cluster 28: ['access', 'admission', 'advantage', 'approval', 'authority', 'concession', 'consent', 'contract', 'control', 'discretion', 'duty', 'entrance', 'entry', 'jurisdiction', 'lease', 'licence', 'monopoly', 'obligation', 'ownership', 'permission', 'possession', 'privilege', 'responsibility', 'right', 'rights', 'rule', 'succession']\n",
      "Cluster 29: ['assembly', 'board', 'commission', 'committee', 'conference', 'congress', 'constituency', 'convention', 'council', 'councillor', 'court', 'election', 'jury', 'meeting', 'panel', 'parliament', 'seat', 'speaker', 'tribunal']\n",
      "Cluster 30: ['apple', 'belt', 'bench', 'boot', 'button', 'camera', 'characteristic', 'cluster', 'column', 'core', 'cover', 'desk', 'disc', 'disk', 'fault', 'format', 'headline', 'ladder', 'layer', 'menu', 'mirror', 'mode', 'pack', 'patch', 'plate', 'pocket', 'routine', 'schedule', 'screen', 'sheet', 'shelf', 'signature', 'sleeve', 'sofa', 'strip', 'surface', 'table', 'tape', 'tent']\n",
      "Cluster 31: ['advance', 'allocation', 'availability', 'construction', 'conversion', 'delivery', 'development', 'discovery', 'distribution', 'exchange', 'expansion', 'extension', 'growth', 'improvement', 'innovation', 'maintenance', 'management', 'planning', 'preparation', 'production', 'progress', 'reform', 'replacement', 'separation', 'surgery', 'technology', 'transfer', 'transformation', 'transition', 'treatment']\n",
      "Cluster 32: ['action', 'activity', 'assistance', 'behaviour', 'conduct', 'discipline', 'enemy', 'evolution', 'exercise', 'existence', 'function', 'identification', 'identity', 'impulse', 'instinct', 'intervention', 'isolation', 'lifespan', 'motive', 'nature', 'objective', 'observation', 'observer', 'operation', 'opponent', 'origin', 'prey', 'purpose', 'pursuit', 'reaction', 'reason', 'regulation', 'response', 'self', 'survival', 'target', 'task']\n",
      "Cluster 33: ['anger', 'anxiety', 'chaos', 'confusion', 'darkness', 'disappointment', 'embarrassment', 'fear', 'frustration', 'guilt', 'hostility', 'pain', 'panic', 'rage', 'terror', 'uncertainty']\n",
      "Cluster 34: ['account', 'address', 'article', 'category', 'content', 'contents', 'editor', 'information', 'link', 'links', 'list', 'material', 'page', 'quote', 'reference', 'source', 'stuff', 'subject', 'topic', 'user']\n",
      "Cluster 35: ['barrier', 'bottom', 'ceiling', 'coffin', 'corner', 'curtain', 'deck', 'door', 'doorway', 'edge', 'fence', 'flat', 'floor', 'front', 'gate', 'grave', 'interior', 'left', 'remains', 'roof', 'side', 'wall', 'window', 'wing']\n",
      "Cluster 36: ['album', 'band', 'chart', 'concert', 'dance', 'drama', 'exhibition', 'festival', 'film', 'label', 'lecture', 'movie', 'music', 'record', 'recording', 'song', 'theatre', 'tour']\n",
      "Cluster 37: ['bull', 'coat', 'course', 'cross', 'crown', 'final', 'flag', 'hold', 'holder', 'holding', 'joint', 'middle', 'open', 'opening', 'past', 'pole', 'remainder', 'rest', 'seal', 'second', 'secret', 'setting', 'star', 'times', 'whole']\n",
      "Cluster 38: ['advice', 'curriculum', 'education', 'experiment', 'expert', 'guidance', 'instruction', 'intelligence', 'laboratory', 'lesson', 'medicine', 'play', 'practice', 'practitioner', 'profession', 'reading', 'research', 'science', 'specialist', 'statistics', 'study', 'teaching', 'test', 'training', 'work', 'writing']\n",
      "Cluster 39: ['device', 'initiative', 'mechanism', 'method', 'module', 'package', 'platform', 'procedure', 'process', 'program', 'programme', 'project', 'scheme', 'system', 'technique', 'tool']\n",
      "Cluster 40: ['award', 'bowl', 'challenge', 'champion', 'championship', 'competition', 'contest', 'event', 'medal', 'obstacle', 'prize', 'promotion', 'qualification', 'tournament', 'trophy', 'winner']\n",
      "Cluster 41: ['audience', 'camp', 'community', 'concentration', 'crowd', 'inhabitant', 'living', 'major', 'majority', 'membership', 'minority', 'peasant', 'population', 'prison', 'prisoner', 'professional', 'public', 'reader', 'refugee', 'resident', 'share', 'shareholder', 'stake', 'stock', 'viewer', 'youth']\n",
      "Cluster 42: ['actor', 'adviser', 'analyst', 'architect', 'artist', 'author', 'commentator', 'consultant', 'critic', 'dancer', 'designer', 'developer', 'engineer', 'historian', 'journalist', 'photographer', 'poet', 'publisher', 'reporter', 'researcher', 'scholar', 'scientist', 'writer']\n",
      "Cluster 43: ['ability', 'accuracy', 'balance', 'capability', 'capacity', 'complexity', 'depth', 'depths', 'ease', 'effectiveness', 'efficiency', 'height', 'length', 'momentum', 'pace', 'performance', 'quality', 'size', 'speed', 'stability', 'validity', 'value']\n",
      "Cluster 44: ['adult', 'alternative', 'best', 'current', 'equivalent', 'female', 'future', 'ideal', 'individual', 'male', 'official', 'other', 'parent', 'potential', 'present', 'prospect', 'prospects', 'relative']\n",
      "Cluster 45: ['asset', 'business', 'enterprise', 'export', 'finance', 'import', 'industry', 'investment', 'investor', 'market', 'portfolio', 'resource', 'sector', 'trade', 'trading', 'treasury']\n",
      "Cluster 46: ['buyer', 'client', 'collector', 'consumer', 'creditor', 'customer', 'dealer', 'employee', 'employer', 'landlord', 'maker', 'manufacturer', 'owner', 'purchaser', 'seller', 'supplier', 'tenant', 'vendor']\n",
      "Cluster 47: ['africa', 'america', 'australia', 'britain', 'china', 'england', 'europe', 'france', 'germany', 'india', 'iraq', 'ireland', 'israel', 'italy', 'japan', 'kong', 'moscow', 'paris', 'rome', 'russia', 'scotland', 'spain', 'wales']\n",
      "Cluster 48: ['assault', 'attack', 'expedition', 'invasion', 'journey', 'mission', 'occupation', 'raid', 'trip', 'visit']\n",
      "Cluster 49: ['bishop', 'cathedral', 'count', 'duke', 'earl', 'emperor', 'empire', 'king', 'lady', 'lord', 'pope', 'prince', 'princess', 'queen']\n",
      "Cluster 50: ['awareness', 'beauty', 'commitment', 'confidence', 'contempt', 'courage', 'curiosity', 'delight', 'emotion', 'enthusiasm', 'excitement', 'experience', 'expertise', 'glory', 'happiness', 'imagination', 'knowledge', 'laughter', 'loyalty', 'passion', 'pleasure', 'pride', 'promise', 'respect', 'satisfaction', 'skill', 'strength', 'sympathy', 'talent', 'understanding', 'warmth']\n",
      "Cluster 51: ['association', 'centre', 'clinic', 'college', 'facility', 'gallery', 'hospital', 'institute', 'institution', 'library', 'museum', 'school', 'society', 'university']\n",
      "Cluster 52: ['consciousness', 'contact', 'doubt', 'feeling', 'gaze', 'glance', 'glimpse', 'grin', 'hint', 'hope', 'impression', 'insight', 'laugh', 'look', 'mind', 'perception', 'reflection', 'sensation', 'sense', 'senses', 'shock', 'sigh', 'sight', 'smile', 'surprise', 'suspicion', 'thinking', 'thought', 'touch', 'vision']\n",
      "Cluster 53: ['adam', 'benjamin', 'bill', 'charles', 'charlie', 'david', 'edward', 'francis', 'george', 'harry', 'henry', 'jack', 'james', 'john', 'joseph', 'luke', 'mark', 'martin', 'michael', 'nigel', 'norm', 'patrick', 'paul', 'peter', 'philip', 'richard', 'robert', 'simon', 'stephen', 'thomas', 'tony', 'william', 'willie']\n",
      "Cluster 54: ['area', 'city', 'colony', 'continent', 'country', 'county', 'district', 'kingdom', 'nation', 'province', 'region', 'republic', 'settlement', 'state', 'territory', 'town', 'village', 'ward', 'zone']\n",
      "Cluster 55: ['afternoon', 'breakfast', 'dinner', 'evening', 'lunch', 'meal', 'morning', 'night', 'weekend']\n",
      "Cluster 56: ['budget', 'burden', 'consumption', 'cost', 'electricity', 'energy', 'equipment', 'expenditure', 'expense', 'goods', 'load', 'machinery', 'power', 'shortage', 'spending', 'supplies', 'supply', 'surplus', 'waste', 'weight']\n",
      "Cluster 57: ['ankle', 'brow', 'cheek', 'chest', 'chin', 'elbow', 'eyebrow', 'face', 'finger', 'forehead', 'hand', 'head', 'horn', 'knee', 'mouth', 'neck', 'nose', 'shoulder', 'spine', 'stomach', 'tail', 'thigh', 'throat', 'thumb', 'waist', 'wrist']\n",
      "Cluster 58: ['animal', 'bacterium', 'bird', 'cattle', 'crop', 'fig', 'fish', 'flower', 'fruit', 'human', 'insect', 'leaf', 'mouse', 'organism', 'palm', 'plant', 'rabbit', 'sheep', 'species', 'specimen', 'tree']\n",
      "Cluster 59: ['absence', 'acquisition', 'anniversary', 'appointment', 'arrival', 'beginning', 'birthday', 'closure', 'collapse', 'completion', 'creation', 'departure', 'destruction', 'establishment', 'failure', 'introduction', 'lack', 'launch', 'merger', 'rejection', 'release', 'removal', 'resignation', 'retirement', 'return', 'start', 'withdrawal']\n",
      "Cluster 60: ['accountant', 'auditor', 'captain', 'clerk', 'command', 'commander', 'constable', 'detective', 'inspector', 'judge', 'lawyer', 'magistrate', 'officer', 'police', 'policeman', 'sergeant', 'solicitor']\n",
      "Cluster 61: ['affair', 'baby', 'birth', 'bond', 'career', 'child', 'family', 'friendship', 'household', 'kiss', 'life', 'lifetime', 'love', 'marriage', 'relationship']\n",
      "Cluster 62: ['appeal', 'conviction', 'decision', 'determination', 'hearing', 'judgement', 'judgment', 'proceedings', 'prosecution', 'trial', 'verdict', 'witness']\n",
      "Cluster 63: ['athelstan', 'bush', 'clinton', 'cook', 'eliot', 'gorbachev', 'graham', 'hitler', 'howard', 'hunt', 'kinnock', 'lamb', 'lily', 'marx', 'mungo', 'rose', 'thatcher', 'washington', 'york']\n",
      "Cluster 64: ['army', 'base', 'capital', 'crew', 'defence', 'division', 'fleet', 'force', 'guard', 'headquarters', 'personnel', 'reserve', 'service', 'staff', 'troops', 'unit', 'volunteer']\n",
      "Cluster 65: ['agenda', 'approach', 'attitude', 'bias', 'interpretation', 'opinion', 'perspective', 'policy', 'stance', 'view']\n",
      "Cluster 66: ['back', 'clash', 'club', 'defender', 'draft', 'football', 'forward', 'game', 'goal', 'league', 'match', 'player', 'receiver', 'round', 'season', 'seed', 'session', 'sport', 'squad', 'team', 'wicket']\n",
      "Cluster 67: ['citizen', 'doctor', 'farmer', 'gentleman', 'girl', 'knight', 'master', 'miner', 'nurse', 'priest', 'scot', 'servant', 'soldier', 'teenager', 'traveller', 'woman', 'worker', 'youngster']\n",
      "Cluster 68: ['boss', 'dimension', 'edition', 'episode', 'figure', 'ford', 'formula', 'hero', 'model', 'race', 'rally', 'reality', 'series', 'show', 'universe', 'version', 'world']\n",
      "Cluster 69: ['alice', 'anna', 'anne', 'blanche', 'caroline', 'diana', 'elizabeth', 'emily', 'helen', 'isabel', 'jane', 'kate', 'laura', 'lucy', 'maggie', 'marie', 'mary', 'rachel', 'robyn', 'ruth', 'sarah', 'susan']\n",
      "Cluster 70: ['analysis', 'assessment', 'enquiry', 'evaluation', 'examination', 'inquiry', 'inspection', 'investigation', 'poll', 'questionnaire', 'report', 'review', 'survey']\n",
      "Cluster 71: ['battle', 'defeat', 'demonstration', 'fight', 'fighting', 'opposition', 'protest', 'rebel', 'resistance', 'strike', 'struggle', 'triumph', 'victory']\n",
      "Cluster 72: ['average', 'decline', 'deficit', 'incidence', 'increase', 'index', 'loss', 'margin', 'maximum', 'minimum', 'profile', 'rate', 'rating', 'ratio', 'reduction', 'register', 'rise', 'score', 'total', 'turnover']\n",
      "Cluster 73: ['book', 'diary', 'essay', 'horror', 'mystery', 'myth', 'novel', 'poem', 'story', 'tale', 'thesis', 'verse']\n",
      "Cluster 74: ['background', 'chamber', 'character', 'circuit', 'expression', 'field', 'guitar', 'instrument', 'mood', 'noise', 'organ', 'personality', 'plot', 'reception', 'rhythm', 'scene', 'sequence', 'sound', 'speech', 'string', 'theme', 'tone', 'tune', 'voice']\n",
      "Cluster 75: ['conflict', 'controversy', 'conversation', 'debate', 'dialogue', 'discourse', 'discussion', 'dispute', 'rumour', 'scandal', 'speculation']\n",
      "Cluster 76: ['accident', 'boom', 'crash', 'crisis', 'disaster', 'explosion', 'incident', 'phenomenon', 'recession', 'revolution', 'tragedy', 'trend']\n",
      "Cluster 77: ['beam', 'dose', 'emission', 'exposure', 'frequency', 'heat', 'input', 'intensity', 'light', 'motion', 'output', 'pulse', 'resolution', 'sensitivity', 'spectrum', 'sunlight', 'temperature', 'wave']\n",
      "Cluster 78: ['blood', 'body', 'bone', 'brain', 'breast', 'breath', 'cancer', 'cell', 'corpse', 'flesh', 'hair', 'heart', 'limb', 'muscle', 'nail', 'nerve', 'root', 'skin', 'sleep', 'stem', 'stroke', 'sweat', 'tissue', 'tooth', 'vein']\n",
      "Cluster 79: ['battery', 'bell', 'block', 'bomb', 'building', 'clock', 'complex', 'compound', 'engine', 'frame', 'fuel', 'machine', 'medium', 'missile', 'signal', 'tank', 'tower', 'weapon']\n",
      "Cluster 80: ['american', 'english', 'french', 'german', 'russian']\n",
      "Cluster 81: ['bible', 'ceremony', 'christ', 'christian', 'doctrine', 'faith', 'jesus', 'prayer', 'ritual', 'silence', 'truth', 'virtue']\n",
      "Cluster 82: ['colour', 'draw', 'drawing', 'image', 'paint', 'painting', 'photograph', 'picture', 'portrait', 'poster', 'video']\n",
      "Cluster 83: ['document', 'gesture', 'language', 'meaning', 'means', 'name', 'phrase', 'script', 'sign', 'symbol', 'term', 'text', 'title', 'tongue', 'word']\n",
      "Cluster 84: ['angel', 'creature', 'dream', 'ghost', 'heaven', 'hell', 'killer', 'monster', 'soul', 'spirit', 'stranger', 'thief']\n",
      "Cluster 85: ['administration', 'agency', 'agent', 'ambassador', 'cabinet', 'delegate', 'delegation', 'department', 'embassy', 'government', 'minister', 'ministry', 'office', 'prime', 'regime', 'representative']\n",
      "Cluster 86: ['baker', 'clarke', 'corbett', 'jackson', 'johnson', 'jones', 'kelly', 'lewis', 'miller', 'morgan', 'scott', 'smith', 'taylor', 'walker', 'williams', 'wilson', 'wright']\n",
      "Cluster 87: ['assistant', 'chair', 'chairman', 'chancellor', 'chief', 'coach', 'commissioner', 'deputy', 'director', 'executive', 'governor', 'manager', 'member', 'president', 'producer', 'secretary', 'trustee']\n",
      "Cluster 88: ['architecture', 'arrangement', 'composition', 'design', 'fashion', 'form', 'formation', 'habit', 'hierarchy', 'manner', 'pattern', 'shape', 'structure', 'style']\n",
      "Cluster 89: ['brother', 'cousin', 'daughter', 'father', 'husband', 'lover', 'mother', 'sister', 'wife']\n",
      "Cluster 90: ['blow', 'break', 'change', 'crack', 'drive', 'drop', 'fall', 'lift', 'move', 'ride', 'roll', 'shift', 'slide', 'stand', 'step', 'switch', 'tear', 'turn', 'walk', 'wound']\n",
      "Cluster 91: ['allegation', 'announcement', 'answer', 'argument', 'claim', 'comment', 'complaint', 'declaration', 'objection', 'recommendation', 'remark', 'reply', 'request', 'statement', 'suggestion']\n",
      "Cluster 92: ['culture', 'economy', 'history', 'ideology', 'literature', 'philosophy', 'poetry', 'politics', 'religion', 'tradition']\n",
      "Cluster 93: ['ambition', 'attempt', 'chance', 'desire', 'effort', 'incentive', 'intention', 'let', 'need', 'opportunity', 'option', 'order', 'refusal', 'tendency', 'will', 'willingness', 'wish']\n",
      "Cluster 94: ['castle', 'chapel', 'church', 'cottage', 'garden', 'hall', 'house', 'lane', 'palace', 'park', 'square', 'statue', 'street', 'temple', 'terrace', 'villa']\n",
      "Cluster 95: ['circumstance', 'condition', 'difficulty', 'dilemma', 'error', 'issue', 'joke', 'mess', 'mistake', 'problem', 'question', 'situation', 'thing', 'trouble']\n",
      "Cluster 96: ['company', 'corp', 'corporation', 'firm', 'subsidiary', 'venture']\n",
      "Cluster 97: ['bath', 'leeds', 'liverpool', 'london', 'oxford']\n",
      "Cluster 98: ['applicant', 'defendant', 'offender', 'patient', 'people', 'person', 'plaintiff', 'victim']\n",
      "Cluster 99: ['application', 'card', 'chip', 'code', 'computer', 'custom', 'database', 'file', 'framework', 'implementation', 'integration', 'interface', 'logic', 'memory', 'processor', 'protocol', 'software', 'specification', 'standard']\n"
     ]
    }
   ],
   "source": [
    "cluster_labels = agglomerative_clustering(words_bow2, embeddings_bow2, 100)"
   ]
  },
  {
   "cell_type": "code",
   "execution_count": 169,
   "metadata": {
    "scrolled": false
   },
   "outputs": [
    {
     "name": "stdout",
     "output_type": "stream",
     "text": [
      "[t-SNE] Computing 61 nearest neighbors...\n",
      "[t-SNE] Indexed 1996 samples in 0.015s...\n",
      "[t-SNE] Computed neighbors for 1996 samples in 3.003s...\n",
      "[t-SNE] Computed conditional probabilities for sample 1000 / 1996\n",
      "[t-SNE] Computed conditional probabilities for sample 1996 / 1996\n",
      "[t-SNE] Mean sigma: 0.324269\n",
      "[t-SNE] KL divergence after 250 iterations with early exaggeration: 82.927147\n",
      "[t-SNE] Error after 3000 iterations: 1.887761\n"
     ]
    },
    {
     "data": {
      "text/html": [
       "\n",
       "<div class=\"bk-root\">\n",
       "    <div class=\"bk-plotdiv\" id=\"9f308c1b-98a2-445f-8d23-c69558193cfc\"></div>\n",
       "</div>"
      ]
     },
     "metadata": {},
     "output_type": "display_data"
    },
    {
     "data": {
      "application/javascript": [
       "(function(root) {\n",
       "  function embed_document(root) {\n",
       "    \n",
       "  var docs_json = {\"f381e183-03bb-44bf-8ce8-ea7938fba3a0\":{\"roots\":{\"references\":[{\"attributes\":{},\"id\":\"e29aca7d-895e-43b7-81c8-4abdc34c65a6\",\"type\":\"WheelZoomTool\"},{\"attributes\":{},\"id\":\"2904a120-f371-4bd3-9d5f-b7725c627dfd\",\"type\":\"ResetTool\"},{\"attributes\":{},\"id\":\"9b7b055b-7712-4f8d-b481-09d61876a8d8\",\"type\":\"PanTool\"},{\"attributes\":{\"callback\":null},\"id\":\"faa62d26-fba4-409f-ae28-8e59191d4c79\",\"type\":\"DataRange1d\"},{\"attributes\":{\"callback\":null,\"column_names\":[\"x2\",\"colors\",\"x1\",\"names\"],\"data\":{\"colors\":[\"#267F8E\",\"#21A685\",\"#404387\",\"#472777\",\"#365A8C\",\"#64CB5D\",\"#423D84\",\"#2F698D\",\"#23A883\",\"#267F8E\",\"#472777\",\"#482374\",\"#21A685\",\"#433A83\",\"#31648D\",\"#31648D\",\"#277D8E\",\"#1E988A\",\"#462D7C\",\"#2F698D\",\"#9DD93A\",\"#365A8C\",\"#472777\",\"#25828E\",\"#33618D\",\"#365A8C\",\"#440357\",\"#440357\",\"#2B738E\",\"#277D8E\",\"#25AB81\",\"#22898D\",\"#1E9C89\",\"#9DD93A\",\"#30B47A\",\"#9DD93A\",\"#462D7C\",\"#482172\",\"#482172\",\"#482172\",\"#481A6C\",\"#2D6E8E\",\"#482374\",\"#40BD72\",\"#C7E01F\",\"#46317E\",\"#33618D\",\"#472A79\",\"#471669\",\"#25828E\",\"#9DD93A\",\"#D4E11A\",\"#471265\",\"#22898D\",\"#7ED24E\",\"#3C4E8A\",\"#45BF6F\",\"#277D8E\",\"#97D83E\",\"#30678D\",\"#460B5E\",\"#20A485\",\"#1FA187\",\"#40BD72\",\"#40BD72\",\"#21A685\",\"#C7E01F\",\"#C7E01F\",\"#30678D\",\"#45347F\",\"#27AD80\",\"#443781\",\"#345F8D\",\"#F6E61F\",\"#FDE724\",\"#21A685\",\"#30B47A\",\"#365A8C\",\"#440154\",\"#277D8E\",\"#B2DD2C\",\"#1E9A89\",\"#C7E01F\",\"#2CB17D\",\"#B2DD2C\",\"#3C4E8A\",\"#404387\",\"#21A685\",\"#45085B\",\"#2F698D\",\"#277D8E\",\"#481D6F\",\"#228B8D\",\"#355C8C\",\"#45BF6F\",\"#24848D\",\"#31648D\",\"#ADDC30\",\"#1F938B\",\"#3D4C89\",\"#2AB07E\",\"#424085\",\"#228B8D\",\"#D4E11A\",\"#472777\",\"#30B47A\",\"#443781\",\"#287A8E\",\"#23A883\",\"#22898D\",\"#277D8E\",\"#365A8C\",\"#440154\",\"#33618D\",\"#4FC369\",\"#29798E\",\"#20908C\",\"#25AB81\",\"#35B778\",\"#59C764\",\"#20A485\",\"#A5DA35\",\"#267F8E\",\"#45085B\",\"#2D6E8E\",\"#472A79\",\"#45085B\",\"#2E6C8E\",\"#2CB17D\",\"#3D4C89\",\"#45085B\",\"#EEE51B\",\"#45347F\",\"#77D052\",\"#49C16D\",\"#470F62\",\"#6BCD59\",\"#20908C\",\"#45347F\",\"#3A528B\",\"#21A685\",\"#31648D\",\"#481A6C\",\"#3D4C89\",\"#77D052\",\"#345F8D\",\"#345F8D\",\"#423D84\",\"#1E988A\",\"#25828E\",\"#30B47A\",\"#83D34B\",\"#482172\",\"#1E988A\",\"#20A485\",\"#25AB81\",\"#21A685\",\"#218E8C\",\"#38578C\",\"#45085B\",\"#40BD72\",\"#45085B\",\"#77D052\",\"#70CE56\",\"#BFDF24\",\"#355C8C\",\"#482172\",\"#70CE56\",\"#77D052\",\"#25AB81\",\"#70CE56\",\"#55C666\",\"#64CB5D\",\"#345F8D\",\"#470F62\",\"#3DBB74\",\"#45085B\",\"#2E6C8E\",\"#470F62\",\"#29798E\",\"#70CE56\",\"#460B5E\",\"#3A528B\",\"#404387\",\"#3A528B\",\"#BFDF24\",\"#1E9C89\",\"#70CE56\",\"#70CE56\",\"#424085\",\"#38578C\",\"#460B5E\",\"#22898D\",\"#BADE27\",\"#1FA187\",\"#38578C\",\"#45085B\",\"#45085B\",\"#1E9F88\",\"#77D052\",\"#3C4E8A\",\"#2C718E\",\"#45085B\",\"#1E9F88\",\"#2AB07E\",\"#24848D\",\"#345F8D\",\"#23878D\",\"#9DD93A\",\"#440357\",\"#3A528B\",\"#481D6F\",\"#481A6C\",\"#345F8D\",\"#287A8E\",\"#471265\",\"#460B5E\",\"#70CE56\",\"#471669\",\"#45085B\",\"#267F8E\",\"#267F8E\",\"#2CB17D\",\"#23A883\",\"#FDE724\",\"#423D84\",\"#25AB81\",\"#40BD72\",\"#3F4788\",\"#482172\",\"#482172\",\"#39548B\",\"#472A79\",\"#443781\",\"#DCE218\",\"#443781\",\"#2F698D\",\"#218E8C\",\"#20A485\",\"#3D4C89\",\"#481A6C\",\"#2E6C8E\",\"#70CE56\",\"#1F938B\",\"#433A83\",\"#83D34B\",\"#39548B\",\"#45085B\",\"#ADDC30\",\"#ADDC30\",\"#29798E\",\"#59C764\",\"#3A528B\",\"#29798E\",\"#29798E\",\"#D4E11A\",\"#ADDC30\",\"#BFDF24\",\"#440357\",\"#30678D\",\"#DCE218\",\"#481D6F\",\"#59C764\",\"#345F8D\",\"#39548B\",\"#423D84\",\"#1E988A\",\"#1E988A\",\"#2D6E8E\",\"#471265\",\"#481A6C\",\"#1FA187\",\"#482374\",\"#472A79\",\"#1FA187\",\"#ADDC30\",\"#25AB81\",\"#1FA187\",\"#22898D\",\"#FDE724\",\"#443781\",\"#83D34B\",\"#83D34B\",\"#DCE218\",\"#45085B\",\"#481D6F\",\"#59C764\",\"#E1E318\",\"#38B976\",\"#1E9A89\",\"#C7E01F\",\"#A5DA35\",\"#35B778\",\"#39548B\",\"#471265\",\"#23A883\",\"#23878D\",\"#470F62\",\"#424085\",\"#1F938B\",\"#2AB07E\",\"#77D052\",\"#21A685\",\"#3F4788\",\"#3F4788\",\"#424085\",\"#35B778\",\"#345F8D\",\"#ADDC30\",\"#38578C\",\"#46317E\",\"#470F62\",\"#2C718E\",\"#FDE724\",\"#3A528B\",\"#2E6C8E\",\"#472A79\",\"#21A685\",\"#3F4788\",\"#471669\",\"#443781\",\"#23878D\",\"#1F938B\",\"#1E9A89\",\"#8BD546\",\"#345F8D\",\"#3C4E8A\",\"#423D84\",\"#23A883\",\"#23A883\",\"#C7E01F\",\"#277D8E\",\"#355C8C\",\"#ADDC30\",\"#20908C\",\"#355C8C\",\"#462D7C\",\"#287A8E\",\"#443781\",\"#E9E419\",\"#462D7C\",\"#472A79\",\"#29798E\",\"#471669\",\"#C7E01F\",\"#21A685\",\"#77D052\",\"#267F8E\",\"#462D7C\",\"#481D6F\",\"#B2DD2C\",\"#77D052\",\"#462D7C\",\"#FDE724\",\"#287A8E\",\"#3D4C89\",\"#3D4C89\",\"#472777\",\"#2D6E8E\",\"#365A8C\",\"#3D4C89\",\"#E1E318\",\"#31648D\",\"#355C8C\",\"#20908C\",\"#60C960\",\"#30678D\",\"#355C8C\",\"#462D7C\",\"#1F958B\",\"#462D7C\",\"#365A8C\",\"#3D4C89\",\"#471669\",\"#472777\",\"#23A883\",\"#355C8C\",\"#471265\",\"#481D6F\",\"#33618D\",\"#277D8E\",\"#462D7C\",\"#23878D\",\"#1E9F88\",\"#1F958B\",\"#481A6C\",\"#20908C\",\"#2F698D\",\"#2F698D\",\"#29798E\",\"#472777\",\"#1E9A89\",\"#365A8C\",\"#3D4C89\",\"#462D7C\",\"#472777\",\"#365A8C\",\"#60C960\",\"#355C8C\",\"#60C960\",\"#33618D\",\"#27AD80\",\"#2AB07E\",\"#462D7C\",\"#481D6F\",\"#A5DA35\",\"#345F8D\",\"#2E6C8E\",\"#E9E419\",\"#E9E419\",\"#70CE56\",\"#460B5E\",\"#1E9F88\",\"#DCE218\",\"#355C8C\",\"#355C8C\",\"#218E8C\",\"#481A6C\",\"#1E9A89\",\"#424085\",\"#1E9A89\",\"#3C4E8A\",\"#20908C\",\"#2C718E\",\"#355C8C\",\"#BADE27\",\"#345F8D\",\"#472777\",\"#BFDF24\",\"#482172\",\"#64CB5D\",\"#3A528B\",\"#21A685\",\"#97D83E\",\"#472A79\",\"#23878D\",\"#2CB17D\",\"#404387\",\"#64CB5D\",\"#471265\",\"#277D8E\",\"#472777\",\"#20A485\",\"#2C718E\",\"#287A8E\",\"#2C718E\",\"#CDE01D\",\"#45347F\",\"#20908C\",\"#472A79\",\"#25828E\",\"#2B738E\",\"#2E6C8E\",\"#460B5E\",\"#FDE724\",\"#23878D\",\"#481D6F\",\"#404387\",\"#404387\",\"#2D6E8E\",\"#277D8E\",\"#404387\",\"#30678D\",\"#FDE724\",\"#3D4C89\",\"#481D6F\",\"#BADE27\",\"#1E988A\",\"#424085\",\"#481A6C\",\"#23878D\",\"#404387\",\"#60C960\",\"#472A79\",\"#433A83\",\"#27AD80\",\"#2E6C8E\",\"#C7E01F\",\"#4FC369\",\"#471265\",\"#49C16D\",\"#482374\",\"#2CB17D\",\"#F6E61F\",\"#35B778\",\"#4FC369\",\"#3D4C89\",\"#39548B\",\"#481D6F\",\"#9DD93A\",\"#9DD93A\",\"#20908C\",\"#33618D\",\"#472A79\",\"#46317E\",\"#471669\",\"#49C16D\",\"#9DD93A\",\"#21A685\",\"#38578C\",\"#424085\",\"#267F8E\",\"#267F8E\",\"#ADDC30\",\"#3D4C89\",\"#B2DD2C\",\"#277D8E\",\"#D4E11A\",\"#345F8D\",\"#21A685\",\"#472777\",\"#23A883\",\"#27AD80\",\"#277D8E\",\"#33618D\",\"#2A768E\",\"#60C960\",\"#40BD72\",\"#55C666\",\"#3A528B\",\"#3D4C89\",\"#E1E318\",\"#E1E318\",\"#3DBB74\",\"#1E9C89\",\"#460B5E\",\"#471265\",\"#ADDC30\",\"#30678D\",\"#64CB5D\",\"#345F8D\",\"#31648D\",\"#60C960\",\"#33618D\",\"#365A8C\",\"#404387\",\"#60C960\",\"#482374\",\"#3A528B\",\"#345F8D\",\"#482374\",\"#443781\",\"#60C960\",\"#460B5E\",\"#3D4C89\",\"#33618D\",\"#1E9A89\",\"#472A79\",\"#2CB17D\",\"#38B976\",\"#83D34B\",\"#90D643\",\"#472A79\",\"#481D6F\",\"#2E6C8E\",\"#2E6C8E\",\"#6BCD59\",\"#1F958B\",\"#45347F\",\"#35B778\",\"#2D6E8E\",\"#8BD546\",\"#8BD546\",\"#97D83E\",\"#3F4788\",\"#3A528B\",\"#BFDF24\",\"#482172\",\"#BFDF24\",\"#482374\",\"#218E8C\",\"#424085\",\"#365A8C\",\"#218E8C\",\"#472A79\",\"#424085\",\"#267F8E\",\"#470F62\",\"#CDE01D\",\"#2E6C8E\",\"#3DBB74\",\"#2F698D\",\"#2B738E\",\"#1E988A\",\"#472777\",\"#267F8E\",\"#267F8E\",\"#D4E11A\",\"#1FA187\",\"#355C8C\",\"#1E9F88\",\"#481D6F\",\"#2AB07E\",\"#40BD72\",\"#30678D\",\"#9DD93A\",\"#40BD72\",\"#6BCD59\",\"#20908C\",\"#218E8C\",\"#472777\",\"#218E8C\",\"#23878D\",\"#23878D\",\"#472A79\",\"#31648D\",\"#1E9F88\",\"#77D052\",\"#277D8E\",\"#22898D\",\"#7ED24E\",\"#45BF6F\",\"#24848D\",\"#20908C\",\"#481D6F\",\"#365A8C\",\"#365A8C\",\"#481A6C\",\"#424085\",\"#3DBB74\",\"#481D6F\",\"#1E9F88\",\"#25828E\",\"#E1E318\",\"#55C666\",\"#21A685\",\"#472A79\",\"#481D6F\",\"#22898D\",\"#45BF6F\",\"#1E9C89\",\"#29798E\",\"#3D4C89\",\"#31648D\",\"#45BF6F\",\"#3E4989\",\"#3C4E8A\",\"#33618D\",\"#20908C\",\"#ADDC30\",\"#31648D\",\"#2D6E8E\",\"#31648D\",\"#33618D\",\"#3D4C89\",\"#228B8D\",\"#1E9F88\",\"#1E9F88\",\"#20908C\",\"#2B738E\",\"#2B738E\",\"#20908C\",\"#3D4C89\",\"#64CB5D\",\"#24848D\",\"#6BCD59\",\"#59C764\",\"#33618D\",\"#3C4E8A\",\"#1FA187\",\"#3F4788\",\"#1FA187\",\"#1F938B\",\"#3D4C89\",\"#46317E\",\"#481D6F\",\"#45347F\",\"#21A685\",\"#83D34B\",\"#BFDF24\",\"#25AB81\",\"#45347F\",\"#38B976\",\"#B2DD2C\",\"#3D4C89\",\"#BADE27\",\"#345F8D\",\"#39548B\",\"#30678D\",\"#443781\",\"#440154\",\"#1F958B\",\"#471669\",\"#25828E\",\"#2E6C8E\",\"#2D6E8E\",\"#3F4788\",\"#59C764\",\"#20A485\",\"#49C16D\",\"#49C16D\",\"#3DBB74\",\"#FDE724\",\"#2D6E8E\",\"#481A6C\",\"#2C718E\",\"#24848D\",\"#481A6C\",\"#1FA187\",\"#424085\",\"#E9E419\",\"#20A485\",\"#45085B\",\"#2C718E\",\"#45085B\",\"#2E6C8E\",\"#3A528B\",\"#2CB17D\",\"#70CE56\",\"#482172\",\"#424085\",\"#2E6C8E\",\"#460B5E\",\"#20A485\",\"#472777\",\"#3A528B\",\"#433A83\",\"#35B778\",\"#2CB17D\",\"#3DBB74\",\"#1FA187\",\"#424085\",\"#B2DD2C\",\"#345F8D\",\"#B2DD2C\",\"#3DBB74\",\"#472A79\",\"#35B778\",\"#423D84\",\"#3C4E8A\",\"#481D6F\",\"#77D052\",\"#FDE724\",\"#22898D\",\"#1E988A\",\"#46317E\",\"#7ED24E\",\"#6BCD59\",\"#471669\",\"#25AB81\",\"#2E6C8E\",\"#20A485\",\"#30678D\",\"#77D052\",\"#31648D\",\"#423D84\",\"#3F4788\",\"#25828E\",\"#423D84\",\"#1F938B\",\"#35B778\",\"#404387\",\"#45347F\",\"#DCE218\",\"#3F4788\",\"#2E6C8E\",\"#1F958B\",\"#45085B\",\"#482374\",\"#39548B\",\"#38B976\",\"#1E988A\",\"#7ED24E\",\"#22898D\",\"#90D643\",\"#97D83E\",\"#472A79\",\"#38B976\",\"#1F958B\",\"#3F4788\",\"#1F958B\",\"#20908C\",\"#45085B\",\"#35B778\",\"#38578C\",\"#1E9F88\",\"#2AB07E\",\"#9DD93A\",\"#ADDC30\",\"#39548B\",\"#2AB07E\",\"#3A528B\",\"#423D84\",\"#45085B\",\"#2E6C8E\",\"#38578C\",\"#1F958B\",\"#45085B\",\"#3E4989\",\"#3E4989\",\"#46317E\",\"#33618D\",\"#2CB17D\",\"#443781\",\"#2B738E\",\"#443781\",\"#471265\",\"#30678D\",\"#59C764\",\"#470F62\",\"#B2DD2C\",\"#70CE56\",\"#3C4E8A\",\"#DCE218\",\"#1FA187\",\"#3C4E8A\",\"#481A6C\",\"#20908C\",\"#404387\",\"#1E988A\",\"#1FA187\",\"#345F8D\",\"#2CB17D\",\"#423D84\",\"#3C4E8A\",\"#27AD80\",\"#70CE56\",\"#6BCD59\",\"#97D83E\",\"#45085B\",\"#267F8E\",\"#40BD72\",\"#482172\",\"#97D83E\",\"#423D84\",\"#1E988A\",\"#3DBB74\",\"#B2DD2C\",\"#470F62\",\"#1F958B\",\"#277D8E\",\"#CDE01D\",\"#2AB07E\",\"#2C718E\",\"#2C718E\",\"#2C718E\",\"#45085B\",\"#443781\",\"#443781\",\"#39548B\",\"#45085B\",\"#1F958B\",\"#424085\",\"#1FA187\",\"#55C666\",\"#482172\",\"#1F938B\",\"#443781\",\"#30678D\",\"#45347F\",\"#433A83\",\"#DCE218\",\"#25AB81\",\"#423D84\",\"#2AB07E\",\"#20A485\",\"#433A83\",\"#2AB07E\",\"#BADE27\",\"#3D4C89\",\"#3D4C89\",\"#25828E\",\"#31648D\",\"#31648D\",\"#CDE01D\",\"#482374\",\"#8BD546\",\"#20908C\",\"#472777\",\"#FDE724\",\"#3D4C89\",\"#24848D\",\"#472777\",\"#1F958B\",\"#33618D\",\"#31648D\",\"#D4E11A\",\"#433A83\",\"#4FC369\",\"#64CB5D\",\"#472A79\",\"#4FC369\",\"#46317E\",\"#4FC369\",\"#22898D\",\"#25828E\",\"#24848D\",\"#404387\",\"#482374\",\"#404387\",\"#472777\",\"#2F698D\",\"#3A528B\",\"#287A8E\",\"#2A768E\",\"#471265\",\"#482374\",\"#33618D\",\"#6BCD59\",\"#45BF6F\",\"#20A485\",\"#440357\",\"#1F958B\",\"#45BF6F\",\"#23A883\",\"#3E4989\",\"#31648D\",\"#1F938B\",\"#1F938B\",\"#2B738E\",\"#59C764\",\"#472A79\",\"#FDE724\",\"#2B738E\",\"#6BCD59\",\"#D4E11A\",\"#462D7C\",\"#39548B\",\"#FDE724\",\"#2E6C8E\",\"#30B47A\",\"#481D6F\",\"#31648D\",\"#440357\",\"#21A685\",\"#228B8D\",\"#45BF6F\",\"#24848D\",\"#24848D\",\"#443781\",\"#472777\",\"#22898D\",\"#22898D\",\"#40BD72\",\"#470F62\",\"#31648D\",\"#22898D\",\"#E1E318\",\"#22898D\",\"#481D6F\",\"#1E988A\",\"#3F4788\",\"#A5DA35\",\"#1E988A\",\"#40BD72\",\"#22898D\",\"#83D34B\",\"#1E988A\",\"#A5DA35\",\"#2C718E\",\"#E1E318\",\"#A5DA35\",\"#1E988A\",\"#440357\",\"#277D8E\",\"#228B8D\",\"#23A883\",\"#27AD80\",\"#27AD80\",\"#3A528B\",\"#440154\",\"#365A8C\",\"#355C8C\",\"#46317E\",\"#40BD72\",\"#A5DA35\",\"#45085B\",\"#97D83E\",\"#404387\",\"#3C4E8A\",\"#218E8C\",\"#1E9A89\",\"#2AB07E\",\"#25AB81\",\"#45347F\",\"#1FA187\",\"#45085B\",\"#38B976\",\"#45085B\",\"#20908C\",\"#22898D\",\"#2D6E8E\",\"#2B738E\",\"#471669\",\"#21A685\",\"#345F8D\",\"#218E8C\",\"#470F62\",\"#2AB07E\",\"#45085B\",\"#472A79\",\"#482172\",\"#23878D\",\"#424085\",\"#DCE218\",\"#90D643\",\"#1F958B\",\"#20908C\",\"#21A685\",\"#40BD72\",\"#23A883\",\"#345F8D\",\"#443781\",\"#471669\",\"#471669\",\"#20A485\",\"#481A6C\",\"#35B778\",\"#365A8C\",\"#2D6E8E\",\"#EEE51B\",\"#2E6C8E\",\"#471265\",\"#267F8E\",\"#2B738E\",\"#D4E11A\",\"#481A6C\",\"#39548B\",\"#A5DA35\",\"#404387\",\"#1F938B\",\"#365A8C\",\"#25AB81\",\"#31648D\",\"#25AB81\",\"#BFDF24\",\"#6BCD59\",\"#2AB07E\",\"#70CE56\",\"#471265\",\"#471265\",\"#460B5E\",\"#2F698D\",\"#2F698D\",\"#2F698D\",\"#CDE01D\",\"#EEE51B\",\"#287A8E\",\"#1E9F88\",\"#472A79\",\"#3E4989\",\"#45085B\",\"#FDE724\",\"#EEE51B\",\"#1F958B\",\"#218E8C\",\"#482172\",\"#4FC369\",\"#25AB81\",\"#BADE27\",\"#20908C\",\"#40BD72\",\"#1E988A\",\"#1E9C89\",\"#77D052\",\"#1E9F88\",\"#440357\",\"#40BD72\",\"#23A883\",\"#481A6C\",\"#33618D\",\"#287A8E\",\"#287A8E\",\"#23878D\",\"#25828E\",\"#33618D\",\"#ADDC30\",\"#B2DD2C\",\"#23878D\",\"#440154\",\"#4FC369\",\"#40BD72\",\"#1E988A\",\"#24848D\",\"#25AB81\",\"#1E988A\",\"#2AB07E\",\"#40BD72\",\"#45085B\",\"#3C4E8A\",\"#38B976\",\"#35B778\",\"#2F698D\",\"#481D6F\",\"#4FC369\",\"#1E9C89\",\"#90D643\",\"#90D643\",\"#481D6F\",\"#481D6F\",\"#3A528B\",\"#2A768E\",\"#29798E\",\"#440357\",\"#2B738E\",\"#77D052\",\"#355C8C\",\"#ADDC30\",\"#287A8E\",\"#FDE724\",\"#345F8D\",\"#21A685\",\"#39548B\",\"#E1E318\",\"#481A6C\",\"#38578C\",\"#2A768E\",\"#433A83\",\"#1E988A\",\"#2C718E\",\"#433A83\",\"#3A528B\",\"#45347F\",\"#A5DA35\",\"#433A83\",\"#1F958B\",\"#38578C\",\"#38B976\",\"#4FC369\",\"#9DD93A\",\"#9DD93A\",\"#287A8E\",\"#433A83\",\"#345F8D\",\"#77D052\",\"#228B8D\",\"#424085\",\"#E1E318\",\"#3C4E8A\",\"#345F8D\",\"#3DBB74\",\"#2A768E\",\"#482374\",\"#3E4989\",\"#267F8E\",\"#472A79\",\"#365A8C\",\"#97D83E\",\"#433A83\",\"#59C764\",\"#424085\",\"#A5DA35\",\"#1E9C89\",\"#472A79\",\"#22898D\",\"#BADE27\",\"#6BCD59\",\"#31648D\",\"#482172\",\"#470F62\",\"#20A485\",\"#1FA187\",\"#BFDF24\",\"#46317E\",\"#2D6E8E\",\"#2AB07E\",\"#404387\",\"#70CE56\",\"#1F938B\",\"#2D6E8E\",\"#55C666\",\"#55C666\",\"#70CE56\",\"#90D643\",\"#1E9A89\",\"#31648D\",\"#3D4C89\",\"#1FA187\",\"#D4E11A\",\"#45085B\",\"#462D7C\",\"#471669\",\"#70CE56\",\"#38578C\",\"#440357\",\"#440357\",\"#440357\",\"#1E988A\",\"#1E9C89\",\"#59C764\",\"#1E988A\",\"#470F62\",\"#1FA187\",\"#481A6C\",\"#481A6C\",\"#3D4C89\",\"#55C666\",\"#3C4E8A\",\"#38B976\",\"#481D6F\",\"#C7E01F\",\"#31648D\",\"#365A8C\",\"#31648D\",\"#31648D\",\"#29798E\",\"#3E4989\",\"#228B8D\",\"#424085\",\"#404387\",\"#F6E61F\",\"#443781\",\"#9DD93A\",\"#23A883\",\"#25828E\",\"#2C718E\",\"#2C718E\",\"#31648D\",\"#482172\",\"#30B47A\",\"#31648D\",\"#D4E11A\",\"#49C16D\",\"#D4E11A\",\"#D4E11A\",\"#59C764\",\"#46317E\",\"#471669\",\"#20A485\",\"#46317E\",\"#31648D\",\"#25828E\",\"#3D4C89\",\"#3D4C89\",\"#6BCD59\",\"#23878D\",\"#365A8C\",\"#EEE51B\",\"#267F8E\",\"#345F8D\",\"#2A768E\",\"#481A6C\",\"#2F698D\",\"#30678D\",\"#8BD546\",\"#8BD546\",\"#3C4E8A\",\"#DCE218\",\"#20A485\",\"#355C8C\",\"#30678D\",\"#440357\",\"#440357\",\"#481D6F\",\"#481D6F\",\"#25828E\",\"#22898D\",\"#DCE218\",\"#355C8C\",\"#3C4E8A\",\"#471669\",\"#472777\",\"#481D6F\",\"#471669\",\"#462D7C\",\"#46317E\",\"#460B5E\",\"#460B5E\",\"#482172\",\"#20908C\",\"#2C718E\",\"#345F8D\",\"#460B5E\",\"#F6E61F\",\"#1E988A\",\"#B2DD2C\",\"#1E988A\",\"#424085\",\"#472A79\",\"#46317E\",\"#470F62\",\"#287A8E\",\"#404387\",\"#472A79\",\"#472A79\",\"#F6E61F\",\"#3C4E8A\",\"#1F958B\",\"#267F8E\",\"#481D6F\",\"#365A8C\",\"#F6E61F\",\"#59C764\",\"#2CB17D\",\"#30B47A\",\"#1E988A\",\"#471265\",\"#481D6F\",\"#64CB5D\",\"#1E988A\",\"#CDE01D\",\"#481A6C\",\"#8BD546\",\"#277D8E\",\"#90D643\",\"#8BD546\",\"#481D6F\",\"#3C4E8A\",\"#45085B\",\"#482172\",\"#45085B\",\"#45085B\",\"#45085B\",\"#3E4989\",\"#F6E61F\",\"#471265\",\"#482172\",\"#424085\",\"#33618D\",\"#20A485\",\"#345F8D\",\"#2A768E\",\"#2B738E\",\"#35B778\",\"#20908C\",\"#39548B\",\"#59C764\",\"#345F8D\",\"#55C666\",\"#277D8E\",\"#CDE01D\",\"#3E4989\",\"#2C718E\",\"#23A883\",\"#23A883\",\"#30B47A\",\"#471669\",\"#CDE01D\",\"#45BF6F\",\"#424085\",\"#470F62\",\"#470F62\",\"#218E8C\",\"#472777\",\"#287A8E\",\"#470F62\",\"#24848D\",\"#3C4E8A\",\"#8BD546\",\"#39548B\",\"#365A8C\",\"#3D4C89\",\"#472A79\",\"#8BD546\",\"#3A528B\",\"#25828E\",\"#472A79\",\"#404387\",\"#1E9F88\",\"#2B738E\",\"#2B738E\",\"#83D34B\",\"#443781\",\"#3D4C89\",\"#3A528B\",\"#33618D\",\"#472777\",\"#25828E\",\"#443781\",\"#ADDC30\",\"#440357\",\"#472777\",\"#31648D\",\"#472A79\",\"#20908C\",\"#38B976\",\"#9DD93A\",\"#218E8C\",\"#218E8C\",\"#3D4C89\",\"#440357\",\"#472777\",\"#287A8E\",\"#287A8E\",\"#365A8C\",\"#29798E\",\"#E1E318\",\"#2A768E\",\"#27AD80\",\"#2A768E\",\"#FDE724\",\"#ADDC30\",\"#3A528B\",\"#33618D\",\"#2B738E\",\"#287A8E\",\"#4FC369\",\"#472A79\",\"#2A768E\",\"#2A768E\",\"#33618D\",\"#2A768E\",\"#20908C\",\"#29798E\",\"#3D4C89\",\"#472A79\",\"#3C4E8A\",\"#471265\",\"#471265\",\"#27AD80\",\"#25828E\",\"#25828E\",\"#423D84\",\"#482374\",\"#49C16D\",\"#FDE724\",\"#1E9A89\",\"#471265\",\"#287A8E\",\"#440357\",\"#440357\",\"#277D8E\",\"#6BCD59\",\"#45085B\",\"#404387\",\"#471669\",\"#472A79\",\"#23878D\",\"#31648D\",\"#31648D\",\"#29798E\",\"#267F8E\",\"#3C4E8A\",\"#3C4E8A\",\"#218E8C\",\"#E1E318\",\"#45BF6F\",\"#2F698D\",\"#20A485\",\"#3DBB74\",\"#40BD72\",\"#440357\",\"#30678D\",\"#228B8D\",\"#460B5E\",\"#460B5E\",\"#424085\",\"#3DBB74\",\"#3C4E8A\",\"#39548B\",\"#4FC369\",\"#4FC369\",\"#4FC369\",\"#31648D\",\"#287A8E\",\"#2B738E\",\"#3DBB74\",\"#31648D\",\"#49C16D\",\"#472A79\",\"#35B778\",\"#59C764\",\"#64CB5D\",\"#3A528B\",\"#472777\",\"#C7E01F\",\"#2D6E8E\",\"#2D6E8E\",\"#423D84\",\"#4FC369\",\"#2F698D\",\"#471265\",\"#1F958B\",\"#33618D\",\"#287A8E\",\"#D4E11A\",\"#9DD93A\",\"#1E9A89\",\"#4FC369\",\"#31648D\",\"#21A685\",\"#462D7C\",\"#25AB81\",\"#25828E\",\"#21A685\",\"#423D84\",\"#CDE01D\",\"#2C718E\",\"#2E6C8E\",\"#C7E01F\",\"#471265\",\"#21A685\",\"#472A79\",\"#33618D\",\"#C7E01F\",\"#45BF6F\",\"#277D8E\",\"#3D4C89\",\"#9DD93A\",\"#1E9A89\",\"#472777\",\"#C7E01F\",\"#471265\",\"#2B738E\",\"#277D8E\",\"#2CB17D\",\"#287A8E\",\"#21A685\",\"#49C16D\",\"#6BCD59\",\"#24848D\",\"#20908C\",\"#31648D\",\"#365A8C\",\"#2C718E\",\"#45347F\",\"#471265\",\"#3D4C89\",\"#21A685\",\"#21A685\",\"#472A79\",\"#45BF6F\",\"#64CB5D\",\"#472A79\",\"#59C764\",\"#1E988A\",\"#BFDF24\",\"#482172\",\"#470F62\",\"#365A8C\",\"#365A8C\",\"#45085B\",\"#4FC369\",\"#404387\",\"#83D34B\",\"#471669\",\"#460B5E\",\"#460B5E\",\"#1E988A\",\"#40BD72\",\"#38578C\",\"#39548B\",\"#BFDF24\",\"#22898D\",\"#2E6C8E\",\"#45347F\",\"#70CE56\",\"#45085B\",\"#2AB07E\",\"#35B778\",\"#460B5E\",\"#345F8D\",\"#365A8C\",\"#60C960\",\"#22898D\",\"#7ED24E\",\"#40BD72\",\"#423D84\",\"#472A79\",\"#472A79\",\"#38578C\",\"#481D6F\",\"#471265\",\"#38578C\",\"#40BD72\",\"#20908C\",\"#472A79\",\"#481D6F\",\"#60C960\",\"#59C764\",\"#3A528B\",\"#345F8D\",\"#2A768E\",\"#277D8E\",\"#1F938B\",\"#2B738E\",\"#277D8E\",\"#472777\",\"#4FC369\",\"#38B976\",\"#22898D\",\"#A5DA35\",\"#345F8D\",\"#90D643\",\"#2C718E\",\"#481A6C\",\"#35B778\",\"#355C8C\",\"#2C718E\",\"#433A83\",\"#2C718E\",\"#ADDC30\",\"#481D6F\",\"#24848D\",\"#423D84\",\"#35B778\",\"#443781\",\"#31648D\",\"#23878D\",\"#1F958B\",\"#1F958B\",\"#1F958B\",\"#6BCD59\",\"#481D6F\",\"#33618D\",\"#59C764\",\"#23A883\",\"#3DBB74\",\"#38B976\",\"#2CB17D\",\"#35B778\",\"#2C718E\",\"#1E9A89\",\"#424085\",\"#45085B\",\"#B2DD2C\",\"#287A8E\",\"#287A8E\",\"#20A485\",\"#345F8D\",\"#345F8D\",\"#38578C\",\"#423D84\",\"#BFDF24\",\"#482172\",\"#3F4788\",\"#1F958B\",\"#3F4788\",\"#45347F\",\"#470F62\",\"#1E9F88\",\"#45085B\",\"#1FA187\",\"#3DBB74\",\"#2E6C8E\",\"#1F958B\",\"#1F958B\",\"#90D643\",\"#77D052\",\"#345F8D\",\"#472777\",\"#83D34B\",\"#1E988A\",\"#BADE27\",\"#3E4989\",\"#E1E318\",\"#267F8E\",\"#20908C\",\"#70CE56\",\"#3F4788\",\"#70CE56\",\"#345F8D\",\"#3A528B\",\"#BFDF24\",\"#460B5E\",\"#3A528B\",\"#1F958B\",\"#A5DA35\",\"#424085\",\"#424085\",\"#1F938B\",\"#345F8D\",\"#FDE724\",\"#424085\",\"#38B976\",\"#23A883\",\"#471265\",\"#2D6E8E\",\"#3C4E8A\",\"#97D83E\",\"#59C764\",\"#2F698D\",\"#470F62\",\"#423D84\",\"#22898D\",\"#355C8C\",\"#2B738E\",\"#20A485\",\"#FDE724\",\"#20A485\",\"#6BCD59\",\"#60C960\",\"#59C764\",\"#267F8E\",\"#481A6C\",\"#1E9F88\",\"#481D6F\",\"#1FA187\",\"#97D83E\",\"#471669\",\"#35B778\",\"#3E4989\",\"#481A6C\",\"#440154\",\"#35B778\",\"#DCE218\",\"#267F8E\",\"#2CB17D\",\"#481D6F\",\"#45085B\",\"#287A8E\",\"#30B47A\",\"#BFDF24\",\"#FDE724\",\"#2C718E\",\"#21A685\",\"#1E9A89\",\"#C7E01F\",\"#45347F\",\"#2B738E\",\"#DCE218\",\"#39548B\",\"#471265\",\"#70CE56\",\"#BFDF24\",\"#1E988A\",\"#45085B\",\"#481D6F\",\"#45085B\",\"#287A8E\",\"#1FA187\",\"#38578C\",\"#481A6C\",\"#45347F\",\"#424085\",\"#55C666\",\"#472777\",\"#45085B\",\"#97D83E\",\"#471265\",\"#460B5E\",\"#DCE218\",\"#20908C\",\"#472777\",\"#460B5E\",\"#49C16D\",\"#59C764\",\"#345F8D\",\"#70CE56\",\"#B2DD2C\",\"#49C16D\",\"#471669\",\"#45347F\",\"#2B738E\",\"#2F698D\",\"#B2DD2C\",\"#2F698D\",\"#E9E419\",\"#472A79\",\"#482374\",\"#472777\",\"#365A8C\",\"#471669\",\"#3A528B\",\"#C7E01F\",\"#404387\",\"#3F4788\",\"#440154\",\"#470F62\",\"#6BCD59\",\"#23878D\",\"#1E9F88\",\"#1E9F88\",\"#423D84\",\"#471669\",\"#345F8D\",\"#33618D\",\"#1E9F88\",\"#1F958B\",\"#45BF6F\",\"#31648D\",\"#40BD72\",\"#1F958B\",\"#70CE56\",\"#BFDF24\",\"#45085B\",\"#90D643\",\"#20908C\",\"#482374\",\"#2A768E\",\"#345F8D\",\"#471265\",\"#1FA187\",\"#55C666\",\"#20908C\",\"#481A6C\",\"#77D052\",\"#345F8D\",\"#31648D\",\"#31648D\",\"#3A528B\",\"#482172\",\"#A5DA35\",\"#471669\",\"#2B738E\",\"#35B778\",\"#BFDF24\",\"#2A768E\",\"#33618D\",\"#38B976\",\"#481A6C\",\"#440357\",\"#6BCD59\",\"#DCE218\",\"#23878D\",\"#D4E11A\",\"#472777\",\"#345F8D\",\"#90D643\",\"#DCE218\",\"#1E9A89\",\"#30678D\",\"#2B738E\",\"#90D643\",\"#443781\",\"#2AB07E\",\"#2D6E8E\",\"#59C764\",\"#3D4C89\",\"#55C666\",\"#97D83E\",\"#1FA187\",\"#E1E318\",\"#1F958B\",\"#1E988A\",\"#1F958B\",\"#433A83\",\"#481D6F\",\"#404387\",\"#1FA187\",\"#1FA187\",\"#472A79\",\"#424085\",\"#3F4788\",\"#3E4989\",\"#2C718E\",\"#70CE56\",\"#90D643\",\"#59C764\",\"#90D643\",\"#433A83\",\"#1E988A\",\"#2A768E\",\"#70CE56\",\"#2F698D\",\"#45085B\",\"#471669\",\"#4FC369\",\"#1F958B\",\"#2D6E8E\",\"#443781\",\"#29798E\",\"#45085B\",\"#77D052\",\"#1E9A89\",\"#3D4C89\",\"#460B5E\",\"#24848D\",\"#24848D\",\"#CDE01D\",\"#424085\",\"#64CB5D\",\"#460B5E\",\"#482172\",\"#2B738E\",\"#472A79\",\"#33618D\",\"#33618D\",\"#33618D\",\"#482172\",\"#45085B\",\"#38B976\",\"#45085B\",\"#24848D\",\"#33618D\",\"#462D7C\",\"#20A485\",\"#64CB5D\",\"#27AD80\",\"#355C8C\",\"#45085B\",\"#228B8D\",\"#49C16D\",\"#2CB17D\",\"#29798E\",\"#E1E318\",\"#3F4788\",\"#482172\",\"#423D84\",\"#ADDC30\",\"#83D34B\",\"#45085B\",\"#59C764\",\"#460B5E\",\"#BFDF24\",\"#4FC369\",\"#3C4E8A\",\"#30678D\",\"#20908C\",\"#404387\",\"#3F4788\",\"#46317E\",\"#2CB17D\",\"#46317E\",\"#3DBB74\",\"#1F938B\",\"#2F698D\",\"#267F8E\",\"#460B5E\",\"#267F8E\",\"#481D6F\",\"#481D6F\",\"#3C4E8A\",\"#482172\",\"#70CE56\",\"#23878D\",\"#E9E419\",\"#27AD80\",\"#55C666\",\"#3DBB74\",\"#482172\",\"#F6E61F\",\"#49C16D\",\"#8BD546\",\"#30B47A\",\"#287A8E\",\"#DCE218\",\"#1E9A89\",\"#404387\",\"#83D34B\",\"#482374\",\"#1F958B\",\"#228B8D\",\"#443781\",\"#59C764\",\"#481D6F\",\"#2CB17D\",\"#471265\",\"#471265\",\"#472A79\",\"#1FA187\",\"#22898D\",\"#BFDF24\",\"#A5DA35\",\"#2E6C8E\",\"#1E9A89\",\"#20908C\",\"#481A6C\",\"#39548B\",\"#2AB07E\",\"#1E9F88\",\"#481A6C\",\"#470F62\",\"#470F62\",\"#6BCD59\",\"#482374\",\"#472A79\",\"#77D052\",\"#424085\",\"#433A83\",\"#1E9C89\",\"#1E9F88\",\"#423D84\",\"#470F62\",\"#45085B\",\"#39548B\",\"#39548B\",\"#38578C\",\"#2C718E\",\"#35B778\",\"#BADE27\",\"#D4E11A\",\"#1E988A\",\"#A5DA35\",\"#1E988A\",\"#D4E11A\",\"#A5DA35\",\"#424085\",\"#2E6C8E\",\"#3A528B\",\"#2E6C8E\",\"#29798E\",\"#440154\",\"#45085B\",\"#D4E11A\",\"#21A685\",\"#27AD80\",\"#38B976\",\"#38578C\",\"#90D643\",\"#2B738E\",\"#38B976\",\"#45347F\",\"#3DBB74\",\"#39548B\",\"#BFDF24\",\"#A5DA35\",\"#1FA187\",\"#277D8E\",\"#2B738E\",\"#45347F\",\"#433A83\",\"#2AB07E\",\"#38B976\",\"#287A8E\",\"#1E9A89\"],\"names\":[\"ability\",\"absence\",\"abuse\",\"acceptance\",\"access\",\"accident\",\"accommodation\",\"account\",\"accountant\",\"accuracy\",\"achievement\",\"acid\",\"acquisition\",\"acre\",\"action\",\"activity\",\"actor\",\"adam\",\"addition\",\"address\",\"administration\",\"admission\",\"adoption\",\"adult\",\"advance\",\"advantage\",\"advertisement\",\"advertising\",\"advice\",\"adviser\",\"affair\",\"africa\",\"afternoon\",\"agency\",\"agenda\",\"agent\",\"agreement\",\"aircraft\",\"airline\",\"airport\",\"alarm\",\"album\",\"alcohol\",\"alice\",\"allegation\",\"alliance\",\"allocation\",\"allowance\",\"ally\",\"alternative\",\"ambassador\",\"ambition\",\"amendment\",\"america\",\"american\",\"amount\",\"analysis\",\"analyst\",\"angel\",\"anger\",\"angle\",\"animal\",\"ankle\",\"anna\",\"anne\",\"anniversary\",\"announcement\",\"answer\",\"anxiety\",\"apartment\",\"appeal\",\"appearance\",\"apple\",\"applicant\",\"application\",\"appointment\",\"approach\",\"approval\",\"april\",\"architect\",\"architecture\",\"area\",\"argument\",\"army\",\"arrangement\",\"array\",\"arrest\",\"arrival\",\"arrow\",\"article\",\"artist\",\"aspect\",\"assault\",\"assembly\",\"assessment\",\"asset\",\"assistance\",\"assistant\",\"association\",\"assumption\",\"athelstan\",\"atmosphere\",\"attack\",\"attempt\",\"attention\",\"attitude\",\"attraction\",\"audience\",\"auditor\",\"australia\",\"author\",\"authority\",\"autumn\",\"availability\",\"average\",\"award\",\"awareness\",\"baby\",\"back\",\"background\",\"bacterium\",\"baker\",\"balance\",\"ball\",\"band\",\"bank\",\"barrel\",\"barrier\",\"base\",\"basis\",\"basket\",\"bath\",\"bathroom\",\"battery\",\"battle\",\"beach\",\"beam\",\"beauty\",\"bedroom\",\"beer\",\"beginning\",\"behaviour\",\"being\",\"belief\",\"bell\",\"belt\",\"bench\",\"benefit\",\"benjamin\",\"best\",\"bias\",\"bible\",\"bike\",\"bill\",\"bird\",\"birth\",\"birthday\",\"bishop\",\"black\",\"blade\",\"blanche\",\"blanket\",\"block\",\"blood\",\"blow\",\"board\",\"boat\",\"body\",\"bomb\",\"bond\",\"bone\",\"book\",\"boom\",\"boot\",\"border\",\"boss\",\"bottle\",\"bottom\",\"boundary\",\"bowl\",\"brain\",\"branch\",\"brand\",\"breach\",\"bread\",\"break\",\"breakfast\",\"breast\",\"breath\",\"breeze\",\"brick\",\"bridge\",\"britain\",\"brother\",\"brow\",\"brown\",\"brush\",\"bucket\",\"budget\",\"building\",\"bulk\",\"bull\",\"bullet\",\"burden\",\"bush\",\"business\",\"button\",\"buyer\",\"cabinet\",\"cable\",\"cake\",\"calculation\",\"call\",\"camera\",\"camp\",\"campaign\",\"canal\",\"cancer\",\"candidate\",\"candle\",\"capability\",\"capacity\",\"capital\",\"captain\",\"card\",\"care\",\"career\",\"caroline\",\"carpet\",\"carriage\",\"carrier\",\"case\",\"cash\",\"cast\",\"castle\",\"catalogue\",\"category\",\"cathedral\",\"cattle\",\"cause\",\"caution\",\"ceiling\",\"cell\",\"centre\",\"century\",\"ceremony\",\"certificate\",\"chain\",\"chair\",\"chairman\",\"challenge\",\"chamber\",\"champagne\",\"champion\",\"championship\",\"chance\",\"chancellor\",\"change\",\"channel\",\"chaos\",\"chapel\",\"chapter\",\"character\",\"characteristic\",\"charge\",\"charity\",\"charles\",\"charlie\",\"chart\",\"charter\",\"check\",\"cheek\",\"chemical\",\"cheque\",\"chest\",\"chief\",\"child\",\"chin\",\"china\",\"chip\",\"choice\",\"christ\",\"christian\",\"church\",\"cigarette\",\"circle\",\"circuit\",\"circumstance\",\"citizen\",\"city\",\"claim\",\"clarke\",\"clash\",\"class\",\"clause\",\"clerk\",\"client\",\"cliff\",\"climate\",\"clinic\",\"clinton\",\"clock\",\"closure\",\"cloth\",\"clothes\",\"cloud\",\"club\",\"cluster\",\"coach\",\"coal\",\"coalition\",\"coast\",\"coat\",\"code\",\"coffee\",\"coffin\",\"coin\",\"collapse\",\"collar\",\"colleague\",\"collection\",\"collector\",\"college\",\"colony\",\"colour\",\"column\",\"combination\",\"comfort\",\"command\",\"commander\",\"comment\",\"commentator\",\"commission\",\"commissioner\",\"commitment\",\"committee\",\"communication\",\"community\",\"companion\",\"company\",\"comparison\",\"compensation\",\"competition\",\"competitor\",\"complaint\",\"completion\",\"complex\",\"complexity\",\"compliance\",\"component\",\"composition\",\"compound\",\"compromise\",\"computer\",\"concentration\",\"concept\",\"conception\",\"concern\",\"concert\",\"concession\",\"conclusion\",\"condition\",\"conduct\",\"conference\",\"confidence\",\"conflict\",\"confusion\",\"congress\",\"connection\",\"consciousness\",\"consensus\",\"consent\",\"consequence\",\"conservative\",\"consideration\",\"constable\",\"constituency\",\"constitution\",\"constraint\",\"construction\",\"consultant\",\"consultation\",\"consumer\",\"consumption\",\"contact\",\"container\",\"contempt\",\"content\",\"contents\",\"contest\",\"context\",\"continent\",\"contract\",\"contradiction\",\"contrast\",\"contribution\",\"control\",\"controversy\",\"convention\",\"conversation\",\"conversion\",\"conviction\",\"cook\",\"cooperation\",\"copy\",\"corbett\",\"core\",\"corner\",\"corp\",\"corporation\",\"corpse\",\"corridor\",\"cost\",\"cottage\",\"council\",\"councillor\",\"count\",\"counter\",\"country\",\"countryside\",\"county\",\"couple\",\"courage\",\"course\",\"court\",\"cousin\",\"cover\",\"coverage\",\"crack\",\"craft\",\"crash\",\"cream\",\"creation\",\"creature\",\"credit\",\"creditor\",\"crew\",\"crime\",\"crisis\",\"criterion\",\"critic\",\"criticism\",\"crop\",\"cross\",\"crowd\",\"crown\",\"culture\",\"cupboard\",\"curiosity\",\"currency\",\"current\",\"curriculum\",\"curtain\",\"curve\",\"custom\",\"customer\",\"cycle\",\"damage\",\"damages\",\"dance\",\"dancer\",\"danger\",\"darkness\",\"database\",\"date\",\"datum\",\"daughter\",\"david\",\"dawn\",\"deal\",\"dealer\",\"death\",\"debate\",\"debt\",\"decade\",\"decision\",\"deck\",\"declaration\",\"decline\",\"decree\",\"defeat\",\"defect\",\"defence\",\"defendant\",\"defender\",\"deficit\",\"definition\",\"degree\",\"delay\",\"delegate\",\"delegation\",\"delight\",\"delivery\",\"demand\",\"democracy\",\"democrat\",\"demonstration\",\"department\",\"departure\",\"deposit\",\"depression\",\"depth\",\"depths\",\"deputy\",\"description\",\"design\",\"designer\",\"desire\",\"desk\",\"destruction\",\"detail\",\"detective\",\"determination\",\"developer\",\"development\",\"device\",\"dialogue\",\"diana\",\"diary\",\"diet\",\"difference\",\"difficulty\",\"dilemma\",\"dimension\",\"dinner\",\"direction\",\"directive\",\"director\",\"disappointment\",\"disaster\",\"disc\",\"discipline\",\"discourse\",\"discovery\",\"discretion\",\"discrimination\",\"discussion\",\"disease\",\"dish\",\"disk\",\"disorder\",\"display\",\"dispute\",\"distance\",\"distinction\",\"distribution\",\"district\",\"dividend\",\"division\",\"doctor\",\"doctrine\",\"document\",\"dollar\",\"domain\",\"door\",\"doorway\",\"dose\",\"doubt\",\"downstairs\",\"draft\",\"drama\",\"draw\",\"drawing\",\"dream\",\"dress\",\"drink\",\"drive\",\"driver\",\"drop\",\"drug\",\"duke\",\"dust\",\"duty\",\"earl\",\"earnings\",\"earth\",\"ease\",\"east\",\"economy\",\"edge\",\"edition\",\"editor\",\"education\",\"edward\",\"effect\",\"effectiveness\",\"efficiency\",\"effort\",\"elbow\",\"election\",\"electricity\",\"element\",\"eliot\",\"elizabeth\",\"embarrassment\",\"embassy\",\"emily\",\"emission\",\"emotion\",\"emperor\",\"emphasis\",\"empire\",\"employee\",\"employer\",\"employment\",\"enemy\",\"energy\",\"engine\",\"engineer\",\"england\",\"english\",\"enquiry\",\"enterprise\",\"enthusiasm\",\"entity\",\"entrance\",\"entry\",\"envelope\",\"environment\",\"episode\",\"equation\",\"equipment\",\"equivalent\",\"error\",\"essay\",\"establishment\",\"estate\",\"estimate\",\"europe\",\"evaluation\",\"evening\",\"event\",\"evidence\",\"evolution\",\"examination\",\"example\",\"excess\",\"exchange\",\"excitement\",\"executive\",\"exercise\",\"exhibition\",\"existence\",\"expansion\",\"expectation\",\"expedition\",\"expenditure\",\"expense\",\"experience\",\"experiment\",\"expert\",\"expertise\",\"explanation\",\"explosion\",\"export\",\"exposure\",\"expression\",\"extension\",\"extent\",\"eyebrow\",\"fabric\",\"face\",\"facility\",\"fact\",\"faction\",\"factor\",\"factory\",\"failure\",\"faith\",\"fall\",\"family\",\"farm\",\"farmer\",\"fashion\",\"fate\",\"father\",\"fault\",\"favour\",\"fear\",\"feature\",\"february\",\"feeling\",\"fellow\",\"female\",\"fence\",\"festival\",\"fibre\",\"field\",\"fig\",\"fight\",\"fighting\",\"figure\",\"file\",\"film\",\"filter\",\"final\",\"finance\",\"finding\",\"finger\",\"fire\",\"firm\",\"fish\",\"fist\",\"flag\",\"flame\",\"flat\",\"flavour\",\"fleet\",\"flesh\",\"flight\",\"flood\",\"floor\",\"flow\",\"flower\",\"focus\",\"food\",\"foot\",\"football\",\"force\",\"ford\",\"forehead\",\"forest\",\"form\",\"format\",\"formation\",\"formula\",\"fortune\",\"forward\",\"foundation\",\"fraction\",\"fragment\",\"frame\",\"framework\",\"france\",\"francis\",\"freedom\",\"french\",\"frequency\",\"friend\",\"friendship\",\"front\",\"fruit\",\"frustration\",\"fuel\",\"function\",\"fund\",\"furniture\",\"future\",\"gain\",\"gallery\",\"game\",\"gang\",\"garage\",\"garden\",\"garment\",\"gate\",\"gaze\",\"gear\",\"gene\",\"generation\",\"gentleman\",\"george\",\"german\",\"germany\",\"gesture\",\"ghost\",\"gift\",\"girl\",\"glance\",\"glass\",\"glimpse\",\"glory\",\"glove\",\"goal\",\"gold\",\"goods\",\"gorbachev\",\"government\",\"governor\",\"grade\",\"graham\",\"grain\",\"grant\",\"grass\",\"grave\",\"green\",\"grin\",\"grip\",\"ground\",\"grounds\",\"group\",\"growth\",\"guard\",\"guest\",\"guidance\",\"guide\",\"guideline\",\"guilt\",\"guitar\",\"gulf\",\"habit\",\"hair\",\"half\",\"hall\",\"hand\",\"handful\",\"handle\",\"happiness\",\"harm\",\"harry\",\"head\",\"headline\",\"headquarters\",\"health\",\"heap\",\"hearing\",\"heart\",\"heat\",\"heaven\",\"heel\",\"height\",\"helen\",\"helicopter\",\"hell\",\"help\",\"henry\",\"hero\",\"hierarchy\",\"hill\",\"hint\",\"historian\",\"history\",\"hitler\",\"hold\",\"holder\",\"holding\",\"hole\",\"holiday\",\"home\",\"honour\",\"hook\",\"hope\",\"horizon\",\"horn\",\"horror\",\"horse\",\"hospital\",\"host\",\"hostility\",\"hotel\",\"hour\",\"house\",\"household\",\"housing\",\"howard\",\"human\",\"hundred\",\"hunt\",\"husband\",\"hypothesis\",\"idea\",\"ideal\",\"identification\",\"identity\",\"ideology\",\"illness\",\"image\",\"imagination\",\"impact\",\"implementation\",\"implication\",\"import\",\"importance\",\"impression\",\"improvement\",\"impulse\",\"incentive\",\"inch\",\"incidence\",\"incident\",\"income\",\"increase\",\"independence\",\"index\",\"india\",\"individual\",\"industry\",\"inequality\",\"infection\",\"inflation\",\"influence\",\"information\",\"ingredient\",\"inhabitant\",\"initiative\",\"injunction\",\"injury\",\"innovation\",\"input\",\"inquiry\",\"insect\",\"insider\",\"insight\",\"inspection\",\"inspector\",\"instance\",\"instinct\",\"institute\",\"institution\",\"instruction\",\"instrument\",\"insurance\",\"integration\",\"intelligence\",\"intensity\",\"intention\",\"interaction\",\"interest\",\"interface\",\"interior\",\"interpretation\",\"interval\",\"intervention\",\"interview\",\"introduction\",\"invasion\",\"investigation\",\"investment\",\"investor\",\"invitation\",\"involvement\",\"iraq\",\"ireland\",\"isabel\",\"island\",\"isolation\",\"israel\",\"issue\",\"italy\",\"item\",\"jack\",\"jacket\",\"jackson\",\"james\",\"jane\",\"japan\",\"jesus\",\"john\",\"johnson\",\"joint\",\"joke\",\"jones\",\"joseph\",\"journal\",\"journalist\",\"journey\",\"judge\",\"judgement\",\"judgment\",\"juice\",\"june\",\"jurisdiction\",\"jury\",\"justice\",\"kate\",\"kelly\",\"kick\",\"killer\",\"killing\",\"kind\",\"king\",\"kingdom\",\"kinnock\",\"kiss\",\"kitchen\",\"knee\",\"knife\",\"knight\",\"knot\",\"knowledge\",\"kong\",\"label\",\"laboratory\",\"labour\",\"lack\",\"ladder\",\"lady\",\"lake\",\"lamb\",\"lamp\",\"land\",\"landing\",\"landlord\",\"landscape\",\"lane\",\"language\",\"laugh\",\"laughter\",\"launch\",\"laura\",\"lawyer\",\"layer\",\"lead\",\"leader\",\"leadership\",\"leaf\",\"leaflet\",\"league\",\"lease\",\"lecture\",\"leeds\",\"left\",\"legislation\",\"length\",\"lesson\",\"let\",\"letter\",\"level\",\"lewis\",\"liability\",\"library\",\"licence\",\"life\",\"lifespan\",\"lifetime\",\"lift\",\"light\",\"lily\",\"limb\",\"limit\",\"limitation\",\"line\",\"link\",\"links\",\"list\",\"literature\",\"liverpool\",\"living\",\"load\",\"loan\",\"location\",\"lock\",\"logic\",\"london\",\"look\",\"lord\",\"lorry\",\"loss\",\"love\",\"lover\",\"loyalty\",\"lucy\",\"luke\",\"lunch\",\"machine\",\"machinery\",\"magazine\",\"maggie\",\"magistrate\",\"mail\",\"maintenance\",\"major\",\"majority\",\"maker\",\"male\",\"management\",\"manager\",\"manner\",\"manufacturer\",\"march\",\"margin\",\"marie\",\"mark\",\"market\",\"marriage\",\"martin\",\"marx\",\"mary\",\"mask\",\"mass\",\"master\",\"match\",\"material\",\"matter\",\"maximum\",\"meal\",\"meaning\",\"means\",\"measure\",\"measurement\",\"meat\",\"mechanism\",\"medal\",\"media\",\"medicine\",\"medium\",\"meeting\",\"member\",\"membership\",\"memory\",\"menu\",\"merger\",\"merit\",\"mess\",\"message\",\"metal\",\"method\",\"metre\",\"michael\",\"middle\",\"mile\",\"milk\",\"mill\",\"miller\",\"million\",\"mind\",\"mine\",\"miner\",\"minimum\",\"minister\",\"ministry\",\"minority\",\"minute\",\"mirror\",\"missile\",\"mission\",\"mist\",\"mistake\",\"mixture\",\"mode\",\"model\",\"module\",\"molecule\",\"moment\",\"momentum\",\"money\",\"monopoly\",\"monster\",\"month\",\"mood\",\"moon\",\"morgan\",\"morning\",\"mortgage\",\"moscow\",\"mother\",\"motion\",\"motive\",\"motor\",\"mountain\",\"mouse\",\"mouth\",\"move\",\"movement\",\"movie\",\"mungo\",\"murder\",\"muscle\",\"museum\",\"music\",\"mystery\",\"myth\",\"nail\",\"name\",\"nation\",\"nature\",\"necessity\",\"neck\",\"need\",\"needle\",\"negotiation\",\"neighbour\",\"nerve\",\"nest\",\"network\",\"news\",\"newspaper\",\"nigel\",\"night\",\"noise\",\"norm\",\"north\",\"nose\",\"note\",\"notice\",\"notion\",\"novel\",\"number\",\"nurse\",\"object\",\"objection\",\"objective\",\"obligation\",\"observation\",\"observer\",\"obstacle\",\"occasion\",\"occupation\",\"ocean\",\"offence\",\"offender\",\"offer\",\"office\",\"officer\",\"official\",\"open\",\"opening\",\"operation\",\"operator\",\"opinion\",\"opponent\",\"opportunity\",\"opposition\",\"option\",\"order\",\"organ\",\"organisation\",\"organiser\",\"organism\",\"organization\",\"origin\",\"other\",\"outcome\",\"outline\",\"output\",\"owner\",\"ownership\",\"oxford\",\"pace\",\"pack\",\"package\",\"packet\",\"page\",\"pain\",\"paint\",\"painting\",\"pair\",\"palace\",\"palm\",\"panel\",\"panic\",\"paper\",\"papers\",\"paragraph\",\"parameter\",\"parent\",\"paris\",\"park\",\"parliament\",\"part\",\"participant\",\"participation\",\"particle\",\"partner\",\"partnership\",\"party\",\"pass\",\"passage\",\"passenger\",\"passion\",\"past\",\"patch\",\"path\",\"patient\",\"patrick\",\"pattern\",\"paul\",\"pavement\",\"payment\",\"peace\",\"peak\",\"peasant\",\"penalty\",\"penny\",\"pension\",\"people\",\"percentage\",\"perception\",\"performance\",\"period\",\"permission\",\"person\",\"personality\",\"personnel\",\"perspective\",\"peter\",\"petition\",\"phase\",\"phenomenon\",\"philip\",\"philosophy\",\"phone\",\"photograph\",\"photographer\",\"phrase\",\"picture\",\"piece\",\"pile\",\"pillow\",\"pilot\",\"pint\",\"pipe\",\"pitch\",\"place\",\"plaintiff\",\"plan\",\"plane\",\"planet\",\"planning\",\"plant\",\"plate\",\"platform\",\"play\",\"player\",\"pleasure\",\"plenty\",\"plot\",\"pocket\",\"poem\",\"poet\",\"poetry\",\"point\",\"pole\",\"police\",\"policeman\",\"policy\",\"politician\",\"politics\",\"poll\",\"pollution\",\"pond\",\"pool\",\"pope\",\"popularity\",\"population\",\"port\",\"portfolio\",\"portion\",\"portrait\",\"position\",\"possession\",\"possibility\",\"post\",\"poster\",\"potato\",\"potential\",\"pound\",\"poverty\",\"power\",\"practice\",\"practitioner\",\"prayer\",\"preference\",\"premise\",\"premium\",\"preparation\",\"presence\",\"present\",\"presentation\",\"president\",\"press\",\"pressure\",\"prey\",\"price\",\"pride\",\"priest\",\"prime\",\"prince\",\"princess\",\"principle\",\"print\",\"priority\",\"prison\",\"prisoner\",\"privilege\",\"prize\",\"problem\",\"procedure\",\"proceedings\",\"process\",\"processor\",\"producer\",\"product\",\"production\",\"profession\",\"professional\",\"profile\",\"profit\",\"program\",\"programme\",\"progress\",\"project\",\"promise\",\"promotion\",\"proof\",\"property\",\"proportion\",\"proposal\",\"proposition\",\"prosecution\",\"prospect\",\"prospects\",\"protection\",\"protein\",\"protest\",\"protocol\",\"province\",\"provision\",\"public\",\"publication\",\"publicity\",\"publisher\",\"pulse\",\"punch\",\"punishment\",\"pupil\",\"purchase\",\"purchaser\",\"purpose\",\"pursuit\",\"qualification\",\"quality\",\"quantity\",\"quarter\",\"queen\",\"question\",\"questionnaire\",\"quote\",\"rabbit\",\"race\",\"rachel\",\"radio\",\"rage\",\"raid\",\"rail\",\"railway\",\"rain\",\"rally\",\"range\",\"rank\",\"rate\",\"rating\",\"ratio\",\"reaction\",\"reader\",\"reading\",\"reality\",\"reason\",\"rebel\",\"receipt\",\"receiver\",\"reception\",\"recession\",\"recipe\",\"recognition\",\"recommendation\",\"record\",\"recording\",\"recovery\",\"reduction\",\"reference\",\"referendum\",\"reflection\",\"reform\",\"refugee\",\"refusal\",\"regime\",\"region\",\"register\",\"regulation\",\"rejection\",\"relation\",\"relationship\",\"relative\",\"release\",\"relief\",\"religion\",\"remainder\",\"remains\",\"remark\",\"remedy\",\"removal\",\"rent\",\"replacement\",\"reply\",\"report\",\"reporter\",\"representation\",\"representative\",\"republic\",\"reputation\",\"request\",\"requirement\",\"research\",\"researcher\",\"reserve\",\"resident\",\"resignation\",\"resistance\",\"resolution\",\"resource\",\"respect\",\"response\",\"responsibility\",\"rest\",\"restaurant\",\"restriction\",\"result\",\"retirement\",\"return\",\"revenue\",\"review\",\"revolution\",\"reward\",\"rhythm\",\"richard\",\"ride\",\"rider\",\"ridge\",\"right\",\"rights\",\"ring\",\"rise\",\"risk\",\"ritual\",\"rival\",\"river\",\"road\",\"robert\",\"robyn\",\"rock\",\"role\",\"roll\",\"rome\",\"roof\",\"room\",\"root\",\"rope\",\"rose\",\"round\",\"route\",\"routine\",\"rule\",\"rumour\",\"russia\",\"russian\",\"ruth\",\"safety\",\"salary\",\"sale\",\"salt\",\"sample\",\"sanction\",\"sand\",\"sarah\",\"satisfaction\",\"savings\",\"scale\",\"scandal\",\"scene\",\"scent\",\"schedule\",\"scheme\",\"scholar\",\"school\",\"science\",\"scientist\",\"scope\",\"score\",\"scot\",\"scotland\",\"scott\",\"screen\",\"script\",\"seal\",\"search\",\"season\",\"seat\",\"second\",\"seconds\",\"secret\",\"secretary\",\"section\",\"sector\",\"security\",\"seed\",\"selection\",\"self\",\"seller\",\"sensation\",\"sense\",\"senses\",\"sensitivity\",\"sentence\",\"separation\",\"sequence\",\"sergeant\",\"series\",\"servant\",\"service\",\"session\",\"setting\",\"settlement\",\"shadow\",\"shaft\",\"shape\",\"share\",\"shareholder\",\"sheep\",\"sheet\",\"shelf\",\"shell\",\"shelter\",\"shift\",\"ship\",\"shirt\",\"shock\",\"shoe\",\"shop\",\"shore\",\"shortage\",\"shot\",\"shoulder\",\"show\",\"side\",\"sigh\",\"sight\",\"sign\",\"signal\",\"signature\",\"significance\",\"silence\",\"simon\",\"sister\",\"site\",\"situation\",\"size\",\"skill\",\"skin\",\"skirt\",\"sleep\",\"sleeve\",\"slice\",\"slide\",\"slope\",\"smell\",\"smile\",\"smith\",\"smoke\",\"snow\",\"society\",\"sofa\",\"software\",\"soil\",\"soldier\",\"solicitor\",\"solution\",\"song\",\"sort\",\"soul\",\"sound\",\"source\",\"south\",\"space\",\"spain\",\"speaker\",\"specialist\",\"species\",\"specification\",\"specimen\",\"spectrum\",\"speculation\",\"speech\",\"speed\",\"spell\",\"spending\",\"sphere\",\"spine\",\"spirit\",\"spokesman\",\"sport\",\"spot\",\"spread\",\"spring\",\"squad\",\"square\",\"stability\",\"staff\",\"stage\",\"stair\",\"stake\",\"stance\",\"stand\",\"standard\",\"star\",\"start\",\"state\",\"statement\",\"station\",\"statistics\",\"statue\",\"status\",\"statute\",\"stem\",\"step\",\"stephen\",\"stick\",\"stimulus\",\"stitch\",\"stock\",\"stomach\",\"stone\",\"stop\",\"store\",\"storm\",\"story\",\"strain\",\"strand\",\"stranger\",\"strategy\",\"stream\",\"street\",\"strength\",\"stress\",\"stretch\",\"strike\",\"string\",\"strip\",\"stroke\",\"structure\",\"struggle\",\"student\",\"studio\",\"study\",\"stuff\",\"style\",\"subject\",\"subsidiary\",\"subsidy\",\"substance\",\"success\",\"succession\",\"successor\",\"sugar\",\"suggestion\",\"suicide\",\"suit\",\"summer\",\"summit\",\"sunlight\",\"supplier\",\"supplies\",\"supply\",\"support\",\"supporter\",\"surface\",\"surgery\",\"surplus\",\"surprise\",\"survey\",\"survival\",\"susan\",\"suspicion\",\"sweat\",\"switch\",\"sword\",\"symbol\",\"sympathy\",\"symptom\",\"system\",\"table\",\"tactic\",\"tail\",\"tale\",\"talent\",\"talk\",\"tank\",\"tape\",\"target\",\"task\",\"taste\",\"taxi\",\"taylor\",\"teacher\",\"teaching\",\"team\",\"tear\",\"technique\",\"technology\",\"teenager\",\"telephone\",\"television\",\"temperature\",\"temple\",\"tenant\",\"tendency\",\"tension\",\"tent\",\"term\",\"terrace\",\"territory\",\"terror\",\"test\",\"text\",\"thanks\",\"thatcher\",\"theatre\",\"theme\",\"theory\",\"thesis\",\"thief\",\"thigh\",\"thing\",\"thinking\",\"thomas\",\"thought\",\"thousand\",\"thread\",\"threat\",\"throat\",\"thumb\",\"ticket\",\"tide\",\"tile\",\"time\",\"times\",\"tissue\",\"title\",\"tone\",\"tongue\",\"tonne\",\"tony\",\"tool\",\"tooth\",\"topic\",\"torch\",\"tory\",\"total\",\"touch\",\"tour\",\"tourist\",\"tournament\",\"towel\",\"tower\",\"town\",\"trace\",\"track\",\"trade\",\"trading\",\"tradition\",\"traffic\",\"tragedy\",\"trail\",\"train\",\"training\",\"transaction\",\"transfer\",\"transformation\",\"transition\",\"transport\",\"trap\",\"traveller\",\"tray\",\"treasury\",\"treatment\",\"treaty\",\"tree\",\"trend\",\"trial\",\"tribunal\",\"trick\",\"trip\",\"triumph\",\"troops\",\"trophy\",\"trouble\",\"trousers\",\"truck\",\"trust\",\"trustee\",\"truth\",\"tube\",\"tune\",\"tunnel\",\"turn\",\"turnover\",\"type\",\"uncertainty\",\"understanding\",\"unemployment\",\"uniform\",\"union\",\"unit\",\"unity\",\"universe\",\"university\",\"user\",\"validity\",\"valley\",\"value\",\"variable\",\"variation\",\"variety\",\"vehicle\",\"vein\",\"vendor\",\"venture\",\"verdict\",\"verse\",\"version\",\"vessel\",\"victim\",\"victory\",\"video\",\"view\",\"viewer\",\"villa\",\"village\",\"violence\",\"virtue\",\"virus\",\"vision\",\"visit\",\"visitor\",\"voice\",\"volume\",\"volunteer\",\"vote\",\"voter\",\"wages\",\"waist\",\"wales\",\"walk\",\"walker\",\"wall\",\"ward\",\"warmth\",\"warning\",\"warrant\",\"washington\",\"waste\",\"watch\",\"water\",\"waters\",\"wave\",\"weakness\",\"wealth\",\"weapon\",\"weather\",\"week\",\"weekend\",\"weight\",\"welfare\",\"west\",\"wheel\",\"while\",\"whilst\",\"white\",\"whole\",\"wicket\",\"wife\",\"will\",\"william\",\"williams\",\"willie\",\"willingness\",\"wilson\",\"wind\",\"window\",\"wine\",\"wing\",\"winner\",\"winter\",\"wire\",\"wish\",\"withdrawal\",\"witness\",\"woman\",\"wood\",\"word\",\"work\",\"worker\",\"workshop\",\"world\",\"worth\",\"wound\",\"wright\",\"wrist\",\"writer\",\"writing\",\"yard\",\"year\",\"york\",\"youngster\",\"youth\",\"zone\"],\"x1\":{\"__ndarray__\":\"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\",\"dtype\":\"float32\",\"shape\":[1996]},\"x2\":{\"__ndarray__\":\"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\",\"dtype\":\"float32\",\"shape\":[1996]}}},\"id\":\"8d7d4ae3-aeee-4738-829d-2bdea8068df1\",\"type\":\"ColumnDataSource\"},{\"attributes\":{},\"id\":\"4733acdc-3a69-41da-8ce4-5b6eabb2d2b6\",\"type\":\"LinearScale\"},{\"attributes\":{},\"id\":\"e199c2d7-efb6-40f6-974d-0f50a9e9eeca\",\"type\":\"BasicTickFormatter\"},{\"attributes\":{\"data_source\":{\"id\":\"8d7d4ae3-aeee-4738-829d-2bdea8068df1\",\"type\":\"ColumnDataSource\"},\"glyph\":{\"id\":\"3b103914-f4b8-4b9b-af28-92cb0c51bd9e\",\"type\":\"Circle\"},\"hover_glyph\":null,\"muted_glyph\":null,\"nonselection_glyph\":{\"id\":\"895df8cb-3984-40ba-901c-29d9088f41ea\",\"type\":\"Circle\"},\"selection_glyph\":null,\"view\":{\"id\":\"0eb8cbe5-88b7-4c32-bdf3-8abe421f7e61\",\"type\":\"CDSView\"}},\"id\":\"76a565e2-0378-4750-bb48-8f0bf64605e3\",\"type\":\"GlyphRenderer\"},{\"attributes\":{},\"id\":\"09bd9a2d-28e9-442c-8577-aec7b94a1347\",\"type\":\"SaveTool\"},{\"attributes\":{\"callback\":null},\"id\":\"f2917d59-7b75-4799-95e8-a706aaff1c06\",\"type\":\"DataRange1d\"},{\"attributes\":{\"plot\":null,\"text\":\"t-SNE bow5\"},\"id\":\"10419f9b-86ad-47a2-beb8-c91da027a205\",\"type\":\"Title\"},{\"attributes\":{\"below\":[{\"id\":\"f3ecb921-ee8b-4c2e-ae93-5d7e081a3003\",\"type\":\"LinearAxis\"}],\"left\":[{\"id\":\"5f4af890-8492-4f30-8c9e-24e36724d923\",\"type\":\"LinearAxis\"}],\"renderers\":[{\"id\":\"f3ecb921-ee8b-4c2e-ae93-5d7e081a3003\",\"type\":\"LinearAxis\"},{\"id\":\"b05844e9-b2df-44f8-a621-fee09c3aa705\",\"type\":\"Grid\"},{\"id\":\"5f4af890-8492-4f30-8c9e-24e36724d923\",\"type\":\"LinearAxis\"},{\"id\":\"5cb737f8-4f72-48a6-a2cd-715a680cc767\",\"type\":\"Grid\"},{\"id\":\"76a565e2-0378-4750-bb48-8f0bf64605e3\",\"type\":\"GlyphRenderer\"}],\"title\":{\"id\":\"10419f9b-86ad-47a2-beb8-c91da027a205\",\"type\":\"Title\"},\"toolbar\":{\"id\":\"adbe3a7e-ea80-4d39-88d6-6cf53a0134db\",\"type\":\"Toolbar\"},\"toolbar_location\":\"above\",\"x_range\":{\"id\":\"faa62d26-fba4-409f-ae28-8e59191d4c79\",\"type\":\"DataRange1d\"},\"x_scale\":{\"id\":\"4733acdc-3a69-41da-8ce4-5b6eabb2d2b6\",\"type\":\"LinearScale\"},\"y_range\":{\"id\":\"f2917d59-7b75-4799-95e8-a706aaff1c06\",\"type\":\"DataRange1d\"},\"y_scale\":{\"id\":\"8f45cb68-f047-470b-ac0e-9d4ac1bd8e55\",\"type\":\"LinearScale\"}},\"id\":\"3b2a90d6-faa9-42ab-ae15-181b1d9b427c\",\"subtype\":\"Figure\",\"type\":\"Plot\"},{\"attributes\":{\"dimension\":1,\"plot\":{\"id\":\"3b2a90d6-faa9-42ab-ae15-181b1d9b427c\",\"subtype\":\"Figure\",\"type\":\"Plot\"},\"ticker\":{\"id\":\"b2ee8e24-c59b-418c-ad05-fd290c64c7c9\",\"type\":\"BasicTicker\"}},\"id\":\"5cb737f8-4f72-48a6-a2cd-715a680cc767\",\"type\":\"Grid\"},{\"attributes\":{\"formatter\":{\"id\":\"e199c2d7-efb6-40f6-974d-0f50a9e9eeca\",\"type\":\"BasicTickFormatter\"},\"plot\":{\"id\":\"3b2a90d6-faa9-42ab-ae15-181b1d9b427c\",\"subtype\":\"Figure\",\"type\":\"Plot\"},\"ticker\":{\"id\":\"b2ee8e24-c59b-418c-ad05-fd290c64c7c9\",\"type\":\"BasicTicker\"}},\"id\":\"5f4af890-8492-4f30-8c9e-24e36724d923\",\"type\":\"LinearAxis\"},{\"attributes\":{},\"id\":\"ee42baf8-9dc5-4e81-8886-8a0fd3ec5df3\",\"type\":\"BasicTicker\"},{\"attributes\":{},\"id\":\"6efcbcf2-f1c1-4b6f-a9a0-dc0bb2bdc7a3\",\"type\":\"BasicTickFormatter\"},{\"attributes\":{\"source\":{\"id\":\"8d7d4ae3-aeee-4738-829d-2bdea8068df1\",\"type\":\"ColumnDataSource\"}},\"id\":\"0eb8cbe5-88b7-4c32-bdf3-8abe421f7e61\",\"type\":\"CDSView\"},{\"attributes\":{\"plot\":{\"id\":\"3b2a90d6-faa9-42ab-ae15-181b1d9b427c\",\"subtype\":\"Figure\",\"type\":\"Plot\"},\"ticker\":{\"id\":\"ee42baf8-9dc5-4e81-8886-8a0fd3ec5df3\",\"type\":\"BasicTicker\"}},\"id\":\"b05844e9-b2df-44f8-a621-fee09c3aa705\",\"type\":\"Grid\"},{\"attributes\":{\"active_drag\":\"auto\",\"active_inspect\":\"auto\",\"active_scroll\":\"auto\",\"active_tap\":\"auto\",\"tools\":[{\"id\":\"9b7b055b-7712-4f8d-b481-09d61876a8d8\",\"type\":\"PanTool\"},{\"id\":\"e29aca7d-895e-43b7-81c8-4abdc34c65a6\",\"type\":\"WheelZoomTool\"},{\"id\":\"2904a120-f371-4bd3-9d5f-b7725c627dfd\",\"type\":\"ResetTool\"},{\"id\":\"09bd9a2d-28e9-442c-8577-aec7b94a1347\",\"type\":\"SaveTool\"}]},\"id\":\"adbe3a7e-ea80-4d39-88d6-6cf53a0134db\",\"type\":\"Toolbar\"},{\"attributes\":{},\"id\":\"8f45cb68-f047-470b-ac0e-9d4ac1bd8e55\",\"type\":\"LinearScale\"},{\"attributes\":{\"fill_color\":{\"field\":\"colors\"},\"line_color\":{\"field\":\"colors\"},\"size\":{\"units\":\"screen\",\"value\":8},\"x\":{\"field\":\"x1\"},\"y\":{\"field\":\"x2\"}},\"id\":\"3b103914-f4b8-4b9b-af28-92cb0c51bd9e\",\"type\":\"Circle\"},{\"attributes\":{},\"id\":\"b2ee8e24-c59b-418c-ad05-fd290c64c7c9\",\"type\":\"BasicTicker\"},{\"attributes\":{\"formatter\":{\"id\":\"6efcbcf2-f1c1-4b6f-a9a0-dc0bb2bdc7a3\",\"type\":\"BasicTickFormatter\"},\"plot\":{\"id\":\"3b2a90d6-faa9-42ab-ae15-181b1d9b427c\",\"subtype\":\"Figure\",\"type\":\"Plot\"},\"ticker\":{\"id\":\"ee42baf8-9dc5-4e81-8886-8a0fd3ec5df3\",\"type\":\"BasicTicker\"}},\"id\":\"f3ecb921-ee8b-4c2e-ae93-5d7e081a3003\",\"type\":\"LinearAxis\"},{\"attributes\":{\"fill_alpha\":{\"value\":0.1},\"fill_color\":{\"value\":\"#1f77b4\"},\"line_alpha\":{\"value\":0.1},\"line_color\":{\"value\":\"#1f77b4\"},\"size\":{\"units\":\"screen\",\"value\":8},\"x\":{\"field\":\"x1\"},\"y\":{\"field\":\"x2\"}},\"id\":\"895df8cb-3984-40ba-901c-29d9088f41ea\",\"type\":\"Circle\"}],\"root_ids\":[\"3b2a90d6-faa9-42ab-ae15-181b1d9b427c\"]},\"title\":\"Bokeh Application\",\"version\":\"0.12.13\"}};\n",
       "  var render_items = [{\"docid\":\"f381e183-03bb-44bf-8ce8-ea7938fba3a0\",\"elementid\":\"9f308c1b-98a2-445f-8d23-c69558193cfc\",\"modelid\":\"3b2a90d6-faa9-42ab-ae15-181b1d9b427c\"}];\n",
       "  root.Bokeh.embed.embed_items_notebook(docs_json, render_items);\n",
       "\n",
       "  }\n",
       "  if (root.Bokeh !== undefined) {\n",
       "    embed_document(root);\n",
       "  } else {\n",
       "    var attempts = 0;\n",
       "    var timer = setInterval(function(root) {\n",
       "      if (root.Bokeh !== undefined) {\n",
       "        embed_document(root);\n",
       "        clearInterval(timer);\n",
       "      }\n",
       "      attempts++;\n",
       "      if (attempts > 100) {\n",
       "        console.log(\"Bokeh: ERROR: Unable to run BokehJS code because BokehJS library is missing\")\n",
       "        clearInterval(timer);\n",
       "      }\n",
       "    }, 10, root)\n",
       "  }\n",
       "})(window);"
      ],
      "application/vnd.bokehjs_exec.v0+json": ""
     },
     "metadata": {
      "application/vnd.bokehjs_exec.v0+json": {
       "id": "3b2a90d6-faa9-42ab-ae15-181b1d9b427c"
      }
     },
     "output_type": "display_data"
    }
   ],
   "source": [
    "#tsne_visualization(words_bow2, embeddings_bow2, 10, 2000, \"t-SNE bow2\")\n",
    "tsne_visualization(words_bow5, embeddings_bow5, 20, 3000, \"t-SNE bow5\", cluster_labels)\n",
    "#tsne_visualization(words_deps, embeddings_deps, 10, 2000, \"t-SNE deps\")"
   ]
  },
  {
   "cell_type": "code",
   "execution_count": 10,
   "metadata": {},
   "outputs": [
    {
     "name": "stdout",
     "output_type": "stream",
     "text": [
      "Cluster 0: ['architecture', 'audience', 'beauty', 'crowd', 'design', 'drawing', 'fashion', 'glimpse', 'insight', 'manner', 'mirror', 'observation', 'observer', 'painting', 'perspective', 'reader', 'reflection', 'style', 'tone', 'view', 'viewer']\n",
      "Cluster 1: ['accountant', 'adviser', 'analyst', 'assistant', 'auditor', 'chair', 'chairman', 'chancellor', 'chief', 'clerk', 'coach', 'commentator', 'commissioner', 'constable', 'consultant', 'deputy', 'director', 'executive', 'governor', 'head', 'inspector', 'leader', 'manager', 'member', 'organiser', 'participant', 'president', 'secretary', 'solicitor', 'spokesman', 'supporter', 'trustee']\n",
      "Cluster 2: ['admission', 'certificate', 'clinic', 'curriculum', 'education', 'examination', 'expert', 'hospital', 'inspection', 'instruction', 'leadership', 'medicine', 'membership', 'nurse', 'practice', 'practitioner', 'preparation', 'profession', 'qualification', 'specialist', 'surgery', 'teaching', 'training', 'youth']\n",
      "Cluster 3: ['adam', 'benjamin', 'bill', 'charles', 'charlie', 'david', 'edward', 'eliot', 'francis', 'george', 'harry', 'henry', 'howard', 'jack', 'james', 'john', 'joseph', 'luke', 'mark', 'martin', 'michael', 'nigel', 'patrick', 'paul', 'peter', 'philip', 'richard', 'robert', 'simon', 'stephen', 'thomas', 'tony', 'william', 'willie']\n",
      "Cluster 4: ['accident', 'assault', 'attack', 'battle', 'bomb', 'campaign', 'clash', 'crash', 'defeat', 'demonstration', 'explosion', 'fight', 'fighting', 'incident', 'operation', 'raid', 'strike', 'triumph', 'victory']\n",
      "Cluster 5: ['castle', 'chain', 'coal', 'cottage', 'estate', 'facility', 'factory', 'family', 'farm', 'home', 'hotel', 'house', 'household', 'land', 'landlord', 'mill', 'mine', 'owner', 'ownership', 'palace', 'plant', 'property', 'restaurant', 'shop', 'store', 'tenant', 'villa']\n",
      "Cluster 6: ['back', 'ball', 'basket', 'blanket', 'blow', 'break', 'challenge', 'change', 'counter', 'crack', 'draw', 'enemy', 'field', 'forward', 'gain', 'ground', 'habit', 'hold', 'holder', 'holding', 'kick', 'left', 'move', 'obstacle', 'office', 'opponent', 'pitch', 'play', 'position', 'post', 'right', 'score', 'shift', 'stop', 'suit', 'switch', 'tear', 'test', 'track', 'trick', 'turn', 'while', 'whilst', 'wicket']\n",
      "Cluster 7: ['activity', 'approach', 'behaviour', 'conduct', 'course', 'cycle', 'exercise', 'goal', 'intention', 'interval', 'method', 'moment', 'motive', 'objective', 'period', 'phase', 'procedure', 'process', 'purpose', 'routine', 'schedule', 'solution', 'step', 'strategy', 'tactic', 'task', 'technique', 'time']\n",
      "Cluster 8: ['brick', 'ceiling', 'curtain', 'deck', 'door', 'doorway', 'fibre', 'flat', 'floor', 'frame', 'glass', 'grass', 'layer', 'pavement', 'piece', 'plate', 'roof', 'sand', 'sheet', 'shelf', 'soil', 'stair', 'stone', 'surface', 'tile', 'wall', 'window', 'wood']\n",
      "Cluster 9: ['breach', 'circumstance', 'concern', 'conflict', 'confusion', 'consequence', 'damage', 'damages', 'danger', 'difficulty', 'dilemma', 'dispute', 'error', 'fate', 'fault', 'harm', 'issue', 'liability', 'mistake', 'necessity', 'point', 'possibility', 'potential', 'problem', 'result', 'situation', 'target', 'threat', 'tragedy', 'trouble', 'uncertainty']\n",
      "Cluster 10: ['bush', 'clinton', 'crown', 'emperor', 'empire', 'gorbachev', 'hitler', 'invasion', 'marx', 'occupation', 'regime', 'rule', 'succession', 'thatcher']\n",
      "Cluster 11: ['airline', 'airport', 'carriage', 'carrier', 'container', 'delivery', 'driver', 'ford', 'lorry', 'mail', 'motor', 'operator', 'packet', 'passenger', 'rail', 'railway', 'service', 'taxi', 'traffic', 'train', 'transport', 'truck', 'vehicle']\n",
      "Cluster 12: ['action', 'agenda', 'attention', 'attitude', 'bias', 'controversy', 'conversation', 'criticism', 'debate', 'dialogue', 'discourse', 'discussion', 'favour', 'interest', 'intervention', 'involvement', 'participation', 'policy', 'publicity', 'pursuit', 'reaction', 'response', 'rumour', 'scandal', 'speculation', 'stance', 'thread']\n",
      "Cluster 13: ['beach', 'cliff', 'coast', 'east', 'gulf', 'hill', 'island', 'lake', 'mountain', 'north', 'ocean', 'palm', 'peak', 'pond', 'ridge', 'river', 'salt', 'shore', 'south', 'summit', 'valley', 'waters', 'west']\n",
      "Cluster 14: ['bird', 'cattle', 'cluster', 'crop', 'fig', 'fish', 'flower', 'garden', 'grain', 'insect', 'leaf', 'nest', 'organism', 'prey', 'seed', 'sheep', 'species', 'specimen', 'tree']\n",
      "Cluster 15: ['bible', 'bishop', 'cathedral', 'chapel', 'christ', 'christian', 'church', 'conception', 'discipline', 'doctrine', 'faith', 'hierarchy', 'ideology', 'jesus', 'myth', 'prayer', 'priest', 'religion', 'ritual', 'temple', 'tradition']\n",
      "Cluster 16: ['bottle', 'bottom', 'bucket', 'cigarette', 'coin', 'cupboard', 'currency', 'dollar', 'heap', 'hole', 'lane', 'mouse', 'pack', 'penny', 'pile', 'pint', 'pocket', 'pool', 'pound', 'rabbit', 'strip', 'table', 'towel', 'trap', 'tray']\n",
      "Cluster 17: ['acre', 'century', 'decade', 'distance', 'half', 'hour', 'hundred', 'inch', 'metre', 'mile', 'million', 'minute', 'month', 'quarter', 'seconds', 'thousand', 'tonne', 'week', 'year']\n",
      "Cluster 18: ['catalogue', 'collection', 'exhibition', 'gallery', 'image', 'library', 'museum', 'photograph', 'picture', 'portrait', 'poster', 'statue']\n",
      "Cluster 19: ['access', 'accommodation', 'care', 'communication', 'condition', 'development', 'domain', 'employment', 'enterprise', 'health', 'housing', 'innovation', 'maintenance', 'management', 'open', 'patient', 'planning', 'protection', 'public', 'recovery', 'replacement', 'safety', 'sector', 'security', 'technology', 'treatment', 'welfare']\n",
      "Cluster 20: ['advantage', 'approval', 'authority', 'burden', 'charge', 'charter', 'concession', 'consent', 'contract', 'control', 'duty', 'grant', 'jurisdiction', 'lease', 'licence', 'loan', 'obligation', 'permission', 'possession', 'privilege', 'responsibility', 'rights', 'spell']\n",
      "Cluster 21: ['current', 'date', 'future', 'origin', 'part', 'past', 'portion', 'present', 'remainder', 'remains', 'rest', 'trace', 'whole']\n",
      "Cluster 22: ['achievement', 'addition', 'best', 'bowl', 'class', 'contribution', 'count', 'desk', 'division', 'draft', 'entry', 'equivalent', 'final', 'grade', 'honour', 'level', 'major', 'merit', 'middle', 'order', 'priority', 'profile', 'promotion', 'prospect', 'prospects', 'rank', 'recognition', 'register', 'root', 'round', 'second', 'status', 'talk', 'times', 'warrant', 'washington', 'world', 'worth', 'york']\n",
      "Cluster 23: ['advice', 'assistance', 'attempt', 'benefit', 'chance', 'effort', 'gift', 'guidance', 'help', 'incentive', 'invitation', 'let', 'need', 'offer', 'opportunity', 'option', 'reward', 'support', 'thanks', 'will', 'wish']\n",
      "Cluster 24: ['attraction', 'camp', 'concentration', 'countryside', 'forest', 'holiday', 'landscape', 'location', 'nature', 'park', 'place', 'prison', 'prisoner', 'refugee', 'reserve', 'site', 'spot', 'tourist', 'visitor']\n",
      "Cluster 25: ['amount', 'average', 'calculation', 'cost', 'datum', 'deficit', 'estimate', 'excess', 'expense', 'fraction', 'incidence', 'increase', 'index', 'inequality', 'inflation', 'limit', 'loss', 'maximum', 'measure', 'measurement', 'minimum', 'percentage', 'poverty', 'proportion', 'quantity', 'rate', 'rating', 'ratio', 'reduction', 'risk', 'total', 'turnover', 'unemployment']\n",
      "Cluster 26: ['background', 'black', 'brown', 'carpet', 'cloth', 'clothes', 'coat', 'collar', 'colour', 'cover', 'dress', 'fabric', 'flag', 'garment', 'green', 'jacket', 'paint', 'patch', 'seal', 'shirt', 'shoe', 'skirt', 'sleeve', 'symbol', 'trousers', 'uniform', 'white']\n",
      "Cluster 27: ['branch', 'bridge', 'building', 'canal', 'centre', 'corner', 'corridor', 'entrance', 'gate', 'hall', 'line', 'lock', 'port', 'road', 'route', 'square', 'station', 'street', 'terrace', 'tower', 'trail', 'tunnel', 'yard']\n",
      "Cluster 28: ['allocation', 'availability', 'brand', 'business', 'collector', 'consumer', 'consumption', 'customer', 'dealer', 'demand', 'distribution', 'economy', 'exchange', 'export', 'import', 'industry', 'maker', 'manufacturer', 'market', 'monopoly', 'premium', 'price', 'product', 'production', 'purchase', 'rent', 'sale', 'stock', 'supplier', 'trade', 'trading', 'transaction', 'transfer', 'vendor']\n",
      "Cluster 29: ['abuse', 'alcohol', 'crime', 'discrimination', 'drug', 'murder', 'offence', 'offender', 'penalty', 'punishment', 'substance', 'suicide', 'victim', 'violence', 'witness']\n",
      "Cluster 30: ['athelstan', 'bull', 'cook', 'cross', 'duke', 'earl', 'hunt', 'king', 'knight', 'lamb', 'lord', 'mungo', 'pope', 'prince', 'princess', 'queen', 'scot']\n",
      "Cluster 31: ['bond', 'company', 'corp', 'corporation', 'deal', 'firm', 'joint', 'partner', 'partnership', 'share', 'shareholder', 'stake', 'subsidiary', 'venture']\n",
      "Cluster 32: ['album', 'alternative', 'band', 'dance', 'festival', 'label', 'metal', 'music', 'record', 'recording', 'rock', 'scene', 'stage', 'studio', 'theatre', 'workshop']\n",
      "Cluster 33: ['anniversary', 'appearance', 'birthday', 'ceremony', 'concert', 'edition', 'episode', 'guest', 'occasion', 'performance', 'presentation', 'reception', 'season', 'series', 'tour', 'version']\n",
      "Cluster 34: ['electricity', 'energy', 'equipment', 'food', 'furniture', 'goods', 'heat', 'light', 'machinery', 'pollution', 'power', 'shortage', 'sunlight', 'supplies', 'supply', 'surplus', 'waste', 'water']\n",
      "Cluster 35: ['alarm', 'apple', 'bell', 'button', 'camera', 'chip', 'clock', 'computer', 'custom', 'developer', 'disc', 'disk', 'display', 'feature', 'game', 'memory', 'menu', 'motion', 'phone', 'processor', 'screen', 'signature', 'software', 'tape', 'telephone', 'video']\n",
      "Cluster 36: ['book', 'drama', 'film', 'horror', 'movie', 'mystery', 'novel', 'poem', 'story', 'tale', 'verse']\n",
      "Cluster 37: ['ankle', 'brow', 'chest', 'chin', 'elbow', 'eyebrow', 'forehead', 'knee', 'mouth', 'neck', 'nose', 'shoulder', 'spine', 'stomach', 'tail', 'thigh', 'throat', 'tongue', 'waist', 'wound', 'wrist']\n",
      "Cluster 38: ['barrel', 'battery', 'bullet', 'candle', 'engine', 'fire', 'flame', 'fuel', 'gear', 'lamp', 'machine', 'missile', 'needle', 'pipe', 'shaft', 'shell', 'tank', 'torch', 'tube', 'weapon', 'wheel']\n",
      "Cluster 39: ['culture', 'degree', 'doctor', 'essay', 'history', 'lecture', 'lesson', 'literature', 'master', 'philosophy', 'poetry', 'politics', 'pupil', 'reading', 'science', 'student', 'teacher', 'thesis', 'writing']\n",
      "Cluster 40: ['allowance', 'asset', 'bank', 'budget', 'card', 'cash', 'cheque', 'compensation', 'credit', 'debt', 'deposit', 'dividend', 'earnings', 'expenditure', 'finance', 'income', 'insurance', 'investment', 'investor', 'money', 'mortgage', 'payment', 'pension', 'portfolio', 'profit', 'receipt', 'revenue', 'salary', 'savings', 'spending', 'subsidy', 'wages']\n",
      "Cluster 41: ['award', 'bike', 'competition', 'competitor', 'contest', 'event', 'gold', 'horse', 'medal', 'pole', 'prize', 'race', 'rally', 'rider', 'sport', 'trophy', 'winner']\n",
      "Cluster 42: ['aircraft', 'boat', 'craft', 'fleet', 'flight', 'helicopter', 'landing', 'pilot', 'plane', 'ship', 'vessel']\n",
      "Cluster 43: ['accuracy', 'balance', 'capability', 'capacity', 'depth', 'depths', 'determination', 'dose', 'drop', 'ease', 'effectiveness', 'efficiency', 'exposure', 'handle', 'height', 'intensity', 'isolation', 'length', 'lift', 'load', 'medium', 'pace', 'pressure', 'quality', 'relative', 'sensitivity', 'size', 'speed', 'stability', 'strain', 'strength', 'stress', 'temperature', 'tension', 'weight']\n",
      "Cluster 44: ['adult', 'animal', 'chart', 'citizen', 'community', 'female', 'format', 'human', 'individual', 'inhabitant', 'living', 'majority', 'male', 'minority', 'other', 'people', 'person', 'population', 'resident']\n",
      "Cluster 45: ['ambassador', 'assembly', 'candidate', 'conservative', 'constituency', 'council', 'councillor', 'delegate', 'delegation', 'democrat', 'election', 'embassy', 'kinnock', 'labour', 'parliament', 'poll', 'referendum', 'representative', 'seat', 'speaker', 'ticket', 'tory', 'vote', 'voter', 'ward']\n",
      "Cluster 46: ['beer', 'bread', 'cake', 'champagne', 'coffee', 'cream', 'diet', 'dish', 'drink', 'flavour', 'fruit', 'ingredient', 'juice', 'meat', 'milk', 'potato', 'recipe', 'scent', 'smell', 'sugar', 'taste', 'wine']\n",
      "Cluster 47: ['absence', 'acquisition', 'adoption', 'advance', 'announcement', 'beginning', 'closure', 'collapse', 'completion', 'construction', 'conversion', 'creation', 'destruction', 'establishment', 'expansion', 'extension', 'formation', 'improvement', 'introduction', 'lack', 'launch', 'merger', 'official', 'opening', 'parent', 'presence', 'progress', 'release', 'removal', 'separation', 'start', 'transformation', 'transition', 'withdrawal']\n",
      "Cluster 48: ['agency', 'agent', 'army', 'base', 'captain', 'command', 'commander', 'detective', 'force', 'group', 'guard', 'headquarters', 'intelligence', 'mission', 'officer', 'personnel', 'police', 'sergeant', 'staff', 'troops', 'unit', 'volunteer']\n",
      "Cluster 49: ['alice', 'anna', 'anne', 'blanche', 'caroline', 'diana', 'elizabeth', 'emily', 'helen', 'isabel', 'jane', 'kate', 'kelly', 'lady', 'laura', 'lily', 'lucy', 'maggie', 'marie', 'mary', 'rachel', 'robyn', 'rose', 'ruth', 'sarah', 'susan']\n",
      "Cluster 50: ['blood', 'body', 'bone', 'brain', 'breast', 'breath', 'cancer', 'cell', 'flesh', 'hair', 'heart', 'limb', 'muscle', 'nail', 'nerve', 'skin', 'sleep', 'stem', 'stroke', 'sweat', 'tissue', 'tooth', 'vein']\n",
      "Cluster 51: ['awareness', 'comfort', 'confidence', 'consciousness', 'curiosity', 'delight', 'dream', 'emotion', 'experience', 'expertise', 'fortune', 'glory', 'happiness', 'hope', 'imagination', 'instinct', 'knowledge', 'life', 'lifespan', 'lifetime', 'love', 'mind', 'passion', 'perception', 'pleasure', 'popularity', 'pride', 'promise', 'reputation', 'satisfaction', 'self', 'senses', 'skill', 'soul', 'spirit', 'success', 'surprise', 'survival', 'talent', 'understanding', 'vision', 'warmth', 'wealth']\n",
      "Cluster 52: ['article', 'category', 'chapter', 'code', 'copy', 'criterion', 'database', 'document', 'file', 'guideline', 'link', 'links', 'list', 'page', 'paragraph', 'quote', 'reference', 'script', 'section', 'sentence', 'source', 'subject', 'text', 'topic']\n",
      "Cluster 53: ['advertisement', 'advertising', 'author', 'editor', 'headline', 'insider', 'interview', 'journal', 'magazine', 'media', 'news', 'newspaper', 'paper', 'papers', 'press', 'print', 'publication', 'publisher', 'reporter', 'review']\n",
      "Cluster 54: ['ally', 'birth', 'brother', 'colleague', 'cousin', 'daughter', 'father', 'fellow', 'friend', 'husband', 'lover', 'marriage', 'mother', 'neighbour', 'rival', 'sister', 'successor', 'wife']\n",
      "Cluster 55: ['alliance', 'coalition', 'democracy', 'faction', 'freedom', 'independence', 'movement', 'opposition', 'party', 'peasant', 'protest', 'rebel', 'reform', 'resistance', 'revolution', 'struggle', 'unity']\n",
      "Cluster 56: ['angel', 'being', 'boss', 'cast', 'character', 'companion', 'creature', 'crew', 'diary', 'figure', 'gang', 'gentleman', 'ghost', 'guide', 'hero', 'killer', 'killing', 'monster', 'plot', 'role', 'secret', 'setting', 'shot', 'stranger', 'thief', 'traveller']\n",
      "Cluster 57: ['acid', 'aspect', 'bulk', 'characteristic', 'chemical', 'column', 'combination', 'complex', 'component', 'compound', 'constraint', 'content', 'contents', 'core', 'element', 'envelope', 'equation', 'factor', 'filter', 'flow', 'form', 'formula', 'fragment', 'function', 'gene', 'item', 'leaflet', 'margin', 'material', 'mixture', 'molecule', 'object', 'parameter', 'pattern', 'protein', 'sample', 'sequence', 'shape', 'strand', 'stream', 'structure', 'type', 'variable', 'variation', 'volume']\n",
      "Cluster 58: ['association', 'board', 'college', 'commission', 'committee', 'conference', 'congress', 'convention', 'institute', 'meeting', 'proceedings', 'school', 'session', 'society', 'university']\n",
      "Cluster 59: ['africa', 'america', 'australia', 'britain', 'china', 'europe', 'france', 'germany', 'india', 'iraq', 'israel', 'italy', 'japan', 'kingdom', 'kong', 'paris', 'rome', 'spain']\n",
      "Cluster 60: ['analysis', 'assessment', 'discovery', 'enquiry', 'evaluation', 'expedition', 'experiment', 'information', 'inquiry', 'investigation', 'laboratory', 'questionnaire', 'report', 'research', 'resource', 'statistics', 'study', 'survey', 'work']\n",
      "Cluster 61: ['atmosphere', 'barrier', 'breeze', 'climate', 'cloud', 'depression', 'disaster', 'dust', 'environment', 'flood', 'horizon', 'mist', 'rain', 'relief', 'smoke', 'snow', 'space', 'storm', 'tide', 'weather', 'wind']\n",
      "Cluster 62: ['anger', 'contempt', 'disappointment', 'embarrassment', 'enthusiasm', 'excitement', 'fear', 'feeling', 'frustration', 'guilt', 'hostility', 'laughter', 'mood', 'panic', 'rage', 'respect', 'sensation', 'shock', 'silence', 'suspicion', 'sympathy', 'terror', 'truth']\n",
      "Cluster 63: ['baby', 'child', 'farmer', 'girl', 'lawyer', 'miner', 'policeman', 'politician', 'servant', 'soldier', 'teenager', 'woman', 'worker', 'youngster']\n",
      "Cluster 64: ['afternoon', 'breakfast', 'dinner', 'evening', 'lunch', 'meal', 'morning', 'night', 'weekend']\n",
      "Cluster 65: ['assumption', 'belief', 'concept', 'evolution', 'expectation', 'fact', 'hypothesis', 'idea', 'implication', 'impression', 'notion', 'premise', 'principle', 'theory', 'thinking', 'thought']\n",
      "Cluster 66: ['check', 'face', 'gaze', 'glance', 'grin', 'joke', 'kiss', 'laugh', 'look', 'mess', 'sigh', 'sight', 'smile', 'stuff', 'thing', 'touch', 'watch']\n",
      "Cluster 67: ['actor', 'architect', 'artist', 'critic', 'dancer', 'designer', 'engineer', 'historian', 'journalist', 'photographer', 'poet', 'producer', 'researcher', 'scholar', 'scientist', 'writer']\n",
      "Cluster 68: ['affair', 'agreement', 'connection', 'consultation', 'contact', 'cooperation', 'friendship', 'interaction', 'negotiation', 'peace', 'relationship', 'treaty']\n",
      "Cluster 69: ['application', 'client', 'device', 'framework', 'implementation', 'integration', 'interface', 'mechanism', 'mode', 'module', 'package', 'platform', 'protocol', 'specification', 'system', 'tool']\n",
      "Cluster 70: ['arrow', 'belt', 'blade', 'boot', 'brush', 'cheek', 'fence', 'finger', 'fist', 'foot', 'glove', 'grip', 'hand', 'heel', 'hook', 'knife', 'knot', 'ladder', 'mask', 'punch', 'ring', 'roll', 'rope', 'slice', 'slide', 'stick', 'stitch', 'sword', 'thumb', 'wire']\n",
      "Cluster 71: ['applicant', 'buyer', 'creditor', 'defendant', 'employee', 'employer', 'plaintiff', 'purchaser', 'seller']\n",
      "Cluster 72: ['administration', 'cabinet', 'defence', 'department', 'government', 'interior', 'minister', 'ministry', 'prime', 'treasury']\n",
      "Cluster 73: ['appeal', 'arrest', 'bench', 'circuit', 'conviction', 'court', 'decision', 'injunction', 'judge', 'jury', 'justice', 'magistrate', 'panel', 'petition', 'prosecution', 'trial', 'tribunal', 'verdict']\n",
      "Cluster 74: ['cable', 'channel', 'host', 'network', 'personality', 'radio', 'reality', 'show', 'television']\n",
      "Cluster 75: ['basis', 'complexity', 'context', 'detail', 'dimension', 'effect', 'emphasis', 'existence', 'extent', 'focus', 'grounds', 'impact', 'importance', 'influence', 'scale', 'scope', 'significance', 'validity', 'value']\n",
      "Cluster 76: ['anxiety', 'bacterium', 'cause', 'defect', 'disease', 'disorder', 'failure', 'illness', 'infection', 'injury', 'pain', 'symptom', 'virus', 'weakness']\n",
      "Cluster 77: ['amendment', 'clause', 'compliance', 'constitution', 'declaration', 'decree', 'directive', 'legislation', 'limitation', 'provision', 'regulation', 'requirement', 'restriction', 'statute']\n",
      "Cluster 78: ['bath', 'england', 'ireland', 'leeds', 'liverpool', 'london', 'oxford', 'scotland', 'wales']\n",
      "Cluster 79: ['beam', 'delay', 'emission', 'frequency', 'generation', 'hearing', 'impulse', 'input', 'mass', 'momentum', 'noise', 'output', 'particle', 'pulse', 'signal', 'sound', 'stimulus', 'wave']\n",
      "Cluster 80: ['allegation', 'answer', 'argument', 'case', 'caution', 'claim', 'comment', 'complaint', 'compromise', 'conclusion', 'consensus', 'consideration', 'discretion', 'evidence', 'judgement', 'judgment', 'objection', 'opinion', 'outcome', 'proof', 'proposal', 'proposition', 'question', 'reason', 'recommendation', 'remark', 'remedy', 'reply', 'request', 'sanction', 'statement', 'suggestion']\n",
      "Cluster 81: ['area', 'border', 'boundary', 'capital', 'city', 'colony', 'continent', 'country', 'county', 'district', 'nation', 'province', 'region', 'settlement', 'state', 'territory', 'town', 'village', 'zone']\n",
      "Cluster 82: ['apartment', 'bathroom', 'bedroom', 'coffin', 'corpse', 'downstairs', 'garage', 'grave', 'kitchen', 'pillow', 'room', 'shelter', 'sofa', 'tent']\n",
      "Cluster 83: ['charity', 'entity', 'foundation', 'fund', 'initiative', 'institution', 'organisation', 'organization', 'plan', 'program', 'programme', 'project', 'scheme', 'trust']\n",
      "Cluster 84: ['april', 'february', 'june', 'march']\n",
      "Cluster 85: ['baker', 'clarke', 'corbett', 'graham', 'jackson', 'johnson', 'jones', 'lewis', 'miller', 'morgan', 'scott', 'smith', 'taylor', 'walker', 'williams', 'wilson', 'wright']\n",
      "Cluster 86: ['boom', 'crisis', 'decline', 'growth', 'phenomenon', 'recession', 'rise', 'spread', 'trend']\n",
      "Cluster 87: ['career', 'champion', 'championship', 'club', 'defender', 'football', 'league', 'match', 'player', 'professional', 'receiver', 'squad', 'team', 'tournament']\n",
      "Cluster 88: ['drive', 'journey', 'pass', 'passage', 'return', 'ride', 'stand', 'stretch', 'trip', 'visit', 'walk']\n",
      "Cluster 89: ['autumn', 'fall', 'spring', 'summer', 'winter']\n",
      "Cluster 90: ['angle', 'circle', 'curve', 'direction', 'edge', 'front', 'path', 'side', 'slope', 'sphere', 'wing']\n",
      "Cluster 91: ['acceptance', 'choice', 'comparison', 'contradiction', 'contrast', 'coverage', 'definition', 'description', 'difference', 'distinction', 'doubt', 'example', 'explanation', 'expression', 'finding', 'gesture', 'hint', 'ideal', 'identification', 'identity', 'instance', 'interpretation', 'kind', 'logic', 'matter', 'means', 'model', 'norm', 'outline', 'plenty', 'preference', 'rejection', 'relation', 'representation', 'resolution', 'search', 'selection', 'sense', 'sort', 'speech', 'standard', 'virtue']\n",
      "Cluster 92: ['array', 'couple', 'handful', 'number', 'pair', 'range', 'spectrum', 'variety']\n",
      "Cluster 93: ['arrangement', 'chamber', 'composition', 'guitar', 'horn', 'instrument', 'lead', 'organ', 'rhythm', 'song', 'string', 'theme', 'tune', 'voice']\n",
      "Cluster 94: ['meaning', 'name', 'phrase', 'term', 'title', 'word']\n",
      "Cluster 95: ['american', 'english', 'french', 'german', 'language', 'moscow', 'republic', 'russia', 'russian', 'union']\n",
      "Cluster 96: ['chaos', 'darkness', 'dawn', 'earth', 'heaven', 'hell', 'moon', 'planet', 'shadow', 'star', 'universe']\n",
      "Cluster 97: ['ability', 'ambition', 'commitment', 'courage', 'desire', 'loyalty', 'refusal', 'tendency', 'willingness']\n",
      "Cluster 98: ['appointment', 'arrival', 'death', 'departure', 'resignation', 'retirement']\n",
      "Cluster 99: ['account', 'address', 'block', 'call', 'letter', 'message', 'note', 'notice', 'sign', 'user', 'warning']\n"
     ]
    }
   ],
   "source": [
    "agglomerative_clustering(words_bow5, embeddings_bow5, 100)"
   ]
  },
  {
   "cell_type": "code",
   "execution_count": 11,
   "metadata": {},
   "outputs": [
    {
     "name": "stdout",
     "output_type": "stream",
     "text": [
      "Cluster 0: ['agenda', 'approach', 'attention', 'attitude', 'background', 'bias', 'concern', 'coverage', 'criticism', 'effect', 'emphasis', 'experience', 'expertise', 'exposure', 'focus', 'impact', 'influence', 'insight', 'knowledge', 'news', 'perspective', 'popularity', 'priority', 'publicity', 'reception', 'reputation', 'stance', 'success', 'view']\n",
      "Cluster 1: ['allowance', 'budget', 'cash', 'coin', 'compensation', 'credit', 'currency', 'debt', 'dividend', 'earnings', 'expenditure', 'fortune', 'gold', 'income', 'insurance', 'investment', 'loan', 'money', 'mortgage', 'payment', 'pension', 'premium', 'price', 'rent', 'revenue', 'salary', 'savings', 'share', 'spending', 'stake', 'stock', 'subsidy', 'wages', 'wealth']\n",
      "Cluster 2: ['account', 'address', 'balance', 'cast', 'cause', 'charge', 'chart', 'command', 'control', 'cook', 'copy', 'count', 'counter', 'cross', 'date', 'deal', 'deposit', 'display', 'document', 'draft', 'exercise', 'file', 'filter', 'flag', 'grave', 'grip', 'handle', 'hold', 'holding', 'hunt', 'label', 'lead', 'left', 'lock', 'mark', 'merit', 'mirror', 'order', 'ownership', 'play', 'plot', 'possession', 'post', 'practice', 'print', 'pursuit', 'record', 'recording', 'register', 'remains', 'reserve', 'root', 'script', 'seal', 'search', 'shot', 'show', 'sign', 'spell', 'stem', 'symbol', 'trace', 'trap', 'trick', 'warrant', 'while', 'whilst', 'work']\n",
      "Cluster 3: ['castle', 'cathedral', 'chamber', 'chapel', 'church', 'cottage', 'factory', 'farm', 'garage', 'garden', 'hall', 'home', 'hotel', 'house', 'mill', 'mine', 'palace', 'park', 'plant', 'restaurant', 'shop', 'square', 'store', 'temple', 'villa', 'yard']\n",
      "Cluster 4: ['ambition', 'anger', 'beauty', 'belief', 'chaos', 'confidence', 'contempt', 'conviction', 'courage', 'curiosity', 'darkness', 'delight', 'desire', 'emotion', 'enthusiasm', 'excitement', 'faith', 'glory', 'guilt', 'happiness', 'hostility', 'imagination', 'instinct', 'interest', 'laughter', 'panic', 'passion', 'pleasure', 'pride', 'rage', 'satisfaction', 'shock', 'silence', 'surprise', 'suspicion', 'sympathy', 'terror', 'violence', 'warmth']\n",
      "Cluster 5: ['black', 'brown', 'bush', 'clinton', 'ford', 'gorbachev', 'green', 'hitler', 'kinnock', 'marx', 'thatcher', 'white']\n",
      "Cluster 6: ['authority', 'clause', 'constraint', 'criterion', 'discretion', 'duty', 'guideline', 'injunction', 'jurisdiction', 'liability', 'limit', 'limitation', 'monopoly', 'obligation', 'penalty', 'policy', 'privilege', 'provision', 'punishment', 'reform', 'regulation', 'remedy', 'requirement', 'responsibility', 'restriction', 'right', 'rights', 'rule', 'sanction']\n",
      "Cluster 7: ['applicant', 'audience', 'crowd', 'defendant', 'editor', 'individual', 'observer', 'offender', 'patient', 'people', 'person', 'plaintiff', 'public', 'reader', 'user', 'victim', 'viewer']\n",
      "Cluster 8: ['ability', 'absence', 'achievement', 'advantage', 'capability', 'capacity', 'career', 'commitment', 'contribution', 'existence', 'failure', 'intelligence', 'involvement', 'lack', 'life', 'lifespan', 'lifetime', 'loyalty', 'membership', 'participation', 'presence', 'refusal', 'skill', 'strength', 'talent', 'tendency', 'weakness', 'willingness']\n",
      "Cluster 9: ['bible', 'chapter', 'essay', 'name', 'paper', 'papers', 'paragraph', 'phrase', 'poem', 'quote', 'section', 'sentence', 'song', 'term', 'text', 'theme', 'thesis', 'title', 'track', 'tune', 'verse', 'word']\n",
      "Cluster 10: ['accident', 'arrest', 'assault', 'attack', 'battle', 'clash', 'collapse', 'crash', 'defeat', 'destruction', 'disaster', 'explosion', 'fall', 'fate', 'fight', 'fighting', 'fire', 'flood', 'invasion', 'killing', 'loss', 'murder', 'occupation', 'raid', 'storm', 'strike', 'struggle', 'suicide', 'tragedy', 'triumph', 'victory']\n",
      "Cluster 11: ['anniversary', 'birthday', 'breakfast', 'dinner', 'expedition', 'holiday', 'journey', 'lunch', 'meal', 'mission', 'tour', 'trip', 'visit']\n",
      "Cluster 12: ['accommodation', 'care', 'comfort', 'defence', 'democracy', 'employment', 'freedom', 'health', 'housing', 'independence', 'peace', 'protection', 'recovery', 'safety', 'security', 'shelter', 'survival', 'unity', 'welfare']\n",
      "Cluster 13: ['application', 'arrangement', 'brand', 'code', 'combination', 'composition', 'datum', 'diet', 'framework', 'habit', 'hierarchy', 'implementation', 'ingredient', 'interface', 'mechanism', 'method', 'mixture', 'mode', 'model', 'pack', 'package', 'platform', 'procedure', 'process', 'product', 'protocol', 'recipe', 'scheme', 'software', 'solution', 'specification', 'structure', 'system', 'technique', 'tool']\n",
      "Cluster 14: ['access', 'article', 'asset', 'catalogue', 'collection', 'companion', 'content', 'contents', 'database', 'guide', 'history', 'host', 'index', 'information', 'link', 'links', 'list', 'material', 'page', 'parent', 'portfolio', 'reference', 'resource', 'service', 'source', 'statistics', 'stuff', 'thing', 'traffic']\n",
      "Cluster 15: ['analysis', 'assessment', 'case', 'check', 'enquiry', 'evaluation', 'examination', 'experiment', 'inquiry', 'inspection', 'investigation', 'poll', 'proceedings', 'prosecution', 'questionnaire', 'report', 'research', 'review', 'study', 'survey', 'test', 'trial']\n",
      "Cluster 16: ['camera', 'card', 'cheque', 'chip', 'column', 'computer', 'device', 'disc', 'disk', 'envelope', 'item', 'leaflet', 'machine', 'mail', 'module', 'packet', 'piece', 'processor', 'receipt', 'sheet', 'tape']\n",
      "Cluster 17: ['anxiety', 'barrier', 'confusion', 'danger', 'difficulty', 'disappointment', 'embarrassment', 'frustration', 'momentum', 'obstacle', 'opposition', 'pain', 'pressure', 'reaction', 'resistance', 'response', 'strain', 'stress', 'tension', 'threat', 'trouble', 'uncertainty']\n",
      "Cluster 18: ['ally', 'assistant', 'chief', 'colleague', 'conservative', 'democrat', 'deputy', 'fellow', 'friend', 'guest', 'labour', 'neighbour', 'rival', 'supporter', 'tory']\n",
      "Cluster 19: ['amount', 'bulk', 'couple', 'fraction', 'half', 'handful', 'majority', 'minority', 'number', 'pair', 'part', 'percentage', 'portion', 'proportion', 'quantity', 'quarter', 'remainder', 'rest', 'whole']\n",
      "Cluster 20: ['apartment', 'barrel', 'basket', 'bath', 'bathroom', 'bedroom', 'bottle', 'bucket', 'coffin', 'container', 'cupboard', 'downstairs', 'kitchen', 'room', 'sofa', 'tent', 'towel', 'tray']\n",
      "Cluster 21: ['alliance', 'association', 'club', 'coalition', 'company', 'corp', 'corporation', 'entity', 'faction', 'finance', 'firm', 'football', 'foundation', 'fund', 'institution', 'league', 'organisation', 'organization', 'party', 'society', 'subsidiary', 'trust', 'union', 'venture']\n",
      "Cluster 22: ['acceptance', 'admission', 'adoption', 'appointment', 'arrival', 'beginning', 'birth', 'closure', 'completion', 'creation', 'dawn', 'death', 'departure', 'discovery', 'entry', 'establishment', 'formation', 'introduction', 'launch', 'opening', 'origin', 'passage', 'recognition', 'rejection', 'release', 'resignation', 'retirement', 'start', 'tide']\n",
      "Cluster 23: ['century', 'decade', 'edition', 'episode', 'example', 'hour', 'instance', 'interval', 'minute', 'moment', 'month', 'period', 'phase', 'point', 'season', 'seconds', 'stage', 'step', 'time', 'times', 'turn', 'version', 'volume', 'week', 'year']\n",
      "Cluster 24: ['aspect', 'calculation', 'characteristic', 'component', 'defect', 'determination', 'element', 'equation', 'equivalent', 'estimate', 'factor', 'formula', 'fragment', 'function', 'impulse', 'input', 'measure', 'measurement', 'medium', 'norm', 'object', 'output', 'parameter', 'particle', 'pulse', 'relative', 'sample', 'signal', 'specimen', 'stimulus', 'symptom', 'variable']\n",
      "Cluster 25: ['amendment', 'bill', 'certificate', 'charter', 'concession', 'constitution', 'contract', 'decree', 'directive', 'lease', 'legislation', 'licence', 'statute', 'ticket']\n",
      "Cluster 26: ['american', 'best', 'christian', 'current', 'custom', 'english', 'excess', 'flat', 'french', 'future', 'german', 'human', 'ideal', 'joint', 'major', 'open', 'other', 'past', 'plenty', 'potential', 'present', 'prime', 'professional', 'russian', 'second', 'standard', 'support', 'surplus', 'will', 'worth']\n",
      "Cluster 27: ['array', 'chain', 'circuit', 'cluster', 'curve', 'cycle', 'flow', 'pattern', 'range', 'routine', 'scene', 'schedule', 'sequence', 'slope', 'spectrum', 'strand', 'stream', 'stretch', 'string', 'succession', 'variety']\n",
      "Cluster 28: ['aircraft', 'airline', 'bike', 'boat', 'carriage', 'carrier', 'craft', 'engine', 'flight', 'gear', 'helicopter', 'lorry', 'motor', 'plane', 'ship', 'tank', 'taxi', 'train', 'truck', 'vehicle', 'vessel', 'wheel']\n",
      "Cluster 29: ['breeze', 'candle', 'climate', 'cloud', 'coal', 'dust', 'electricity', 'emission', 'energy', 'flame', 'fuel', 'heat', 'lamp', 'light', 'mist', 'noise', 'pollution', 'power', 'rain', 'salt', 'sand', 'smoke', 'snow', 'sunlight', 'torch', 'water', 'waters', 'weather', 'wind']\n",
      "Cluster 30: ['brick', 'cloth', 'equipment', 'fabric', 'fibre', 'furniture', 'garment', 'glass', 'goods', 'machinery', 'metal', 'rock', 'stone', 'tile', 'wood']\n",
      "Cluster 31: ['acquisition', 'addition', 'allocation', 'availability', 'construction', 'consumption', 'conversion', 'delivery', 'development', 'distribution', 'evolution', 'expansion', 'extension', 'growth', 'improvement', 'isolation', 'maintenance', 'merger', 'preference', 'production', 'purchase', 'reduction', 'removal', 'sale', 'separation', 'shortage', 'transaction', 'transformation', 'transition', 'variation', 'withdrawal']\n",
      "Cluster 32: ['action', 'attempt', 'campaign', 'charity', 'consideration', 'consultation', 'course', 'curriculum', 'education', 'effort', 'initiative', 'instruction', 'intervention', 'lesson', 'negotiation', 'operation', 'planning', 'preparation', 'program', 'programme', 'project', 'promotion', 'qualification', 'relief', 'strategy', 'surgery', 'tactic', 'task', 'training', 'treatment']\n",
      "Cluster 33: ['ball', 'beam', 'blanket', 'brush', 'button', 'cable', 'carpet', 'desk', 'frame', 'grass', 'hole', 'hook', 'horizon', 'knot', 'ladder', 'layer', 'menu', 'nail', 'patch', 'pavement', 'pipe', 'pitch', 'plate', 'pocket', 'pole', 'rope', 'screen', 'shaft', 'shelf', 'slice', 'soil', 'stick', 'stitch', 'strip', 'stroke', 'surface', 'table', 'tube', 'vein', 'wicket', 'wire', 'wound']\n",
      "Cluster 34: ['atmosphere', 'countryside', 'earth', 'environment', 'heaven', 'hell', 'interior', 'landscape', 'moon', 'planet', 'universe', 'world']\n",
      "Cluster 35: ['accountant', 'adult', 'baby', 'child', 'citizen', 'clerk', 'detective', 'employee', 'executive', 'farmer', 'inhabitant', 'insider', 'lawyer', 'miner', 'nurse', 'official', 'passenger', 'peasant', 'policeman', 'practitioner', 'pupil', 'resident', 'servant', 'soldier', 'solicitor', 'student', 'teacher', 'teenager', 'tourist', 'traveller', 'visitor', 'worker', 'youngster', 'youth']\n",
      "Cluster 36: ['alice', 'anna', 'anne', 'blanche', 'caroline', 'charlie', 'diana', 'elizabeth', 'emily', 'harry', 'helen', 'isabel', 'jack', 'jane', 'kate', 'kelly', 'laura', 'lily', 'lucy', 'maggie', 'marie', 'mary', 'rachel', 'ruth', 'sarah', 'susan', 'tony', 'willie']\n",
      "Cluster 37: ['actor', 'adviser', 'analyst', 'architect', 'artist', 'author', 'commentator', 'consultant', 'critic', 'dancer', 'designer', 'developer', 'engineer', 'expert', 'historian', 'journalist', 'photographer', 'poet', 'producer', 'reporter', 'researcher', 'scholar', 'scientist', 'specialist', 'writer']\n",
      "Cluster 38: ['ambassador', 'auditor', 'candidate', 'captain', 'chairman', 'chancellor', 'coach', 'commander', 'commissioner', 'constable', 'councillor', 'delegate', 'delegation', 'director', 'embassy', 'governor', 'inspector', 'judge', 'justice', 'leader', 'magistrate', 'manager', 'member', 'minister', 'officer', 'organiser', 'politician', 'president', 'representative', 'secretary', 'sergeant', 'speaker', 'spokesman', 'trustee']\n",
      "Cluster 39: ['area', 'bank', 'capital', 'city', 'colony', 'community', 'constituency', 'continent', 'country', 'county', 'district', 'empire', 'estate', 'island', 'kingdom', 'land', 'nation', 'population', 'property', 'province', 'region', 'republic', 'seat', 'settlement', 'state', 'territory', 'town', 'village', 'ward', 'zone']\n",
      "Cluster 40: ['architecture', 'business', 'culture', 'design', 'discipline', 'economy', 'enterprise', 'ideology', 'industry', 'innovation', 'language', 'literature', 'market', 'medicine', 'music', 'myth', 'philosophy', 'poetry', 'politics', 'profession', 'religion', 'science', 'sector', 'sport', 'technology', 'tongue', 'tradition']\n",
      "Cluster 41: ['activity', 'attraction', 'boom', 'crisis', 'depression', 'discrimination', 'generation', 'inequality', 'inflation', 'movement', 'phenomenon', 'poverty', 'recession', 'revolution', 'sensation', 'trend', 'unemployment', 'wave']\n",
      "Cluster 42: ['bond', 'communication', 'comparison', 'compliance', 'connection', 'contradiction', 'contrast', 'cooperation', 'difference', 'distinction', 'friendship', 'integration', 'interaction', 'marriage', 'partnership', 'relation', 'relationship']\n",
      "Cluster 43: ['alternative', 'chance', 'choice', 'incentive', 'opportunity', 'option', 'prospect', 'prospects', 'replacement', 'selection', 'successor']\n",
      "Cluster 44: ['acre', 'dollar', 'hundred', 'inch', 'metre', 'mile', 'million', 'penny', 'pint', 'pound', 'thousand', 'tonne']\n",
      "Cluster 45: ['award', 'bowl', 'challenge', 'championship', 'competition', 'contest', 'draw', 'event', 'final', 'game', 'match', 'medal', 'prize', 'race', 'rally', 'round', 'tournament', 'trophy']\n",
      "Cluster 46: ['blood', 'body', 'bone', 'brain', 'breath', 'corpse', 'dream', 'flesh', 'hair', 'heart', 'limb', 'memory', 'mind', 'muscle', 'nerve', 'self', 'skin', 'soul', 'spirit', 'sweat', 'tissue', 'tooth', 'vision']\n",
      "Cluster 47: ['being', 'drawing', 'feeling', 'finding', 'living', 'meaning', 'means', 'painting', 'reading', 'sense', 'senses', 'setting', 'teaching', 'thinking', 'thought', 'understanding', 'writing']\n",
      "Cluster 48: ['agreement', 'announcement', 'appeal', 'compromise', 'consensus', 'decision', 'declaration', 'election', 'judgement', 'judgment', 'letter', 'message', 'motion', 'opinion', 'petition', 'plan', 'proposal', 'proposition', 'referendum', 'resolution', 'statement', 'treaty', 'verdict', 'vote', 'voter']\n",
      "Cluster 49: ['assembly', 'bench', 'board', 'commission', 'committee', 'conference', 'congress', 'convention', 'council', 'court', 'jury', 'meeting', 'panel', 'parliament', 'session', 'tribunal']\n",
      "Cluster 50: ['basis', 'category', 'circumstance', 'class', 'condition', 'grade', 'ground', 'grounds', 'location', 'occasion', 'place', 'position', 'rank', 'role', 'site', 'situation', 'spot', 'status']\n",
      "Cluster 51: ['brother', 'cousin', 'daughter', 'father', 'husband', 'lover', 'mother', 'sister', 'wife']\n",
      "Cluster 52: ['animal', 'apple', 'bird', 'bull', 'cattle', 'fig', 'fish', 'flower', 'forest', 'horse', 'insect', 'lamb', 'leaf', 'mouse', 'palm', 'rabbit', 'sheep', 'tree']\n",
      "Cluster 53: ['beer', 'bread', 'cake', 'champagne', 'cigarette', 'coffee', 'cream', 'crop', 'dish', 'drink', 'food', 'fruit', 'grain', 'juice', 'meat', 'milk', 'potato', 'seed', 'sugar', 'wine']\n",
      "Cluster 54: ['advance', 'change', 'decline', 'increase', 'move', 'progress', 'return', 'rise', 'rose', 'shift', 'spread', 'switch', 'transfer']\n",
      "Cluster 55: ['ankle', 'breast', 'brow', 'cheek', 'chest', 'chin', 'elbow', 'eyebrow', 'finger', 'foot', 'forehead', 'hand', 'knee', 'mouth', 'neck', 'nose', 'shoulder', 'spine', 'stomach', 'tail', 'thigh', 'throat', 'thumb', 'waist', 'wrist']\n",
      "Cluster 56: ['heap', 'kind', 'mess', 'nest', 'pile', 'sort', 'type', 'waste']\n",
      "Cluster 57: ['boss', 'buyer', 'client', 'collector', 'competitor', 'consumer', 'creditor', 'customer', 'dealer', 'employer', 'investor', 'landlord', 'maker', 'manufacturer', 'operator', 'owner', 'participant', 'partner', 'purchaser', 'seller', 'shareholder', 'supplier', 'tenant', 'vendor']\n",
      "Cluster 58: ['acid', 'alcohol', 'bacterium', 'chemical', 'drug', 'gene', 'molecule', 'organism', 'protein', 'species', 'substance', 'virus']\n",
      "Cluster 59: ['abuse', 'affair', 'behaviour', 'breach', 'conduct', 'conflict', 'controversy', 'crime', 'dilemma', 'dispute', 'error', 'fault', 'incident', 'issue', 'matter', 'mistake', 'offence', 'problem', 'question', 'scandal', 'subject', 'topic']\n",
      "Cluster 60: ['advice', 'approval', 'assistance', 'consent', 'direction', 'guidance', 'help', 'invitation', 'permission', 'recommendation', 'request', 'suggestion']\n",
      "Cluster 61: ['afternoon', 'autumn', 'evening', 'morning', 'night', 'spring', 'summer', 'weekend', 'winter']\n",
      "Cluster 62: ['appearance', 'ceremony', 'conversation', 'debate', 'demonstration', 'dialogue', 'discourse', 'discussion', 'interview', 'lecture', 'performance', 'prayer', 'presentation', 'protest', 'ritual', 'speech', 'talk', 'thread']\n",
      "Cluster 63: ['bishop', 'duke', 'earl', 'emperor', 'king', 'lady', 'lord', 'pope', 'priest', 'prince', 'princess', 'queen']\n",
      "Cluster 64: ['alarm', 'contact', 'dance', 'gaze', 'glance', 'glimpse', 'grin', 'hearing', 'hint', 'kiss', 'laugh', 'look', 'love', 'sigh', 'sight', 'sleep', 'smile', 'touch', 'warning']\n",
      "Cluster 65: ['angel', 'character', 'christ', 'creature', 'doctor', 'female', 'figure', 'gentleman', 'ghost', 'girl', 'hero', 'jesus', 'killer', 'knight', 'male', 'master', 'monster', 'personality', 'shadow', 'star', 'stranger', 'thief', 'woman']\n",
      "Cluster 66: ['adam', 'athelstan', 'benjamin', 'charles', 'david', 'edward', 'francis', 'george', 'henry', 'james', 'john', 'joseph', 'luke', 'martin', 'michael', 'mungo', 'nigel', 'patrick', 'paul', 'peter', 'philip', 'richard', 'robert', 'robyn', 'simon', 'stephen', 'thomas', 'william']\n",
      "Cluster 67: ['exchange', 'export', 'import', 'supplies', 'supply', 'trade', 'trading', 'transport']\n",
      "Cluster 68: ['army', 'band', 'crew', 'family', 'fleet', 'force', 'gang', 'group', 'household', 'personnel', 'squad', 'staff', 'team', 'troops']\n",
      "Cluster 69: ['enemy', 'guard', 'opponent', 'police', 'prey', 'prisoner', 'rebel', 'refugee', 'target', 'volunteer', 'watch', 'witness']\n",
      "Cluster 70: ['assumption', 'awareness', 'concept', 'conception', 'consciousness', 'definition', 'description', 'doctrine', 'explanation', 'expression', 'hypothesis', 'idea', 'identification', 'identity', 'impression', 'interpretation', 'logic', 'notion', 'observation', 'perception', 'premise', 'principle', 'reflection', 'representation', 'theory']\n",
      "Cluster 71: ['beach', 'cliff', 'coast', 'gulf', 'hill', 'lake', 'mountain', 'ocean', 'peak', 'pond', 'pool', 'ridge', 'river', 'shore', 'summit', 'valley']\n",
      "Cluster 72: ['accuracy', 'complexity', 'context', 'effectiveness', 'efficiency', 'importance', 'quality', 'scope', 'sensitivity', 'significance', 'stability', 'validity', 'value']\n",
      "Cluster 73: ['ceiling', 'curtain', 'deck', 'door', 'doorway', 'entrance', 'fence', 'floor', 'gate', 'roof', 'stair', 'terrace', 'wall', 'window']\n",
      "Cluster 74: ['april', 'february', 'june', 'march']\n",
      "Cluster 75: ['benefit', 'burden', 'cost', 'damage', 'damages', 'expense', 'gain', 'harm', 'profit', 'risk']\n",
      "Cluster 76: ['airport', 'branch', 'bridge', 'canal', 'corridor', 'lane', 'line', 'path', 'port', 'rail', 'railway', 'road', 'route', 'station', 'street', 'trail', 'tunnel']\n",
      "Cluster 77: ['album', 'book', 'diary', 'drama', 'film', 'horror', 'movie', 'mystery', 'novel', 'secret', 'series', 'story', 'tale']\n",
      "Cluster 78: ['back', 'border', 'bottom', 'boundary', 'chair', 'corner', 'edge', 'face', 'forward', 'front', 'head', 'heel', 'middle', 'side']\n",
      "Cluster 79: ['east', 'north', 'south', 'west']\n",
      "Cluster 80: ['call', 'caution', 'demand', 'doubt', 'favour', 'fear', 'gesture', 'gift', 'grant', 'honour', 'hope', 'need', 'offer', 'promise', 'respect', 'reward', 'thanks', 'wish']\n",
      "Cluster 81: ['advertisement', 'advertising', 'feature', 'headline', 'image', 'photograph', 'picture', 'portrait', 'poster', 'profile', 'signature', 'statue', 'video']\n",
      "Cluster 82: ['leeds', 'liverpool', 'london', 'moscow', 'oxford', 'paris', 'rome', 'washington', 'york']\n",
      "Cluster 83: ['boot', 'clothes', 'coat', 'collar', 'cover', 'dress', 'glove', 'jacket', 'mask', 'shirt', 'shoe', 'skirt', 'sleeve', 'suit', 'trousers', 'uniform']\n",
      "Cluster 84: ['allegation', 'answer', 'argument', 'claim', 'comment', 'complaint', 'joke', 'note', 'notice', 'objection', 'remark', 'reply', 'rumour', 'speculation']\n",
      "Cluster 85: ['block', 'blow', 'break', 'crack', 'delay', 'drive', 'drop', 'kick', 'let', 'lift', 'pass', 'punch', 'ride', 'roll', 'slide', 'stand', 'stop', 'tear', 'walk']\n",
      "Cluster 86: ['journal', 'magazine', 'media', 'newspaper', 'press', 'publication', 'publisher']\n",
      "Cluster 87: ['cancer', 'disease', 'disorder', 'illness', 'infection', 'injury']\n",
      "Cluster 88: ['africa', 'america', 'australia', 'britain', 'china', 'england', 'europe', 'france', 'germany', 'india', 'iraq', 'ireland', 'israel', 'italy', 'japan', 'kong', 'russia', 'scotland', 'spain', 'wales']\n",
      "Cluster 89: ['arrow', 'blade', 'bomb', 'bullet', 'fist', 'knife', 'missile', 'needle', 'pillow', 'shell', 'sword', 'weapon']\n",
      "Cluster 90: ['conclusion', 'consequence', 'evidence', 'expectation', 'fact', 'goal', 'implication', 'intention', 'motive', 'nature', 'necessity', 'objective', 'outcome', 'possibility', 'proof', 'purpose', 'reality', 'reason', 'result', 'truth', 'virtue']\n",
      "Cluster 91: ['camp', 'centre', 'clinic', 'college', 'concert', 'exhibition', 'facility', 'festival', 'gallery', 'hospital', 'institute', 'laboratory', 'library', 'museum', 'prison', 'school', 'studio', 'theatre', 'university', 'workshop']\n",
      "Cluster 92: ['baker', 'clarke', 'corbett', 'eliot', 'graham', 'howard', 'jackson', 'johnson', 'jones', 'lewis', 'miller', 'morgan', 'scot', 'scott', 'smith', 'taylor', 'walker', 'williams', 'wilson', 'wright']\n",
      "Cluster 93: ['bell', 'channel', 'clock', 'guitar', 'horn', 'instrument', 'network', 'organ', 'phone', 'radio', 'telephone', 'television', 'voice']\n",
      "Cluster 94: ['angle', 'concentration', 'degree', 'depth', 'depths', 'distance', 'dose', 'ease', 'extent', 'frequency', 'height', 'incidence', 'intensity', 'length', 'level', 'load', 'mass', 'pace', 'rate', 'ratio', 'scale', 'size', 'speed', 'temperature', 'weight']\n",
      "Cluster 95: ['base', 'battery', 'belt', 'building', 'cell', 'circle', 'complex', 'compound', 'core', 'crown', 'dimension', 'division', 'domain', 'field', 'landing', 'ring', 'space', 'sphere', 'tower', 'unit', 'wing']\n",
      "Cluster 96: ['colour', 'detail', 'fashion', 'flavour', 'form', 'format', 'manner', 'mood', 'outline', 'paint', 'rhythm', 'scent', 'shape', 'smell', 'sound', 'style', 'taste', 'tone']\n",
      "Cluster 97: ['champion', 'defender', 'driver', 'holder', 'pilot', 'player', 'receiver', 'rider', 'winner']\n",
      "Cluster 98: ['average', 'deficit', 'margin', 'maximum', 'minimum', 'rating', 'score', 'total', 'turnover']\n",
      "Cluster 99: ['administration', 'agency', 'agent', 'cabinet', 'department', 'government', 'headquarters', 'leadership', 'management', 'ministry', 'office', 'regime', 'treasury']\n"
     ]
    }
   ],
   "source": [
    "agglomerative_clustering(words_deps, embeddings_deps, 100)"
   ]
  },
  {
   "cell_type": "markdown",
   "metadata": {},
   "source": [
    "### Density-based Clustering (e.g: DBSCAN)"
   ]
  },
  {
   "cell_type": "code",
   "execution_count": 171,
   "metadata": {},
   "outputs": [],
   "source": [
    "from sklearn.cluster import DBSCAN\n",
    "\n",
    "def dbscan_clustering(words, embeddings, min_samples, epsilon):\n",
    "    dbscan_model = DBSCAN(eps=epsilon, min_samples=min_samples)\n",
    "    dbscan_fit = dbscan_model.fit(embeddings)\n",
    "    dbscan_labels = dbscan_fit.labels_\n",
    "    num_clusters = len(set(dbscan_labels)) - (1 if -1 in dbscan_labels else 0)\n",
    "    print('Num clusters: %s' % num_clusters)\n",
    "    for i in range(num_clusters):\n",
    "        print('Cluster %s: %s' % (i, list(compress(words, dbscan_labels==i))))\n",
    "    return dbscan_labels"
   ]
  },
  {
   "cell_type": "code",
   "execution_count": 56,
   "metadata": {},
   "outputs": [
    {
     "name": "stdout",
     "output_type": "stream",
     "text": [
      "Num clusters: 26\n",
      "Cluster 0: ['accountant', 'adviser', 'analyst', 'artist', 'auditor', 'author', 'clerk', 'commentator', 'constable', 'consultant', 'councillor', 'critic', 'historian', 'journalist', 'judge', 'lawyer', 'magistrate', 'photographer', 'poet', 'politician', 'publisher', 'reporter', 'researcher', 'scholar', 'scientist', 'solicitor', 'writer']\n",
      "Cluster 1: ['afternoon', 'evening', 'morning', 'night']\n",
      "Cluster 2: ['alice', 'anna', 'anne', 'caroline', 'diana', 'elizabeth', 'emily', 'helen', 'isabel', 'jane', 'kate', 'laura', 'lucy', 'maggie', 'marie', 'mary', 'rachel', 'robyn', 'ruth', 'sarah', 'susan']\n",
      "Cluster 3: ['analysis', 'assessment', 'calculation', 'evaluation', 'inspection', 'measurement']\n",
      "Cluster 4: ['anger', 'anxiety', 'confusion', 'contempt', 'disappointment', 'embarrassment', 'emotion', 'enthusiasm', 'excitement', 'frustration', 'hostility', 'laughter', 'pain', 'passion', 'respect', 'sympathy', 'uncertainty', 'warmth']\n",
      "Cluster 5: ['ankle', 'breast', 'brow', 'cheek', 'chest', 'elbow', 'eyebrow', 'forehead', 'knee', 'mouth', 'neck', 'nose', 'shoulder', 'skin', 'spine', 'stomach', 'thigh', 'throat', 'thumb', 'waist', 'wrist']\n",
      "Cluster 6: ['april', 'february', 'june', 'march']\n",
      "Cluster 7: ['autumn', 'spring', 'summer', 'winter']\n",
      "Cluster 8: ['baker', 'clarke', 'jackson', 'johnson', 'jones', 'lewis', 'miller', 'smith', 'taylor', 'walker', 'williams', 'wilson', 'wright']\n",
      "Cluster 9: ['bathroom', 'bedroom', 'cupboard', 'kitchen']\n",
      "Cluster 10: ['bread', 'cake', 'meat', 'milk']\n",
      "Cluster 11: ['america', 'britain', 'china', 'england', 'europe', 'france', 'germany', 'india', 'ireland', 'italy', 'japan', 'russia', 'scotland', 'spain']\n",
      "Cluster 12: ['brother', 'cousin', 'daughter', 'father', 'husband', 'lover', 'mother', 'sister', 'wife']\n",
      "Cluster 13: ['chair', 'chairman', 'deputy', 'director', 'minister', 'president', 'secretary', 'trustee']\n",
      "Cluster 14: ['charles', 'david', 'edward', 'francis', 'george', 'henry', 'james', 'john', 'joseph', 'michael', 'patrick', 'paul', 'peter', 'philip', 'richard', 'robert', 'stephen', 'thomas', 'william']\n",
      "Cluster 15: ['captain', 'command', 'commander', 'sergeant']\n",
      "Cluster 16: ['answer', 'comment', 'remark', 'reply', 'response', 'statement']\n",
      "Cluster 17: ['applicant', 'buyer', 'creditor', 'defendant', 'plaintiff', 'purchaser']\n",
      "Cluster 18: ['ambition', 'commitment', 'desire', 'refusal', 'tendency', 'willingness', 'wish']\n",
      "Cluster 19: ['clothes', 'dress', 'jacket', 'shirt', 'skirt', 'trousers']\n",
      "Cluster 20: ['east', 'north', 'south', 'west']\n",
      "Cluster 21: ['assumption', 'concept', 'idea', 'implication', 'notion', 'premise']\n",
      "Cluster 22: ['image', 'photograph', 'picture', 'portrait']\n",
      "Cluster 23: ['proposal', 'recommendation', 'request', 'suggestion']\n",
      "Cluster 24: ['decade', 'month', 'week', 'weekend', 'year']\n",
      "Cluster 25: ['girl', 'person', 'teenager', 'woman']\n"
     ]
    }
   ],
   "source": [
    "dbscan_clustering(words_bow2, embeddings_bow2, 4, 0.9)"
   ]
  },
  {
   "cell_type": "code",
   "execution_count": 172,
   "metadata": {},
   "outputs": [
    {
     "name": "stdout",
     "output_type": "stream",
     "text": [
      "Num clusters: 35\n",
      "Cluster 0: ['accountant', 'actor', 'adviser', 'analyst', 'architect', 'artist', 'assistant', 'auditor', 'author', 'cabinet', 'captain', 'chair', 'chairman', 'chief', 'clerk', 'command', 'commander', 'commentator', 'commissioner', 'constable', 'consultant', 'court', 'critic', 'dancer', 'deputy', 'designer', 'director', 'engineer', 'executive', 'farmer', 'head', 'historian', 'inspector', 'journalist', 'judge', 'justice', 'lawyer', 'magistrate', 'manager', 'minister', 'ministry', 'officer', 'photographer', 'poet', 'politician', 'president', 'prime', 'producer', 'publisher', 'reporter', 'researcher', 'scholar', 'scientist', 'secretary', 'sergeant', 'solicitor', 'trustee', 'writer']\n",
      "Cluster 1: ['adam', 'alice', 'anna', 'anne', 'baker', 'benjamin', 'blanche', 'brother', 'caroline', 'charles', 'charlie', 'clarke', 'colleague', 'corbett', 'cousin', 'daughter', 'david', 'diana', 'edward', 'elizabeth', 'emily', 'father', 'francis', 'friend', 'george', 'graham', 'harry', 'helen', 'henry', 'howard', 'husband', 'isabel', 'jack', 'jackson', 'james', 'jane', 'john', 'johnson', 'jones', 'joseph', 'kate', 'kelly', 'laura', 'lewis', 'lily', 'lover', 'lucy', 'luke', 'maggie', 'marie', 'mark', 'martin', 'mary', 'michael', 'miller', 'morgan', 'mother', 'nigel', 'partner', 'patrick', 'paul', 'peter', 'philip', 'rachel', 'richard', 'robert', 'robyn', 'ruth', 'sarah', 'scott', 'simon', 'sister', 'smith', 'stephen', 'susan', 'taylor', 'thomas', 'walker', 'wife', 'william', 'williams', 'willie', 'wilson', 'wright']\n",
      "Cluster 2: ['afternoon', 'evening', 'morning', 'night', 'weekend']\n",
      "Cluster 3: ['analysis', 'assessment', 'calculation', 'evaluation', 'measure', 'measurement']\n",
      "Cluster 4: ['anger', 'contempt', 'disappointment', 'emotion', 'enthusiasm', 'excitement', 'fear', 'frustration', 'hostility', 'imagination', 'laughter', 'passion', 'perception', 'sympathy']\n",
      "Cluster 5: ['ankle', 'bone', 'brain', 'cell', 'cheek', 'chest', 'clothes', 'collar', 'dress', 'elbow', 'eyebrow', 'flesh', 'forehead', 'hair', 'illness', 'injury', 'jacket', 'knee', 'limb', 'muscle', 'neck', 'nerve', 'nose', 'rope', 'shirt', 'shoulder', 'skin', 'skirt', 'sleeve', 'spine', 'stomach', 'tail', 'thigh', 'throat', 'thumb', 'tissue', 'tooth', 'trousers', 'uniform', 'waist', 'wrist']\n",
      "Cluster 6: ['anxiety', 'bacterium', 'cancer', 'disease', 'disorder', 'infection', 'organism', 'pain', 'strain', 'stress', 'symptom', 'virus']\n",
      "Cluster 7: ['april', 'february', 'june', 'march']\n",
      "Cluster 8: ['autumn', 'spring', 'summer', 'winter']\n",
      "Cluster 9: ['apartment', 'bathroom', 'bedroom', 'cupboard', 'downstairs', 'kitchen', 'room']\n",
      "Cluster 10: ['beer', 'bottle', 'bread', 'breakfast', 'cake', 'champagne', 'coffee', 'cream', 'dinner', 'dish', 'drink', 'food', 'fruit', 'juice', 'lamb', 'lunch', 'meal', 'meat', 'milk', 'potato', 'recipe', 'sugar', 'wine']\n",
      "Cluster 11: ['brick', 'building', 'roof', 'stone', 'tile']\n",
      "Cluster 12: ['applicant', 'buyer', 'conviction', 'creditor', 'defendant', 'plaintiff', 'prosecution', 'purchaser', 'seller', 'trial']\n",
      "Cluster 13: ['bishop', 'cathedral', 'chapel', 'church']\n",
      "Cluster 14: ['allegation', 'answer', 'argument', 'comment', 'complaint', 'objection', 'plan', 'proposal', 'recommendation', 'remark', 'reply', 'request', 'statement', 'suggestion']\n",
      "Cluster 15: ['board', 'commission', 'committee', 'council']\n",
      "Cluster 16: ['company', 'corp', 'corporation', 'factory', 'firm', 'maker', 'manufacturer', 'subsidiary', 'supplier']\n",
      "Cluster 17: ['concept', 'hypothesis', 'idea', 'implication', 'notion', 'premise', 'principle']\n",
      "Cluster 18: ['consensus', 'debate', 'discussion', 'thread']\n",
      "Cluster 19: ['dividend', 'earnings', 'income', 'pension', 'revenue', 'salary', 'wages']\n",
      "Cluster 20: ['east', 'north', 'south', 'west']\n",
      "Cluster 21: ['application', 'framework', 'implementation', 'integration', 'specification']\n",
      "Cluster 22: ['asset', 'debt', 'insurance', 'investment', 'investor', 'mortgage', 'savings']\n",
      "Cluster 23: ['france', 'germany', 'italy', 'rome', 'spain']\n",
      "Cluster 24: ['experience', 'expertise', 'knowledge', 'understanding']\n",
      "Cluster 25: ['approach', 'mechanism', 'method', 'technique']\n",
      "Cluster 26: ['book', 'novel', 'poem', 'poetry', 'story', 'verse']\n",
      "Cluster 27: ['cheque', 'compensation', 'payment', 'receipt', 'subsidy']\n",
      "Cluster 28: ['duke', 'king', 'prince', 'princess']\n",
      "Cluster 29: ['amount', 'fraction', 'percentage', 'proportion', 'quantity', 'value']\n",
      "Cluster 30: ['beam', 'frequency', 'impulse', 'pulse']\n",
      "Cluster 31: ['passenger', 'rail', 'railway', 'train']\n",
      "Cluster 32: ['restaurant', 'shop', 'store']\n",
      "Cluster 33: ['blade', 'fist', 'knife', 'sword']\n",
      "Cluster 34: ['ability', 'commitment', 'desire', 'refusal', 'willingness']\n"
     ]
    }
   ],
   "source": [
    "dbscan_labels = dbscan_clustering(words_bow5, embeddings_bow5, 4, 0.9)"
   ]
  },
  {
   "cell_type": "code",
   "execution_count": 69,
   "metadata": {},
   "outputs": [
    {
     "name": "stdout",
     "output_type": "stream",
     "text": [
      "Num clusters: 34\n",
      "Cluster 0: ['ability', 'acceptance', 'accountant', 'accuracy', 'achievement', 'acquisition', 'action', 'actor', 'admission', 'adoption', 'advice', 'adviser', 'affair', 'agenda', 'agreement', 'aircraft', 'album', 'allegation', 'allocation', 'allowance', 'ambassador', 'ambition', 'amendment', 'amount', 'analysis', 'analyst', 'anger', 'animal', 'ankle', 'announcement', 'answer', 'anxiety', 'apartment', 'applicant', 'application', 'approval', 'architect', 'argument', 'arrangement', 'artist', 'assessment', 'asset', 'assistance', 'assistant', 'assumption', 'attitude', 'auditor', 'author', 'awareness', 'bacterium', 'barrel', 'basket', 'bathroom', 'beauty', 'bedroom', 'beer', 'behaviour', 'belief', 'benefit', 'bike', 'bill', 'bird', 'blade', 'blanket', 'boat', 'bomb', 'bone', 'book', 'boot', 'bottle', 'brain', 'bread', 'breakfast', 'breast', 'breeze', 'brow', 'bucket', 'budget', 'bulk', 'buyer', 'cable', 'cake', 'calculation', 'cancer', 'candle', 'capability', 'capacity', 'captain', 'carpet', 'carriage', 'ceiling', 'chair', 'chairman', 'champagne', 'chance', 'chancellor', 'chaos', 'cheek', 'cheque', 'chest', 'chin', 'chip', 'cigarette', 'claim', 'clause', 'clerk', 'client', 'cliff', 'clinic', 'cloth', 'clothes', 'cloud', 'coach', 'coal', 'coat', 'coffee', 'coffin', 'collar', 'collector', 'commander', 'comment', 'commentator', 'commissioner', 'commitment', 'communication', 'comparison', 'compensation', 'complaint', 'complexity', 'computer', 'concept', 'conception', 'concession', 'conclusion', 'conflict', 'confusion', 'connection', 'consciousness', 'consent', 'consideration', 'constable', 'constitution', 'constraint', 'construction', 'consultant', 'consultation', 'consumer', 'consumption', 'container', 'contempt', 'contract', 'contradiction', 'contrast', 'contribution', 'controversy', 'conversation', 'conversion', 'cooperation', 'corpse', 'cottage', 'councillor', 'courage', 'court', 'craft', 'cream', 'creation', 'creature', 'creditor', 'crisis', 'criterion', 'critic', 'criticism', 'culture', 'cupboard', 'curiosity', 'curve', 'customer', 'damages', 'dancer', 'darkness', 'datum', 'dealer', 'debate', 'debt', 'deck', 'declaration', 'decline', 'decree', 'defendant', 'definition', 'delegate', 'delegation', 'depression', 'deputy', 'description', 'designer', 'desire', 'destruction', 'detective', 'determination', 'developer', 'development', 'device', 'dialogue', 'difference', 'difficulty', 'dilemma', 'dinner', 'director', 'disappointment', 'disc', 'discourse', 'discrimination', 'discussion', 'disease', 'dish', 'disk', 'disorder', 'dispute', 'distribution', 'dividend', 'doctrine', 'dollar', 'door', 'doorway', 'dress', 'dust', 'duty', 'earnings', 'edge', 'editor', 'effectiveness', 'efficiency', 'elbow', 'embarrassment', 'emotion', 'employee', 'employer', 'engineer', 'enquiry', 'enthusiasm', 'entrance', 'entry', 'envelope', 'equation', 'equipment', 'essay', 'establishment', 'estate', 'evaluation', 'evolution', 'examination', 'excitement', 'expansion', 'expectation', 'expenditure', 'expense', 'expert', 'expertise', 'explanation', 'exposure', 'expression', 'extension', 'eyebrow', 'fabric', 'facility', 'factory', 'failure', 'faith', 'farm', 'farmer', 'fear', 'fibre', 'film', 'finger', 'fish', 'fist', 'flame', 'flesh', 'floor', 'flower', 'food', 'foot', 'forehead', 'formation', 'formula', 'fraction', 'framework', 'frequency', 'friendship', 'fruit', 'frustration', 'furniture', 'garage', 'garment', 'gate', 'gear', 'gene', 'gentleman', 'girl', 'glove', 'goods', 'governor', 'grain', 'grass', 'grin', 'growth', 'guidance', 'guideline', 'hair', 'happiness', 'heel', 'helicopter', 'help', 'hill', 'historian', 'holder', 'horse', 'hospital', 'hostility', 'hotel', 'house', 'hypothesis', 'idea', 'ideology', 'illness', 'imagination', 'implementation', 'implication', 'importance', 'improvement', 'incentive', 'inch', 'income', 'increase', 'inequality', 'infection', 'inflation', 'injury', 'innovation', 'inquiry', 'insect', 'inspection', 'inspector', 'instinct', 'insurance', 'integration', 'intensity', 'intention', 'interface', 'interpretation', 'intervention', 'introduction', 'investigation', 'investment', 'investor', 'invitation', 'involvement', 'isolation', 'jacket', 'journalist', 'judge', 'juice', 'killer', 'kitchen', 'knee', 'knife', 'knowledge', 'laboratory', 'lack', 'ladder', 'lamp', 'landlord', 'laugh', 'laughter', 'lawyer', 'leader', 'lease', 'legislation', 'liability', 'licence', 'limb', 'limit', 'limitation', 'literature', 'loan', 'logic', 'lorry', 'loyalty', 'lunch', 'machine', 'machinery', 'magistrate', 'majority', 'maker', 'manager', 'manufacturer', 'marriage', 'mask', 'meal', 'measurement', 'meat', 'mechanism', 'member', 'membership', 'menu', 'method', 'milk', 'mill', 'miner', 'minister', 'ministry', 'minority', 'missile', 'mist', 'module', 'molecule', 'monster', 'mood', 'mortgage', 'mountain', 'mouse', 'mouth', 'muscle', 'myth', 'necessity', 'neck', 'need', 'needle', 'negotiation', 'nerve', 'nose', 'note', 'notion', 'novel', 'nurse', 'objection', 'obligation', 'observation', 'offender', 'officer', 'operator', 'opposition', 'organiser', 'organism', 'owner', 'package', 'pain', 'parameter', 'part', 'participation', 'particle', 'partnership', 'passion', 'pattern', 'pavement', 'payment', 'penny', 'pension', 'percentage', 'perception', 'permission', 'person', 'petition', 'phenomenon', 'philosophy', 'photographer', 'pillow', 'pint', 'pipe', 'plaintiff', 'plan', 'plane', 'planning', 'plant', 'player', 'pleasure', 'poem', 'poet', 'poetry', 'police', 'policeman', 'policy', 'politician', 'politics', 'portion', 'position', 'possibility', 'potato', 'pound', 'poverty', 'practitioner', 'premise', 'premium', 'president', 'pressure', 'principle', 'problem', 'procedure', 'process', 'processor', 'producer', 'profit', 'proportion', 'proposal', 'proposition', 'prosecution', 'prospect', 'protein', 'protocol', 'provision', 'publication', 'publisher', 'punishment', 'pupil', 'purchase', 'purchaser', 'quality', 'quantity', 'quote', 'rabbit', 'rage', 'rain', 'ratio', 'receipt', 'recession', 'recognition', 'recommendation', 'refusal', 'regulation', 'rejection', 'relation', 'relationship', 'religion', 'remark', 'rent', 'reply', 'reporter', 'representation', 'representative', 'request', 'requirement', 'researcher', 'resistance', 'resource', 'response', 'responsibility', 'restaurant', 'restriction', 'revenue', 'reward', 'ridge', 'rise', 'roof', 'room', 'rope', 'rumour', 'salary', 'sale', 'salt', 'sand', 'satisfaction', 'savings', 'scandal', 'scheme', 'scholar', 'science', 'scientist', 'secretary', 'section', 'security', 'seller', 'sensation', 'sensitivity', 'separation', 'sergeant', 'servant', 'shaft', 'shareholder', 'sheet', 'ship', 'shirt', 'shoe', 'shop', 'shoulder', 'sigh', 'significance', 'situation', 'skill', 'skin', 'skirt', 'sleeve', 'slice', 'slope', 'smile', 'smoke', 'snow', 'sofa', 'software', 'soil', 'soldier', 'solicitor', 'song', 'source', 'specialist', 'specification', 'speculation', 'spine', 'spokesman', 'stability', 'stair', 'stance', 'standard', 'statement', 'statute', 'stomach', 'store', 'story', 'stranger', 'strategy', 'strength', 'stress', 'structure', 'struggle', 'student', 'style', 'subsidy', 'sugar', 'suggestion', 'sunlight', 'supplier', 'supporter', 'surprise', 'survey', 'suspicion', 'sweat', 'sword', 'sympathy', 'system', 'tactic', 'tail', 'tale', 'talent', 'tape', 'taxi', 'teacher', 'technique', 'technology', 'teenager', 'tenant', 'tendency', 'tension', 'tent', 'terrace', 'terror', 'theme', 'theory', 'thief', 'thigh', 'thread', 'throat', 'thumb', 'tissue', 'tone', 'tonne', 'tool', 'torch', 'towel', 'tradition', 'train', 'transformation', 'transition', 'traveller', 'tray', 'treaty', 'trend', 'trousers', 'truck', 'trustee', 'tube', 'tune', 'turnover', 'uncertainty', 'understanding', 'unemployment', 'uniform', 'user', 'validity', 'value', 'vehicle', 'vendor', 'verse', 'vessel', 'victim', 'violence', 'virus', 'wages', 'waist', 'wall', 'warmth', 'water', 'wealth', 'weapon', 'weather', 'wheel', 'willingness', 'window', 'wine', 'wire', 'wish', 'woman', 'worker', 'wrist', 'writer', 'youngster']\n",
      "Cluster 1: ['accident', 'crash', 'disaster', 'explosion', 'incident', 'tragedy']\n",
      "Cluster 2: ['africa', 'america', 'australia', 'britain', 'china', 'england', 'europe', 'france', 'germany', 'india', 'iraq', 'ireland', 'israel', 'italy', 'japan', 'kong', 'leeds', 'liverpool', 'london', 'moscow', 'oxford', 'paris', 'rome', 'russia', 'scotland', 'spain', 'wales', 'york']\n",
      "Cluster 3: ['afternoon', 'century', 'decade', 'evening', 'month', 'morning', 'night', 'week', 'weekend', 'year']\n",
      "Cluster 4: ['alice', 'anna', 'anne', 'athelstan', 'baker', 'benjamin', 'blanche', 'bush', 'caroline', 'charles', 'charlie', 'clarke', 'clinton', 'corbett', 'david', 'diana', 'edward', 'eliot', 'elizabeth', 'emily', 'francis', 'george', 'gorbachev', 'graham', 'harry', 'helen', 'henry', 'hitler', 'howard', 'isabel', 'jack', 'jackson', 'james', 'jane', 'john', 'johnson', 'jones', 'joseph', 'kate', 'kelly', 'kinnock', 'laura', 'lewis', 'lily', 'lucy', 'luke', 'maggie', 'marie', 'martin', 'mary', 'michael', 'miller', 'morgan', 'mungo', 'nigel', 'patrick', 'paul', 'peter', 'philip', 'rachel', 'richard', 'robert', 'robyn', 'ruth', 'sarah', 'scot', 'scott', 'simon', 'smith', 'stephen', 'susan', 'taylor', 'thatcher', 'thomas', 'tony', 'walker', 'william', 'williams', 'willie', 'wilson', 'wright']\n",
      "Cluster 5: ['alliance', 'association', 'coalition']\n",
      "Cluster 6: ['april', 'february', 'june', 'march']\n",
      "Cluster 7: ['army', 'fleet', 'force', 'troops']\n",
      "Cluster 8: ['aspect', 'characteristic', 'component', 'element', 'ingredient']\n",
      "Cluster 9: ['assault', 'attack', 'invasion', 'raid']\n",
      "Cluster 10: ['autumn', 'spring', 'summer', 'winter']\n",
      "Cluster 11: ['brother', 'child', 'colleague', 'cousin', 'daughter', 'father', 'friend', 'husband', 'lover', 'mother', 'partner', 'sister', 'wife']\n",
      "Cluster 12: ['champion', 'championship', 'competition', 'contest', 'event', 'tournament', 'trophy']\n",
      "Cluster 13: ['board', 'commission', 'committee', 'council', 'tribunal']\n",
      "Cluster 14: ['company', 'corp', 'corporation', 'firm']\n",
      "Cluster 15: ['conviction', 'decision', 'discretion', 'injunction', 'judgement', 'judgment', 'verdict']\n",
      "Cluster 16: ['appointment', 'arrival', 'death', 'departure', 'resignation', 'retirement', 'withdrawal']\n",
      "Cluster 17: ['east', 'north', 'south', 'west']\n",
      "Cluster 18: ['curriculum', 'education', 'instruction', 'training']\n",
      "Cluster 19: ['duke', 'emperor', 'king', 'pope', 'prince', 'princess', 'queen']\n",
      "Cluster 20: ['american', 'english', 'french', 'german', 'russian']\n",
      "Cluster 21: ['administration', 'cabinet', 'government', 'regime']\n",
      "Cluster 22: ['agency', 'institute', 'institution', 'organisation', 'organization']\n",
      "Cluster 23: ['arrest', 'crime', 'killing', 'murder']\n",
      "Cluster 24: ['magazine', 'newspaper', 'paper']\n",
      "Cluster 25: ['drawing', 'image', 'painting', 'photograph', 'picture', 'portrait', 'statue']\n",
      "Cluster 26: ['article', 'paragraph', 'sentence']\n",
      "Cluster 27: ['program', 'programme', 'project']\n",
      "Cluster 28: ['array', 'mixture', 'range', 'spectrum', 'variety']\n",
      "Cluster 29: ['corridor', 'lane', 'path', 'road', 'route', 'street', 'trail']\n",
      "Cluster 30: ['change', 'move', 'shift', 'switch']\n",
      "Cluster 31: ['city', 'settlement', 'town', 'village']\n",
      "Cluster 32: ['expedition', 'journey', 'trip', 'visit']\n",
      "Cluster 33: ['black', 'brown', 'green', 'white']\n"
     ]
    }
   ],
   "source": [
    "dbscan_clustering(words_deps, embeddings_deps, 4, 0.9)"
   ]
  },
  {
   "cell_type": "code",
   "execution_count": 190,
   "metadata": {},
   "outputs": [],
   "source": [
    "#t-SNE\n",
    "from sklearn.manifold import TSNE\n",
    "\n",
    "def tsne_visualization_dense(words, embeddings, p, num_iter, title):\n",
    "    tsne = TSNE(n_components=2, verbose=1, perplexity=p, n_iter=num_iter)\n",
    "    tsne_results = tsne.fit_transform(embeddings)\n",
    "    p = figure(tools=\"pan,wheel_zoom,reset,save\",\n",
    "               toolbar_location=\"above\",\n",
    "               title=title)\n",
    "    colormap = viridis(35)\n",
    "    colors = [colormap[i] for i in filtered_labels_bow5]\n",
    "    source = ColumnDataSource(data=dict(x1=tsne_results[:,0],\n",
    "                                        x2=tsne_results[:,1],\n",
    "                                        names=words, \n",
    "                                        colors=colors))\n",
    "    \n",
    "    p.scatter(x=\"x1\", y=\"x2\", size=8, source=source, color = 'colors')\n",
    "#     labels = LabelSet(x=\"x1\", y=\"x2\", text=\"names\", y_offset=6,\n",
    "#                       text_font_size=\"8pt\", text_color=\"#555555\", \n",
    "#                       source=source, text_align='center')\n",
    "    #p.add_layout(labels)\n",
    "    show(p)"
   ]
  },
  {
   "cell_type": "code",
   "execution_count": 180,
   "metadata": {},
   "outputs": [],
   "source": [
    "filtered_words_bow5, filtered_embeddings_bow5, filtered_labels_bow5 = [], [], []\n",
    "for i in range(len(dbscan_labels)):\n",
    "    if dbscan_labels[i] != -1:\n",
    "        filtered_words_bow5.append(words_bow5[i])\n",
    "        filtered_embeddings_bow5.append(embeddings_bow5[i])\n",
    "        filtered_labels_bow5.append(dbscan_labels[i])"
   ]
  },
  {
   "cell_type": "code",
   "execution_count": 193,
   "metadata": {},
   "outputs": [
    {
     "name": "stdout",
     "output_type": "stream",
     "text": [
      "[t-SNE] Computing 31 nearest neighbors...\n",
      "[t-SNE] Indexed 392 samples in 0.000s...\n",
      "[t-SNE] Computed neighbors for 392 samples in 0.093s...\n",
      "[t-SNE] Computed conditional probabilities for sample 392 / 392\n",
      "[t-SNE] Mean sigma: 0.357445\n",
      "[t-SNE] KL divergence after 250 iterations with early exaggeration: 66.757957\n",
      "[t-SNE] Error after 4000 iterations: 0.420438\n"
     ]
    },
    {
     "data": {
      "text/html": [
       "\n",
       "<div class=\"bk-root\">\n",
       "    <div class=\"bk-plotdiv\" id=\"9660c790-8d81-448c-9d46-971d266cb7cd\"></div>\n",
       "</div>"
      ]
     },
     "metadata": {},
     "output_type": "display_data"
    },
    {
     "data": {
      "application/javascript": [
       "(function(root) {\n",
       "  function embed_document(root) {\n",
       "    \n",
       "  var docs_json = {\"e5241449-3c8d-422e-b29e-2539f9d86fb2\":{\"roots\":{\"references\":[{\"attributes\":{\"source\":{\"id\":\"da686c23-1e45-4dfe-a06b-e0de54a3bf36\",\"type\":\"ColumnDataSource\"}},\"id\":\"f23f6def-1cc1-4b31-9caa-80ac5e32f16d\",\"type\":\"CDSView\"},{\"attributes\":{\"data_source\":{\"id\":\"da686c23-1e45-4dfe-a06b-e0de54a3bf36\",\"type\":\"ColumnDataSource\"},\"glyph\":{\"id\":\"8d81bbb9-7ab1-4076-b9b1-542f85f46db4\",\"type\":\"Circle\"},\"hover_glyph\":null,\"muted_glyph\":null,\"nonselection_glyph\":{\"id\":\"32b28cc2-78a6-4ee9-bb8b-c3fb78a5ad0b\",\"type\":\"Circle\"},\"selection_glyph\":null,\"view\":{\"id\":\"f23f6def-1cc1-4b31-9caa-80ac5e32f16d\",\"type\":\"CDSView\"}},\"id\":\"e521e5e7-5f37-4427-a44d-7661a2d74d58\",\"type\":\"GlyphRenderer\"},{\"attributes\":{\"dimension\":1,\"plot\":{\"id\":\"11edb5c5-0d94-4b2a-a858-d7264fa5deb3\",\"subtype\":\"Figure\",\"type\":\"Plot\"},\"ticker\":{\"id\":\"4ecca209-362b-416e-9ce2-237334d0a71f\",\"type\":\"BasicTicker\"}},\"id\":\"8f631102-736a-4f6a-b254-9d8c1bf9c640\",\"type\":\"Grid\"},{\"attributes\":{\"callback\":null},\"id\":\"1aa518c3-00ab-4427-9883-07fe933855bd\",\"type\":\"DataRange1d\"},{\"attributes\":{},\"id\":\"e4865ea3-d637-4ad0-9d7f-41223fc88ce4\",\"type\":\"LinearScale\"},{\"attributes\":{},\"id\":\"f8342f48-1984-4367-8e8f-862962da40a7\",\"type\":\"BasicTickFormatter\"},{\"attributes\":{\"callback\":null,\"column_names\":[\"x2\",\"colors\",\"x1\",\"names\"],\"data\":{\"colors\":[\"#FDE724\",\"#440154\",\"#440154\",\"#460B5E\",\"#440154\",\"#471669\",\"#460B5E\",\"#287A8E\",\"#9AD83C\",\"#482071\",\"#440154\",\"#472A79\",\"#45327F\",\"#460B5E\",\"#460B5E\",\"#287A8E\",\"#433C84\",\"#39558B\",\"#2E6C8E\",\"#25AB81\",\"#53C567\",\"#404487\",\"#440154\",\"#287A8E\",\"#440154\",\"#482071\",\"#2EB27C\",\"#440154\",\"#440154\",\"#440154\",\"#3C4D8A\",\"#433C84\",\"#460B5E\",\"#39558B\",\"#AFDC2E\",\"#39558B\",\"#355D8C\",\"#460B5E\",\"#2B738E\",\"#E9E419\",\"#460B5E\",\"#26818E\",\"#45327F\",\"#64CB5D\",\"#355D8C\",\"#45327F\",\"#355D8C\",\"#355D8C\",\"#31648D\",\"#460B5E\",\"#31648D\",\"#2E6C8E\",\"#440154\",\"#355D8C\",\"#482071\",\"#433C84\",\"#440154\",\"#460B5E\",\"#2B738E\",\"#45327F\",\"#440154\",\"#440154\",\"#355D8C\",\"#2B738E\",\"#460B5E\",\"#460B5E\",\"#45327F\",\"#74D054\",\"#45327F\",\"#440154\",\"#2B738E\",\"#460B5E\",\"#440154\",\"#45327F\",\"#355D8C\",\"#45327F\",\"#460B5E\",\"#440154\",\"#440154\",\"#287A8E\",\"#440154\",\"#26818E\",\"#440154\",\"#FDE724\",\"#26818E\",\"#23898D\",\"#74D054\",\"#287A8E\",\"#208F8C\",\"#1E978A\",\"#440154\",\"#440154\",\"#472A79\",\"#2E6C8E\",\"#460B5E\",\"#23898D\",\"#23898D\",\"#26818E\",\"#440154\",\"#460B5E\",\"#355D8C\",\"#2E6C8E\",\"#440154\",\"#39558B\",\"#440154\",\"#460B5E\",\"#460B5E\",\"#1E978A\",\"#2EB27C\",\"#2E6C8E\",\"#440154\",\"#440154\",\"#FDE724\",\"#460B5E\",\"#355D8C\",\"#440154\",\"#472A79\",\"#1E978A\",\"#433C84\",\"#355D8C\",\"#433C84\",\"#1E9D88\",\"#39558B\",\"#45327F\",\"#355D8C\",\"#88D547\",\"#1E9D88\",\"#20A585\",\"#460B5E\",\"#45327F\",\"#460B5E\",\"#460B5E\",\"#472A79\",\"#440154\",\"#472A79\",\"#482071\",\"#471669\",\"#472A79\",\"#440154\",\"#45BF6F\",\"#45BF6F\",\"#45327F\",\"#23898D\",\"#440154\",\"#460B5E\",\"#472A79\",\"#404487\",\"#23898D\",\"#E9E419\",\"#45327F\",\"#355D8C\",\"#45327F\",\"#9AD83C\",\"#25AB81\",\"#38B976\",\"#460B5E\",\"#AFDC2E\",\"#460B5E\",\"#355D8C\",\"#472A79\",\"#460B5E\",\"#38B976\",\"#460B5E\",\"#45327F\",\"#460B5E\",\"#440154\",\"#460B5E\",\"#460B5E\",\"#440154\",\"#472A79\",\"#460B5E\",\"#460B5E\",\"#208F8C\",\"#208F8C\",\"#45327F\",\"#472A79\",\"#25AB81\",\"#208F8C\",\"#AFDC2E\",\"#1E9D88\",\"#433C84\",\"#45327F\",\"#440154\",\"#2EB27C\",\"#25AB81\",\"#2EB27C\",\"#2EB27C\",\"#460B5E\",\"#38B976\",\"#460B5E\",\"#45327F\",\"#460B5E\",\"#460B5E\",\"#460B5E\",\"#460B5E\",\"#460B5E\",\"#460B5E\",\"#460B5E\",\"#440154\",\"#440154\",\"#355D8C\",\"#404487\",\"#440154\",\"#460B5E\",\"#460B5E\",\"#88D547\",\"#39558B\",\"#45327F\",\"#E9E419\",\"#45BF6F\",\"#355D8C\",\"#472A79\",\"#460B5E\",\"#440154\",\"#460B5E\",\"#460B5E\",\"#45327F\",\"#460B5E\",\"#460B5E\",\"#460B5E\",\"#355D8C\",\"#460B5E\",\"#440154\",\"#23898D\",\"#440154\",\"#23898D\",\"#404487\",\"#460B5E\",\"#460B5E\",\"#460B5E\",\"#460B5E\",\"#355D8C\",\"#482071\",\"#482071\",\"#355D8C\",\"#53C567\",\"#53C567\",\"#460B5E\",\"#355D8C\",\"#460B5E\",\"#440154\",\"#440154\",\"#460B5E\",\"#471669\",\"#2EB27C\",\"#460B5E\",\"#45327F\",\"#45327F\",\"#45327F\",\"#460B5E\",\"#471669\",\"#20A585\",\"#45327F\",\"#208F8C\",\"#64CB5D\",\"#287A8E\",\"#440154\",\"#433C84\",\"#433C84\",\"#460B5E\",\"#C2DF22\",\"#472A79\",\"#460B5E\",\"#460B5E\",\"#74D054\",\"#1E9D88\",\"#9AD83C\",\"#472A79\",\"#460B5E\",\"#460B5E\",\"#440154\",\"#2E6C8E\",\"#287A8E\",\"#64CB5D\",\"#440154\",\"#64CB5D\",\"#440154\",\"#355D8C\",\"#208F8C\",\"#440154\",\"#440154\",\"#88D547\",\"#88D547\",\"#208F8C\",\"#440154\",\"#9AD83C\",\"#287A8E\",\"#2E6C8E\",\"#440154\",\"#AFDC2E\",\"#2E6C8E\",\"#9AD83C\",\"#460B5E\",\"#C2DF22\",\"#C2DF22\",\"#74D054\",\"#355D8C\",\"#287A8E\",\"#FDE724\",\"#287A8E\",\"#287A8E\",\"#440154\",\"#287A8E\",\"#440154\",\"#D7E219\",\"#1E9D88\",\"#460B5E\",\"#460B5E\",\"#460B5E\",\"#38B976\",\"#31648D\",\"#39558B\",\"#45327F\",\"#460B5E\",\"#1E9D88\",\"#460B5E\",\"#2EB27C\",\"#440154\",\"#440154\",\"#460B5E\",\"#440154\",\"#2E6C8E\",\"#440154\",\"#45327F\",\"#D7E219\",\"#45327F\",\"#460B5E\",\"#460B5E\",\"#45327F\",\"#45327F\",\"#45327F\",\"#460B5E\",\"#440154\",\"#20A585\",\"#38B976\",\"#25AB81\",\"#45327F\",\"#3C4D8A\",\"#287A8E\",\"#460B5E\",\"#45327F\",\"#31648D\",\"#D7E219\",\"#64CB5D\",\"#433C84\",\"#433C84\",\"#23898D\",\"#74D054\",\"#355D8C\",\"#287A8E\",\"#3C4D8A\",\"#23898D\",\"#460B5E\",\"#E9E419\",\"#472A79\",\"#433C84\",\"#45327F\",\"#460B5E\",\"#53C567\",\"#45327F\",\"#460B5E\",\"#1E978A\",\"#45327F\",\"#45327F\",\"#31648D\",\"#45327F\",\"#45327F\",\"#C2DF22\",\"#2E6C8E\",\"#45327F\",\"#440154\",\"#45BF6F\",\"#45327F\",\"#9AD83C\",\"#64CB5D\",\"#433C84\",\"#1E9D88\",\"#45327F\",\"#460B5E\",\"#471669\",\"#20A585\",\"#460B5E\",\"#460B5E\",\"#460B5E\",\"#460B5E\",\"#FDE724\",\"#460B5E\",\"#355D8C\",\"#3C4D8A\",\"#460B5E\",\"#45327F\",\"#440154\"],\"names\":[\"ability\",\"accountant\",\"actor\",\"adam\",\"adviser\",\"afternoon\",\"alice\",\"allegation\",\"amount\",\"analysis\",\"analyst\",\"anger\",\"ankle\",\"anna\",\"anne\",\"answer\",\"anxiety\",\"apartment\",\"applicant\",\"application\",\"approach\",\"april\",\"architect\",\"argument\",\"artist\",\"assessment\",\"asset\",\"assistant\",\"auditor\",\"author\",\"autumn\",\"bacterium\",\"baker\",\"bathroom\",\"beam\",\"bedroom\",\"beer\",\"benjamin\",\"bishop\",\"blade\",\"blanche\",\"board\",\"bone\",\"book\",\"bottle\",\"brain\",\"bread\",\"breakfast\",\"brick\",\"brother\",\"building\",\"buyer\",\"cabinet\",\"cake\",\"calculation\",\"cancer\",\"captain\",\"caroline\",\"cathedral\",\"cell\",\"chair\",\"chairman\",\"champagne\",\"chapel\",\"charles\",\"charlie\",\"cheek\",\"cheque\",\"chest\",\"chief\",\"church\",\"clarke\",\"clerk\",\"clothes\",\"coffee\",\"collar\",\"colleague\",\"command\",\"commander\",\"comment\",\"commentator\",\"commission\",\"commissioner\",\"commitment\",\"committee\",\"company\",\"compensation\",\"complaint\",\"concept\",\"consensus\",\"constable\",\"consultant\",\"contempt\",\"conviction\",\"corbett\",\"corp\",\"corporation\",\"council\",\"court\",\"cousin\",\"cream\",\"creditor\",\"critic\",\"cupboard\",\"dancer\",\"daughter\",\"david\",\"debate\",\"debt\",\"defendant\",\"deputy\",\"designer\",\"desire\",\"diana\",\"dinner\",\"director\",\"disappointment\",\"discussion\",\"disease\",\"dish\",\"disorder\",\"dividend\",\"downstairs\",\"dress\",\"drink\",\"duke\",\"earnings\",\"east\",\"edward\",\"elbow\",\"elizabeth\",\"emily\",\"emotion\",\"engineer\",\"enthusiasm\",\"evaluation\",\"evening\",\"excitement\",\"executive\",\"experience\",\"expertise\",\"eyebrow\",\"factory\",\"farmer\",\"father\",\"fear\",\"february\",\"firm\",\"fist\",\"flesh\",\"food\",\"forehead\",\"fraction\",\"framework\",\"france\",\"francis\",\"frequency\",\"friend\",\"fruit\",\"frustration\",\"george\",\"germany\",\"graham\",\"hair\",\"harry\",\"head\",\"helen\",\"henry\",\"historian\",\"hostility\",\"howard\",\"husband\",\"hypothesis\",\"idea\",\"illness\",\"imagination\",\"implementation\",\"implication\",\"impulse\",\"income\",\"infection\",\"injury\",\"inspector\",\"insurance\",\"integration\",\"investment\",\"investor\",\"isabel\",\"italy\",\"jack\",\"jacket\",\"jackson\",\"james\",\"jane\",\"john\",\"johnson\",\"jones\",\"joseph\",\"journalist\",\"judge\",\"juice\",\"june\",\"justice\",\"kate\",\"kelly\",\"king\",\"kitchen\",\"knee\",\"knife\",\"knowledge\",\"lamb\",\"laughter\",\"laura\",\"lawyer\",\"lewis\",\"lily\",\"limb\",\"lover\",\"lucy\",\"luke\",\"lunch\",\"maggie\",\"magistrate\",\"maker\",\"manager\",\"manufacturer\",\"march\",\"marie\",\"mark\",\"martin\",\"mary\",\"meal\",\"measure\",\"measurement\",\"meat\",\"mechanism\",\"method\",\"michael\",\"milk\",\"miller\",\"minister\",\"ministry\",\"morgan\",\"morning\",\"mortgage\",\"mother\",\"muscle\",\"neck\",\"nerve\",\"nigel\",\"night\",\"north\",\"nose\",\"notion\",\"novel\",\"objection\",\"officer\",\"organism\",\"pain\",\"partner\",\"passenger\",\"passion\",\"patrick\",\"paul\",\"payment\",\"pension\",\"percentage\",\"perception\",\"peter\",\"philip\",\"photographer\",\"plaintiff\",\"plan\",\"poem\",\"poet\",\"poetry\",\"politician\",\"potato\",\"premise\",\"president\",\"prime\",\"prince\",\"princess\",\"principle\",\"producer\",\"proportion\",\"proposal\",\"prosecution\",\"publisher\",\"pulse\",\"purchaser\",\"quantity\",\"rachel\",\"rail\",\"railway\",\"receipt\",\"recipe\",\"recommendation\",\"refusal\",\"remark\",\"reply\",\"reporter\",\"request\",\"researcher\",\"restaurant\",\"revenue\",\"richard\",\"robert\",\"robyn\",\"rome\",\"roof\",\"room\",\"rope\",\"ruth\",\"salary\",\"sarah\",\"savings\",\"scholar\",\"scientist\",\"scott\",\"secretary\",\"seller\",\"sergeant\",\"shirt\",\"shop\",\"shoulder\",\"simon\",\"sister\",\"skin\",\"skirt\",\"sleeve\",\"smith\",\"solicitor\",\"south\",\"spain\",\"specification\",\"spine\",\"spring\",\"statement\",\"stephen\",\"stomach\",\"stone\",\"store\",\"story\",\"strain\",\"stress\",\"subsidiary\",\"subsidy\",\"sugar\",\"suggestion\",\"summer\",\"supplier\",\"susan\",\"sword\",\"sympathy\",\"symptom\",\"tail\",\"taylor\",\"technique\",\"thigh\",\"thomas\",\"thread\",\"throat\",\"thumb\",\"tile\",\"tissue\",\"tooth\",\"train\",\"trial\",\"trousers\",\"trustee\",\"understanding\",\"uniform\",\"value\",\"verse\",\"virus\",\"wages\",\"waist\",\"walker\",\"weekend\",\"west\",\"wife\",\"william\",\"williams\",\"willie\",\"willingness\",\"wilson\",\"wine\",\"winter\",\"wright\",\"wrist\",\"writer\"],\"x1\":{\"__ndarray__\":\"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\",\"dtype\":\"float32\",\"shape\":[392]},\"x2\":{\"__ndarray__\":\"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\",\"dtype\":\"float32\",\"shape\":[392]}}},\"id\":\"da686c23-1e45-4dfe-a06b-e0de54a3bf36\",\"type\":\"ColumnDataSource\"},{\"attributes\":{},\"id\":\"cb6dcd8a-25f6-4ebe-95de-7dfa55ed45b4\",\"type\":\"ResetTool\"},{\"attributes\":{\"fill_color\":{\"field\":\"colors\"},\"line_color\":{\"field\":\"colors\"},\"size\":{\"units\":\"screen\",\"value\":8},\"x\":{\"field\":\"x1\"},\"y\":{\"field\":\"x2\"}},\"id\":\"8d81bbb9-7ab1-4076-b9b1-542f85f46db4\",\"type\":\"Circle\"},{\"attributes\":{},\"id\":\"a302cab0-b054-4312-b9f6-45abac7436b1\",\"type\":\"SaveTool\"},{\"attributes\":{\"formatter\":{\"id\":\"9788e3e2-3f49-437d-b2ad-e17e83482f24\",\"type\":\"BasicTickFormatter\"},\"plot\":{\"id\":\"11edb5c5-0d94-4b2a-a858-d7264fa5deb3\",\"subtype\":\"Figure\",\"type\":\"Plot\"},\"ticker\":{\"id\":\"4ecca209-362b-416e-9ce2-237334d0a71f\",\"type\":\"BasicTicker\"}},\"id\":\"c9fb9283-9dd8-4f2b-98ab-c3cbf68e20ce\",\"type\":\"LinearAxis\"},{\"attributes\":{\"plot\":null,\"text\":\"t-SNE bow5\"},\"id\":\"c6a704a6-d425-4715-8809-b7438f546e81\",\"type\":\"Title\"},{\"attributes\":{},\"id\":\"0907f1ef-12ae-44bb-bbe4-77992b985d7e\",\"type\":\"PanTool\"},{\"attributes\":{\"below\":[{\"id\":\"80884b9c-0a4e-415a-9498-386e54a04d48\",\"type\":\"LinearAxis\"}],\"left\":[{\"id\":\"c9fb9283-9dd8-4f2b-98ab-c3cbf68e20ce\",\"type\":\"LinearAxis\"}],\"renderers\":[{\"id\":\"80884b9c-0a4e-415a-9498-386e54a04d48\",\"type\":\"LinearAxis\"},{\"id\":\"1b1f6594-d646-464b-a94f-b39da11d00bb\",\"type\":\"Grid\"},{\"id\":\"c9fb9283-9dd8-4f2b-98ab-c3cbf68e20ce\",\"type\":\"LinearAxis\"},{\"id\":\"8f631102-736a-4f6a-b254-9d8c1bf9c640\",\"type\":\"Grid\"},{\"id\":\"e521e5e7-5f37-4427-a44d-7661a2d74d58\",\"type\":\"GlyphRenderer\"}],\"title\":{\"id\":\"c6a704a6-d425-4715-8809-b7438f546e81\",\"type\":\"Title\"},\"toolbar\":{\"id\":\"0cfbe8d1-8af7-4a8d-a571-bd26954e9a6f\",\"type\":\"Toolbar\"},\"toolbar_location\":\"above\",\"x_range\":{\"id\":\"1aa518c3-00ab-4427-9883-07fe933855bd\",\"type\":\"DataRange1d\"},\"x_scale\":{\"id\":\"e44506ec-413c-44af-b062-2b15c52c918b\",\"type\":\"LinearScale\"},\"y_range\":{\"id\":\"4b3e3e64-466f-4076-ae96-6a71672622b9\",\"type\":\"DataRange1d\"},\"y_scale\":{\"id\":\"e4865ea3-d637-4ad0-9d7f-41223fc88ce4\",\"type\":\"LinearScale\"}},\"id\":\"11edb5c5-0d94-4b2a-a858-d7264fa5deb3\",\"subtype\":\"Figure\",\"type\":\"Plot\"},{\"attributes\":{},\"id\":\"5152ea6b-eb33-4fe7-a6ba-bd5136b26170\",\"type\":\"BasicTicker\"},{\"attributes\":{\"plot\":{\"id\":\"11edb5c5-0d94-4b2a-a858-d7264fa5deb3\",\"subtype\":\"Figure\",\"type\":\"Plot\"},\"ticker\":{\"id\":\"5152ea6b-eb33-4fe7-a6ba-bd5136b26170\",\"type\":\"BasicTicker\"}},\"id\":\"1b1f6594-d646-464b-a94f-b39da11d00bb\",\"type\":\"Grid\"},{\"attributes\":{\"callback\":null},\"id\":\"4b3e3e64-466f-4076-ae96-6a71672622b9\",\"type\":\"DataRange1d\"},{\"attributes\":{\"fill_alpha\":{\"value\":0.1},\"fill_color\":{\"value\":\"#1f77b4\"},\"line_alpha\":{\"value\":0.1},\"line_color\":{\"value\":\"#1f77b4\"},\"size\":{\"units\":\"screen\",\"value\":8},\"x\":{\"field\":\"x1\"},\"y\":{\"field\":\"x2\"}},\"id\":\"32b28cc2-78a6-4ee9-bb8b-c3fb78a5ad0b\",\"type\":\"Circle\"},{\"attributes\":{},\"id\":\"4ecca209-362b-416e-9ce2-237334d0a71f\",\"type\":\"BasicTicker\"},{\"attributes\":{},\"id\":\"e44506ec-413c-44af-b062-2b15c52c918b\",\"type\":\"LinearScale\"},{\"attributes\":{},\"id\":\"9788e3e2-3f49-437d-b2ad-e17e83482f24\",\"type\":\"BasicTickFormatter\"},{\"attributes\":{\"active_drag\":\"auto\",\"active_inspect\":\"auto\",\"active_scroll\":\"auto\",\"active_tap\":\"auto\",\"tools\":[{\"id\":\"0907f1ef-12ae-44bb-bbe4-77992b985d7e\",\"type\":\"PanTool\"},{\"id\":\"587c8da6-4b15-4b42-b1c7-986969946296\",\"type\":\"WheelZoomTool\"},{\"id\":\"cb6dcd8a-25f6-4ebe-95de-7dfa55ed45b4\",\"type\":\"ResetTool\"},{\"id\":\"a302cab0-b054-4312-b9f6-45abac7436b1\",\"type\":\"SaveTool\"}]},\"id\":\"0cfbe8d1-8af7-4a8d-a571-bd26954e9a6f\",\"type\":\"Toolbar\"},{\"attributes\":{},\"id\":\"587c8da6-4b15-4b42-b1c7-986969946296\",\"type\":\"WheelZoomTool\"},{\"attributes\":{\"formatter\":{\"id\":\"f8342f48-1984-4367-8e8f-862962da40a7\",\"type\":\"BasicTickFormatter\"},\"plot\":{\"id\":\"11edb5c5-0d94-4b2a-a858-d7264fa5deb3\",\"subtype\":\"Figure\",\"type\":\"Plot\"},\"ticker\":{\"id\":\"5152ea6b-eb33-4fe7-a6ba-bd5136b26170\",\"type\":\"BasicTicker\"}},\"id\":\"80884b9c-0a4e-415a-9498-386e54a04d48\",\"type\":\"LinearAxis\"}],\"root_ids\":[\"11edb5c5-0d94-4b2a-a858-d7264fa5deb3\"]},\"title\":\"Bokeh Application\",\"version\":\"0.12.13\"}};\n",
       "  var render_items = [{\"docid\":\"e5241449-3c8d-422e-b29e-2539f9d86fb2\",\"elementid\":\"9660c790-8d81-448c-9d46-971d266cb7cd\",\"modelid\":\"11edb5c5-0d94-4b2a-a858-d7264fa5deb3\"}];\n",
       "  root.Bokeh.embed.embed_items_notebook(docs_json, render_items);\n",
       "\n",
       "  }\n",
       "  if (root.Bokeh !== undefined) {\n",
       "    embed_document(root);\n",
       "  } else {\n",
       "    var attempts = 0;\n",
       "    var timer = setInterval(function(root) {\n",
       "      if (root.Bokeh !== undefined) {\n",
       "        embed_document(root);\n",
       "        clearInterval(timer);\n",
       "      }\n",
       "      attempts++;\n",
       "      if (attempts > 100) {\n",
       "        console.log(\"Bokeh: ERROR: Unable to run BokehJS code because BokehJS library is missing\")\n",
       "        clearInterval(timer);\n",
       "      }\n",
       "    }, 10, root)\n",
       "  }\n",
       "})(window);"
      ],
      "application/vnd.bokehjs_exec.v0+json": ""
     },
     "metadata": {
      "application/vnd.bokehjs_exec.v0+json": {
       "id": "11edb5c5-0d94-4b2a-a858-d7264fa5deb3"
      }
     },
     "output_type": "display_data"
    }
   ],
   "source": [
    "tsne_visualization_dense(filtered_words_bow5, filtered_embeddings_bow5, 10, 4000, \"t-SNE bow5\")"
   ]
  },
  {
   "cell_type": "code",
   "execution_count": null,
   "metadata": {},
   "outputs": [],
   "source": []
  }
 ],
 "metadata": {
  "kernelspec": {
   "display_name": "Python 2",
   "language": "python",
   "name": "python2"
  },
  "language_info": {
   "codemirror_mode": {
    "name": "ipython",
    "version": 2
   },
   "file_extension": ".py",
   "mimetype": "text/x-python",
   "name": "python",
   "nbconvert_exporter": "python",
   "pygments_lexer": "ipython2",
   "version": "2.7.14"
  }
 },
 "nbformat": 4,
 "nbformat_minor": 2
}
