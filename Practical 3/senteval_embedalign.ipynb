{
 "cells": [
  {
   "cell_type": "markdown",
   "metadata": {},
   "source": [
    "# Test embedalign with SentEval \n",
    "\n",
    "This notebook will allow you to test EmbedAlign using SentEval. In particular, this also works on **CPUs** :D\n",
    "\n",
    "* Dependencies:\n",
    "    * Python 3.5 with NumPy/SciPy\n",
    "    * Pytorch \n",
    "    * Tensorflow 1.5.0  (for CPUs or GPUs depending on how you plan to run it)\n",
    "        * For example in MacOS: \n",
    "        ```\n",
    "        pip install https://storage.googleapis.com/tensorflow/mac/cpu/tensorflow-1.5.0-py3-none-any.whl\n",
    "        ```\n",
    "    * scikit-learn>=0.18.0\n",
    "    * dill>=0.2.7.1\n",
    "\n",
    "\n",
    "* Install `dgm4nlp` by following the instructions [here](https://github.com/uva-slpl/dgm4nlp), we highly recommend the use of `virtualenv`.\n",
    "\n",
    "In the same `virtualenv`, do the following:\n",
    "\n",
    "* Clone repo from FAIR github\n",
    "```\n",
    "    git clone https://github.com/facebookresearch/SentEval.git\n",
    "    cd SentEval/\n",
    "```\n",
    "\n",
    "* Install senteval\n",
    "```\n",
    "    python setup.py install\n",
    "```\n",
    "\n",
    "* Download datasets (it takes some time...)\n",
    "    * these are downstream tasks\n",
    "    * new Senteval also has probing tasks (https://github.com/facebookresearch/SentEval/tree/master/data/probing) for evaluating linguistic properties of your embeddings. \n",
    "\n",
    "```\n",
    "    cd data/downstream/\n",
    "    ./get_transfer_data.bash\n",
    "```\n",
    "\n",
    "* Download [pretained embedlaign model](https://surfdrive.surf.nl/files/index.php/s/9M4h5zqmYETSmf3)\n",
    "\n",
    "\n",
    "* The following code evaluates embedalign pretrained embeddings on en-fr Europarl on different NLP downstream tasks.\n",
    "\n"
   ]
  },
  {
   "cell_type": "code",
   "execution_count": 4,
   "metadata": {},
   "outputs": [],
   "source": [
    "from __future__ import absolute_import, division, unicode_literals\n",
    "\n",
    "import sys\n",
    "import numpy as np\n",
    "import logging\n",
    "import sklearn\n",
    "#import data \n",
    "# data.py is part of Senteval and it is used for loading word2vec style files\n",
    "import senteval\n",
    "import tensorflow as tf\n",
    "import logging\n",
    "from collections import defaultdict\n",
    "import dill\n",
    "import dgm4nlp"
   ]
  },
  {
   "cell_type": "code",
   "execution_count": 5,
   "metadata": {},
   "outputs": [],
   "source": [
    "class dotdict(dict):\n",
    "    \"\"\" dot.notation access to dictionary attributes \"\"\"\n",
    "    __getattr__ = dict.get\n",
    "    __setattr__ = dict.__setitem__\n",
    "    __delattr__ = dict.__delitem__\n",
    "\n",
    "class EmbeddingExtractor:\n",
    "    \"\"\"\n",
    "    This will compute a forward pass with the inference model of EmbedAlign and \n",
    "        give you the variational mean for each L1 word in the batch.\n",
    "        \n",
    "    Note that this takes monolingual L1 sentences only (at this point we have a traiend EmbedAlign model\n",
    "        which dispenses with L2 sentences).    \n",
    "        \n",
    "    You don't really want to touch anything in this class.\n",
    "    \"\"\"\n",
    "\n",
    "    def __init__(self, graph_file, ckpt_path, config=None):        \n",
    "        g1 = tf.Graph()\n",
    "        self.meta_graph = graph_file\n",
    "        self.ckpt_path = ckpt_path\n",
    "        \n",
    "        self.softmax_approximation = 'botev-batch' #default\n",
    "        with g1.as_default():\n",
    "            self.sess = tf.Session(config=config, graph=g1)\n",
    "            # load architecture computational graph\n",
    "            self.new_saver = tf.train.import_meta_graph(self.meta_graph)\n",
    "            # restore checkpoint\n",
    "            self.new_saver.restore(self.sess, self.ckpt_path) #tf.train.latest_checkpoint(\n",
    "            self.graph = g1  #tf.get_default_graph()\n",
    "            # retrieve input variable\n",
    "            self.x = self.graph.get_tensor_by_name(\"X:0\")\n",
    "            # retrieve training switch variable (True:trianing, False:Test)\n",
    "            self.training_phase = self.graph.get_tensor_by_name(\"training_phase:0\")\n",
    "            #self.keep_prob = self.graph.get_tensor_by_name(\"keep_prob:0\")\n",
    "\n",
    "    def get_z_embedding_batch(self, x_batch):\n",
    "        \"\"\"\n",
    "        :param x_batch: is np array of shape [batch_size, longest_sentence] containing the unique ids of words\n",
    "        \n",
    "        :returns: [batch_size, longest_sentence, z_dim]        \n",
    "        \"\"\"\n",
    "        # Retrieve embeddings from latent variable Z\n",
    "        # we can sempale several n_samples, default 1\n",
    "        try:\n",
    "            z_mean = self.graph.get_tensor_by_name(\"z:0\")\n",
    "            \n",
    "            feed_dict = {\n",
    "                self.x: x_batch,\n",
    "                self.training_phase: False,\n",
    "                #self.keep_prob: 1.\n",
    "\n",
    "            }\n",
    "            z_rep_values = self.sess.run(z_mean, feed_dict=feed_dict) \n",
    "        except:\n",
    "            raise ValueError('tensor Z not in graph!')\n",
    "        return z_rep_values"
   ]
  },
  {
   "cell_type": "markdown",
   "metadata": {},
   "source": [
    "This is how you interface with SentEval. The only think you need to change are the paths to trained models in the main block at the end."
   ]
  },
  {
   "cell_type": "code",
   "execution_count": 7,
   "metadata": {
    "scrolled": false
   },
   "outputs": [
    {
     "name": "stderr",
     "output_type": "stream",
     "text": [
      "2018-05-24 16:56:33,435 : ***** Transfer task : MR *****\n",
      "\n",
      "\n"
     ]
    },
    {
     "name": "stdout",
     "output_type": "stream",
     "text": [
      "INFO:tensorflow:Restoring parameters from ull-practical3-embedalign/model.best.validation.aer.ckpt\n"
     ]
    },
    {
     "name": "stderr",
     "output_type": "stream",
     "text": [
      "2018-05-24 16:56:34,887 : Restoring parameters from ull-practical3-embedalign/model.best.validation.aer.ckpt\n",
      "2018-05-24 16:56:35,497 : Generating sentence embeddings\n",
      "2018-05-24 16:57:53,109 : Generated sentence embeddings\n",
      "2018-05-24 16:57:53,109 : Training sklearn-LogReg with (inner) 10-fold cross-validation\n",
      "2018-05-24 16:58:06,416 : Best param found at split 1: l2reg = 8                 with score 64.38\n",
      "2018-05-24 16:58:20,293 : Best param found at split 2: l2reg = 8                 with score 64.61\n",
      "2018-05-24 16:58:33,821 : Best param found at split 3: l2reg = 8                 with score 64.34\n",
      "2018-05-24 16:58:47,346 : Best param found at split 4: l2reg = 8                 with score 64.62\n",
      "2018-05-24 16:59:01,092 : Best param found at split 5: l2reg = 8                 with score 64.64\n",
      "2018-05-24 16:59:14,652 : Best param found at split 6: l2reg = 8                 with score 64.75\n",
      "2018-05-24 16:59:28,445 : Best param found at split 7: l2reg = 8                 with score 64.24\n",
      "2018-05-24 16:59:42,180 : Best param found at split 8: l2reg = 8                 with score 64.48\n",
      "2018-05-24 16:59:56,083 : Best param found at split 9: l2reg = 8                 with score 64.61\n",
      "2018-05-24 17:00:09,987 : Best param found at split 10: l2reg = 8                 with score 64.66\n",
      "2018-05-24 17:00:10,409 : Dev acc : 64.53 Test acc : 64.72\n",
      "\n",
      "2018-05-24 17:00:10,409 : ***** Transfer task : CR *****\n",
      "\n",
      "\n"
     ]
    },
    {
     "name": "stdout",
     "output_type": "stream",
     "text": [
      "INFO:tensorflow:Restoring parameters from ull-practical3-embedalign/model.best.validation.aer.ckpt\n"
     ]
    },
    {
     "name": "stderr",
     "output_type": "stream",
     "text": [
      "2018-05-24 17:00:11,752 : Restoring parameters from ull-practical3-embedalign/model.best.validation.aer.ckpt\n",
      "2018-05-24 17:00:12,408 : Generating sentence embeddings\n",
      "2018-05-24 17:00:38,022 : Generated sentence embeddings\n",
      "2018-05-24 17:00:38,022 : Training sklearn-LogReg with (inner) 10-fold cross-validation\n",
      "2018-05-24 17:00:41,240 : Best param found at split 1: l2reg = 8                 with score 71.39\n",
      "2018-05-24 17:00:44,568 : Best param found at split 2: l2reg = 8                 with score 70.18\n",
      "2018-05-24 17:00:47,941 : Best param found at split 3: l2reg = 8                 with score 70.62\n",
      "2018-05-24 17:00:51,253 : Best param found at split 4: l2reg = 8                 with score 70.71\n",
      "2018-05-24 17:00:54,599 : Best param found at split 5: l2reg = 4                 with score 70.47\n",
      "2018-05-24 17:00:57,927 : Best param found at split 6: l2reg = 8                 with score 71.03\n",
      "2018-05-24 17:01:01,285 : Best param found at split 7: l2reg = 4                 with score 70.15\n",
      "2018-05-24 17:01:04,628 : Best param found at split 8: l2reg = 8                 with score 70.42\n",
      "2018-05-24 17:01:07,956 : Best param found at split 9: l2reg = 8                 with score 70.99\n",
      "2018-05-24 17:01:11,283 : Best param found at split 10: l2reg = 8                 with score 70.4\n",
      "2018-05-24 17:01:11,377 : Dev acc : 70.64 Test acc : 70.65\n",
      "\n",
      "2018-05-24 17:01:11,377 : ***** Transfer task : MPQA *****\n",
      "\n",
      "\n"
     ]
    },
    {
     "name": "stdout",
     "output_type": "stream",
     "text": [
      "INFO:tensorflow:Restoring parameters from ull-practical3-embedalign/model.best.validation.aer.ckpt\n"
     ]
    },
    {
     "name": "stderr",
     "output_type": "stream",
     "text": [
      "2018-05-24 17:01:12,909 : Restoring parameters from ull-practical3-embedalign/model.best.validation.aer.ckpt\n",
      "2018-05-24 17:01:13,690 : Generating sentence embeddings\n",
      "2018-05-24 17:01:34,335 : Generated sentence embeddings\n",
      "2018-05-24 17:01:34,335 : Training sklearn-LogReg with (inner) 10-fold cross-validation\n",
      "2018-05-24 17:01:51,675 : Best param found at split 1: l2reg = 4                 with score 84.04\n",
      "2018-05-24 17:02:09,398 : Best param found at split 2: l2reg = 8                 with score 83.87\n",
      "2018-05-24 17:02:27,528 : Best param found at split 3: l2reg = 4                 with score 83.79\n",
      "2018-05-24 17:02:45,242 : Best param found at split 4: l2reg = 8                 with score 84.15\n",
      "2018-05-24 17:03:02,769 : Best param found at split 5: l2reg = 8                 with score 84.0\n",
      "2018-05-24 17:03:20,640 : Best param found at split 6: l2reg = 8                 with score 83.8\n",
      "2018-05-24 17:03:38,694 : Best param found at split 7: l2reg = 8                 with score 83.79\n",
      "2018-05-24 17:03:57,488 : Best param found at split 8: l2reg = 8                 with score 83.97\n",
      "2018-05-24 17:04:15,888 : Best param found at split 9: l2reg = 8                 with score 83.71\n",
      "2018-05-24 17:04:34,229 : Best param found at split 10: l2reg = 8                 with score 83.76\n",
      "2018-05-24 17:04:34,776 : Dev acc : 83.89 Test acc : 83.78\n",
      "\n",
      "2018-05-24 17:04:34,776 : ***** Transfer task : SUBJ *****\n",
      "\n",
      "\n"
     ]
    },
    {
     "name": "stdout",
     "output_type": "stream",
     "text": [
      "INFO:tensorflow:Restoring parameters from ull-practical3-embedalign/model.best.validation.aer.ckpt\n"
     ]
    },
    {
     "name": "stderr",
     "output_type": "stream",
     "text": [
      "2018-05-24 17:04:36,244 : Restoring parameters from ull-practical3-embedalign/model.best.validation.aer.ckpt\n",
      "2018-05-24 17:04:36,884 : Generating sentence embeddings\n",
      "2018-05-24 17:06:01,350 : Generated sentence embeddings\n",
      "2018-05-24 17:06:01,350 : Training sklearn-LogReg with (inner) 10-fold cross-validation\n",
      "2018-05-24 17:06:12,379 : Best param found at split 1: l2reg = 8                 with score 78.9\n",
      "2018-05-24 17:06:23,735 : Best param found at split 2: l2reg = 8                 with score 79.1\n",
      "2018-05-24 17:06:35,123 : Best param found at split 3: l2reg = 8                 with score 79.13\n",
      "2018-05-24 17:06:46,511 : Best param found at split 4: l2reg = 8                 with score 79.29\n",
      "2018-05-24 17:06:57,859 : Best param found at split 5: l2reg = 8                 with score 79.27\n",
      "2018-05-24 17:07:09,157 : Best param found at split 6: l2reg = 8                 with score 79.18\n",
      "2018-05-24 17:07:20,357 : Best param found at split 7: l2reg = 8                 with score 79.14\n",
      "2018-05-24 17:07:31,636 : Best param found at split 8: l2reg = 8                 with score 79.14\n",
      "2018-05-24 17:07:42,909 : Best param found at split 9: l2reg = 8                 with score 79.47\n",
      "2018-05-24 17:07:54,500 : Best param found at split 10: l2reg = 8                 with score 79.07\n",
      "2018-05-24 17:07:54,844 : Dev acc : 79.17 Test acc : 79.15\n",
      "\n",
      "2018-05-24 17:07:54,844 : ***** Transfer task : SST Binary classification *****\n",
      "\n",
      "\n"
     ]
    },
    {
     "name": "stdout",
     "output_type": "stream",
     "text": [
      "INFO:tensorflow:Restoring parameters from ull-practical3-embedalign/model.best.validation.aer.ckpt\n"
     ]
    },
    {
     "name": "stderr",
     "output_type": "stream",
     "text": [
      "2018-05-24 17:07:56,442 : Restoring parameters from ull-practical3-embedalign/model.best.validation.aer.ckpt\n",
      "2018-05-24 17:07:57,051 : Computing embedding for test\n",
      "2018-05-24 17:08:09,095 : Computed test embeddings\n",
      "2018-05-24 17:08:09,095 : Computing embedding for train\n",
      "2018-05-24 17:12:22,778 : Computed train embeddings\n",
      "2018-05-24 17:12:22,778 : Computing embedding for dev\n",
      "2018-05-24 17:12:28,589 : Computed dev embeddings\n",
      "2018-05-24 17:12:28,589 : Training sklearn-LogReg with standard validation..\n",
      "2018-05-24 17:12:55,355 : [('reg:0.25', 64.79), ('reg:0.5', 64.91), ('reg:1', 65.25), ('reg:2', 65.48), ('reg:4', 66.28), ('reg:8', 67.2)]\n",
      "2018-05-24 17:12:55,355 : Validation : best param found is reg = 8 with score             67.2\n",
      "2018-05-24 17:12:55,355 : Evaluating...\n",
      "2018-05-24 17:13:03,108 : \n",
      "Dev acc : 67.2 Test acc : 67.11 for             SST Binary classification\n",
      "\n",
      "2018-05-24 17:13:03,124 : ***** Transfer task : TREC *****\n",
      "\n",
      "\n"
     ]
    },
    {
     "name": "stdout",
     "output_type": "stream",
     "text": [
      "INFO:tensorflow:Restoring parameters from ull-practical3-embedalign/model.best.validation.aer.ckpt\n"
     ]
    },
    {
     "name": "stderr",
     "output_type": "stream",
     "text": [
      "2018-05-24 17:13:04,576 : Restoring parameters from ull-practical3-embedalign/model.best.validation.aer.ckpt\n",
      "2018-05-24 17:13:27,972 : Computed train embeddings\n",
      "2018-05-24 17:13:29,863 : Computed test embeddings\n",
      "2018-05-24 17:13:29,863 : Training sklearn-LogReg with 10-fold cross-validation\n",
      "2018-05-24 17:14:25,242 : [('reg:0.5', 48.53), ('reg:1', 49.21), ('reg:2', 49.84), ('reg:4', 50.41), ('reg:8', 51.21), ('reg:16', 52.42), ('reg:32', 53.54)]\n",
      "2018-05-24 17:14:25,242 : Cross-validation : best param found is reg = 32             with score 53.54\n",
      "2018-05-24 17:14:25,242 : Evaluating...\n",
      "2018-05-24 17:14:26,898 : \n",
      "Dev acc : 53.54 Test acc : 57.4             for TREC\n",
      "\n",
      "2018-05-24 17:14:26,898 : ***** Transfer task : MRPC *****\n",
      "\n",
      "\n"
     ]
    },
    {
     "name": "stdout",
     "output_type": "stream",
     "text": [
      "INFO:tensorflow:Restoring parameters from ull-practical3-embedalign/model.best.validation.aer.ckpt\n"
     ]
    },
    {
     "name": "stderr",
     "output_type": "stream",
     "text": [
      "2018-05-24 17:14:28,476 : Restoring parameters from ull-practical3-embedalign/model.best.validation.aer.ckpt\n",
      "2018-05-24 17:14:29,116 : Computing embedding for test\n",
      "2018-05-24 17:14:53,954 : Computed test embeddings\n",
      "2018-05-24 17:14:53,954 : Computing embedding for train\n",
      "2018-05-24 17:15:53,974 : Computed train embeddings\n",
      "2018-05-24 17:15:53,990 : Training sklearn-LogReg with 10-fold cross-validation\n",
      "2018-05-24 17:16:05,831 : [('reg:0.5', 70.51), ('reg:1', 70.24), ('reg:2', 70.37), ('reg:4', 70.42), ('reg:8', 70.54), ('reg:16', 70.64), ('reg:32', 70.34)]\n",
      "2018-05-24 17:16:05,831 : Cross-validation : best param found is reg = 16             with score 70.64\n",
      "2018-05-24 17:16:05,831 : Evaluating...\n",
      "2018-05-24 17:16:06,092 : Dev acc : 70.64 Test acc 70.96; Test F1 80.1 for MRPC.\n",
      "\n",
      "2018-05-24 17:16:06,092 : ***** Transfer task : SICK-Entailment*****\n",
      "\n",
      "\n"
     ]
    },
    {
     "name": "stdout",
     "output_type": "stream",
     "text": [
      "INFO:tensorflow:Restoring parameters from ull-practical3-embedalign/model.best.validation.aer.ckpt\n"
     ]
    },
    {
     "name": "stderr",
     "output_type": "stream",
     "text": [
      "2018-05-24 17:16:07,616 : Restoring parameters from ull-practical3-embedalign/model.best.validation.aer.ckpt\n",
      "2018-05-24 17:16:08,272 : Computing embedding for test\n",
      "2018-05-24 17:16:47,533 : Computed test embeddings\n",
      "2018-05-24 17:16:47,533 : Computing embedding for train\n",
      "2018-05-24 17:17:25,017 : Computed train embeddings\n",
      "2018-05-24 17:17:25,017 : Computing embedding for dev\n",
      "2018-05-24 17:17:29,858 : Computed dev embeddings\n",
      "2018-05-24 17:17:29,874 : Training sklearn-LogReg with standard validation..\n",
      "2018-05-24 17:17:32,264 : [('reg:0.25', 71.8), ('reg:0.5', 72.2), ('reg:1', 71.8), ('reg:2', 71.2), ('reg:4', 72.2), ('reg:8', 72.6)]\n",
      "2018-05-24 17:17:32,264 : Validation : best param found is reg = 8 with score             72.6\n",
      "2018-05-24 17:17:32,264 : Evaluating...\n",
      "2018-05-24 17:17:32,889 : \n",
      "Dev acc : 72.6 Test acc : 74.75 for                        SICK entailment\n",
      "\n",
      "2018-05-24 17:17:32,889 : ***** Transfer task : STS14 *****\n",
      "\n",
      "\n"
     ]
    },
    {
     "name": "stdout",
     "output_type": "stream",
     "text": [
      "INFO:tensorflow:Restoring parameters from ull-practical3-embedalign/model.best.validation.aer.ckpt\n"
     ]
    },
    {
     "name": "stderr",
     "output_type": "stream",
     "text": [
      "2018-05-24 17:17:34,420 : Restoring parameters from ull-practical3-embedalign/model.best.validation.aer.ckpt\n",
      "2018-05-24 17:17:38,997 : deft-forum : pearson = 0.3478, spearman = 0.3630\n",
      "2018-05-24 17:17:42,745 : deft-news : pearson = 0.6220, spearman = 0.5783\n",
      "2018-05-24 17:17:47,996 : headlines : pearson = 0.5782, spearman = 0.5705\n",
      "2018-05-24 17:17:54,228 : images : pearson = 0.6578, spearman = 0.6439\n",
      "2018-05-24 17:17:59,977 : OnWN : pearson = 0.6588, spearman = 0.7165\n",
      "2018-05-24 17:18:07,090 : tweet-news : pearson = 0.6233, spearman = 0.5527\n",
      "2018-05-24 17:18:07,090 : ALL (weighted average) : Pearson = 0.5951,             Spearman = 0.5865\n",
      "2018-05-24 17:18:07,090 : ALL (average) : Pearson = 0.5813,             Spearman = 0.5708\n",
      "\n"
     ]
    },
    {
     "name": "stdout",
     "output_type": "stream",
     "text": [
      "{'MR': {'acc': 64.72, 'ntest': 10662, 'devacc': 64.53, 'ndev': 10662}, 'STS14': {'tweet-news': {'pearson': (0.6233063900230104, 6.00660201616312e-82), 'spearman': SpearmanrResult(correlation=0.552714320253843, pvalue=3.22156860724007e-61), 'nsamples': 750}, 'deft-news': {'pearson': (0.6220449639059311, 1.6081711628959872e-33), 'spearman': SpearmanrResult(correlation=0.578333454614915, pvalue=3.56018796171822e-28), 'nsamples': 300}, 'OnWN': {'pearson': (0.6588460177830425, 1.5005374158495726e-94), 'spearman': SpearmanrResult(correlation=0.7165302641879749, pvalue=4.0384598465861957e-119), 'nsamples': 750}, 'deft-forum': {'pearson': (0.34780782734539145, 3.053266542353856e-14), 'spearman': SpearmanrResult(correlation=0.36295881398339536, pvalue=1.8523021232119112e-15), 'nsamples': 450}, 'all': {'pearson': {'mean': 0.5813380680712301, 'wmean': 0.5951356598291332}, 'spearman': {'mean': 0.5708203751953316, 'wmean': 0.5865477305619364}}, 'headlines': {'pearson': (0.5781995025163489, 4.019972504470424e-68), 'spearman': SpearmanrResult(correlation=0.5705232857978165, pvalue=5.589791453157285e-66), 'nsamples': 750}, 'images': {'pearson': (0.6578237068536562, 3.654173184756065e-94), 'spearman': SpearmanrResult(correlation=0.6438621123340441, pvalue=4.9441358581162626e-89), 'nsamples': 750}}, 'SICKEntailment': {'acc': 74.75, 'ntest': 4927, 'devacc': 72.6, 'ndev': 500}, 'TREC': {'acc': 57.4, 'ntest': 500, 'devacc': 53.54, 'ndev': 5452}, 'MRPC': {'acc': 70.96, 'ntest': 1725, 'f1': 80.1, 'devacc': 70.64, 'ndev': 4076}, 'CR': {'acc': 70.65, 'ntest': 3775, 'devacc': 70.64, 'ndev': 3775}, 'SUBJ': {'acc': 79.15, 'ntest': 10000, 'devacc': 79.17, 'ndev': 10000}, 'MPQA': {'acc': 83.78, 'ntest': 10606, 'devacc': 83.89, 'ndev': 10606}, 'SST2': {'acc': 67.11, 'ntest': 1821, 'devacc': 67.2, 'ndev': 872}}\n"
     ]
    }
   ],
   "source": [
    "# Copyright (c) 2017-present, Facebook, Inc.\n",
    "# All rights reserved.\n",
    "#\n",
    "# This source code is licensed under the license found in the\n",
    "# LICENSE file in the root directory of this source tree.\n",
    "#\n",
    "\n",
    "\n",
    "\n",
    "# Set PATHs\n",
    "# path to senteval\n",
    "#PATH_TO_SENTEVAL = '../'\n",
    "\n",
    "\n",
    "\n",
    "# import SentEval\n",
    "#sys.path.insert(0, PATH_TO_SENTEVAL)\n",
    "\n",
    "# Set params for SentEval\n",
    "# we use logistic regression (usepytorch: Fasle) and kfold 10\n",
    "# In this dictionary you can add extra information that you model needs for initialization\n",
    "# for example the path to a dictionary of indices, of hyper parameters\n",
    "# this dictionary is passed to the batched and the prepare fucntions\n",
    "params_senteval = {'task_path': '',\n",
    "                   'usepytorch': False,\n",
    "                   'kfold': 10,\n",
    "                   'ckpt_path': '',\n",
    "                   'tok_path': '',\n",
    "                   'extractor': None,\n",
    "                   'tks1': None}\n",
    "# made dictionary a dotdict\n",
    "params_senteval = dotdict(params_senteval)\n",
    "# this is the config for the NN classifier but we are going to use scikit-learn logistic regression with 10 kfold\n",
    "# usepytorch = False \n",
    "#params_senteval['classifier'] = {'nhid': 0, 'optim': 'rmsprop', 'batch_size': 128,\n",
    "#                                 'tenacity': 3, 'epoch_size': 2}\n",
    "\n",
    "\n",
    "\n",
    "def prepare(params, samples):\n",
    "    \"\"\"\n",
    "    In this example we are going to load a tensorflow model, \n",
    "    we open a dictionary with the indices of tokens and the computation graph\n",
    "    \"\"\"\n",
    "    params.extractor = EmbeddingExtractor(\n",
    "        graph_file='%s.meta'%(params.ckpt_path),\n",
    "        ckpt_path=params.ckpt_path,\n",
    "        config=None #run in cpu\n",
    "    )\n",
    "\n",
    "    # load tokenizer from training\n",
    "    params.tks1 = dill.load(open(params.tok_path, 'rb'))\n",
    "    return\n",
    "\n",
    "def batcher(params, batch):\n",
    "    \"\"\"\n",
    "    At this point batch is a python list containing sentences. Each sentence is a list of tokens (each token a string).\n",
    "    The code below will take care of converting this to unique ids that EmbedAlign can understand.\n",
    "    \n",
    "    This function should return a single vector representation per sentence in the batch.\n",
    "    In this example we use the average of word embeddings (as predicted by EmbedAlign) as a sentence representation.\n",
    "    \n",
    "    In this method you can do mini-batching or you can process sentences 1 at a time (batches of size 1).\n",
    "    We choose to do it 1 sentence at a time to avoid having to deal with masking. \n",
    "    \n",
    "    This should not be too slow, and it also saves memory.\n",
    "    \"\"\"\n",
    "    # if a sentence is empty dot is set to be the only token\n",
    "    # you can change it into NULL dependening in your model\n",
    "    batch = [sent if sent != [] else ['.'] for sent in batch]\n",
    "    embeddings = []\n",
    "    for sent in batch:\n",
    "        # Here is where dgm4nlp converts strings to unique ids respecting the vocabulary\n",
    "        # of the pre-trained EmbedAlign model\n",
    "        # from tokens ot ids position 0 is en\n",
    "        x1 = params.tks1[0].to_sequences([(' '.join(sent))])\n",
    "        \n",
    "        # extract word embeddings in context for a sentence\n",
    "        # [1, sentence_length, z_dim]\n",
    "        z_batch1 = params.extractor.get_z_embedding_batch(x_batch=x1)\n",
    "        # sentence vector is the mean of word embeddings in context\n",
    "        # [1, z_dim]\n",
    "        sent_vec = np.mean(z_batch1, axis=1)\n",
    "        # check if there is any NaN in vector (they appear sometimes when there's padding)\n",
    "        if np.isnan(sent_vec.sum()):\n",
    "            sent_vec = np.nan_to_num(sent_vec)        \n",
    "        embeddings.append(sent_vec)\n",
    "    embeddings = np.vstack(embeddings)\n",
    "    return embeddings\n",
    "\n",
    "\n",
    "# Set up logger\n",
    "logging.basicConfig(format='%(asctime)s : %(message)s', level=logging.DEBUG)\n",
    "\n",
    "if __name__ == \"__main__\":\n",
    "    # define paths\n",
    "    # path to senteval data\n",
    "    # note senteval adds downstream into the path\n",
    "    params_senteval.task_path = 'SentEval-master/data/' \n",
    "    # path to computation graph\n",
    "    # we use best model on validation AER\n",
    "    # TODO: you have to point to valid paths! Use the pre-trained model linked from the top of this notebook.\n",
    "    params_senteval.ckpt_path = 'ull-practical3-embedalign/model.best.validation.aer.ckpt'\n",
    "    # path to tokenizer with ids of trained Europarl data\n",
    "    # out dictionary id depends on dill for pickle\n",
    "    params_senteval.tok_path = 'ull-practical3-embedalign/tokenizer.pickle'\n",
    "    # we use 10 fold cross validation\n",
    "    params_senteval.kfold = 10\n",
    "    se = senteval.engine.SE(params_senteval, batcher, prepare)\n",
    "    \n",
    "    # here you define the NLP taks that your embedding model is going to be evaluated\n",
    "    # in (https://arxiv.org/abs/1802.05883) we use the following :\n",
    "    # SICKRelatedness (Sick-R) needs torch cuda to work (even when using logistic regression), \n",
    "    # but STS14 (semantic textual similarity) is a similar type of semantic task\n",
    "    transfer_tasks = ['MR', 'CR', 'MPQA', 'SUBJ', 'SST2', 'TREC',\n",
    "                      'MRPC', 'SICKEntailment', 'STS14']\n",
    "    #transfer_tasks = ['SST2', 'TREC',\n",
    "    #                       'MRPC', 'SICKEntailment', 'STS14']\n",
    "    # senteval prints the results and returns a dictionary with the scores\n",
    "    results = se.eval(transfer_tasks)\n",
    "    print(results)"
   ]
  },
  {
   "cell_type": "code",
   "execution_count": null,
   "metadata": {
    "collapsed": true
   },
   "outputs": [],
   "source": []
  }
 ],
 "metadata": {
  "kernelspec": {
   "display_name": "Python 3",
   "language": "python",
   "name": "python3"
  },
  "language_info": {
   "codemirror_mode": {
    "name": "ipython",
    "version": 3
   },
   "file_extension": ".py",
   "mimetype": "text/x-python",
   "name": "python",
   "nbconvert_exporter": "python",
   "pygments_lexer": "ipython3",
   "version": "3.5.5"
  }
 },
 "nbformat": 4,
 "nbformat_minor": 2
}
