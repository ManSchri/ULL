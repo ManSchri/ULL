{
 "cells": [
  {
   "cell_type": "markdown",
   "metadata": {},
   "source": [
    "# Test embedalign with SentEval \n",
    "\n",
    "This notebook will allow you to test EmbedAlign using SentEval. In particular, this also works on **CPUs** :D\n",
    "\n",
    "* Dependencies:\n",
    "    * Python 3.5 with NumPy/SciPy\n",
    "    * Pytorch \n",
    "    * Tensorflow 1.5.0  (for CPUs or GPUs depending on how you plan to run it)\n",
    "        * For example in MacOS: \n",
    "        ```\n",
    "        pip install https://storage.googleapis.com/tensorflow/mac/cpu/tensorflow-1.5.0-py3-none-any.whl\n",
    "        ```\n",
    "    * scikit-learn>=0.18.0\n",
    "    * dill>=0.2.7.1\n",
    "\n",
    "\n",
    "* Install `dgm4nlp` by following the instructions [here](https://github.com/uva-slpl/dgm4nlp), we highly recommend the use of `virtualenv`.\n",
    "\n",
    "In the same `virtualenv`, do the following:\n",
    "\n",
    "* Clone repo from FAIR github\n",
    "```\n",
    "    git clone https://github.com/facebookresearch/SentEval.git\n",
    "    cd SentEval/\n",
    "```\n",
    "\n",
    "* Install senteval\n",
    "```\n",
    "    python setup.py install\n",
    "```\n",
    "\n",
    "* Download datasets (it takes some time...)\n",
    "    * these are downstream tasks\n",
    "    * new Senteval also has probing tasks (https://github.com/facebookresearch/SentEval/tree/master/data/probing) for evaluating linguistic properties of your embeddings. \n",
    "\n",
    "```\n",
    "    cd data/downstream/\n",
    "    ./get_transfer_data.bash\n",
    "```\n",
    "\n",
    "* Download [pretained embedlaign model](https://surfdrive.surf.nl/files/index.php/s/9M4h5zqmYETSmf3)\n",
    "\n",
    "\n",
    "* The following code evaluates embedalign pretrained embeddings on en-fr Europarl on different NLP downstream tasks.\n",
    "\n"
   ]
  },
  {
   "cell_type": "code",
   "execution_count": 1,
   "metadata": {
    "collapsed": false
   },
   "outputs": [
    {
     "name": "stderr",
     "output_type": "stream",
     "text": [
      "/Users/manonmac/virtualP3/lib/python3.5/importlib/_bootstrap.py:222: RuntimeWarning: compiletime version 3.6 of module 'tensorflow.python.framework.fast_tensor_util' does not match runtime version 3.5\n",
      "  return f(*args, **kwds)\n"
     ]
    }
   ],
   "source": [
    "from __future__ import absolute_import, division, unicode_literals\n",
    "\n",
    "import sys\n",
    "import numpy as np\n",
    "import logging\n",
    "import sklearn\n",
    "#import data \n",
    "# data.py is part of Senteval and it is used for loading word2vec style files\n",
    "import senteval\n",
    "import tensorflow as tf\n",
    "import logging\n",
    "from collections import defaultdict\n",
    "import dill\n",
    "import dgm4nlp"
   ]
  },
  {
   "cell_type": "code",
   "execution_count": 2,
   "metadata": {
    "collapsed": true
   },
   "outputs": [],
   "source": [
    "class dotdict(dict):\n",
    "    \"\"\" dot.notation access to dictionary attributes \"\"\"\n",
    "    __getattr__ = dict.get\n",
    "    __setattr__ = dict.__setitem__\n",
    "    __delattr__ = dict.__delitem__\n",
    "\n",
    "class EmbeddingExtractor:\n",
    "    \"\"\"\n",
    "    This will compute a forward pass with the inference model of EmbedAlign and \n",
    "        give you the variational mean for each L1 word in the batch.\n",
    "        \n",
    "    Note that this takes monolingual L1 sentences only (at this point we have a traiend EmbedAlign model\n",
    "        which dispenses with L2 sentences).    \n",
    "        \n",
    "    You don't really want to touch anything in this class.\n",
    "    \"\"\"\n",
    "\n",
    "    def __init__(self, graph_file, ckpt_path, config=None):        \n",
    "        g1 = tf.Graph()\n",
    "        self.meta_graph = graph_file\n",
    "        self.ckpt_path = ckpt_path\n",
    "        \n",
    "        self.softmax_approximation = 'botev-batch' #default\n",
    "        with g1.as_default():\n",
    "            self.sess = tf.Session(config=config, graph=g1)\n",
    "            # load architecture computational graph\n",
    "            self.new_saver = tf.train.import_meta_graph(self.meta_graph)\n",
    "            # restore checkpoint\n",
    "            self.new_saver.restore(self.sess, self.ckpt_path) #tf.train.latest_checkpoint(\n",
    "            self.graph = g1  #tf.get_default_graph()\n",
    "            # retrieve input variable\n",
    "            self.x = self.graph.get_tensor_by_name(\"X:0\")\n",
    "            # retrieve training switch variable (True:trianing, False:Test)\n",
    "            self.training_phase = self.graph.get_tensor_by_name(\"training_phase:0\")\n",
    "            #self.keep_prob = self.graph.get_tensor_by_name(\"keep_prob:0\")\n",
    "\n",
    "    def get_z_embedding_batch(self, x_batch):\n",
    "        \"\"\"\n",
    "        :param x_batch: is np array of shape [batch_size, longest_sentence] containing the unique ids of words\n",
    "        \n",
    "        :returns: [batch_size, longest_sentence, z_dim]        \n",
    "        \"\"\"\n",
    "        # Retrieve embeddings from latent variable Z\n",
    "        # we can sempale several n_samples, default 1\n",
    "        try:\n",
    "            z_mean = self.graph.get_tensor_by_name(\"z:0\")\n",
    "            \n",
    "            feed_dict = {\n",
    "                self.x: x_batch,\n",
    "                self.training_phase: False,\n",
    "                #self.keep_prob: 1.\n",
    "\n",
    "            }\n",
    "            z_rep_values = self.sess.run(z_mean, feed_dict=feed_dict) \n",
    "        except:\n",
    "            raise ValueError('tensor Z not in graph!')\n",
    "        return z_rep_values"
   ]
  },
  {
   "cell_type": "markdown",
   "metadata": {},
   "source": [
    "This is how you interface with SentEval. The only think you need to change are the paths to trained models in the main block at the end."
   ]
  },
  {
   "cell_type": "code",
   "execution_count": 9,
   "metadata": {
    "collapsed": false
   },
   "outputs": [
    {
     "name": "stderr",
     "output_type": "stream",
     "text": [
      "2018-05-20 19:04:38,893 : ***** Transfer task : STS14 *****\n",
      "\n",
      "\n"
     ]
    },
    {
     "name": "stdout",
     "output_type": "stream",
     "text": [
      "INFO:tensorflow:Restoring parameters from ./ull-practical3-embedalign/model.best.validation.aer.ckpt\n"
     ]
    },
    {
     "name": "stderr",
     "output_type": "stream",
     "text": [
      "2018-05-20 19:04:40,246 : Restoring parameters from ./ull-practical3-embedalign/model.best.validation.aer.ckpt\n",
      "2018-05-20 19:04:45,526 : deft-forum : pearson = 0.2698, spearman = 0.2788\n",
      "2018-05-20 19:04:49,874 : deft-news : pearson = 0.5626, spearman = 0.5139\n",
      "2018-05-20 19:04:56,161 : headlines : pearson = 0.5631, spearman = 0.5511\n",
      "2018-05-20 19:05:03,273 : images : pearson = 0.5981, spearman = 0.5721\n",
      "2018-05-20 19:05:09,703 : OnWN : pearson = 0.6169, spearman = 0.6395\n",
      "2018-05-20 19:05:17,231 : tweet-news : pearson = 0.5858, spearman = 0.5363\n",
      "2018-05-20 19:05:17,232 : ALL (weighted average) : Pearson = 0.5502,             Spearman = 0.5344\n",
      "2018-05-20 19:05:17,233 : ALL (average) : Pearson = 0.5327,             Spearman = 0.5153\n",
      "\n",
      "2018-05-20 19:05:17,235 : ***** Transfer task : MR *****\n",
      "\n",
      "\n"
     ]
    },
    {
     "name": "stdout",
     "output_type": "stream",
     "text": [
      "INFO:tensorflow:Restoring parameters from ./ull-practical3-embedalign/model.best.validation.aer.ckpt\n"
     ]
    },
    {
     "name": "stderr",
     "output_type": "stream",
     "text": [
      "2018-05-20 19:05:18,457 : Restoring parameters from ./ull-practical3-embedalign/model.best.validation.aer.ckpt\n",
      "2018-05-20 19:05:19,339 : Generating sentence embeddings\n",
      "2018-05-20 19:05:20,119 : Generated sentence embeddings\n",
      "2018-05-20 19:05:20,120 : Training sklearn-LogReg with (inner) 10-fold cross-validation\n",
      "2018-05-20 19:05:20,200 : Best param found at split 1: l2reg = 1                 with score 60.33\n",
      "2018-05-20 19:05:20,278 : Best param found at split 2: l2reg = 0.25                 with score 57.71\n",
      "2018-05-20 19:05:20,358 : Best param found at split 3: l2reg = 0.5                 with score 58.29\n",
      "2018-05-20 19:05:20,439 : Best param found at split 4: l2reg = 0.25                 with score 58.38\n",
      "2018-05-20 19:05:20,520 : Best param found at split 5: l2reg = 0.25                 with score 58.38\n",
      "2018-05-20 19:05:20,598 : Best param found at split 6: l2reg = 0.25                 with score 58.38\n",
      "2018-05-20 19:05:20,678 : Best param found at split 7: l2reg = 0.25                 with score 58.38\n",
      "2018-05-20 19:05:20,756 : Best param found at split 8: l2reg = 0.25                 with score 58.38\n",
      "2018-05-20 19:05:20,835 : Best param found at split 9: l2reg = 0.25                 with score 58.38\n",
      "2018-05-20 19:05:20,915 : Best param found at split 10: l2reg = 0.25                 with score 58.38\n",
      "2018-05-20 19:05:20,918 : Dev acc : 58.5 Test acc : 56.94\n",
      "\n",
      "2018-05-20 19:05:20,920 : ***** Transfer task : CR *****\n",
      "\n",
      "\n"
     ]
    },
    {
     "name": "stdout",
     "output_type": "stream",
     "text": [
      "INFO:tensorflow:Restoring parameters from ./ull-practical3-embedalign/model.best.validation.aer.ckpt\n"
     ]
    },
    {
     "name": "stderr",
     "output_type": "stream",
     "text": [
      "2018-05-20 19:05:22,279 : Restoring parameters from ./ull-practical3-embedalign/model.best.validation.aer.ckpt\n",
      "2018-05-20 19:05:23,187 : Generating sentence embeddings\n",
      "2018-05-20 19:05:54,790 : Generated sentence embeddings\n",
      "2018-05-20 19:05:54,792 : Training sklearn-LogReg with (inner) 10-fold cross-validation\n",
      "2018-05-20 19:05:58,678 : Best param found at split 1: l2reg = 8                 with score 71.39\n",
      "2018-05-20 19:06:02,756 : Best param found at split 2: l2reg = 8                 with score 70.18\n",
      "2018-05-20 19:06:06,714 : Best param found at split 3: l2reg = 8                 with score 70.62\n",
      "2018-05-20 19:06:10,668 : Best param found at split 4: l2reg = 8                 with score 70.71\n",
      "2018-05-20 19:06:14,649 : Best param found at split 5: l2reg = 4                 with score 70.47\n",
      "2018-05-20 19:06:18,681 : Best param found at split 6: l2reg = 8                 with score 71.03\n",
      "2018-05-20 19:06:22,558 : Best param found at split 7: l2reg = 4                 with score 70.15\n",
      "2018-05-20 19:06:26,492 : Best param found at split 8: l2reg = 8                 with score 70.42\n",
      "2018-05-20 19:06:30,466 : Best param found at split 9: l2reg = 8                 with score 70.99\n",
      "2018-05-20 19:06:34,494 : Best param found at split 10: l2reg = 8                 with score 70.4\n",
      "2018-05-20 19:06:34,636 : Dev acc : 70.64 Test acc : 70.65\n",
      "\n",
      "2018-05-20 19:06:34,637 : ***** Transfer task : MPQA *****\n",
      "\n",
      "\n"
     ]
    },
    {
     "name": "stdout",
     "output_type": "stream",
     "text": [
      "INFO:tensorflow:Restoring parameters from ./ull-practical3-embedalign/model.best.validation.aer.ckpt\n"
     ]
    },
    {
     "name": "stderr",
     "output_type": "stream",
     "text": [
      "2018-05-20 19:06:35,805 : Restoring parameters from ./ull-practical3-embedalign/model.best.validation.aer.ckpt\n",
      "2018-05-20 19:06:36,733 : Generating sentence embeddings\n",
      "2018-05-20 19:07:06,225 : Generated sentence embeddings\n",
      "2018-05-20 19:07:06,228 : Training sklearn-LogReg with (inner) 10-fold cross-validation\n",
      "2018-05-20 19:07:25,400 : Best param found at split 1: l2reg = 4                 with score 84.04\n",
      "2018-05-20 19:07:45,500 : Best param found at split 2: l2reg = 8                 with score 83.87\n",
      "2018-05-20 19:08:05,540 : Best param found at split 3: l2reg = 4                 with score 83.79\n",
      "2018-05-20 19:08:24,940 : Best param found at split 4: l2reg = 8                 with score 84.15\n",
      "2018-05-20 19:08:44,246 : Best param found at split 5: l2reg = 8                 with score 84.0\n",
      "2018-05-20 19:09:04,398 : Best param found at split 6: l2reg = 8                 with score 83.8\n",
      "2018-05-20 19:09:24,821 : Best param found at split 7: l2reg = 8                 with score 83.79\n",
      "2018-05-20 19:09:45,833 : Best param found at split 8: l2reg = 8                 with score 83.97\n",
      "2018-05-20 19:10:06,333 : Best param found at split 9: l2reg = 8                 with score 83.71\n",
      "2018-05-20 19:10:26,560 : Best param found at split 10: l2reg = 8                 with score 83.76\n",
      "2018-05-20 19:10:27,206 : Dev acc : 83.89 Test acc : 83.78\n",
      "\n",
      "2018-05-20 19:10:27,209 : ***** Transfer task : SUBJ *****\n",
      "\n",
      "\n"
     ]
    },
    {
     "name": "stdout",
     "output_type": "stream",
     "text": [
      "INFO:tensorflow:Restoring parameters from ./ull-practical3-embedalign/model.best.validation.aer.ckpt\n"
     ]
    },
    {
     "name": "stderr",
     "output_type": "stream",
     "text": [
      "2018-05-20 19:10:28,547 : Restoring parameters from ./ull-practical3-embedalign/model.best.validation.aer.ckpt\n",
      "2018-05-20 19:10:29,456 : Generating sentence embeddings\n",
      "2018-05-20 19:11:21,404 : Generated sentence embeddings\n",
      "2018-05-20 19:11:21,406 : Training sklearn-LogReg with (inner) 10-fold cross-validation\n",
      "2018-05-20 19:11:24,659 : Best param found at split 1: l2reg = 0.25                 with score 99.6\n",
      "2018-05-20 19:11:27,850 : Best param found at split 2: l2reg = 0.25                 with score 99.6\n",
      "2018-05-20 19:11:31,131 : Best param found at split 3: l2reg = 0.25                 with score 99.6\n",
      "2018-05-20 19:11:34,468 : Best param found at split 4: l2reg = 0.25                 with score 99.6\n",
      "2018-05-20 19:11:37,764 : Best param found at split 5: l2reg = 0.25                 with score 99.6\n",
      "2018-05-20 19:11:41,022 : Best param found at split 6: l2reg = 0.25                 with score 99.6\n",
      "2018-05-20 19:11:44,317 : Best param found at split 7: l2reg = 0.25                 with score 99.6\n",
      "2018-05-20 19:11:47,667 : Best param found at split 8: l2reg = 0.25                 with score 99.6\n",
      "2018-05-20 19:11:50,970 : Best param found at split 9: l2reg = 0.25                 with score 99.6\n",
      "2018-05-20 19:11:54,240 : Best param found at split 10: l2reg = 0.25                 with score 99.6\n",
      "2018-05-20 19:11:54,314 : Dev acc : 99.6 Test acc : 99.6\n",
      "\n",
      "2018-05-20 19:11:54,316 : ***** Transfer task : SST Binary classification *****\n",
      "\n",
      "\n"
     ]
    },
    {
     "name": "stdout",
     "output_type": "stream",
     "text": [
      "INFO:tensorflow:Restoring parameters from ./ull-practical3-embedalign/model.best.validation.aer.ckpt\n"
     ]
    },
    {
     "name": "stderr",
     "output_type": "stream",
     "text": [
      "2018-05-20 19:11:55,957 : Restoring parameters from ./ull-practical3-embedalign/model.best.validation.aer.ckpt\n",
      "2018-05-20 19:11:56,818 : Computing embedding for train\n",
      "2018-05-20 19:17:16,448 : Computed train embeddings\n",
      "2018-05-20 19:17:16,450 : Computing embedding for test\n",
      "2018-05-20 19:17:30,733 : Computed test embeddings\n",
      "2018-05-20 19:17:30,734 : Computing embedding for dev\n",
      "2018-05-20 19:17:37,827 : Computed dev embeddings\n",
      "2018-05-20 19:17:37,828 : Training sklearn-LogReg with standard validation..\n",
      "2018-05-20 19:18:08,007 : [('reg:0.25', 64.79), ('reg:0.5', 64.91), ('reg:1', 65.25), ('reg:2', 65.48), ('reg:4', 66.28), ('reg:8', 67.2)]\n",
      "2018-05-20 19:18:08,008 : Validation : best param found is reg = 8 with score             67.2\n",
      "2018-05-20 19:18:08,009 : Evaluating...\n",
      "2018-05-20 19:18:17,415 : \n",
      "Dev acc : 67.2 Test acc : 67.11 for             SST Binary classification\n",
      "\n",
      "2018-05-20 19:18:17,419 : ***** Transfer task : TREC *****\n",
      "\n",
      "\n"
     ]
    },
    {
     "name": "stdout",
     "output_type": "stream",
     "text": [
      "INFO:tensorflow:Restoring parameters from ./ull-practical3-embedalign/model.best.validation.aer.ckpt\n"
     ]
    },
    {
     "name": "stderr",
     "output_type": "stream",
     "text": [
      "2018-05-20 19:18:18,495 : Restoring parameters from ./ull-practical3-embedalign/model.best.validation.aer.ckpt\n",
      "2018-05-20 19:18:46,508 : Computed train embeddings\n",
      "2018-05-20 19:18:48,569 : Computed test embeddings\n",
      "2018-05-20 19:18:48,571 : Training sklearn-LogReg with 10-fold cross-validation\n",
      "2018-05-20 19:19:52,582 : [('reg:0.5', 48.14), ('reg:1', 49.03), ('reg:2', 49.61), ('reg:4', 49.92), ('reg:8', 50.88), ('reg:16', 52.0), ('reg:32', 53.39)]\n",
      "2018-05-20 19:19:52,583 : Cross-validation : best param found is reg = 32             with score 53.39\n",
      "2018-05-20 19:19:52,584 : Evaluating...\n",
      "2018-05-20 19:19:54,431 : \n",
      "Dev acc : 53.39 Test acc : 56.8             for TREC\n",
      "\n",
      "2018-05-20 19:19:54,433 : ***** Transfer task : MRPC *****\n",
      "\n",
      "\n"
     ]
    },
    {
     "name": "stdout",
     "output_type": "stream",
     "text": [
      "INFO:tensorflow:Restoring parameters from ./ull-practical3-embedalign/model.best.validation.aer.ckpt\n"
     ]
    },
    {
     "name": "stderr",
     "output_type": "stream",
     "text": [
      "2018-05-20 19:19:55,838 : Restoring parameters from ./ull-practical3-embedalign/model.best.validation.aer.ckpt\n",
      "2018-05-20 19:19:56,680 : Computing embedding for train\n",
      "2018-05-20 19:21:07,374 : Computed train embeddings\n",
      "2018-05-20 19:21:07,375 : Computing embedding for test\n",
      "2018-05-20 19:21:37,209 : Computed test embeddings\n",
      "2018-05-20 19:21:37,217 : Training sklearn-LogReg with 10-fold cross-validation\n",
      "2018-05-20 19:21:47,720 : [('reg:0.5', 70.51), ('reg:1', 70.24), ('reg:2', 70.37), ('reg:4', 70.42), ('reg:8', 70.54), ('reg:16', 70.61), ('reg:32', 70.34)]\n",
      "2018-05-20 19:21:47,722 : Cross-validation : best param found is reg = 16             with score 70.61\n",
      "2018-05-20 19:21:47,723 : Evaluating...\n",
      "2018-05-20 19:21:47,989 : Dev acc : 70.61 Test acc 70.96; Test F1 80.1 for MRPC.\n",
      "\n",
      "2018-05-20 19:21:47,992 : ***** Transfer task : SICK-Entailment*****\n",
      "\n",
      "\n"
     ]
    },
    {
     "name": "stdout",
     "output_type": "stream",
     "text": [
      "INFO:tensorflow:Restoring parameters from ./ull-practical3-embedalign/model.best.validation.aer.ckpt\n"
     ]
    },
    {
     "name": "stderr",
     "output_type": "stream",
     "text": [
      "2018-05-20 19:21:49,400 : Restoring parameters from ./ull-practical3-embedalign/model.best.validation.aer.ckpt\n",
      "2018-05-20 19:21:50,260 : Computing embedding for train\n",
      "2018-05-20 19:22:34,949 : Computed train embeddings\n",
      "2018-05-20 19:22:34,950 : Computing embedding for test\n",
      "2018-05-20 19:23:23,584 : Computed test embeddings\n",
      "2018-05-20 19:23:23,585 : Computing embedding for dev\n",
      "2018-05-20 19:23:28,629 : Computed dev embeddings\n",
      "2018-05-20 19:23:28,648 : Training sklearn-LogReg with standard validation..\n",
      "2018-05-20 19:23:31,311 : [('reg:0.25', 71.6), ('reg:0.5', 72.0), ('reg:1', 71.6), ('reg:2', 71.4), ('reg:4', 72.0), ('reg:8', 72.6)]\n",
      "2018-05-20 19:23:31,313 : Validation : best param found is reg = 8 with score             72.6\n",
      "2018-05-20 19:23:31,314 : Evaluating...\n",
      "2018-05-20 19:23:31,999 : \n",
      "Dev acc : 72.6 Test acc : 74.67 for                        SICK entailment\n",
      "\n"
     ]
    },
    {
     "name": "stdout",
     "output_type": "stream",
     "text": [
      "{'CR': {'devacc': 70.64, 'acc': 70.65, 'ndev': 3775, 'ntest': 3775}, 'SST2': {'devacc': 67.2, 'acc': 67.11, 'ndev': 872, 'ntest': 1821}, 'SICKEntailment': {'devacc': 72.6, 'acc': 74.67, 'ndev': 500, 'ntest': 4927}, 'STS14': {'tweet-news': {'nsamples': 750, 'pearson': (0.5857667025373344, 2.7236180222773484e-70), 'spearman': SpearmanrResult(correlation=0.5363393474488496, pvalue=4.355801421259097e-57)}, 'deft-news': {'nsamples': 300, 'pearson': (0.5626056194841514, 1.9268863403210986e-26), 'spearman': SpearmanrResult(correlation=0.5139168227705604, pvalue=1.2726483508455486e-21)}, 'images': {'nsamples': 750, 'pearson': (0.5980975061346786, 5.967674857586003e-74), 'spearman': SpearmanrResult(correlation=0.5721051409472445, pvalue=2.043448608002622e-66)}, 'headlines': {'nsamples': 750, 'pearson': (0.5630659036449074, 5.9719041774709935e-64), 'spearman': SpearmanrResult(correlation=0.5511408201027171, pvalue=8.222518522701298e-61)}, 'all': {'pearson': {'wmean': 0.5501538908905826, 'mean': 0.5327106623714584}, 'spearman': {'wmean': 0.5343955804899428, 'mean': 0.5153109722314902}}, 'deft-forum': {'nsamples': 450, 'pearson': (0.2698278702133662, 6.019354067347302e-09), 'spearman': SpearmanrResult(correlation=0.27884459319222726, pvalue=1.760208371102276e-09)}, 'OnWN': {'nsamples': 750, 'pearson': (0.6169003722143125, 7.582601939099896e-80), 'spearman': SpearmanrResult(correlation=0.6395191089273425, pvalue=1.7221979777615283e-87)}}, 'MPQA': {'devacc': 83.89, 'acc': 83.78, 'ndev': 10606, 'ntest': 10606}, 'MR': {'devacc': 58.5, 'acc': 56.94, 'ndev': 74, 'ntest': 74}, 'TREC': {'devacc': 53.39, 'acc': 56.8, 'ndev': 5452, 'ntest': 500}, 'MRPC': {'devacc': 70.61, 'acc': 70.96, 'ndev': 4076, 'ntest': 1725, 'f1': 80.1}, 'SUBJ': {'devacc': 99.6, 'acc': 99.6, 'ndev': 5020, 'ntest': 5020}}\n"
     ]
    }
   ],
   "source": [
    "# Copyright (c) 2017-present, Facebook, Inc.\n",
    "# All rights reserved.\n",
    "#\n",
    "# This source code is licensed under the license found in the\n",
    "# LICENSE file in the root directory of this source tree.\n",
    "#\n",
    "\n",
    "\n",
    "\n",
    "# Set PATHs\n",
    "# path to senteval\n",
    "#PATH_TO_SENTEVAL = '../'\n",
    "\n",
    "\n",
    "\n",
    "# import SentEval\n",
    "#sys.path.insert(0, PATH_TO_SENTEVAL)\n",
    "\n",
    "# Set params for SentEval\n",
    "# we use logistic regression (usepytorch: Fasle) and kfold 10\n",
    "# In this dictionary you can add extra information that you model needs for initialization\n",
    "# for example the path to a dictionary of indices, of hyper parameters\n",
    "# this dictionary is passed to the batched and the prepare fucntions\n",
    "params_senteval = {'task_path': '',\n",
    "                   'usepytorch': False,\n",
    "                   'kfold': 10,\n",
    "                   'ckpt_path': '',\n",
    "                   'tok_path': '',\n",
    "                   'extractor': None,\n",
    "                   'tks1': None}\n",
    "# made dictionary a dotdict\n",
    "params_senteval = dotdict(params_senteval)\n",
    "# this is the config for the NN classifier but we are going to use scikit-learn logistic regression with 10 kfold\n",
    "# usepytorch = False \n",
    "#params_senteval['classifier'] = {'nhid': 0, 'optim': 'rmsprop', 'batch_size': 128,\n",
    "#                                 'tenacity': 3, 'epoch_size': 2}\n",
    "\n",
    "\n",
    "\n",
    "def prepare(params, samples):\n",
    "    \"\"\"\n",
    "    In this example we are going to load a tensorflow model, \n",
    "    we open a dictionary with the indices of tokens and the computation graph\n",
    "    \"\"\"\n",
    "    params.extractor = EmbeddingExtractor(\n",
    "        graph_file='%s.meta'%(params.ckpt_path),\n",
    "        ckpt_path=params.ckpt_path,\n",
    "        config=None #run in cpu\n",
    "    )\n",
    "\n",
    "    # load tokenizer from training\n",
    "    params.tks1 = dill.load(open(params.tok_path, 'rb'))\n",
    "    return\n",
    "\n",
    "def batcher(params, batch):\n",
    "    \"\"\"\n",
    "    At this point batch is a python list containing sentences. Each sentence is a list of tokens (each token a string).\n",
    "    The code below will take care of converting this to unique ids that EmbedAlign can understand.\n",
    "    \n",
    "    This function should return a single vector representation per sentence in the batch.\n",
    "    In this example we use the average of word embeddings (as predicted by EmbedAlign) as a sentence representation.\n",
    "    \n",
    "    In this method you can do mini-batching or you can process sentences 1 at a time (batches of size 1).\n",
    "    We choose to do it 1 sentence at a time to avoid having to deal with masking. \n",
    "    \n",
    "    This should not be too slow, and it also saves memory.\n",
    "    \"\"\"\n",
    "    # if a sentence is empty dot is set to be the only token\n",
    "    # you can change it into NULL dependening in your model\n",
    "    batch = [sent if sent != [] else ['.'] for sent in batch]\n",
    "    embeddings = []\n",
    "    for sent in batch:\n",
    "        # Here is where dgm4nlp converts strings to unique ids respecting the vocabulary\n",
    "        # of the pre-trained EmbedAlign model\n",
    "        # from tokens ot ids position 0 is en\n",
    "        x1 = params.tks1[0].to_sequences([(' '.join(sent))])\n",
    "        \n",
    "        # extract word embeddings in context for a sentence\n",
    "        # [1, sentence_length, z_dim]\n",
    "        z_batch1 = params.extractor.get_z_embedding_batch(x_batch=x1)\n",
    "        # sentence vector is the mean of word embeddings in context\n",
    "        # [1, z_dim]\n",
    "        sent_vec = np.mean(z_batch1, axis=1)\n",
    "        # check if there is any NaN in vector (they appear sometimes when there's padding)\n",
    "        if np.isnan(sent_vec.sum()):\n",
    "            sent_vec = np.nan_to_num(sent_vec)        \n",
    "        embeddings.append(sent_vec)\n",
    "    embeddings = np.vstack(embeddings)\n",
    "    return embeddings\n",
    "\n",
    "\n",
    "# Set up logger\n",
    "logging.basicConfig(format='%(asctime)s : %(message)s', level=logging.DEBUG)\n",
    "\n",
    "if __name__ == \"__main__\":\n",
    "    # define paths\n",
    "    # path to senteval data\n",
    "    # note senteval adds downstream into the path\n",
    "    params_senteval.task_path = './SentEval/data/' \n",
    "    # path to computation graph\n",
    "    # we use best model on validation AER\n",
    "    # TODO: you have to point to valid paths! Use the pre-trained model linked from the top of this notebook.\n",
    "    params_senteval.ckpt_path = './ull-practical3-embedalign/model.best.validation.aer.ckpt'\n",
    "    # path to tokenizer with ids of trained Europarl data\n",
    "    # out dictionary id depends on dill for pickle\n",
    "    params_senteval.tok_path = './ull-practical3-embedalign/tokenizer.pickle'\n",
    "    # we use 10 fold cross validation\n",
    "    params_senteval.kfold = 10\n",
    "    se = senteval.engine.SE(params_senteval, batcher, prepare)\n",
    "    \n",
    "    # here you define the NLP taks that your embedding model is going to be evaluated\n",
    "    # in (https://arxiv.org/abs/1802.05883) we use the following :\n",
    "    # SICKRelatedness (Sick-R) needs torch cuda to work (even when using logistic regression), \n",
    "    # but STS14 (semantic textual similarity) is a similar type of semantic task\n",
    "    transfer_tasks = ['MR', 'CR', 'MPQA', 'SUBJ', 'SST2', 'TREC',\n",
    "                      'MRPC', 'SICKEntailment', 'STS14']\n",
    "    # senteval prints the results and returns a dictionary with the scores\n",
    "    results = se.eval(transfer_tasks)\n",
    "    print(results)"
   ]
  },
  {
   "cell_type": "code",
   "execution_count": null,
   "metadata": {
    "collapsed": true
   },
   "outputs": [],
   "source": []
  }
 ],
 "metadata": {
  "kernelspec": {
   "display_name": "virtualP3",
   "language": "python",
   "name": "virtualp3"
  },
  "language_info": {
   "codemirror_mode": {
    "name": "ipython",
    "version": 3
   },
   "file_extension": ".py",
   "mimetype": "text/x-python",
   "name": "python",
   "nbconvert_exporter": "python",
   "pygments_lexer": "ipython3",
   "version": "3.5.4"
  }
 },
 "nbformat": 4,
 "nbformat_minor": 2
}
