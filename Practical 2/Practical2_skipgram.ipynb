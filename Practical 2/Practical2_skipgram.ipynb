{
 "cells": [
  {
   "cell_type": "markdown",
   "metadata": {},
   "source": [
    "## skipgram"
   ]
  },
  {
   "cell_type": "code",
   "execution_count": 1,
   "metadata": {},
   "outputs": [],
   "source": [
    "import string\n",
    "# read in data, remove punctuation and make all lower case\n",
    "def read_words(filename):\n",
    "    words = []\n",
    "    translator = str.maketrans('', '', string.punctuation)\n",
    "    scount = 0\n",
    "    with open(filename) as f:\n",
    "        for s in f:\n",
    "            scount += 1\n",
    "            clean_s = s.translate(translator).lower()\n",
    "            words.append(clean_s.split())\n",
    "    return words\n",
    "        "
   ]
  },
  {
   "cell_type": "code",
   "execution_count": 2,
   "metadata": {},
   "outputs": [],
   "source": [
    "# create dict that returns the index of onehot encoding for a word (and other way around)\n",
    "# also create a frequency dict + set size, usuable for negative sampling\n",
    "import numpy as np\n",
    "\n",
    "def get_onehot_dicts(corpus):\n",
    "    # create one set of all unique words\n",
    "    flat_corpus = [w for s in corpus for w in s]\n",
    "    corpus_set = set(flat_corpus)\n",
    "    w_to_i = {}\n",
    "    i_to_w = {}\n",
    "    w_freq = []\n",
    "    num_words = len(corpus_set)\n",
    "    for i, w in enumerate(corpus_set):\n",
    "        w_to_i[w] = i\n",
    "        i_to_w[i] = w\n",
    "        freq = flat_corpus.count(w)**0.75\n",
    "        w_freq.append([i, freq])\n",
    "    return w_to_i, i_to_w, np.array(w_freq), num_words"
   ]
  },
  {
   "cell_type": "code",
   "execution_count": 3,
   "metadata": {},
   "outputs": [
    {
     "name": "stdout",
     "output_type": "stream",
     "text": [
      "corpus created\n"
     ]
    }
   ],
   "source": [
    "#corpus = read_words('wa/test.en')\n",
    "corpus = read_words('hansards/training.en')\n",
    "print('corpus created')\n",
    "w_to_i, i_to_w, w_freq, num_words = get_onehot_dicts(corpus)"
   ]
  },
  {
   "cell_type": "code",
   "execution_count": 4,
   "metadata": {},
   "outputs": [],
   "source": [
    "# create all positive samples\n",
    "import torch\n",
    "def get_pos_pairs(corpus, window_size):\n",
    "    pairs = [] \n",
    "    for s in corpus:\n",
    "        for i, word in enumerate(s):\n",
    "            word_index = w_to_i[word]\n",
    "            for j in range(i-window_size, i+window_size+1):\n",
    "                if j < 0 or j >= len(s) or j == i:\n",
    "                    continue\n",
    "                context = s[j]\n",
    "                context_index = w_to_i[context]\n",
    "                pairs.append([word_index, context_index])\n",
    "    return torch.LongTensor(pairs)"
   ]
  },
  {
   "cell_type": "code",
   "execution_count": 5,
   "metadata": {},
   "outputs": [],
   "source": [
    "pairs = get_pos_pairs(corpus, 5)"
   ]
  },
  {
   "cell_type": "code",
   "execution_count": 6,
   "metadata": {},
   "outputs": [],
   "source": [
    "from torch.utils.data import sampler\n",
    "# get negative samples for a single batch\n",
    "def get_neg_pairs_batch(num_samples, w_freq, pos_batch):\n",
    "    batch_size = len(pos_batch)\n",
    "    start_neg = time.time()\n",
    "    total = w_freq[:,1].sum()\n",
    "    prob = [freq/total for freq in w_freq[:, 1]]\n",
    "    \n",
    "    neg_sampler = sampler.WeightedRandomSampler(prob, batch_size*num_samples)\n",
    "    neg_contexts_list = list(sampler.BatchSampler(neg_sampler, num_samples, drop_last=False))\n",
    "#     neg_contexts_list = []\n",
    "#     for pos_pair in pos_batch:\n",
    "#         word = pos_pair[0].item()\n",
    "#         # get negative context words based on their frequencies\n",
    "#         neg_contexts = np.random.choice(w_freq[:,0], p=prob, size=num_samples) \n",
    "#         neg_contexts_list.append(neg_contexts)\n",
    "    return torch.LongTensor(neg_contexts_list)"
   ]
  },
  {
   "cell_type": "code",
   "execution_count": 7,
   "metadata": {},
   "outputs": [],
   "source": [
    "# get negative pairs for all positives in a dict\n",
    "def get_neg_pairs(num_samples, w_freq, pos_pairs):\n",
    "    neg_dict = {} # pos-pair : neg-pairs\n",
    "    total = w_freq[:,1].sum()\n",
    "    prob = [freq/total for freq in w_freq[:, 1]]\n",
    "    for pair in pos_pairs:\n",
    "        word = pair[0].item()\n",
    "        # get negative context words based on their frequencies\n",
    "        neg_contexts = np.random.choice(w_freq[:,0], p=prob, size=num_samples) \n",
    "        neg_dict[tuple(pair.numpy())] = torch.LongTensor(neg_contexts)\n",
    "    return neg_dict"
   ]
  },
  {
   "cell_type": "code",
   "execution_count": 8,
   "metadata": {},
   "outputs": [],
   "source": [
    "import torch.nn as nn\n",
    "class skipgram(nn.Module):\n",
    "    def __init__(self, vocab_size, emb_dimension):\n",
    "        super(skipgram, self).__init__()\n",
    "        self.vocab_size = vocab_size\n",
    "        self.emb_dimension = emb_dimension\n",
    "        # start with random embeddings\n",
    "#         self.W_embeddings = torch.randn((vocab_size, emb_dimension), requires_grad=True)\n",
    "#         self.C_embeddings = torch.randn((vocab_size, emb_dimension), requires_grad=True)\n",
    "        self.W_embeddings = nn.Embedding(vocab_size, emb_dimension)\n",
    "        self.C_embeddings = nn.Embedding(vocab_size, emb_dimension)\n",
    "        \n",
    "    def forward(self, word, pos_context, neg_contexts):\n",
    "        # word, pos_context and neg_contexts are integers, so can just pick that row from W and C matrices\n",
    "        word_embed = self.W_embeddings(word)\n",
    "        pos_embed = self.C_embeddings(pos_context)\n",
    "        neg_embeds = self.C_embeddings(neg_contexts)\n",
    "        \n",
    "        pos_similarity = torch.mul(word_embed, pos_embed).squeeze()\n",
    "        pos_sum = torch.sum(pos_similarity, dim=1)\n",
    "        pos_logsig = nn.functional.logsigmoid(pos_sum)\n",
    "        pos_score = sum(pos_logsig)\n",
    "        \n",
    "        neg_similarity = torch.bmm(neg_embeds, word_embed.unsqueeze(2)).squeeze()\n",
    "        neg_sum = torch.sum(neg_similarity, dim=1)\n",
    "        neg_logsig = nn.functional.logsigmoid(-1 * neg_sum)\n",
    "        neg_score = sum(neg_logsig)\n",
    "        \n",
    "        loss = -(pos_score+neg_score)\n",
    "        \n",
    "        return loss\n",
    "        "
   ]
  },
  {
   "cell_type": "code",
   "execution_count": 9,
   "metadata": {},
   "outputs": [
    {
     "name": "stdout",
     "output_type": "stream",
     "text": [
      "28341486\n"
     ]
    }
   ],
   "source": [
    "print(len(pairs))"
   ]
  },
  {
   "cell_type": "code",
   "execution_count": 22,
   "metadata": {},
   "outputs": [
    {
     "name": "stdout",
     "output_type": "stream",
     "text": [
      "1058.7734375\n",
      "1.8331403732299805\n",
      "282.65283203125\n",
      "599.6580777168274\n",
      "312.9863586425781\n",
      "586.4055223464966\n",
      "149.19137573242188\n",
      "617.715133190155\n",
      "121.67973327636719\n",
      "619.2836768627167\n",
      "120.29609680175781\n",
      "617.9573712348938\n",
      "91.77223205566406\n",
      "613.4333052635193\n",
      "130.14755249023438\n",
      "617.5550625324249\n",
      "98.15018463134766\n",
      "624.1881077289581\n",
      "76.92536163330078\n",
      "619.4178555011749\n",
      "155.11410522460938\n",
      "616.331827878952\n",
      "96.92939758300781\n",
      "616.5400629043579\n",
      "86.76530456542969\n",
      "617.3500626087189\n",
      "51.3530387878418\n",
      "617.243780374527\n",
      "61.97071075439453\n",
      "617.8191766738892\n",
      "89.54547882080078\n",
      "617.5512547492981\n",
      "75.5953598022461\n",
      "616.5203673839569\n",
      "73.55732727050781\n",
      "615.9626379013062\n",
      "67.22058868408203\n",
      "617.1685492992401\n",
      "58.05543518066406\n",
      "617.5852768421173\n",
      "94.72454833984375\n",
      "617.3524491786957\n",
      "70.27543640136719\n",
      "617.2970552444458\n",
      "91.14883422851562\n",
      "618.0375015735626\n",
      "total time taken: 13958.177823781967\n"
     ]
    },
    {
     "data": {
      "image/png": "[encoded data removed]",
      "text/plain": [
       "<Figure size 432x288 with 1 Axes>"
      ]
     },
     "metadata": {},
     "output_type": "display_data"
    }
   ],
   "source": [
    "# train skipgram\n",
    "import time\n",
    "import matplotlib.pyplot as plt\n",
    "from torch.utils.data import DataLoader\n",
    "\n",
    "start_time = time.time()\n",
    "\n",
    "dataloader = DataLoader(pairs, batch_size=50, shuffle=True)\n",
    "use_cuda = torch.cuda.is_available()\n",
    "\n",
    "sg_model = skipgram(num_words, 300)\n",
    "if use_cuda:\n",
    "    sg_model.cuda()\n",
    "optimizer = torch.optim.SGD(sg_model.parameters(), lr=0.01)\n",
    "sg_model.train()\n",
    "loss_progress = []\n",
    "iter_time = time.time()\n",
    "for i, pos_batch in enumerate(dataloader):\n",
    "    neg_batch = get_neg_pairs_batch(5, w_freq, pos_batch)\n",
    "    optimizer.zero_grad()\n",
    "    if use_cuda:\n",
    "        loss = sg_model.forward(pos_batch[:, 0].cuda(), pos_batch[:, 1].cuda(), neg_batch.cuda())\n",
    "    else:\n",
    "        loss = sg_model.forward(pos_batch[:, 0], pos_batch[:, 1], neg_batch)\n",
    "    loss.backward()\n",
    "    optimizer.step()\n",
    "    if i % 1000 == 0:\n",
    "        loss_progress.append(loss.item())  \n",
    "    if i % 25000 == 0:\n",
    "        print(loss_progress[-1])\n",
    "        print(time.time()-iter_time)\n",
    "        iter_time = time.time()\n",
    "\n",
    "\n",
    "print(\"total time taken:\", time.time()-start_time)\n",
    "plt.plot(loss_progress)\n",
    "plt.show()"
   ]
  },
  {
   "cell_type": "code",
   "execution_count": 29,
   "metadata": {},
   "outputs": [
    {
     "name": "stderr",
     "output_type": "stream",
     "text": [
      "C:\\Users\\Manon\\Anaconda3\\lib\\site-packages\\torch\\serialization.py:193: UserWarning: Couldn't retrieve source code for container of type skipgram. It won't be checked for correctness upon loading.\n",
      "  \"type \" + obj.__name__ + \". It won't be checked \"\n"
     ]
    }
   ],
   "source": [
    "torch.save(sg_model, 'skipgram.pt')"
   ]
  },
  {
   "cell_type": "code",
   "execution_count": 30,
   "metadata": {},
   "outputs": [],
   "source": [
    "sg_model2 = torch.load('skipgram.pt')"
   ]
  },
  {
   "cell_type": "code",
   "execution_count": 31,
   "metadata": {},
   "outputs": [
    {
     "name": "stdout",
     "output_type": "stream",
     "text": [
      "tensor([[-6.3033e-01, -7.1565e-01,  1.1140e+00,  ...,  1.1596e+00,\n",
      "          1.2968e+00, -4.3629e-01],\n",
      "        [-1.8432e+00, -2.3758e-01,  1.1066e+00,  ...,  7.2553e-01,\n",
      "         -7.6718e-01,  2.3105e-01],\n",
      "        [-1.8835e-01,  9.2264e-02,  1.3642e+00,  ...,  2.7662e-02,\n",
      "         -1.4662e+00,  1.6974e-01],\n",
      "        ...,\n",
      "        [ 1.3741e+00,  8.0042e-01, -1.3012e+00,  ...,  1.6535e+00,\n",
      "          1.2936e+00,  1.2253e+00],\n",
      "        [-6.4729e-01,  2.7872e+00, -2.7748e-01,  ...,  9.8011e-02,\n",
      "          2.7258e-01, -1.4179e-01],\n",
      "        [-4.7581e-01,  1.7103e+00, -2.6070e-01,  ..., -1.6745e+00,\n",
      "          7.3246e-01,  4.9347e-02]], device='cuda:0')\n",
      "tensor([[-1.2682e+00, -2.7042e-01,  1.5596e+00,  ..., -6.5224e-01,\n",
      "         -7.1039e-01,  1.0516e+00],\n",
      "        [-8.6389e-01, -5.7281e-01, -1.0506e+00,  ...,  1.2027e-01,\n",
      "          1.5466e+00,  1.5740e+00],\n",
      "        [-5.2023e-02, -1.0060e+00,  1.1503e+00,  ..., -5.7422e-01,\n",
      "          2.9689e-01,  1.4628e+00],\n",
      "        ...,\n",
      "        [-1.2040e+00, -8.0205e-01,  9.6189e-01,  ...,  1.2989e+00,\n",
      "         -4.5419e-01,  5.5761e-01],\n",
      "        [-3.2499e-01,  1.2217e+00, -2.9647e-01,  ...,  4.5874e-01,\n",
      "          3.8164e-01, -1.1751e+00],\n",
      "        [-2.2325e-01,  1.6768e+00,  1.3514e+00,  ..., -2.5369e-01,\n",
      "          4.9252e-01,  1.3133e-01]], device='cuda:0')\n"
     ]
    }
   ],
   "source": [
    "for x in sg_model2.parameters():\n",
    "    print(x)"
   ]
  },
  {
   "cell_type": "code",
   "execution_count": 32,
   "metadata": {},
   "outputs": [
    {
     "name": "stdout",
     "output_type": "stream",
     "text": [
      "Parameter containing:\n",
      "tensor([[-6.3033e-01, -7.1565e-01,  1.1140e+00,  ...,  1.1596e+00,\n",
      "          1.2968e+00, -4.3629e-01],\n",
      "        [-1.8432e+00, -2.3758e-01,  1.1066e+00,  ...,  7.2553e-01,\n",
      "         -7.6718e-01,  2.3105e-01],\n",
      "        [-1.8835e-01,  9.2264e-02,  1.3642e+00,  ...,  2.7662e-02,\n",
      "         -1.4662e+00,  1.6974e-01],\n",
      "        ...,\n",
      "        [ 1.3741e+00,  8.0042e-01, -1.3012e+00,  ...,  1.6535e+00,\n",
      "          1.2936e+00,  1.2253e+00],\n",
      "        [-6.4729e-01,  2.7872e+00, -2.7748e-01,  ...,  9.8011e-02,\n",
      "          2.7258e-01, -1.4179e-01],\n",
      "        [-4.7581e-01,  1.7103e+00, -2.6070e-01,  ..., -1.6745e+00,\n",
      "          7.3246e-01,  4.9347e-02]], device='cuda:0')\n",
      "Parameter containing:\n",
      "tensor([[-1.2682e+00, -2.7042e-01,  1.5596e+00,  ..., -6.5224e-01,\n",
      "         -7.1039e-01,  1.0516e+00],\n",
      "        [-8.6389e-01, -5.7281e-01, -1.0506e+00,  ...,  1.2027e-01,\n",
      "          1.5466e+00,  1.5740e+00],\n",
      "        [-5.2023e-02, -1.0060e+00,  1.1503e+00,  ..., -5.7422e-01,\n",
      "          2.9689e-01,  1.4628e+00],\n",
      "        ...,\n",
      "        [-1.2040e+00, -8.0205e-01,  9.6189e-01,  ...,  1.2989e+00,\n",
      "         -4.5419e-01,  5.5761e-01],\n",
      "        [-3.2499e-01,  1.2217e+00, -2.9647e-01,  ...,  4.5874e-01,\n",
      "          3.8164e-01, -1.1751e+00],\n",
      "        [-2.2325e-01,  1.6768e+00,  1.3514e+00,  ..., -2.5369e-01,\n",
      "          4.9252e-01,  1.3133e-01]], device='cuda:0')\n"
     ]
    }
   ],
   "source": [
    "for x in sg_model.parameters():\n",
    "    print(x)"
   ]
  },
  {
   "cell_type": "code",
   "execution_count": null,
   "metadata": {},
   "outputs": [],
   "source": []
  }
 ],
 "metadata": {
  "kernelspec": {
   "display_name": "Python 3",
   "language": "python",
   "name": "python3"
  },
  "language_info": {
   "codemirror_mode": {
    "name": "ipython",
    "version": 3
   },
   "file_extension": ".py",
   "mimetype": "text/x-python",
   "name": "python",
   "nbconvert_exporter": "python",
   "pygments_lexer": "ipython3",
   "version": "3.6.5"
  }
 },
 "nbformat": 4,
 "nbformat_minor": 2
}
