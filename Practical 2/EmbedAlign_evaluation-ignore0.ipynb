{
 "cells": [
  {
   "cell_type": "code",
   "execution_count": 13,
   "metadata": {},
   "outputs": [],
   "source": [
    "def score_without_zero(filename):\n",
    "    tot_score = 0\n",
    "    num_no0 = 0\n",
    "    with open(filename) as f:\n",
    "        for s in f:\n",
    "            slist = s.split('\\t')\n",
    "            if len(slist) < 2:\n",
    "                continue\n",
    "            if float(slist[1]) != 0:\n",
    "                tot_score += float(slist[1])\n",
    "                num_no0 += 1\n",
    "    return(tot_score/num_no0)        "
   ]
  },
  {
   "cell_type": "code",
   "execution_count": 15,
   "metadata": {},
   "outputs": [
    {
     "name": "stdout",
     "output_type": "stream",
     "text": [
      "embed-align\n",
      "0.21931911668804702\n",
      "skipgram\n",
      "0.2734355876089952\n",
      "bayesian skipgram\n",
      "0.23156752939459974\n"
     ]
    }
   ],
   "source": [
    "print('embed-align')\n",
    "print(score_without_zero('embed_align_out'))\n",
    "print('skipgram')\n",
    "print(score_without_zero('skipgram_out'))\n",
    "print('bayesian skipgram')\n",
    "print(score_without_zero('bayesian_skipgram_out'))"
   ]
  },
  {
   "cell_type": "code",
   "execution_count": null,
   "metadata": {},
   "outputs": [],
   "source": []
  }
 ],
 "metadata": {
  "kernelspec": {
   "display_name": "Python 3",
   "language": "python",
   "name": "python3"
  },
  "language_info": {
   "codemirror_mode": {
    "name": "ipython",
    "version": 3
   },
   "file_extension": ".py",
   "mimetype": "text/x-python",
   "name": "python",
   "nbconvert_exporter": "python",
   "pygments_lexer": "ipython3",
   "version": "3.6.5"
  }
 },
 "nbformat": 4,
 "nbformat_minor": 2
}
