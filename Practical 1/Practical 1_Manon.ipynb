{
 "cells": [
  {
   "cell_type": "markdown",
   "metadata": {},
   "source": [
    "## Word similarity task"
   ]
  },
  {
   "cell_type": "code",
   "execution_count": 1,
   "metadata": {},
   "outputs": [],
   "source": [
    "# imports\n",
    "from sklearn.metrics.pairwise import cosine_similarity\n",
    "from scipy.stats import pearsonr, spearmanr"
   ]
  },
  {
   "cell_type": "code",
   "execution_count": 17,
   "metadata": {
    "scrolled": true
   },
   "outputs": [],
   "source": [
    "def get_pearson_spearman(filename):\n",
    "    # get dictionary of word:vector\n",
    "    words_dict = {}\n",
    "    with open(filename, \"r\") as f:\n",
    "        for line in f:\n",
    "            word = line.split()\n",
    "            words_dict[word[0]] = word[1:] \n",
    "    # get similarities of every word pair in simlex\n",
    "    simlex = []\n",
    "    model_simlex = []\n",
    "    with open(\"SimLex-999.txt\", \"r\") as f:\n",
    "        next(f)\n",
    "        for line in f:\n",
    "            line_list = line.split()\n",
    "            word1 = line_list[0]\n",
    "            word2 = line_list[1]\n",
    "            if word1 in words_dict and  word2 in words_dict:\n",
    "                simlex.append(float(line_list[3]))\n",
    "                sim = cosine_similarity([words_dict[word1]], [words_dict[word2]])\n",
    "                model_simlex.append(float(sim))\n",
    "    # calculate pearson and spearman with simlex\n",
    "    pearson_simlex = pearsonr(model_simlex, simlex)\n",
    "    spearman_simlex = spearmanr(model_simlex, simlex)\n",
    "    \n",
    "    # get similarities of wordpairs in MEN\n",
    "    MEN = []\n",
    "    model_MEN = []\n",
    "    with open(\"MEN_dataset_natural_form_full\", \"r\") as f:\n",
    "        for line in f:\n",
    "            line_list = line.split()\n",
    "            word1 = line_list[0]\n",
    "            word2 = line_list[1]\n",
    "            if word1 in words_dict and  word2 in words_dict:\n",
    "                MEN.append(float(line_list[2]))\n",
    "                sim = cosine_similarity([words_dict[word1]], [words_dict[word2]])\n",
    "                model_MEN.append(float(sim))\n",
    "    # calculate pearson and spearman with MEN\n",
    "    pearson_MEN = pearsonr(model_MEN, MEN)\n",
    "    spearman_MEN = spearmanr(model_MEN, MEN)\n",
    "    return[pearson_simlex, spearman_simlex, pearson_MEN, spearman_MEN]\n",
    "    "
   ]
  },
  {
   "cell_type": "code",
   "execution_count": 19,
   "metadata": {},
   "outputs": [
    {
     "name": "stdout",
     "output_type": "stream",
     "text": [
      "simlex correlations\n",
      "(0.46190134429723567, 6.838935662413988e-54)\n",
      "SpearmanrResult(correlation=0.44564093493303847, pvalue=7.414295711467646e-50)\n",
      "MEN correlations\n",
      "(0.5974016044666725, 1.0183783114142845e-289)\n",
      "SpearmanrResult(correlation=0.6178227900207052, pvalue=2.37026036e-315)\n"
     ]
    }
   ],
   "source": [
    "[p_lex, s_lex, p_men, s_men] = get_pearson_spearman(\"deps.words\")\n",
    "print('simlex correlations')\n",
    "print(p_lex)\n",
    "print(s_lex)\n",
    "print('MEN correlations')\n",
    "print(p_men)\n",
    "print(s_men)"
   ]
  },
  {
   "cell_type": "code",
   "execution_count": 20,
   "metadata": {},
   "outputs": [
    {
     "name": "stdout",
     "output_type": "stream",
     "text": [
      "simlex correlations\n",
      "(0.3756005970668715, 8.607410572298394e-35)\n",
      "SpearmanrResult(correlation=0.36739613669787896, pvalue=2.9775781067162087e-33)\n",
      "MEN correlations\n",
      "(0.708236248047157, 0.0)\n",
      "SpearmanrResult(correlation=0.7231686561368845, pvalue=0.0)\n"
     ]
    }
   ],
   "source": [
    "[p_lex, s_lex, p_men, s_men] = get_pearson_spearman(\"bow5.words\")\n",
    "print('simlex correlations')\n",
    "print(p_lex)\n",
    "print(s_lex)\n",
    "print('MEN correlations')\n",
    "print(p_men)\n",
    "print(s_men)"
   ]
  },
  {
   "cell_type": "code",
   "execution_count": 21,
   "metadata": {},
   "outputs": [
    {
     "name": "stdout",
     "output_type": "stream",
     "text": [
      "simlex correlations\n",
      "(0.4284586618164498, 7.992996652236848e-46)\n",
      "SpearmanrResult(correlation=0.41414576777339385, pvalue=1.226812869252797e-42)\n",
      "MEN correlations\n",
      "(0.6776982244699229, 0.0)\n",
      "SpearmanrResult(correlation=0.699904755830819, pvalue=0.0)\n"
     ]
    }
   ],
   "source": [
    "[p_lex, s_lex, p_men, s_men] = get_pearson_spearman(\"bow2.words\")\n",
    "print('simlex correlations')\n",
    "print(p_lex)\n",
    "print(s_lex)\n",
    "print('MEN correlations')\n",
    "print(p_men)\n",
    "print(s_men)"
   ]
  },
  {
   "cell_type": "code",
   "execution_count": null,
   "metadata": {},
   "outputs": [],
   "source": []
  }
 ],
 "metadata": {
  "kernelspec": {
   "display_name": "Python 3",
   "language": "python",
   "name": "python3"
  },
  "language_info": {
   "codemirror_mode": {
    "name": "ipython",
    "version": 3
   },
   "file_extension": ".py",
   "mimetype": "text/x-python",
   "name": "python",
   "nbconvert_exporter": "python",
   "pygments_lexer": "ipython3",
   "version": "3.6.5"
  }
 },
 "nbformat": 4,
 "nbformat_minor": 2
}
