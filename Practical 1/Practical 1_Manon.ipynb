{
 "cells": [
  {
   "cell_type": "code",
   "execution_count": 1,
   "metadata": {},
   "outputs": [
    {
     "name": "stdout",
     "output_type": "stream",
     "text": [
      "formula 7\n"
     ]
    }
   ],
   "source": [
    "noun_file = open(\"2000_nouns_sorted.txt\", \"r\")\n",
    "nouns = noun_file.read().split('\\n')\n",
    "\n",
    "nouns = [line.strip() for line in nouns]\n",
    "print(nouns[1], len(nouns[1]))"
   ]
  },
  {
   "cell_type": "code",
   "execution_count": 2,
   "metadata": {},
   "outputs": [],
   "source": [
    "bow2_file = open(\"bow2.words\", \"r\")\n",
    "bow2_words = bow2_file.read().split('\\n')\n",
    "bow2_words = [word.split(' ') for word in bow2_words]\n",
    "bow2_dict = {word[0]:word[1:] for word in bow2_words}\n",
    "bow2_file.close()"
   ]
  },
  {
   "cell_type": "code",
   "execution_count": 8,
   "metadata": {},
   "outputs": [],
   "source": [
    "bow5_file = open(\"bow5.words\", \"r\")\n",
    "bow5_words = bow5_file.read().split('\\n')\n",
    "bow5_words = [word.split(' ') for word in bow5_words]\n",
    "bow5_dict = {word[0]:word[1:] for word in bow5_words}\n",
    "bow5_file.close()"
   ]
  },
  {
   "cell_type": "code",
   "execution_count": 7,
   "metadata": {
    "scrolled": true
   },
   "outputs": [
    {
     "data": {
      "text/plain": [
       "array([[0.57307907]])"
      ]
     },
     "execution_count": 7,
     "metadata": {},
     "output_type": "execute_result"
    }
   ],
   "source": [
    "from sklearn.metrics.pairwise import cosine_similarity\n",
    "import numpy as np\n",
    "\n",
    "cosine_similarity([bow2_dict['strange']], [bow2_dict['odd']])"
   ]
  },
  {
   "cell_type": "code",
   "execution_count": 9,
   "metadata": {},
   "outputs": [
    {
     "data": {
      "text/plain": [
       "183871"
      ]
     },
     "execution_count": 9,
     "metadata": {},
     "output_type": "execute_result"
    }
   ],
   "source": [
    "len(bow2_words)"
   ]
  },
  {
   "cell_type": "code",
   "execution_count": null,
   "metadata": {},
   "outputs": [],
   "source": []
  }
 ],
 "metadata": {
  "kernelspec": {
   "display_name": "Python 3",
   "language": "python",
   "name": "python3"
  },
  "language_info": {
   "codemirror_mode": {
    "name": "ipython",
    "version": 3
   },
   "file_extension": ".py",
   "mimetype": "text/x-python",
   "name": "python",
   "nbconvert_exporter": "python",
   "pygments_lexer": "ipython3",
   "version": "3.6.5"
  }
 },
 "nbformat": 4,
 "nbformat_minor": 2
}
